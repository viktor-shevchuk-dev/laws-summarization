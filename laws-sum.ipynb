{
 "cells": [
  {
   "cell_type": "code",
   "execution_count": 687,
   "metadata": {},
   "outputs": [],
   "source": [
    "import pandas as pd\n",
    "import numpy as np\n",
    "import textwrap\n",
    "import nltk\n",
    "from nltk.corpus import stopwords\n",
    "from nltk import word_tokenize\n",
    "from nltk.stem import WordNetLemmatizer, PorterStemmer\n",
    "from sklearn.feature_extraction.text import TfidfVectorizer\n",
    "from sklearn.metrics.pairwise import cosine_similarity\n",
    "import requests\n",
    "from bs4 import BeautifulSoup"
   ]
  },
  {
   "cell_type": "code",
   "execution_count": 688,
   "metadata": {},
   "outputs": [
    {
     "name": "stderr",
     "output_type": "stream",
     "text": [
      "[nltk_data] Downloading package punkt to\n",
      "[nltk_data]     C:\\Users\\Viktor_Shevchuk\\AppData\\Roaming\\nltk_data...\n",
      "[nltk_data]   Package punkt is already up-to-date!\n",
      "[nltk_data] Downloading package stopwords to\n",
      "[nltk_data]     C:\\Users\\Viktor_Shevchuk\\AppData\\Roaming\\nltk_data...\n",
      "[nltk_data]   Package stopwords is already up-to-date!\n"
     ]
    },
    {
     "data": {
      "text/plain": [
       "True"
      ]
     },
     "execution_count": 688,
     "metadata": {},
     "output_type": "execute_result"
    }
   ],
   "source": [
    "nltk.download('punkt')\n",
    "nltk.download('stopwords')"
   ]
  },
  {
   "cell_type": "code",
   "execution_count": 689,
   "metadata": {},
   "outputs": [],
   "source": [
    "URL1 = \"https://zakon.rada.gov.ua/laws/show/en/1207-18/conv/print\"\n",
    "URL2 = \"https://zakon.rada.gov.ua/laws/show/en/1700-18/print\"\n",
    "page = requests.get(URL1)\n",
    "\n",
    "# print(page.text) \n"
   ]
  },
  {
   "cell_type": "code",
   "execution_count": 690,
   "metadata": {},
   "outputs": [],
   "source": [
    "soup = BeautifulSoup(page.content, \"html.parser\")\n",
    "# soup"
   ]
  },
  {
   "cell_type": "code",
   "execution_count": 691,
   "metadata": {},
   "outputs": [],
   "source": [
    "paragraphs = soup.select('.rvts0 > .rvps2')\n",
    "# paragraphs"
   ]
  },
  {
   "cell_type": "code",
   "execution_count": 692,
   "metadata": {},
   "outputs": [],
   "source": [
    "legal_stop_words = [\n",
    "    \"amended\", \"restated\", \"be stated\", \"supplemented\", \"section\", \"paragraph\", \"article\", \"as follows\", \"clauses\"\n",
    "]\n"
   ]
  },
  {
   "cell_type": "code",
   "execution_count": 693,
   "metadata": {},
   "outputs": [],
   "source": [
    "def isSentenceWithStopWord(para):\n",
    "    for word in legal_stop_words:\n",
    "        sentenceWithStopWord = para.find(\n",
    "            text=lambda t: word in t.text.lower()\n",
    "        )\n",
    "\n",
    "        if sentenceWithStopWord:\n",
    "            return True\n"
   ]
  },
  {
   "cell_type": "code",
   "execution_count": 694,
   "metadata": {},
   "outputs": [],
   "source": [
    "def isProvisions(para):\n",
    "   return para.find(\n",
    "        text=lambda t: \"final and transitional provisions\" in t.text.lower()\n",
    "    )"
   ]
  },
  {
   "cell_type": "code",
   "execution_count": 695,
   "metadata": {},
   "outputs": [],
   "source": [
    "def isArticleEnsuring(para):\n",
    "  return para.find(\"span\", class_=\"rvts37\")\n"
   ]
  },
  {
   "cell_type": "code",
   "execution_count": 696,
   "metadata": {},
   "outputs": [],
   "source": [
    "def isArticleTitle(para):\n",
    "    return para.find(\"span\", class_=\"rvts9\")\n"
   ]
  },
  {
   "cell_type": "code",
   "execution_count": 697,
   "metadata": {},
   "outputs": [],
   "source": [
    "def isClosingChar(letter):\n",
    "  return letter == \".\" or letter == \")\"\n"
   ]
  },
  {
   "cell_type": "code",
   "execution_count": 698,
   "metadata": {},
   "outputs": [],
   "source": [
    "def discardOrderedListNumbers(text):\n",
    "    isFirstCharNumeric = text[0].isdigit()\n",
    "    isSecondCharNumeric = text[1].isdigit()\n",
    "    isThirdCharNumeric = text[2].isdigit()\n",
    "\n",
    "    if isFirstCharNumeric and isClosingChar(text[1]):\n",
    "        return text[2:].strip()\n",
    "    elif isFirstCharNumeric and isSecondCharNumeric and isClosingChar(text[2]):\n",
    "        return text[3:].strip()\n",
    "    elif isFirstCharNumeric and isSecondCharNumeric and isThirdCharNumeric and isClosingChar(text[3]):\n",
    "        return text[4:].strip()\n",
    "\n",
    "    return text\n"
   ]
  },
  {
   "cell_type": "code",
   "execution_count": 699,
   "metadata": {},
   "outputs": [],
   "source": [
    "def clean(paragraphs):\n",
    "    cleaned = []\n",
    "    articleEnsuring = False\n",
    "\n",
    "    for para in paragraphs:\n",
    "        if articleEnsuring and not isArticleTitle(para):\n",
    "            break\n",
    "        elif articleEnsuring and isArticleTitle(para):\n",
    "            articleEnsuring = False\n",
    "\n",
    "        if isArticleEnsuring(para):\n",
    "            articleEnsuring = True\n",
    "            break\n",
    "\n",
    "        if isProvisions(para):\n",
    "            return cleaned\n",
    " \n",
    "        if not isSentenceWithStopWord(para) and not isArticleTitle(para):\n",
    "            cleaned.append(discardOrderedListNumbers(para.text.strip()))\n",
    "\n",
    "    return cleaned\n"
   ]
  },
  {
   "cell_type": "code",
   "execution_count": 700,
   "metadata": {},
   "outputs": [],
   "source": [
    "cleaned_paragraphs = clean(paragraphs)\n",
    "# cleaned_paragraphs"
   ]
  },
  {
   "cell_type": "code",
   "execution_count": 701,
   "metadata": {},
   "outputs": [],
   "source": [
    "featurizer = TfidfVectorizer(\n",
    "    stop_words=stopwords.words('english'),\n",
    "    # norm='l1'\n",
    ")\n",
    "# featurizer\n"
   ]
  },
  {
   "cell_type": "code",
   "execution_count": 702,
   "metadata": {},
   "outputs": [],
   "source": [
    "X = featurizer.fit_transform(\n",
    "    cleaned_paragraphs\n",
    ")\n",
    "# X"
   ]
  },
  {
   "cell_type": "code",
   "execution_count": 703,
   "metadata": {},
   "outputs": [],
   "source": [
    "def get_sentence_score(tfidf_row):\n",
    "    # return the average of the non-zero values of the tf-idf vector representation of a sentence\n",
    "    x = tfidf_row[tfidf_row != 0]\n",
    "\n",
    "    return x.mean()"
   ]
  },
  {
   "cell_type": "code",
   "execution_count": 704,
   "metadata": {},
   "outputs": [],
   "source": [
    "scores = np.zeros(len(cleaned_paragraphs))\n",
    "for i in range(len(cleaned_paragraphs)):\n",
    "    score = get_sentence_score(X[i, :])\n",
    "    scores[i] = score\n"
   ]
  },
  {
   "cell_type": "code",
   "execution_count": 705,
   "metadata": {},
   "outputs": [],
   "source": [
    "sort_idx = np.argsort(-scores)\n",
    "# sort_idx"
   ]
  },
  {
   "cell_type": "code",
   "execution_count": 706,
   "metadata": {},
   "outputs": [
    {
     "name": "stdout",
     "output_type": "stream",
     "text": [
      "0.38: The date of the beginning of the temporary occupation is 20 February 2014.\n",
      "0.36: For the purposes of this Law, the temporarily occupied territory is defined as:\n",
      "0.30: The temporarily occupied territory of Ukraine (hereinafter referred to as the temporarily occupied territory) is an integral part of the territory of Ukraine, which is subject to the Constitution and laws of Ukraine.\n",
      "0.29: land territory of the Autonomous Republic of Crimea and the city of Sevastopol, the internal waters of these territories of Ukraine;\n",
      "0.28: Property rights within the temporarily occupied territory shall be protected under the legislation of Ukraine.\n",
      "0.26: The legal regime of the temporarily occupied territory may be established, changed or abolished exclusively by the laws of Ukraine.\n",
      "0.26: The state of Ukraine shall by all possible means ensure compensation for pecuniary and non-pecuniary damage by the Russian Federation.\n",
      "0.26: Foreigners and stateless persons shall be allowed into and out of the temporarily occupied territory through the entry/exit checkpoints only with a special permit.\n",
      "0.25: Homeless persons staying within the temporarily occupied territory shall have the right to social protection under the legislation of Ukraine.\n",
      "0.25: The procedure for entry and exit of foreigners and stateless persons to and from the temporarily occupied territory shall be established by the Cabinet of Ministers of Ukraine.\n"
     ]
    }
   ],
   "source": [
    "for i in sort_idx[:10]:\n",
    "    print(\"%.2f: %s\" % (scores[i], cleaned_paragraphs[i]))"
   ]
  },
  {
   "cell_type": "code",
   "execution_count": 707,
   "metadata": {},
   "outputs": [
    {
     "data": {
      "text/plain": [
       "'On Ensuring Civil Rights and Freedoms, and the Legal Regime on the Temporarily Occupied Territory of Ukraine'"
      ]
     },
     "execution_count": 707,
     "metadata": {},
     "output_type": "execute_result"
    }
   ],
   "source": [
    "title = soup.find(\"span\", class_=\"rvts23\").text \n",
    "title\n"
   ]
  },
  {
   "cell_type": "code",
   "execution_count": 708,
   "metadata": {},
   "outputs": [],
   "source": [
    "def tfIDFSummarize(text):\n",
    "    X = featurizer.fit_transform(text)\n",
    "    scores = np.zeros(len(text))\n",
    "\n",
    "    for i in range(len(text)):\n",
    "        score = get_sentence_score(X[i, :])\n",
    "        scores[i] = score\n",
    "\n",
    "    sort_idx = np.argsort(-scores)\n",
    "\n",
    "    for i in sort_idx[:10]:\n",
    "        print(\"%.2f: %s\" % (scores[i], text[i]))\n"
   ]
  },
  {
   "cell_type": "code",
   "execution_count": 709,
   "metadata": {},
   "outputs": [],
   "source": [
    "# tfIDFSummarize(cleaned_paragraphs)\n"
   ]
  },
  {
   "cell_type": "code",
   "execution_count": 710,
   "metadata": {},
   "outputs": [],
   "source": [
    "S = cosine_similarity(X)\n",
    "# S"
   ]
  },
  {
   "cell_type": "code",
   "execution_count": 711,
   "metadata": {},
   "outputs": [
    {
     "data": {
      "text/plain": [
       "(46, 46)"
      ]
     },
     "execution_count": 711,
     "metadata": {},
     "output_type": "execute_result"
    }
   ],
   "source": [
    "S.shape"
   ]
  },
  {
   "cell_type": "code",
   "execution_count": 712,
   "metadata": {},
   "outputs": [
    {
     "data": {
      "text/plain": [
       "46"
      ]
     },
     "execution_count": 712,
     "metadata": {},
     "output_type": "execute_result"
    }
   ],
   "source": [
    "len(cleaned_paragraphs)\n"
   ]
  },
  {
   "cell_type": "code",
   "execution_count": 713,
   "metadata": {},
   "outputs": [],
   "source": [
    "# normalize similarity matrix\n",
    "S /= S.sum(axis=1, keepdims=True)\n"
   ]
  },
  {
   "cell_type": "code",
   "execution_count": 714,
   "metadata": {},
   "outputs": [
    {
     "data": {
      "text/plain": [
       "1.0"
      ]
     },
     "execution_count": 714,
     "metadata": {},
     "output_type": "execute_result"
    }
   ],
   "source": [
    "S[0].sum()"
   ]
  },
  {
   "cell_type": "code",
   "execution_count": 715,
   "metadata": {},
   "outputs": [],
   "source": [
    "# uniform transition matrix\n",
    "U = np.ones_like(S) / len(S)\n"
   ]
  },
  {
   "cell_type": "code",
   "execution_count": 716,
   "metadata": {},
   "outputs": [
    {
     "data": {
      "text/plain": [
       "0.9999999999999999"
      ]
     },
     "execution_count": 716,
     "metadata": {},
     "output_type": "execute_result"
    }
   ],
   "source": [
    "U[0].sum()"
   ]
  },
  {
   "cell_type": "code",
   "execution_count": 717,
   "metadata": {},
   "outputs": [],
   "source": [
    "# smoothed similarity matrix\n",
    "factor = 0.15 \n",
    "S = (1 - factor) * S + factor * U"
   ]
  },
  {
   "cell_type": "code",
   "execution_count": 718,
   "metadata": {},
   "outputs": [
    {
     "data": {
      "text/plain": [
       "0.9999999999999999"
      ]
     },
     "execution_count": 718,
     "metadata": {},
     "output_type": "execute_result"
    }
   ],
   "source": [
    "S[0].sum()"
   ]
  },
  {
   "cell_type": "code",
   "execution_count": 719,
   "metadata": {},
   "outputs": [],
   "source": [
    "# find the limiting / stationary distribution\n",
    "eigenvals, eigenvecs = np.linalg.eig(S.T)\n"
   ]
  },
  {
   "cell_type": "code",
   "execution_count": 720,
   "metadata": {},
   "outputs": [
    {
     "data": {
      "text/plain": [
       "array([1.        , 0.68713955, 0.42094194, 0.3902211 , 0.36261406,\n",
       "       0.33983174, 0.30824458, 0.29818267, 0.28105248, 0.26026103,\n",
       "       0.2509966 , 0.23497632, 0.21903648, 0.21127277, 0.2053398 ,\n",
       "       0.20304684, 0.0426177 , 0.04853621, 0.05312734, 0.18979891,\n",
       "       0.06089023, 0.06295134, 0.18126754, 0.06906333, 0.17444816,\n",
       "       0.07529121, 0.07869511, 0.08382169, 0.08666179, 0.16919783,\n",
       "       0.16465437, 0.15737268, 0.093671  , 0.10032396, 0.10265545,\n",
       "       0.10356505, 0.10638905, 0.11199114, 0.14941862, 0.14243006,\n",
       "       0.14174633, 0.13896901, 0.11960622, 0.12389636, 0.12711658,\n",
       "       0.12741678])"
      ]
     },
     "execution_count": 720,
     "metadata": {},
     "output_type": "execute_result"
    }
   ],
   "source": [
    "eigenvals"
   ]
  },
  {
   "cell_type": "code",
   "execution_count": 721,
   "metadata": {},
   "outputs": [
    {
     "data": {
      "text/plain": [
       "array([0.15847942, 0.13767847, 0.16954673, 0.08885199, 0.15719089,\n",
       "       0.12470143, 0.1083043 , 0.11710738, 0.15380697, 0.17897055,\n",
       "       0.1264791 , 0.20154232, 0.1333414 , 0.18827908, 0.16113784,\n",
       "       0.14354468, 0.14429043, 0.150828  , 0.10553467, 0.14741334,\n",
       "       0.16941742, 0.13308572, 0.10533194, 0.14358128, 0.15855451,\n",
       "       0.14620688, 0.16648069, 0.13244102, 0.15683581, 0.13814949,\n",
       "       0.17838724, 0.09965675, 0.10409286, 0.10630752, 0.16467182,\n",
       "       0.12708417, 0.16618928, 0.13852189, 0.1305057 , 0.16851976,\n",
       "       0.18262022, 0.16155457, 0.15653402, 0.17898771, 0.12744973,\n",
       "       0.14084469])"
      ]
     },
     "execution_count": 721,
     "metadata": {},
     "output_type": "execute_result"
    }
   ],
   "source": [
    "eigenvecs[:, 0]\n"
   ]
  },
  {
   "cell_type": "code",
   "execution_count": 722,
   "metadata": {},
   "outputs": [
    {
     "data": {
      "text/plain": [
       "array([0.15847942, 0.13767847, 0.16954673, 0.08885199, 0.15719089,\n",
       "       0.12470143, 0.1083043 , 0.11710738, 0.15380697, 0.17897055,\n",
       "       0.1264791 , 0.20154232, 0.1333414 , 0.18827908, 0.16113784,\n",
       "       0.14354468, 0.14429043, 0.150828  , 0.10553467, 0.14741334,\n",
       "       0.16941742, 0.13308572, 0.10533194, 0.14358128, 0.15855451,\n",
       "       0.14620688, 0.16648069, 0.13244102, 0.15683581, 0.13814949,\n",
       "       0.17838724, 0.09965675, 0.10409286, 0.10630752, 0.16467182,\n",
       "       0.12708417, 0.16618928, 0.13852189, 0.1305057 , 0.16851976,\n",
       "       0.18262022, 0.16155457, 0.15653402, 0.17898771, 0.12744973,\n",
       "       0.14084469])"
      ]
     },
     "execution_count": 722,
     "metadata": {},
     "output_type": "execute_result"
    }
   ],
   "source": [
    "eigenvecs[:, 0].dot(S)\n"
   ]
  },
  {
   "cell_type": "code",
   "execution_count": 723,
   "metadata": {},
   "outputs": [],
   "source": [
    "scores = eigenvecs[:, 0] / eigenvecs[:, 0].sum()\n",
    "sort_idx = np.argsort(-scores)\n"
   ]
  },
  {
   "cell_type": "code",
   "execution_count": 724,
   "metadata": {},
   "outputs": [
    {
     "name": "stdout",
     "output_type": "stream",
     "text": [
      "0.03: Ukraine shall take all necessary measures to guarantee human and civil rights and freedoms provided for by the Constitution and laws of Ukraine, international treaties, to all citizens of Ukraine residing within the temporarily occupied territory.\n",
      "0.03: Responsibility for violating human and civil rights and freedoms defined by the Constitution and laws of Ukraine within the temporarily occupied territory shall be assigned to the Russian Federation as an occupying state under the norms and principles of international law.\n",
      "0.03: Property rights within the temporarily occupied territory shall be protected under the legislation of Ukraine.\n",
      "0.03: Acquisition and termination of ownership right to real estate located within the temporarily occupied territory shall be carried out following the provisions of the legislation of Ukraine outside the temporarily occupied territory. If it is impossible for the state registrar to exercise the powers of state registration of real rights to real estate and their encumbrances within the temporarily occupied territory, the state registration body shall be determined by the Cabinet of Ministers of Ukraine.\n",
      "0.03: The legal regime of the temporarily occupied territory shall provide for a special procedure for ensuring the rights and freedoms of Ukrainian citizens living in the temporarily occupied territory.\n",
      "0.03: Citizens of Ukraine residing within the temporarily occupied territory shall be provided with the possibility of free expression of their will during the presidential, parliamentary elections and all-Ukrainian referendums within the rest of the territory of Ukraine.\n",
      "0.03: The temporarily occupied territory of Ukraine (hereinafter referred to as the temporarily occupied territory) is an integral part of the territory of Ukraine, which is subject to the Constitution and laws of Ukraine.\n",
      "0.03: Registration of documents confirming the citizenship of Ukraine, identity or special status of citizens residing within the temporarily occupied territory shall be carried out by the central executive authority that implements the state policy in the field of migration (immigration and emigration), including countering illegal (unlawful) migration, citizenship, registration of individuals, refugees and other categories of migrants defined by law, in accordance with the procedure provided for by the Cabinet of Ministers of Ukraine.\n",
      "0.03: The procedure for entry and exit of foreigners and stateless persons to and from the temporarily occupied territory shall be established by the Cabinet of Ministers of Ukraine.\n",
      "0.02: Homeless persons staying within the temporarily occupied territory shall have the right to social protection under the legislation of Ukraine.\n"
     ]
    }
   ],
   "source": [
    "for i in sort_idx[:10]:\n",
    "    print(\"%.2f: %s\" % (scores[i], cleaned_paragraphs[i]))\n"
   ]
  },
  {
   "cell_type": "code",
   "execution_count": 725,
   "metadata": {},
   "outputs": [],
   "source": [
    "def textRankSummarize(text, factor=0.15):\n",
    "    X = featurizer.fit_transform(text)\n",
    "    S = cosine_similarity(X)  # compute similarity matrix\n",
    "    S /= S.sum(axis=1, keepdims=True)  # normalize similarity matrix\n",
    "    U = np.ones_like(S) / len(S)  # uniform transition matrix\n",
    "    S = (1 - factor) * S + factor * U  # smooth similarity matrix\n",
    "    # find the limiting / stationary distribution\n",
    "    eigenvals, eigenvecs = np.linalg.eig(S.T)\n",
    "    scores = eigenvecs[:, 0] / eigenvecs[:, 0].sum()  # compute scores\n",
    "    sort_idx = np.argsort(-scores)  # sort scores\n",
    "\n",
    "    for i in sort_idx[:10]: \n",
    "        print(\"%.2f: %s\" % (scores[i], text[i]))\n"
   ]
  },
  {
   "cell_type": "code",
   "execution_count": 726,
   "metadata": {},
   "outputs": [
    {
     "name": "stdout",
     "output_type": "stream",
     "text": [
      "0.03: Ukraine shall take all necessary measures to guarantee human and civil rights and freedoms provided for by the Constitution and laws of Ukraine, international treaties, to all citizens of Ukraine residing within the temporarily occupied territory.\n",
      "0.03: Responsibility for violating human and civil rights and freedoms defined by the Constitution and laws of Ukraine within the temporarily occupied territory shall be assigned to the Russian Federation as an occupying state under the norms and principles of international law.\n",
      "0.03: Property rights within the temporarily occupied territory shall be protected under the legislation of Ukraine.\n",
      "0.03: Acquisition and termination of ownership right to real estate located within the temporarily occupied territory shall be carried out following the provisions of the legislation of Ukraine outside the temporarily occupied territory. If it is impossible for the state registrar to exercise the powers of state registration of real rights to real estate and their encumbrances within the temporarily occupied territory, the state registration body shall be determined by the Cabinet of Ministers of Ukraine.\n",
      "0.03: The legal regime of the temporarily occupied territory shall provide for a special procedure for ensuring the rights and freedoms of Ukrainian citizens living in the temporarily occupied territory.\n",
      "0.03: Citizens of Ukraine residing within the temporarily occupied territory shall be provided with the possibility of free expression of their will during the presidential, parliamentary elections and all-Ukrainian referendums within the rest of the territory of Ukraine.\n",
      "0.03: The temporarily occupied territory of Ukraine (hereinafter referred to as the temporarily occupied territory) is an integral part of the territory of Ukraine, which is subject to the Constitution and laws of Ukraine.\n",
      "0.03: Registration of documents confirming the citizenship of Ukraine, identity or special status of citizens residing within the temporarily occupied territory shall be carried out by the central executive authority that implements the state policy in the field of migration (immigration and emigration), including countering illegal (unlawful) migration, citizenship, registration of individuals, refugees and other categories of migrants defined by law, in accordance with the procedure provided for by the Cabinet of Ministers of Ukraine.\n",
      "0.03: The procedure for entry and exit of foreigners and stateless persons to and from the temporarily occupied territory shall be established by the Cabinet of Ministers of Ukraine.\n",
      "0.02: Homeless persons staying within the temporarily occupied territory shall have the right to social protection under the legislation of Ukraine.\n"
     ]
    }
   ],
   "source": [
    "textRankSummarize(cleaned_paragraphs)\n"
   ]
  },
  {
   "cell_type": "code",
   "execution_count": null,
   "metadata": {},
   "outputs": [],
   "source": []
  }
 ],
 "metadata": {
  "kernelspec": {
   "display_name": "Python 3",
   "language": "python",
   "name": "python3"
  },
  "language_info": {
   "codemirror_mode": {
    "name": "ipython",
    "version": 3
   },
   "file_extension": ".py",
   "mimetype": "text/x-python",
   "name": "python",
   "nbconvert_exporter": "python",
   "pygments_lexer": "ipython3",
   "version": "3.11.0"
  },
  "orig_nbformat": 4,
  "vscode": {
   "interpreter": {
    "hash": "c261aea317cc0286b3b3261fbba9abdec21eaa57589985bb7a274bf54d6cc0a7"
   }
  }
 },
 "nbformat": 4,
 "nbformat_minor": 2
}

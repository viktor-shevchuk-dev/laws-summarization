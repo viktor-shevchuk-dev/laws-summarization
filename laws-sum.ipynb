{
 "cells": [
  {
   "cell_type": "code",
   "execution_count": 109,
   "metadata": {},
   "outputs": [],
   "source": [
    "import pandas as pd\n",
    "import numpy as np\n",
    "import textwrap\n",
    "import nltk\n",
    "from nltk.corpus import stopwords\n",
    "from nltk import word_tokenize\n",
    "from nltk.stem import WordNetLemmatizer, PorterStemmer\n",
    "from sklearn.feature_extraction.text import TfidfVectorizer\n",
    "from sklearn.metrics.pairwise import cosine_similarity\n",
    "import requests\n",
    "from bs4 import BeautifulSoup"
   ]
  },
  {
   "cell_type": "code",
   "execution_count": 110,
   "metadata": {},
   "outputs": [
    {
     "name": "stderr",
     "output_type": "stream",
     "text": [
      "[nltk_data] Downloading package punkt to\n",
      "[nltk_data]     C:\\Users\\Viktor_Shevchuk\\AppData\\Roaming\\nltk_data...\n",
      "[nltk_data]   Package punkt is already up-to-date!\n",
      "[nltk_data] Downloading package stopwords to\n",
      "[nltk_data]     C:\\Users\\Viktor_Shevchuk\\AppData\\Roaming\\nltk_data...\n",
      "[nltk_data]   Package stopwords is already up-to-date!\n"
     ]
    },
    {
     "data": {
      "text/plain": [
       "True"
      ]
     },
     "execution_count": 110,
     "metadata": {},
     "output_type": "execute_result"
    }
   ],
   "source": [
    "nltk.download('punkt')\n",
    "nltk.download('stopwords')"
   ]
  },
  {
   "cell_type": "code",
   "execution_count": 111,
   "metadata": {},
   "outputs": [],
   "source": [
    "URL1 = \"https://zakon.rada.gov.ua/laws/show/en/1207-18/conv/print\"\n",
    "URL2 = \"https://zakon.rada.gov.ua/laws/show/en/1700-18/print\"\n",
    "page = requests.get(URL1)\n",
    "\n",
    "# print(page.text) \n"
   ]
  },
  {
   "cell_type": "code",
   "execution_count": 112,
   "metadata": {},
   "outputs": [],
   "source": [
    "soup = BeautifulSoup(page.content, \"html.parser\")\n",
    "# soup"
   ]
  },
  {
   "cell_type": "code",
   "execution_count": 113,
   "metadata": {},
   "outputs": [],
   "source": [
    "paragraphs = soup.select('.rvts0 > .rvps2')\n",
    "# paragraphs"
   ]
  },
  {
   "cell_type": "code",
   "execution_count": 114,
   "metadata": {},
   "outputs": [],
   "source": [
    "legal_stop_words = [\n",
    "    \"amended\", \"restated\", \"be stated\", \"supplemented\", \"section\", \"paragraph\", \"article\", \"as follows\", \"clauses\"\n",
    "]\n"
   ]
  },
  {
   "cell_type": "code",
   "execution_count": 115,
   "metadata": {},
   "outputs": [],
   "source": [
    "def isSentenceWithStopWord(para):\n",
    "    for word in legal_stop_words:\n",
    "        sentenceWithStopWord = para.find(\n",
    "            text=lambda t: word in t.text.lower()\n",
    "        )\n",
    "\n",
    "        if sentenceWithStopWord:\n",
    "            return True\n"
   ]
  },
  {
   "cell_type": "code",
   "execution_count": 116,
   "metadata": {},
   "outputs": [],
   "source": [
    "def isProvisions(para):\n",
    "   return para.find(\n",
    "        text=lambda t: \"final and transitional provisions\" in t.text.lower()\n",
    "    )"
   ]
  },
  {
   "cell_type": "code",
   "execution_count": 117,
   "metadata": {},
   "outputs": [],
   "source": [
    "def isArticleEnsuring(para):\n",
    "  return para.find(\"span\", class_=\"rvts37\")\n"
   ]
  },
  {
   "cell_type": "code",
   "execution_count": 118,
   "metadata": {},
   "outputs": [],
   "source": [
    "def isArticleTitle(para):\n",
    "    return para.find(\"span\", class_=\"rvts9\")\n"
   ]
  },
  {
   "cell_type": "code",
   "execution_count": 119,
   "metadata": {},
   "outputs": [],
   "source": [
    "def isClosingChar(letter):\n",
    "  return letter == \".\" or letter == \")\"\n"
   ]
  },
  {
   "cell_type": "code",
   "execution_count": 120,
   "metadata": {},
   "outputs": [],
   "source": [
    "def discardOrderedListNumbers(text):\n",
    "    isFirstCharNumeric = text[0].isdigit()\n",
    "    isSecondCharNumeric = text[1].isdigit()\n",
    "    isThirdCharNumeric = text[2].isdigit()\n",
    "\n",
    "    if isFirstCharNumeric and isClosingChar(text[1]):\n",
    "        return text[2:].strip()\n",
    "    elif isFirstCharNumeric and isSecondCharNumeric and isClosingChar(text[2]):\n",
    "        return text[3:].strip()\n",
    "    elif isFirstCharNumeric and isSecondCharNumeric and isThirdCharNumeric and isClosingChar(text[3]):\n",
    "        return text[4:].strip()\n",
    "\n",
    "    return text\n"
   ]
  },
  {
   "cell_type": "code",
   "execution_count": 121,
   "metadata": {},
   "outputs": [],
   "source": [
    "def clean(paragraphs):\n",
    "    cleaned = []\n",
    "    articleEnsuring = False\n",
    "\n",
    "    for para in paragraphs:\n",
    "        if articleEnsuring and not isArticleTitle(para):\n",
    "            break\n",
    "        elif articleEnsuring and isArticleTitle(para):\n",
    "            articleEnsuring = False\n",
    "\n",
    "        if isArticleEnsuring(para):\n",
    "            articleEnsuring = True\n",
    "            break\n",
    "\n",
    "        if isProvisions(para):\n",
    "            return cleaned\n",
    " \n",
    "        if not isSentenceWithStopWord(para) and not isArticleTitle(para):\n",
    "            cleaned.append(discardOrderedListNumbers(para.text.strip()))\n",
    "\n",
    "    return cleaned\n"
   ]
  },
  {
   "cell_type": "code",
   "execution_count": 122,
   "metadata": {},
   "outputs": [],
   "source": [
    "cleaned_paragraphs = clean(paragraphs)\n",
    "# cleaned_paragraphs"
   ]
  },
  {
   "cell_type": "code",
   "execution_count": 123,
   "metadata": {},
   "outputs": [],
   "source": [
    "featurizer = TfidfVectorizer(\n",
    "    stop_words=stopwords.words('english'),\n",
    "    # norm='l1'\n",
    ")\n",
    "# featurizer\n"
   ]
  },
  {
   "cell_type": "code",
   "execution_count": 124,
   "metadata": {},
   "outputs": [],
   "source": [
    "X = featurizer.fit_transform(\n",
    "    cleaned_paragraphs\n",
    ")\n",
    "# X"
   ]
  },
  {
   "cell_type": "code",
   "execution_count": 125,
   "metadata": {},
   "outputs": [],
   "source": [
    "def get_sentence_score(tfidf_row):\n",
    "    # return the average of the non-zero values of the tf-idf vector representation of a sentence\n",
    "    x = tfidf_row[tfidf_row != 0]\n",
    "\n",
    "    return x.mean()"
   ]
  },
  {
   "cell_type": "code",
   "execution_count": 126,
   "metadata": {},
   "outputs": [],
   "source": [
    "scores = np.zeros(len(cleaned_paragraphs))\n",
    "for i in range(len(cleaned_paragraphs)):\n",
    "    score = get_sentence_score(X[i, :])\n",
    "    scores[i] = score\n"
   ]
  },
  {
   "cell_type": "code",
   "execution_count": 127,
   "metadata": {},
   "outputs": [],
   "source": [
    "sort_idx = np.argsort(-scores)\n",
    "# sort_idx"
   ]
  },
  {
   "cell_type": "code",
   "execution_count": 128,
   "metadata": {},
   "outputs": [
    {
     "name": "stdout",
     "output_type": "stream",
     "text": [
      "0.38: The date of the beginning of the temporary occupation is 20 February 2014.\n",
      "0.36: For the purposes of this Law, the temporarily occupied territory is defined as:\n",
      "0.30: The temporarily occupied territory of Ukraine (hereinafter referred to as the temporarily occupied territory) is an integral part of the territory of Ukraine, which is subject to the Constitution and laws of Ukraine.\n",
      "0.29: land territory of the Autonomous Republic of Crimea and the city of Sevastopol, the internal waters of these territories of Ukraine;\n",
      "0.28: Property rights within the temporarily occupied territory shall be protected under the legislation of Ukraine.\n",
      "0.26: The legal regime of the temporarily occupied territory may be established, changed or abolished exclusively by the laws of Ukraine.\n",
      "0.26: The state of Ukraine shall by all possible means ensure compensation for pecuniary and non-pecuniary damage by the Russian Federation.\n",
      "0.26: Foreigners and stateless persons shall be allowed into and out of the temporarily occupied territory through the entry/exit checkpoints only with a special permit.\n",
      "0.25: Homeless persons staying within the temporarily occupied territory shall have the right to social protection under the legislation of Ukraine.\n",
      "0.25: The procedure for entry and exit of foreigners and stateless persons to and from the temporarily occupied territory shall be established by the Cabinet of Ministers of Ukraine.\n"
     ]
    }
   ],
   "source": [
    "for i in sort_idx[:10]:\n",
    "    print(\"%.2f: %s\" % (scores[i], cleaned_paragraphs[i]))"
   ]
  },
  {
   "cell_type": "code",
   "execution_count": 129,
   "metadata": {},
   "outputs": [
    {
     "data": {
      "text/plain": [
       "'On Ensuring Civil Rights and Freedoms, and the Legal Regime on the Temporarily Occupied Territory of Ukraine'"
      ]
     },
     "execution_count": 129,
     "metadata": {},
     "output_type": "execute_result"
    }
   ],
   "source": [
    "title = soup.find(\"span\", class_=\"rvts23\").text \n",
    "title\n"
   ]
  },
  {
   "cell_type": "code",
   "execution_count": 130,
   "metadata": {},
   "outputs": [],
   "source": [
    "def tfIDFSummarize(text):\n",
    "    X = featurizer.fit_transform(text)\n",
    "    scores = np.zeros(len(text))\n",
    "\n",
    "    for i in range(len(text)):\n",
    "        score = get_sentence_score(X[i, :])\n",
    "        scores[i] = score\n",
    "\n",
    "    sort_idx = np.argsort(-scores)\n",
    "  \n",
    "    summarized = \"\"\n",
    "\n",
    "    for i in sort_idx[:10]: \n",
    "        test = text[i]\n",
    "        summarized += text[i] + \" \"\n",
    "\n",
    "    return summarized\n"
   ]
  },
  {
   "cell_type": "code",
   "execution_count": 131,
   "metadata": {},
   "outputs": [
    {
     "data": {
      "text/plain": [
       "'The date of the beginning of the temporary occupation is 20 February 2014. For the purposes of this Law, the temporarily occupied territory is defined as: The temporarily occupied territory of Ukraine (hereinafter referred to as the temporarily occupied territory) is an integral part of the territory of Ukraine, which is subject to the Constitution and laws of Ukraine. land territory of the Autonomous Republic of Crimea and the city of Sevastopol, the internal waters of these territories of Ukraine; Property rights within the temporarily occupied territory shall be protected under the legislation of Ukraine. The legal regime of the temporarily occupied territory may be established, changed or abolished exclusively by the laws of Ukraine. The state of Ukraine shall by all possible means ensure compensation for pecuniary and non-pecuniary damage by the Russian Federation. Foreigners and stateless persons shall be allowed into and out of the temporarily occupied territory through the entry/exit checkpoints only with a special permit. Homeless persons staying within the temporarily occupied territory shall have the right to social protection under the legislation of Ukraine. The procedure for entry and exit of foreigners and stateless persons to and from the temporarily occupied territory shall be established by the Cabinet of Ministers of Ukraine. '"
      ]
     },
     "execution_count": 131,
     "metadata": {},
     "output_type": "execute_result"
    }
   ],
   "source": [
    "tfIDFSummarize(cleaned_paragraphs)\n"
   ]
  },
  {
   "cell_type": "code",
   "execution_count": 132,
   "metadata": {},
   "outputs": [],
   "source": [
    "S = cosine_similarity(X)\n",
    "# S"
   ]
  },
  {
   "cell_type": "code",
   "execution_count": 133,
   "metadata": {},
   "outputs": [
    {
     "data": {
      "text/plain": [
       "(46, 46)"
      ]
     },
     "execution_count": 133,
     "metadata": {},
     "output_type": "execute_result"
    }
   ],
   "source": [
    "S.shape"
   ]
  },
  {
   "cell_type": "code",
   "execution_count": 134,
   "metadata": {},
   "outputs": [
    {
     "data": {
      "text/plain": [
       "46"
      ]
     },
     "execution_count": 134,
     "metadata": {},
     "output_type": "execute_result"
    }
   ],
   "source": [
    "len(cleaned_paragraphs)\n"
   ]
  },
  {
   "cell_type": "code",
   "execution_count": 135,
   "metadata": {},
   "outputs": [],
   "source": [
    "# normalize similarity matrix\n",
    "S /= S.sum(axis=1, keepdims=True)\n"
   ]
  },
  {
   "cell_type": "code",
   "execution_count": 136,
   "metadata": {},
   "outputs": [
    {
     "data": {
      "text/plain": [
       "1.0"
      ]
     },
     "execution_count": 136,
     "metadata": {},
     "output_type": "execute_result"
    }
   ],
   "source": [
    "S[0].sum()"
   ]
  },
  {
   "cell_type": "code",
   "execution_count": 137,
   "metadata": {},
   "outputs": [],
   "source": [
    "# uniform transition matrix\n",
    "U = np.ones_like(S) / len(S)\n"
   ]
  },
  {
   "cell_type": "code",
   "execution_count": 138,
   "metadata": {},
   "outputs": [
    {
     "data": {
      "text/plain": [
       "0.9999999999999999"
      ]
     },
     "execution_count": 138,
     "metadata": {},
     "output_type": "execute_result"
    }
   ],
   "source": [
    "U[0].sum()"
   ]
  },
  {
   "cell_type": "code",
   "execution_count": 139,
   "metadata": {},
   "outputs": [],
   "source": [
    "# smoothed similarity matrix\n",
    "factor = 0.15 \n",
    "S = (1 - factor) * S + factor * U"
   ]
  },
  {
   "cell_type": "code",
   "execution_count": 140,
   "metadata": {},
   "outputs": [
    {
     "data": {
      "text/plain": [
       "0.9999999999999999"
      ]
     },
     "execution_count": 140,
     "metadata": {},
     "output_type": "execute_result"
    }
   ],
   "source": [
    "S[0].sum()"
   ]
  },
  {
   "cell_type": "code",
   "execution_count": 141,
   "metadata": {},
   "outputs": [],
   "source": [
    "# find the limiting / stationary distribution\n",
    "eigenvals, eigenvecs = np.linalg.eig(S.T)\n"
   ]
  },
  {
   "cell_type": "code",
   "execution_count": 142,
   "metadata": {},
   "outputs": [
    {
     "data": {
      "text/plain": [
       "array([1.        , 0.68713955, 0.42094194, 0.3902211 , 0.36261406,\n",
       "       0.33983174, 0.30824458, 0.29818267, 0.28105248, 0.26026103,\n",
       "       0.2509966 , 0.23497632, 0.21903648, 0.21127277, 0.2053398 ,\n",
       "       0.20304684, 0.0426177 , 0.04853621, 0.05312734, 0.18979891,\n",
       "       0.06089023, 0.06295134, 0.18126754, 0.06906333, 0.17444816,\n",
       "       0.07529121, 0.07869511, 0.08382169, 0.08666179, 0.16919783,\n",
       "       0.16465437, 0.15737268, 0.093671  , 0.10032396, 0.10265545,\n",
       "       0.10356505, 0.10638905, 0.11199114, 0.14941862, 0.14243006,\n",
       "       0.14174633, 0.13896901, 0.11960622, 0.12389636, 0.12711658,\n",
       "       0.12741678])"
      ]
     },
     "execution_count": 142,
     "metadata": {},
     "output_type": "execute_result"
    }
   ],
   "source": [
    "eigenvals"
   ]
  },
  {
   "cell_type": "code",
   "execution_count": 143,
   "metadata": {},
   "outputs": [
    {
     "data": {
      "text/plain": [
       "array([0.15847942, 0.13767847, 0.16954673, 0.08885199, 0.15719089,\n",
       "       0.12470143, 0.1083043 , 0.11710738, 0.15380697, 0.17897055,\n",
       "       0.1264791 , 0.20154232, 0.1333414 , 0.18827908, 0.16113784,\n",
       "       0.14354468, 0.14429043, 0.150828  , 0.10553467, 0.14741334,\n",
       "       0.16941742, 0.13308572, 0.10533194, 0.14358128, 0.15855451,\n",
       "       0.14620688, 0.16648069, 0.13244102, 0.15683581, 0.13814949,\n",
       "       0.17838724, 0.09965675, 0.10409286, 0.10630752, 0.16467182,\n",
       "       0.12708417, 0.16618928, 0.13852189, 0.1305057 , 0.16851976,\n",
       "       0.18262022, 0.16155457, 0.15653402, 0.17898771, 0.12744973,\n",
       "       0.14084469])"
      ]
     },
     "execution_count": 143,
     "metadata": {},
     "output_type": "execute_result"
    }
   ],
   "source": [
    "eigenvecs[:, 0]\n"
   ]
  },
  {
   "cell_type": "code",
   "execution_count": 144,
   "metadata": {},
   "outputs": [
    {
     "data": {
      "text/plain": [
       "array([0.15847942, 0.13767847, 0.16954673, 0.08885199, 0.15719089,\n",
       "       0.12470143, 0.1083043 , 0.11710738, 0.15380697, 0.17897055,\n",
       "       0.1264791 , 0.20154232, 0.1333414 , 0.18827908, 0.16113784,\n",
       "       0.14354468, 0.14429043, 0.150828  , 0.10553467, 0.14741334,\n",
       "       0.16941742, 0.13308572, 0.10533194, 0.14358128, 0.15855451,\n",
       "       0.14620688, 0.16648069, 0.13244102, 0.15683581, 0.13814949,\n",
       "       0.17838724, 0.09965675, 0.10409286, 0.10630752, 0.16467182,\n",
       "       0.12708417, 0.16618928, 0.13852189, 0.1305057 , 0.16851976,\n",
       "       0.18262022, 0.16155457, 0.15653402, 0.17898771, 0.12744973,\n",
       "       0.14084469])"
      ]
     },
     "execution_count": 144,
     "metadata": {},
     "output_type": "execute_result"
    }
   ],
   "source": [
    "eigenvecs[:, 0].dot(S)\n"
   ]
  },
  {
   "cell_type": "code",
   "execution_count": 145,
   "metadata": {},
   "outputs": [],
   "source": [
    "scores = eigenvecs[:, 0] / eigenvecs[:, 0].sum()\n",
    "sort_idx = np.argsort(-scores)\n"
   ]
  },
  {
   "cell_type": "code",
   "execution_count": 146,
   "metadata": {},
   "outputs": [
    {
     "name": "stdout",
     "output_type": "stream",
     "text": [
      "0.03: Ukraine shall take all necessary measures to guarantee human and civil rights and freedoms provided for by the Constitution and laws of Ukraine, international treaties, to all citizens of Ukraine residing within the temporarily occupied territory.\n",
      "0.03: Responsibility for violating human and civil rights and freedoms defined by the Constitution and laws of Ukraine within the temporarily occupied territory shall be assigned to the Russian Federation as an occupying state under the norms and principles of international law.\n",
      "0.03: Property rights within the temporarily occupied territory shall be protected under the legislation of Ukraine.\n",
      "0.03: Acquisition and termination of ownership right to real estate located within the temporarily occupied territory shall be carried out following the provisions of the legislation of Ukraine outside the temporarily occupied territory. If it is impossible for the state registrar to exercise the powers of state registration of real rights to real estate and their encumbrances within the temporarily occupied territory, the state registration body shall be determined by the Cabinet of Ministers of Ukraine.\n",
      "0.03: The legal regime of the temporarily occupied territory shall provide for a special procedure for ensuring the rights and freedoms of Ukrainian citizens living in the temporarily occupied territory.\n",
      "0.03: Citizens of Ukraine residing within the temporarily occupied territory shall be provided with the possibility of free expression of their will during the presidential, parliamentary elections and all-Ukrainian referendums within the rest of the territory of Ukraine.\n",
      "0.03: The temporarily occupied territory of Ukraine (hereinafter referred to as the temporarily occupied territory) is an integral part of the territory of Ukraine, which is subject to the Constitution and laws of Ukraine.\n",
      "0.03: Registration of documents confirming the citizenship of Ukraine, identity or special status of citizens residing within the temporarily occupied territory shall be carried out by the central executive authority that implements the state policy in the field of migration (immigration and emigration), including countering illegal (unlawful) migration, citizenship, registration of individuals, refugees and other categories of migrants defined by law, in accordance with the procedure provided for by the Cabinet of Ministers of Ukraine.\n",
      "0.03: The procedure for entry and exit of foreigners and stateless persons to and from the temporarily occupied territory shall be established by the Cabinet of Ministers of Ukraine.\n",
      "0.02: Homeless persons staying within the temporarily occupied territory shall have the right to social protection under the legislation of Ukraine.\n"
     ]
    }
   ],
   "source": [
    "for i in sort_idx[:10]:\n",
    "    print(\"%.2f: %s\" % (scores[i], cleaned_paragraphs[i]))\n"
   ]
  },
  {
   "cell_type": "code",
   "execution_count": 147,
   "metadata": {},
   "outputs": [],
   "source": [
    "def textRankSummarize(text, factor=0.15):\n",
    "    X = featurizer.fit_transform(text)\n",
    "    S = cosine_similarity(X)  # compute similarity matrix\n",
    "    S /= S.sum(axis=1, keepdims=True)  # normalize similarity matrix\n",
    "    U = np.ones_like(S) / len(S)  # uniform transition matrix\n",
    "    S = (1 - factor) * S + factor * U  # smooth similarity matrix\n",
    "    # find the limiting / stationary distribution\n",
    "    eigenvals, eigenvecs = np.linalg.eig(S.T)\n",
    "    scores = eigenvecs[:, 0] / eigenvecs[:, 0].sum()  # compute scores\n",
    "    sort_idx = np.argsort(-scores)  # sort scores\n",
    "\n",
    "    summarized = \"\"\n",
    "\n",
    "    for i in sort_idx[:10]:\n",
    "        test = text[i]\n",
    "        summarized += text[i] + \" \"\n",
    "\n",
    "    return summarized\n"
   ]
  },
  {
   "cell_type": "code",
   "execution_count": 148,
   "metadata": {},
   "outputs": [
    {
     "data": {
      "text/plain": [
       "'Ukraine shall take all necessary measures to guarantee human and civil rights and freedoms provided for by the Constitution and laws of Ukraine, international treaties, to all citizens of Ukraine residing within the temporarily occupied territory. Responsibility for violating human and civil rights and freedoms defined by the Constitution and laws of Ukraine within the temporarily occupied territory shall be assigned to the Russian Federation as an occupying state under the norms and principles of international law. Property rights within the temporarily occupied territory shall be protected under the legislation of Ukraine. Acquisition and termination of ownership right to real estate located within the temporarily occupied territory shall be carried out following the provisions of the legislation of Ukraine outside the temporarily occupied territory. If it is impossible for the state registrar to exercise the powers of state registration of real rights to real estate and their encumbrances within the temporarily occupied territory, the state registration body shall be determined by the Cabinet of Ministers of Ukraine. The legal regime of the temporarily occupied territory shall provide for a special procedure for ensuring the rights and freedoms of Ukrainian citizens living in the temporarily occupied territory. Citizens of Ukraine residing within the temporarily occupied territory shall be provided with the possibility of free expression of their will during the presidential, parliamentary elections and all-Ukrainian referendums within the rest of the territory of Ukraine. The temporarily occupied territory of Ukraine (hereinafter referred to as the temporarily occupied territory) is an integral part of the territory of Ukraine, which is subject to the Constitution and laws of Ukraine. Registration of documents confirming the citizenship of Ukraine, identity or special status of citizens residing within the temporarily occupied territory shall be carried out by the central executive authority that implements the state policy in the field of migration (immigration and emigration), including countering illegal (unlawful) migration, citizenship, registration of individuals, refugees and other categories of migrants defined by law, in accordance with the procedure provided for by the Cabinet of Ministers of Ukraine. The procedure for entry and exit of foreigners and stateless persons to and from the temporarily occupied territory shall be established by the Cabinet of Ministers of Ukraine. Homeless persons staying within the temporarily occupied territory shall have the right to social protection under the legislation of Ukraine. '"
      ]
     },
     "execution_count": 148,
     "metadata": {},
     "output_type": "execute_result"
    }
   ],
   "source": [
    "textRankSummarize(cleaned_paragraphs)\n"
   ]
  },
  {
   "attachments": {},
   "cell_type": "markdown",
   "metadata": {},
   "source": [
    "Libraries for text summarization "
   ]
  },
  {
   "cell_type": "code",
   "execution_count": 149,
   "metadata": {},
   "outputs": [],
   "source": [
    "from sumy.summarizers.lsa import LsaSummarizer\n",
    "from sumy.parsers.plaintext import PlaintextParser\n",
    "from sumy.nlp.tokenizers import Tokenizer\n"
   ]
  },
  {
   "cell_type": "code",
   "execution_count": 150,
   "metadata": {},
   "outputs": [
    {
     "data": {
      "text/plain": [
       "<sumy.parsers.plaintext.PlaintextParser at 0x2685a0f9290>"
      ]
     },
     "execution_count": 150,
     "metadata": {},
     "output_type": "execute_result"
    }
   ],
   "source": [
    "parser = PlaintextParser.from_string(cleaned_paragraphs, Tokenizer(\"english\"))\n",
    "parser "
   ]
  },
  {
   "cell_type": "code",
   "execution_count": 151,
   "metadata": {},
   "outputs": [
    {
     "data": {
      "text/plain": [
       "<sumy.summarizers.lsa.LsaSummarizer at 0x26853915190>"
      ]
     },
     "execution_count": 151,
     "metadata": {},
     "output_type": "execute_result"
    }
   ],
   "source": [
    "summarizer = LsaSummarizer()\n",
    "summarizer\n"
   ]
  },
  {
   "cell_type": "code",
   "execution_count": 152,
   "metadata": {},
   "outputs": [
    {
     "data": {
      "text/plain": [
       "(<Sentence: ', 'Ukraine shall take all necessary measures to guarantee human and civil rights and freedoms provided for by the Constitution and laws of Ukraine, international treaties, to all citizens of Ukraine residing within the temporarily occupied territory.>,\n",
       " <Sentence: ', 'Ukraine undertakes to maintain and ensure economic, financial, political, social, informational, cultural and other ties with Ukrainian citizens residing within the temporarily occupied territory.>,\n",
       " <Sentence: At the same time, information (note) about the place of stay of such a person shall not be entered in his/her passport.>,\n",
       " <Sentence: ', 'Elderly citizens, persons with disabilities, children with disabilities and other citizens of Ukraine experiencing difficult life circumstances and residing within the temporarily occupied territory shall have the right to be provided with social services under the legislation of Ukraine.>,\n",
       " <Sentence: ', 'Foreigners and stateless persons permanently residing in Ukraine, persons who have been granted refugee status in Ukraine, persons in need of additional or temporary protection, and persons who have been granted the status of a foreign Ukrainian, who are legally staying in Ukraine and live within the temporarily occupied territory, shall have the right to get or continue getting a certain qualification within the territory of other regions of Ukraine following the procedure defined by the laws of Ukraine “On Higher Education” and “On Professional Pre-higher Education\".>,\n",
       " <Sentence: ', 'During presidential, parliamentary elections and all-Ukrainian referendums, voting of Ukrainian citizens within the temporarily occupied territory shall not be organised or take place.>,\n",
       " <Sentence: ', 'Any bodies, their officials and officers within the temporarily occupied territory and their activities shall be considered illegal if these bodies or persons are established, elected or appointed in an unlawful manner.>,\n",
       " <Sentence: ', 'Foreigners and stateless persons shall be allowed into and out of the temporarily occupied territory through the entry/exit checkpoints only with a special permit.>,\n",
       " <Sentence: ', 'Individuals, regardless of their refugee status or other special legal status, enterprises, institutions, organisations shall retain the right of ownership and other real rights to property, including real estate, including land plots located within the temporarily occupied territory, if it is acquired under the laws of Ukraine.>,\n",
       " <Sentence: ', 'Any transaction related to real estate, including land plots, made within the temporarily occupied territory in violation of the requirements of this Law and other laws of Ukraine, shall be considered invalid from the moment of performance and shall not have legal effects, except for those related to its invalidity.>)"
      ]
     },
     "execution_count": 152,
     "metadata": {},
     "output_type": "execute_result"
    }
   ],
   "source": [
    "summary = summarizer(parser.document, sentences_count=10)\n",
    "summary\n"
   ]
  },
  {
   "attachments": {},
   "cell_type": "markdown",
   "metadata": {},
   "source": [
    "TextRank vs Seq2Seq vs BART"
   ]
  },
  {
   "cell_type": "code",
   "execution_count": 155,
   "metadata": {},
   "outputs": [],
   "source": [
    "'''\n",
    "Calculate ROUGE score.\n",
    ":parameter    \n",
    "    :param y_test: string or list    \n",
    "    :param predicted: string or list\n",
    "'''\n",
    "import rouge\n",
    "import re\n",
    "import difflib\n",
    "\n",
    "def evaluate_summary(y_test, predicted):\n",
    "    rouge_score = rouge.Rouge()\n",
    "    scores = rouge_score.get_scores(y_test, predicted, avg=True)\n",
    "    score_1 = round(scores['rouge-1']['f'], 2)\n",
    "    score_2 = round(scores['rouge-2']['f'], 2)\n",
    "    score_L = round(scores['rouge-l']['f'], 2)\n",
    "    print(\"rouge1:\", score_1, \"| rouge2:\", score_2, \"| rougeL:\",\n",
    "          score_2, \"--> avg rouge:\", round(np.mean(\n",
    "              [score_1, score_2, score_L]), 2))\n"
   ]
  },
  {
   "cell_type": "code",
   "execution_count": 156,
   "metadata": {},
   "outputs": [
    {
     "name": "stdout",
     "output_type": "stream",
     "text": [
      "rouge1: 0.48 | rouge2: 0.38 | rougeL: 0.38 --> avg rouge: 0.44\n"
     ]
    }
   ],
   "source": [
    "evaluate_summary(\n",
    "    tfIDFSummarize(cleaned_paragraphs),\n",
    "    textRankSummarize(cleaned_paragraphs)\n",
    ")\n"
   ]
  },
  {
   "cell_type": "code",
   "execution_count": 157,
   "metadata": {},
   "outputs": [],
   "source": [
    "'''\n",
    "Find the matching substrings in 2 strings.\n",
    ":parameter\n",
    "    :param a: string - raw text\n",
    "    :param b: string - raw text\n",
    ":return\n",
    "    2 lists used in to display matches\n",
    "'''\n",
    "\n",
    "\n",
    "def utils_split_sentences(a, b):\n",
    "    # find clean matches\n",
    "    match = difflib.SequenceMatcher(isjunk=None, a=a, b=b, autojunk=True)\n",
    "    lst_match = [block for block in match.get_matching_blocks()\n",
    "                 if block.size > 20]\n",
    "\n",
    "    # difflib didn't find any match\n",
    "    if len(lst_match) == 0:\n",
    "        lst_a, lst_b = nltk.sent_tokenize(a), nltk.sent_tokenize(b)\n",
    "\n",
    "    # work with matches\n",
    "    else:\n",
    "        first_m, last_m = lst_match[0], lst_match[-1]\n",
    "\n",
    "        # a\n",
    "        string = a[0: first_m.a]\n",
    "        lst_a = [t for t in nltk.sent_tokenize(string)]\n",
    "        for n in range(len(lst_match)):\n",
    "            m = lst_match[n]\n",
    "            string = a[m.a: m.a+m.size]\n",
    "            lst_a.append(string)\n",
    "            if n+1 < len(lst_match):\n",
    "                next_m = lst_match[n+1]\n",
    "                string = a[m.a+m.size: next_m.a]\n",
    "                lst_a = lst_a + [t for t in nltk.sent_tokenize(string)]\n",
    "            else:\n",
    "                break\n",
    "        string = a[last_m.a+last_m.size:]\n",
    "        lst_a = lst_a + [t for t in nltk.sent_tokenize(string)]\n",
    "\n",
    "        # b\n",
    "        string = b[0: first_m.b]\n",
    "        lst_b = [t for t in nltk.sent_tokenize(string)]\n",
    "        for n in range(len(lst_match)):\n",
    "            m = lst_match[n]\n",
    "            string = b[m.b: m.b+m.size]\n",
    "            lst_b.append(string)\n",
    "            if n+1 < len(lst_match):\n",
    "                next_m = lst_match[n+1]\n",
    "                string = b[m.b+m.size: next_m.b]\n",
    "                lst_b = lst_b + [t for t in nltk.sent_tokenize(string)]\n",
    "            else:\n",
    "                break\n",
    "        string = b[last_m.b+last_m.size:]\n",
    "        lst_b = lst_b + [t for t in nltk.sent_tokenize(string)]\n",
    "\n",
    "    return lst_a, lst_b\n",
    "\n",
    "\n",
    "'''\n",
    "Highlights the matched strings in text.\n",
    ":parameter\n",
    "    :param a: string - raw text\n",
    "    :param b: string - raw text\n",
    "    :param both: bool - search a in b and, if True, viceversa\n",
    "    :param sentences: bool - if False matches single words\n",
    ":return\n",
    "    text html, it can be visualized on notebook with display(HTML(text))\n",
    "'''\n",
    "\n",
    "\n",
    "def display_string_matching(a, b, both=True, sentences=True, titles=[]):\n",
    "    if sentences is True:\n",
    "        lst_a, lst_b = utils_split_sentences(a, b)\n",
    "    else:\n",
    "        lst_a, lst_b = a.split(), b.split()\n",
    "\n",
    "    # highlight a\n",
    "    first_text = []\n",
    "    for i in lst_a:\n",
    "        if re.sub(r'[^\\w\\s]', '', i.lower()) in [re.sub(r'[^\\w\\s]', '', z.lower()) for z in lst_b]:\n",
    "            first_text.append(\n",
    "                '<span style=\"background-color:rgba(255,215,0,0.3);\">' + i + '</span>')\n",
    "        else:\n",
    "            first_text.append(i)\n",
    "    first_text = ' '.join(first_text)\n",
    "\n",
    "    # highlight b\n",
    "    second_text = []\n",
    "    if both is True:\n",
    "        for i in lst_b:\n",
    "            if re.sub(r'[^\\w\\s]', '', i.lower()) in [re.sub(r'[^\\w\\s]', '', z.lower()) for z in lst_a]:\n",
    "                second_text.append(\n",
    "                    '<span style=\"background-color:rgba(255,215,0,0.3);\">' + i + '</span>')\n",
    "            else:\n",
    "                second_text.append(i)\n",
    "    else:\n",
    "        second_text.append(b)\n",
    "    second_text = ' '.join(second_text)\n",
    "\n",
    "    # concatenate\n",
    "    if len(titles) > 0:\n",
    "        first_text = \"<strong>\"+titles[0]+\"</strong><br>\"+first_text\n",
    "    if len(titles) > 1:\n",
    "        second_text = \"<strong>\"+titles[1]+\"</strong><br>\"+second_text\n",
    "    else:\n",
    "        second_text = \"---\"*65+\"<br><br>\"+second_text\n",
    "    final_text = first_text + '<br><br>' + second_text\n",
    "    return final_text\n"
   ]
  },
  {
   "cell_type": "code",
   "execution_count": 158,
   "metadata": {},
   "outputs": [],
   "source": [
    "match = display_string_matching(\n",
    "    tfIDFSummarize(cleaned_paragraphs),\n",
    "    textRankSummarize(cleaned_paragraphs), both=True, sentences=False, titles=[\n",
    "        \"1 Summary\", \"2 Summary\"]\n",
    ")\n"
   ]
  },
  {
   "cell_type": "code",
   "execution_count": 159,
   "metadata": {},
   "outputs": [
    {
     "name": "stderr",
     "output_type": "stream",
     "text": [
      "C:\\Users\\Viktor_Shevchuk\\AppData\\Local\\Temp\\ipykernel_17864\\3609584809.py:1: DeprecationWarning: Importing display from IPython.core.display is deprecated since IPython 7.14, please import from IPython display\n",
      "  from IPython.core.display import display, HTML\n"
     ]
    },
    {
     "data": {
      "text/html": [
       "<strong>1 Summary</strong><br><span style=\"background-color:rgba(255,215,0,0.3);\">The</span> date <span style=\"background-color:rgba(255,215,0,0.3);\">of</span> <span style=\"background-color:rgba(255,215,0,0.3);\">the</span> beginning <span style=\"background-color:rgba(255,215,0,0.3);\">of</span> <span style=\"background-color:rgba(255,215,0,0.3);\">the</span> temporary occupation <span style=\"background-color:rgba(255,215,0,0.3);\">is</span> 20 February 2014. <span style=\"background-color:rgba(255,215,0,0.3);\">For</span> <span style=\"background-color:rgba(255,215,0,0.3);\">the</span> purposes <span style=\"background-color:rgba(255,215,0,0.3);\">of</span> this <span style=\"background-color:rgba(255,215,0,0.3);\">Law,</span> <span style=\"background-color:rgba(255,215,0,0.3);\">the</span> <span style=\"background-color:rgba(255,215,0,0.3);\">temporarily</span> <span style=\"background-color:rgba(255,215,0,0.3);\">occupied</span> <span style=\"background-color:rgba(255,215,0,0.3);\">territory</span> <span style=\"background-color:rgba(255,215,0,0.3);\">is</span> <span style=\"background-color:rgba(255,215,0,0.3);\">defined</span> <span style=\"background-color:rgba(255,215,0,0.3);\">as:</span> <span style=\"background-color:rgba(255,215,0,0.3);\">The</span> <span style=\"background-color:rgba(255,215,0,0.3);\">temporarily</span> <span style=\"background-color:rgba(255,215,0,0.3);\">occupied</span> <span style=\"background-color:rgba(255,215,0,0.3);\">territory</span> <span style=\"background-color:rgba(255,215,0,0.3);\">of</span> <span style=\"background-color:rgba(255,215,0,0.3);\">Ukraine</span> <span style=\"background-color:rgba(255,215,0,0.3);\">(hereinafter</span> <span style=\"background-color:rgba(255,215,0,0.3);\">referred</span> <span style=\"background-color:rgba(255,215,0,0.3);\">to</span> <span style=\"background-color:rgba(255,215,0,0.3);\">as</span> <span style=\"background-color:rgba(255,215,0,0.3);\">the</span> <span style=\"background-color:rgba(255,215,0,0.3);\">temporarily</span> <span style=\"background-color:rgba(255,215,0,0.3);\">occupied</span> <span style=\"background-color:rgba(255,215,0,0.3);\">territory)</span> <span style=\"background-color:rgba(255,215,0,0.3);\">is</span> <span style=\"background-color:rgba(255,215,0,0.3);\">an</span> <span style=\"background-color:rgba(255,215,0,0.3);\">integral</span> <span style=\"background-color:rgba(255,215,0,0.3);\">part</span> <span style=\"background-color:rgba(255,215,0,0.3);\">of</span> <span style=\"background-color:rgba(255,215,0,0.3);\">the</span> <span style=\"background-color:rgba(255,215,0,0.3);\">territory</span> <span style=\"background-color:rgba(255,215,0,0.3);\">of</span> <span style=\"background-color:rgba(255,215,0,0.3);\">Ukraine,</span> <span style=\"background-color:rgba(255,215,0,0.3);\">which</span> <span style=\"background-color:rgba(255,215,0,0.3);\">is</span> <span style=\"background-color:rgba(255,215,0,0.3);\">subject</span> <span style=\"background-color:rgba(255,215,0,0.3);\">to</span> <span style=\"background-color:rgba(255,215,0,0.3);\">the</span> <span style=\"background-color:rgba(255,215,0,0.3);\">Constitution</span> <span style=\"background-color:rgba(255,215,0,0.3);\">and</span> <span style=\"background-color:rgba(255,215,0,0.3);\">laws</span> <span style=\"background-color:rgba(255,215,0,0.3);\">of</span> <span style=\"background-color:rgba(255,215,0,0.3);\">Ukraine.</span> land <span style=\"background-color:rgba(255,215,0,0.3);\">territory</span> <span style=\"background-color:rgba(255,215,0,0.3);\">of</span> <span style=\"background-color:rgba(255,215,0,0.3);\">the</span> Autonomous Republic <span style=\"background-color:rgba(255,215,0,0.3);\">of</span> Crimea <span style=\"background-color:rgba(255,215,0,0.3);\">and</span> <span style=\"background-color:rgba(255,215,0,0.3);\">the</span> city <span style=\"background-color:rgba(255,215,0,0.3);\">of</span> Sevastopol, <span style=\"background-color:rgba(255,215,0,0.3);\">the</span> internal waters <span style=\"background-color:rgba(255,215,0,0.3);\">of</span> these territories <span style=\"background-color:rgba(255,215,0,0.3);\">of</span> <span style=\"background-color:rgba(255,215,0,0.3);\">Ukraine;</span> <span style=\"background-color:rgba(255,215,0,0.3);\">Property</span> <span style=\"background-color:rgba(255,215,0,0.3);\">rights</span> <span style=\"background-color:rgba(255,215,0,0.3);\">within</span> <span style=\"background-color:rgba(255,215,0,0.3);\">the</span> <span style=\"background-color:rgba(255,215,0,0.3);\">temporarily</span> <span style=\"background-color:rgba(255,215,0,0.3);\">occupied</span> <span style=\"background-color:rgba(255,215,0,0.3);\">territory</span> <span style=\"background-color:rgba(255,215,0,0.3);\">shall</span> <span style=\"background-color:rgba(255,215,0,0.3);\">be</span> <span style=\"background-color:rgba(255,215,0,0.3);\">protected</span> <span style=\"background-color:rgba(255,215,0,0.3);\">under</span> <span style=\"background-color:rgba(255,215,0,0.3);\">the</span> <span style=\"background-color:rgba(255,215,0,0.3);\">legislation</span> <span style=\"background-color:rgba(255,215,0,0.3);\">of</span> <span style=\"background-color:rgba(255,215,0,0.3);\">Ukraine.</span> <span style=\"background-color:rgba(255,215,0,0.3);\">The</span> <span style=\"background-color:rgba(255,215,0,0.3);\">legal</span> <span style=\"background-color:rgba(255,215,0,0.3);\">regime</span> <span style=\"background-color:rgba(255,215,0,0.3);\">of</span> <span style=\"background-color:rgba(255,215,0,0.3);\">the</span> <span style=\"background-color:rgba(255,215,0,0.3);\">temporarily</span> <span style=\"background-color:rgba(255,215,0,0.3);\">occupied</span> <span style=\"background-color:rgba(255,215,0,0.3);\">territory</span> may <span style=\"background-color:rgba(255,215,0,0.3);\">be</span> <span style=\"background-color:rgba(255,215,0,0.3);\">established,</span> changed <span style=\"background-color:rgba(255,215,0,0.3);\">or</span> abolished exclusively <span style=\"background-color:rgba(255,215,0,0.3);\">by</span> <span style=\"background-color:rgba(255,215,0,0.3);\">the</span> <span style=\"background-color:rgba(255,215,0,0.3);\">laws</span> <span style=\"background-color:rgba(255,215,0,0.3);\">of</span> <span style=\"background-color:rgba(255,215,0,0.3);\">Ukraine.</span> <span style=\"background-color:rgba(255,215,0,0.3);\">The</span> <span style=\"background-color:rgba(255,215,0,0.3);\">state</span> <span style=\"background-color:rgba(255,215,0,0.3);\">of</span> <span style=\"background-color:rgba(255,215,0,0.3);\">Ukraine</span> <span style=\"background-color:rgba(255,215,0,0.3);\">shall</span> <span style=\"background-color:rgba(255,215,0,0.3);\">by</span> <span style=\"background-color:rgba(255,215,0,0.3);\">all</span> possible means ensure compensation <span style=\"background-color:rgba(255,215,0,0.3);\">for</span> pecuniary <span style=\"background-color:rgba(255,215,0,0.3);\">and</span> non-pecuniary damage <span style=\"background-color:rgba(255,215,0,0.3);\">by</span> <span style=\"background-color:rgba(255,215,0,0.3);\">the</span> <span style=\"background-color:rgba(255,215,0,0.3);\">Russian</span> <span style=\"background-color:rgba(255,215,0,0.3);\">Federation.</span> <span style=\"background-color:rgba(255,215,0,0.3);\">Foreigners</span> <span style=\"background-color:rgba(255,215,0,0.3);\">and</span> <span style=\"background-color:rgba(255,215,0,0.3);\">stateless</span> <span style=\"background-color:rgba(255,215,0,0.3);\">persons</span> <span style=\"background-color:rgba(255,215,0,0.3);\">shall</span> <span style=\"background-color:rgba(255,215,0,0.3);\">be</span> allowed into <span style=\"background-color:rgba(255,215,0,0.3);\">and</span> <span style=\"background-color:rgba(255,215,0,0.3);\">out</span> <span style=\"background-color:rgba(255,215,0,0.3);\">of</span> <span style=\"background-color:rgba(255,215,0,0.3);\">the</span> <span style=\"background-color:rgba(255,215,0,0.3);\">temporarily</span> <span style=\"background-color:rgba(255,215,0,0.3);\">occupied</span> <span style=\"background-color:rgba(255,215,0,0.3);\">territory</span> through <span style=\"background-color:rgba(255,215,0,0.3);\">the</span> entry/exit checkpoints only <span style=\"background-color:rgba(255,215,0,0.3);\">with</span> <span style=\"background-color:rgba(255,215,0,0.3);\">a</span> <span style=\"background-color:rgba(255,215,0,0.3);\">special</span> permit. <span style=\"background-color:rgba(255,215,0,0.3);\">Homeless</span> <span style=\"background-color:rgba(255,215,0,0.3);\">persons</span> <span style=\"background-color:rgba(255,215,0,0.3);\">staying</span> <span style=\"background-color:rgba(255,215,0,0.3);\">within</span> <span style=\"background-color:rgba(255,215,0,0.3);\">the</span> <span style=\"background-color:rgba(255,215,0,0.3);\">temporarily</span> <span style=\"background-color:rgba(255,215,0,0.3);\">occupied</span> <span style=\"background-color:rgba(255,215,0,0.3);\">territory</span> <span style=\"background-color:rgba(255,215,0,0.3);\">shall</span> <span style=\"background-color:rgba(255,215,0,0.3);\">have</span> <span style=\"background-color:rgba(255,215,0,0.3);\">the</span> <span style=\"background-color:rgba(255,215,0,0.3);\">right</span> <span style=\"background-color:rgba(255,215,0,0.3);\">to</span> <span style=\"background-color:rgba(255,215,0,0.3);\">social</span> <span style=\"background-color:rgba(255,215,0,0.3);\">protection</span> <span style=\"background-color:rgba(255,215,0,0.3);\">under</span> <span style=\"background-color:rgba(255,215,0,0.3);\">the</span> <span style=\"background-color:rgba(255,215,0,0.3);\">legislation</span> <span style=\"background-color:rgba(255,215,0,0.3);\">of</span> <span style=\"background-color:rgba(255,215,0,0.3);\">Ukraine.</span> <span style=\"background-color:rgba(255,215,0,0.3);\">The</span> <span style=\"background-color:rgba(255,215,0,0.3);\">procedure</span> <span style=\"background-color:rgba(255,215,0,0.3);\">for</span> <span style=\"background-color:rgba(255,215,0,0.3);\">entry</span> <span style=\"background-color:rgba(255,215,0,0.3);\">and</span> <span style=\"background-color:rgba(255,215,0,0.3);\">exit</span> <span style=\"background-color:rgba(255,215,0,0.3);\">of</span> <span style=\"background-color:rgba(255,215,0,0.3);\">foreigners</span> <span style=\"background-color:rgba(255,215,0,0.3);\">and</span> <span style=\"background-color:rgba(255,215,0,0.3);\">stateless</span> <span style=\"background-color:rgba(255,215,0,0.3);\">persons</span> <span style=\"background-color:rgba(255,215,0,0.3);\">to</span> <span style=\"background-color:rgba(255,215,0,0.3);\">and</span> <span style=\"background-color:rgba(255,215,0,0.3);\">from</span> <span style=\"background-color:rgba(255,215,0,0.3);\">the</span> <span style=\"background-color:rgba(255,215,0,0.3);\">temporarily</span> <span style=\"background-color:rgba(255,215,0,0.3);\">occupied</span> <span style=\"background-color:rgba(255,215,0,0.3);\">territory</span> <span style=\"background-color:rgba(255,215,0,0.3);\">shall</span> <span style=\"background-color:rgba(255,215,0,0.3);\">be</span> <span style=\"background-color:rgba(255,215,0,0.3);\">established</span> <span style=\"background-color:rgba(255,215,0,0.3);\">by</span> <span style=\"background-color:rgba(255,215,0,0.3);\">the</span> <span style=\"background-color:rgba(255,215,0,0.3);\">Cabinet</span> <span style=\"background-color:rgba(255,215,0,0.3);\">of</span> <span style=\"background-color:rgba(255,215,0,0.3);\">Ministers</span> <span style=\"background-color:rgba(255,215,0,0.3);\">of</span> <span style=\"background-color:rgba(255,215,0,0.3);\">Ukraine.</span><br><br><strong>2 Summary</strong><br><span style=\"background-color:rgba(255,215,0,0.3);\">Ukraine</span> <span style=\"background-color:rgba(255,215,0,0.3);\">shall</span> take <span style=\"background-color:rgba(255,215,0,0.3);\">all</span> necessary measures <span style=\"background-color:rgba(255,215,0,0.3);\">to</span> guarantee human <span style=\"background-color:rgba(255,215,0,0.3);\">and</span> civil <span style=\"background-color:rgba(255,215,0,0.3);\">rights</span> <span style=\"background-color:rgba(255,215,0,0.3);\">and</span> freedoms provided <span style=\"background-color:rgba(255,215,0,0.3);\">for</span> <span style=\"background-color:rgba(255,215,0,0.3);\">by</span> <span style=\"background-color:rgba(255,215,0,0.3);\">the</span> <span style=\"background-color:rgba(255,215,0,0.3);\">Constitution</span> <span style=\"background-color:rgba(255,215,0,0.3);\">and</span> <span style=\"background-color:rgba(255,215,0,0.3);\">laws</span> <span style=\"background-color:rgba(255,215,0,0.3);\">of</span> <span style=\"background-color:rgba(255,215,0,0.3);\">Ukraine,</span> international treaties, <span style=\"background-color:rgba(255,215,0,0.3);\">to</span> <span style=\"background-color:rgba(255,215,0,0.3);\">all</span> citizens <span style=\"background-color:rgba(255,215,0,0.3);\">of</span> <span style=\"background-color:rgba(255,215,0,0.3);\">Ukraine</span> residing <span style=\"background-color:rgba(255,215,0,0.3);\">within</span> <span style=\"background-color:rgba(255,215,0,0.3);\">the</span> <span style=\"background-color:rgba(255,215,0,0.3);\">temporarily</span> <span style=\"background-color:rgba(255,215,0,0.3);\">occupied</span> <span style=\"background-color:rgba(255,215,0,0.3);\">territory.</span> Responsibility <span style=\"background-color:rgba(255,215,0,0.3);\">for</span> violating human <span style=\"background-color:rgba(255,215,0,0.3);\">and</span> civil <span style=\"background-color:rgba(255,215,0,0.3);\">rights</span> <span style=\"background-color:rgba(255,215,0,0.3);\">and</span> freedoms <span style=\"background-color:rgba(255,215,0,0.3);\">defined</span> <span style=\"background-color:rgba(255,215,0,0.3);\">by</span> <span style=\"background-color:rgba(255,215,0,0.3);\">the</span> <span style=\"background-color:rgba(255,215,0,0.3);\">Constitution</span> <span style=\"background-color:rgba(255,215,0,0.3);\">and</span> <span style=\"background-color:rgba(255,215,0,0.3);\">laws</span> <span style=\"background-color:rgba(255,215,0,0.3);\">of</span> <span style=\"background-color:rgba(255,215,0,0.3);\">Ukraine</span> <span style=\"background-color:rgba(255,215,0,0.3);\">within</span> <span style=\"background-color:rgba(255,215,0,0.3);\">the</span> <span style=\"background-color:rgba(255,215,0,0.3);\">temporarily</span> <span style=\"background-color:rgba(255,215,0,0.3);\">occupied</span> <span style=\"background-color:rgba(255,215,0,0.3);\">territory</span> <span style=\"background-color:rgba(255,215,0,0.3);\">shall</span> <span style=\"background-color:rgba(255,215,0,0.3);\">be</span> assigned <span style=\"background-color:rgba(255,215,0,0.3);\">to</span> <span style=\"background-color:rgba(255,215,0,0.3);\">the</span> <span style=\"background-color:rgba(255,215,0,0.3);\">Russian</span> <span style=\"background-color:rgba(255,215,0,0.3);\">Federation</span> <span style=\"background-color:rgba(255,215,0,0.3);\">as</span> <span style=\"background-color:rgba(255,215,0,0.3);\">an</span> occupying <span style=\"background-color:rgba(255,215,0,0.3);\">state</span> <span style=\"background-color:rgba(255,215,0,0.3);\">under</span> <span style=\"background-color:rgba(255,215,0,0.3);\">the</span> norms <span style=\"background-color:rgba(255,215,0,0.3);\">and</span> principles <span style=\"background-color:rgba(255,215,0,0.3);\">of</span> international <span style=\"background-color:rgba(255,215,0,0.3);\">law.</span> <span style=\"background-color:rgba(255,215,0,0.3);\">Property</span> <span style=\"background-color:rgba(255,215,0,0.3);\">rights</span> <span style=\"background-color:rgba(255,215,0,0.3);\">within</span> <span style=\"background-color:rgba(255,215,0,0.3);\">the</span> <span style=\"background-color:rgba(255,215,0,0.3);\">temporarily</span> <span style=\"background-color:rgba(255,215,0,0.3);\">occupied</span> <span style=\"background-color:rgba(255,215,0,0.3);\">territory</span> <span style=\"background-color:rgba(255,215,0,0.3);\">shall</span> <span style=\"background-color:rgba(255,215,0,0.3);\">be</span> <span style=\"background-color:rgba(255,215,0,0.3);\">protected</span> <span style=\"background-color:rgba(255,215,0,0.3);\">under</span> <span style=\"background-color:rgba(255,215,0,0.3);\">the</span> <span style=\"background-color:rgba(255,215,0,0.3);\">legislation</span> <span style=\"background-color:rgba(255,215,0,0.3);\">of</span> <span style=\"background-color:rgba(255,215,0,0.3);\">Ukraine.</span> Acquisition <span style=\"background-color:rgba(255,215,0,0.3);\">and</span> termination <span style=\"background-color:rgba(255,215,0,0.3);\">of</span> ownership <span style=\"background-color:rgba(255,215,0,0.3);\">right</span> <span style=\"background-color:rgba(255,215,0,0.3);\">to</span> real estate located <span style=\"background-color:rgba(255,215,0,0.3);\">within</span> <span style=\"background-color:rgba(255,215,0,0.3);\">the</span> <span style=\"background-color:rgba(255,215,0,0.3);\">temporarily</span> <span style=\"background-color:rgba(255,215,0,0.3);\">occupied</span> <span style=\"background-color:rgba(255,215,0,0.3);\">territory</span> <span style=\"background-color:rgba(255,215,0,0.3);\">shall</span> <span style=\"background-color:rgba(255,215,0,0.3);\">be</span> carried <span style=\"background-color:rgba(255,215,0,0.3);\">out</span> following <span style=\"background-color:rgba(255,215,0,0.3);\">the</span> provisions <span style=\"background-color:rgba(255,215,0,0.3);\">of</span> <span style=\"background-color:rgba(255,215,0,0.3);\">the</span> <span style=\"background-color:rgba(255,215,0,0.3);\">legislation</span> <span style=\"background-color:rgba(255,215,0,0.3);\">of</span> <span style=\"background-color:rgba(255,215,0,0.3);\">Ukraine</span> outside <span style=\"background-color:rgba(255,215,0,0.3);\">the</span> <span style=\"background-color:rgba(255,215,0,0.3);\">temporarily</span> <span style=\"background-color:rgba(255,215,0,0.3);\">occupied</span> <span style=\"background-color:rgba(255,215,0,0.3);\">territory.</span> If it <span style=\"background-color:rgba(255,215,0,0.3);\">is</span> impossible <span style=\"background-color:rgba(255,215,0,0.3);\">for</span> <span style=\"background-color:rgba(255,215,0,0.3);\">the</span> <span style=\"background-color:rgba(255,215,0,0.3);\">state</span> registrar <span style=\"background-color:rgba(255,215,0,0.3);\">to</span> exercise <span style=\"background-color:rgba(255,215,0,0.3);\">the</span> powers <span style=\"background-color:rgba(255,215,0,0.3);\">of</span> <span style=\"background-color:rgba(255,215,0,0.3);\">state</span> registration <span style=\"background-color:rgba(255,215,0,0.3);\">of</span> real <span style=\"background-color:rgba(255,215,0,0.3);\">rights</span> <span style=\"background-color:rgba(255,215,0,0.3);\">to</span> real estate <span style=\"background-color:rgba(255,215,0,0.3);\">and</span> their encumbrances <span style=\"background-color:rgba(255,215,0,0.3);\">within</span> <span style=\"background-color:rgba(255,215,0,0.3);\">the</span> <span style=\"background-color:rgba(255,215,0,0.3);\">temporarily</span> <span style=\"background-color:rgba(255,215,0,0.3);\">occupied</span> <span style=\"background-color:rgba(255,215,0,0.3);\">territory,</span> <span style=\"background-color:rgba(255,215,0,0.3);\">the</span> <span style=\"background-color:rgba(255,215,0,0.3);\">state</span> registration body <span style=\"background-color:rgba(255,215,0,0.3);\">shall</span> <span style=\"background-color:rgba(255,215,0,0.3);\">be</span> determined <span style=\"background-color:rgba(255,215,0,0.3);\">by</span> <span style=\"background-color:rgba(255,215,0,0.3);\">the</span> <span style=\"background-color:rgba(255,215,0,0.3);\">Cabinet</span> <span style=\"background-color:rgba(255,215,0,0.3);\">of</span> <span style=\"background-color:rgba(255,215,0,0.3);\">Ministers</span> <span style=\"background-color:rgba(255,215,0,0.3);\">of</span> <span style=\"background-color:rgba(255,215,0,0.3);\">Ukraine.</span> <span style=\"background-color:rgba(255,215,0,0.3);\">The</span> <span style=\"background-color:rgba(255,215,0,0.3);\">legal</span> <span style=\"background-color:rgba(255,215,0,0.3);\">regime</span> <span style=\"background-color:rgba(255,215,0,0.3);\">of</span> <span style=\"background-color:rgba(255,215,0,0.3);\">the</span> <span style=\"background-color:rgba(255,215,0,0.3);\">temporarily</span> <span style=\"background-color:rgba(255,215,0,0.3);\">occupied</span> <span style=\"background-color:rgba(255,215,0,0.3);\">territory</span> <span style=\"background-color:rgba(255,215,0,0.3);\">shall</span> provide <span style=\"background-color:rgba(255,215,0,0.3);\">for</span> <span style=\"background-color:rgba(255,215,0,0.3);\">a</span> <span style=\"background-color:rgba(255,215,0,0.3);\">special</span> <span style=\"background-color:rgba(255,215,0,0.3);\">procedure</span> <span style=\"background-color:rgba(255,215,0,0.3);\">for</span> ensuring <span style=\"background-color:rgba(255,215,0,0.3);\">the</span> <span style=\"background-color:rgba(255,215,0,0.3);\">rights</span> <span style=\"background-color:rgba(255,215,0,0.3);\">and</span> freedoms <span style=\"background-color:rgba(255,215,0,0.3);\">of</span> Ukrainian citizens living in <span style=\"background-color:rgba(255,215,0,0.3);\">the</span> <span style=\"background-color:rgba(255,215,0,0.3);\">temporarily</span> <span style=\"background-color:rgba(255,215,0,0.3);\">occupied</span> <span style=\"background-color:rgba(255,215,0,0.3);\">territory.</span> Citizens <span style=\"background-color:rgba(255,215,0,0.3);\">of</span> <span style=\"background-color:rgba(255,215,0,0.3);\">Ukraine</span> residing <span style=\"background-color:rgba(255,215,0,0.3);\">within</span> <span style=\"background-color:rgba(255,215,0,0.3);\">the</span> <span style=\"background-color:rgba(255,215,0,0.3);\">temporarily</span> <span style=\"background-color:rgba(255,215,0,0.3);\">occupied</span> <span style=\"background-color:rgba(255,215,0,0.3);\">territory</span> <span style=\"background-color:rgba(255,215,0,0.3);\">shall</span> <span style=\"background-color:rgba(255,215,0,0.3);\">be</span> provided <span style=\"background-color:rgba(255,215,0,0.3);\">with</span> <span style=\"background-color:rgba(255,215,0,0.3);\">the</span> possibility <span style=\"background-color:rgba(255,215,0,0.3);\">of</span> free expression <span style=\"background-color:rgba(255,215,0,0.3);\">of</span> their will during <span style=\"background-color:rgba(255,215,0,0.3);\">the</span> presidential, parliamentary elections <span style=\"background-color:rgba(255,215,0,0.3);\">and</span> all-Ukrainian referendums <span style=\"background-color:rgba(255,215,0,0.3);\">within</span> <span style=\"background-color:rgba(255,215,0,0.3);\">the</span> rest <span style=\"background-color:rgba(255,215,0,0.3);\">of</span> <span style=\"background-color:rgba(255,215,0,0.3);\">the</span> <span style=\"background-color:rgba(255,215,0,0.3);\">territory</span> <span style=\"background-color:rgba(255,215,0,0.3);\">of</span> <span style=\"background-color:rgba(255,215,0,0.3);\">Ukraine.</span> <span style=\"background-color:rgba(255,215,0,0.3);\">The</span> <span style=\"background-color:rgba(255,215,0,0.3);\">temporarily</span> <span style=\"background-color:rgba(255,215,0,0.3);\">occupied</span> <span style=\"background-color:rgba(255,215,0,0.3);\">territory</span> <span style=\"background-color:rgba(255,215,0,0.3);\">of</span> <span style=\"background-color:rgba(255,215,0,0.3);\">Ukraine</span> <span style=\"background-color:rgba(255,215,0,0.3);\">(hereinafter</span> <span style=\"background-color:rgba(255,215,0,0.3);\">referred</span> <span style=\"background-color:rgba(255,215,0,0.3);\">to</span> <span style=\"background-color:rgba(255,215,0,0.3);\">as</span> <span style=\"background-color:rgba(255,215,0,0.3);\">the</span> <span style=\"background-color:rgba(255,215,0,0.3);\">temporarily</span> <span style=\"background-color:rgba(255,215,0,0.3);\">occupied</span> <span style=\"background-color:rgba(255,215,0,0.3);\">territory)</span> <span style=\"background-color:rgba(255,215,0,0.3);\">is</span> <span style=\"background-color:rgba(255,215,0,0.3);\">an</span> <span style=\"background-color:rgba(255,215,0,0.3);\">integral</span> <span style=\"background-color:rgba(255,215,0,0.3);\">part</span> <span style=\"background-color:rgba(255,215,0,0.3);\">of</span> <span style=\"background-color:rgba(255,215,0,0.3);\">the</span> <span style=\"background-color:rgba(255,215,0,0.3);\">territory</span> <span style=\"background-color:rgba(255,215,0,0.3);\">of</span> <span style=\"background-color:rgba(255,215,0,0.3);\">Ukraine,</span> <span style=\"background-color:rgba(255,215,0,0.3);\">which</span> <span style=\"background-color:rgba(255,215,0,0.3);\">is</span> <span style=\"background-color:rgba(255,215,0,0.3);\">subject</span> <span style=\"background-color:rgba(255,215,0,0.3);\">to</span> <span style=\"background-color:rgba(255,215,0,0.3);\">the</span> <span style=\"background-color:rgba(255,215,0,0.3);\">Constitution</span> <span style=\"background-color:rgba(255,215,0,0.3);\">and</span> <span style=\"background-color:rgba(255,215,0,0.3);\">laws</span> <span style=\"background-color:rgba(255,215,0,0.3);\">of</span> <span style=\"background-color:rgba(255,215,0,0.3);\">Ukraine.</span> Registration <span style=\"background-color:rgba(255,215,0,0.3);\">of</span> documents confirming <span style=\"background-color:rgba(255,215,0,0.3);\">the</span> citizenship <span style=\"background-color:rgba(255,215,0,0.3);\">of</span> <span style=\"background-color:rgba(255,215,0,0.3);\">Ukraine,</span> identity <span style=\"background-color:rgba(255,215,0,0.3);\">or</span> <span style=\"background-color:rgba(255,215,0,0.3);\">special</span> status <span style=\"background-color:rgba(255,215,0,0.3);\">of</span> citizens residing <span style=\"background-color:rgba(255,215,0,0.3);\">within</span> <span style=\"background-color:rgba(255,215,0,0.3);\">the</span> <span style=\"background-color:rgba(255,215,0,0.3);\">temporarily</span> <span style=\"background-color:rgba(255,215,0,0.3);\">occupied</span> <span style=\"background-color:rgba(255,215,0,0.3);\">territory</span> <span style=\"background-color:rgba(255,215,0,0.3);\">shall</span> <span style=\"background-color:rgba(255,215,0,0.3);\">be</span> carried <span style=\"background-color:rgba(255,215,0,0.3);\">out</span> <span style=\"background-color:rgba(255,215,0,0.3);\">by</span> <span style=\"background-color:rgba(255,215,0,0.3);\">the</span> central executive authority that implements <span style=\"background-color:rgba(255,215,0,0.3);\">the</span> <span style=\"background-color:rgba(255,215,0,0.3);\">state</span> policy in <span style=\"background-color:rgba(255,215,0,0.3);\">the</span> field <span style=\"background-color:rgba(255,215,0,0.3);\">of</span> migration (immigration <span style=\"background-color:rgba(255,215,0,0.3);\">and</span> emigration), including countering illegal (unlawful) migration, citizenship, registration <span style=\"background-color:rgba(255,215,0,0.3);\">of</span> individuals, refugees <span style=\"background-color:rgba(255,215,0,0.3);\">and</span> other categories <span style=\"background-color:rgba(255,215,0,0.3);\">of</span> migrants <span style=\"background-color:rgba(255,215,0,0.3);\">defined</span> <span style=\"background-color:rgba(255,215,0,0.3);\">by</span> <span style=\"background-color:rgba(255,215,0,0.3);\">law,</span> in accordance <span style=\"background-color:rgba(255,215,0,0.3);\">with</span> <span style=\"background-color:rgba(255,215,0,0.3);\">the</span> <span style=\"background-color:rgba(255,215,0,0.3);\">procedure</span> provided <span style=\"background-color:rgba(255,215,0,0.3);\">for</span> <span style=\"background-color:rgba(255,215,0,0.3);\">by</span> <span style=\"background-color:rgba(255,215,0,0.3);\">the</span> <span style=\"background-color:rgba(255,215,0,0.3);\">Cabinet</span> <span style=\"background-color:rgba(255,215,0,0.3);\">of</span> <span style=\"background-color:rgba(255,215,0,0.3);\">Ministers</span> <span style=\"background-color:rgba(255,215,0,0.3);\">of</span> <span style=\"background-color:rgba(255,215,0,0.3);\">Ukraine.</span> <span style=\"background-color:rgba(255,215,0,0.3);\">The</span> <span style=\"background-color:rgba(255,215,0,0.3);\">procedure</span> <span style=\"background-color:rgba(255,215,0,0.3);\">for</span> <span style=\"background-color:rgba(255,215,0,0.3);\">entry</span> <span style=\"background-color:rgba(255,215,0,0.3);\">and</span> <span style=\"background-color:rgba(255,215,0,0.3);\">exit</span> <span style=\"background-color:rgba(255,215,0,0.3);\">of</span> <span style=\"background-color:rgba(255,215,0,0.3);\">foreigners</span> <span style=\"background-color:rgba(255,215,0,0.3);\">and</span> <span style=\"background-color:rgba(255,215,0,0.3);\">stateless</span> <span style=\"background-color:rgba(255,215,0,0.3);\">persons</span> <span style=\"background-color:rgba(255,215,0,0.3);\">to</span> <span style=\"background-color:rgba(255,215,0,0.3);\">and</span> <span style=\"background-color:rgba(255,215,0,0.3);\">from</span> <span style=\"background-color:rgba(255,215,0,0.3);\">the</span> <span style=\"background-color:rgba(255,215,0,0.3);\">temporarily</span> <span style=\"background-color:rgba(255,215,0,0.3);\">occupied</span> <span style=\"background-color:rgba(255,215,0,0.3);\">territory</span> <span style=\"background-color:rgba(255,215,0,0.3);\">shall</span> <span style=\"background-color:rgba(255,215,0,0.3);\">be</span> <span style=\"background-color:rgba(255,215,0,0.3);\">established</span> <span style=\"background-color:rgba(255,215,0,0.3);\">by</span> <span style=\"background-color:rgba(255,215,0,0.3);\">the</span> <span style=\"background-color:rgba(255,215,0,0.3);\">Cabinet</span> <span style=\"background-color:rgba(255,215,0,0.3);\">of</span> <span style=\"background-color:rgba(255,215,0,0.3);\">Ministers</span> <span style=\"background-color:rgba(255,215,0,0.3);\">of</span> <span style=\"background-color:rgba(255,215,0,0.3);\">Ukraine.</span> <span style=\"background-color:rgba(255,215,0,0.3);\">Homeless</span> <span style=\"background-color:rgba(255,215,0,0.3);\">persons</span> <span style=\"background-color:rgba(255,215,0,0.3);\">staying</span> <span style=\"background-color:rgba(255,215,0,0.3);\">within</span> <span style=\"background-color:rgba(255,215,0,0.3);\">the</span> <span style=\"background-color:rgba(255,215,0,0.3);\">temporarily</span> <span style=\"background-color:rgba(255,215,0,0.3);\">occupied</span> <span style=\"background-color:rgba(255,215,0,0.3);\">territory</span> <span style=\"background-color:rgba(255,215,0,0.3);\">shall</span> <span style=\"background-color:rgba(255,215,0,0.3);\">have</span> <span style=\"background-color:rgba(255,215,0,0.3);\">the</span> <span style=\"background-color:rgba(255,215,0,0.3);\">right</span> <span style=\"background-color:rgba(255,215,0,0.3);\">to</span> <span style=\"background-color:rgba(255,215,0,0.3);\">social</span> <span style=\"background-color:rgba(255,215,0,0.3);\">protection</span> <span style=\"background-color:rgba(255,215,0,0.3);\">under</span> <span style=\"background-color:rgba(255,215,0,0.3);\">the</span> <span style=\"background-color:rgba(255,215,0,0.3);\">legislation</span> <span style=\"background-color:rgba(255,215,0,0.3);\">of</span> <span style=\"background-color:rgba(255,215,0,0.3);\">Ukraine.</span>"
      ],
      "text/plain": [
       "<IPython.core.display.HTML object>"
      ]
     },
     "metadata": {},
     "output_type": "display_data"
    }
   ],
   "source": [
    "from IPython.core.display import display, HTML\n",
    "display(HTML(match))\n"
   ]
  },
  {
   "cell_type": "code",
   "execution_count": 161,
   "metadata": {},
   "outputs": [
    {
     "name": "stderr",
     "output_type": "stream",
     "text": [
      "C:\\Users\\Viktor_Shevchuk\\AppData\\Local\\Temp\\ipykernel_17864\\3198351708.py:1: DeprecationWarning: Importing display from IPython.core.display is deprecated since IPython 7.14, please import from IPython display\n",
      "  from IPython.core.display import display, HTML\n"
     ]
    },
    {
     "data": {
      "text/html": [
       "<strong>1</strong><br>The date of the beginning of the temporary occupation is 20 February 2014. For the purposes of this Law, the temporarily occupied territory is defined as: The temporarily occupied territory of Ukraine (hereinafter referred to as the temporarily occupied territory) is an integral part of the territory of Ukraine, which is subject to the Constitution and laws of Ukraine. land territory of the Autonomous Republic of Crimea and the city of Sevastopol, the internal waters of these territories of Ukraine; Property rights within the temporarily occupied territory shall be protected under the legislation of Ukraine. The legal regime of the temporarily occupied territory may be established, changed or abolished exclusively by the laws of Ukraine. The state of Ukraine shall by all possible means ensure compensation for pecuniary and non-pecuniary damage by the Russian Federation. Foreigners and stateless persons shall be allowed into and out of the temporarily occupied territory through the entry/exit checkpoints only with a special permit. <span style=\"background-color:rgba(255,215,0,0.3);\">Homeless persons staying within the temporarily occupied territory shall have the right to social protection under the legislation of Ukraine.</span> <span style=\"background-color:rgba(255,215,0,0.3);\">The procedure for entry and exit of foreigners and stateless persons to and from the temporarily occupied territory shall be established by the Cabinet of Ministers of Ukraine.</span><br><br><strong>2</strong><br>Ukraine shall take all necessary measures to guarantee human and civil rights and freedoms provided for by the Constitution and laws of Ukraine, international treaties, to all citizens of Ukraine residing within the temporarily occupied territory. Responsibility for violating human and civil rights and freedoms defined by the Constitution and laws of Ukraine within the temporarily occupied territory shall be assigned to the Russian Federation as an occupying state under the norms and principles of international law. Property rights within the temporarily occupied territory shall be protected under the legislation of Ukraine. Acquisition and termination of ownership right to real estate located within the temporarily occupied territory shall be carried out following the provisions of the legislation of Ukraine outside the temporarily occupied territory. If it is impossible for the state registrar to exercise the powers of state registration of real rights to real estate and their encumbrances within the temporarily occupied territory, the state registration body shall be determined by the Cabinet of Ministers of Ukraine. The legal regime of the temporarily occupied territory shall provide for a special procedure for ensuring the rights and freedoms of Ukrainian citizens living in the temporarily occupied territory. Citizens of Ukraine residing within the temporarily occupied territory shall be provided with the possibility of free expression of their will during the presidential, parliamentary elections and all-Ukrainian referendums within the rest of the territory of Ukraine. The temporarily occupied territory of Ukraine (hereinafter referred to as the temporarily occupied territory) is an integral part of the territory of Ukraine, which is subject to the Constitution and laws of Ukraine. Registration of documents confirming the citizenship of Ukraine, identity or special status of citizens residing within the temporarily occupied territory shall be carried out by the central executive authority that implements the state policy in the field of migration (immigration and emigration), including countering illegal (unlawful) migration, citizenship, registration of individuals, refugees and other categories of migrants defined by law, in accordance with the procedure provided for by the Cabinet of Ministers of Ukraine. <span style=\"background-color:rgba(255,215,0,0.3);\">The procedure for entry and exit of foreigners and stateless persons to and from the temporarily occupied territory shall be established by the Cabinet of Ministers of Ukraine.</span> <span style=\"background-color:rgba(255,215,0,0.3);\">Homeless persons staying within the temporarily occupied territory shall have the right to social protection under the legislation of Ukraine.</span>"
      ],
      "text/plain": [
       "<IPython.core.display.HTML object>"
      ]
     },
     "metadata": {},
     "output_type": "display_data"
    }
   ],
   "source": [
    "from IPython.core.display import display, HTML\n",
    "match = display_string_matching(tfIDFSummarize(cleaned_paragraphs),\n",
    "                                textRankSummarize(cleaned_paragraphs), both=True, sentences=True, titles=[\n",
    "                                \"1\", \"2\"])\n",
    "\n",
    "display(HTML(match))\n"
   ]
  },
  {
   "cell_type": "code",
   "execution_count": 169,
   "metadata": {},
   "outputs": [
    {
     "data": {
      "text/html": [
       "<strong>1</strong><br>Under the Constitution of Ukraine, Ukraine is a sovereign and independent state. The sovereignty of Ukraine shall apply to its entire territory, which shall be integral and inviolable within the existing border. Presence of units of the other states' armed forces within the territory of Ukraine in violation of the procedure defined by the Constitution and laws of Ukraine, The Hague Conventions of 1907, the IV Geneva Convention of 1949, as well as in disregard of the Memorandum on Security Assurances in connection with Ukraine's accession to the Treaty on the Non-Proliferation of Nuclear Weapons of 1994, the Treaty on Friendship, Cooperation, and Partnership between Ukraine and the Russian Federation of 1997 and other international legal acts shall constitute occupation of a part of the territory of the sovereign state of Ukraine and an internationally unlawful act with all the consequences provided for by international law. The basis of the humanitarian, social and economic policy of Ukraine in relation to the population of the temporarily occupied territory of Ukraine shall be protected and full exercise of national, cultural, social and political rights of Ukrainian citizens, including indigenous peoples and national minorities. <span style=\"background-color:rgba(255,215,0,0.3);\">The temporarily occupied territory of Ukraine (hereinafter referred to as the temporarily occupied territory) is an integral part of the territory of Ukraine, which is subject to the Constitution and laws of Ukraine.</span> The date of the beginning of the temporary occupation is 20 February 2014. This Law defines the status of the territory of Ukraine, which is temporarily occupied as a result of the armed aggression of the Russian Federation, establishes a special legal regime within this territory, defines the specifics of functioning of government and local authorities, enterprises, institutions and organisations under this regime, respect and protection of human and civil rights and freedoms, as well as the rights and legitimate interests of legal entities. For the purposes of this Law, the temporarily occupied territory is defined as: land territory of the Autonomous Republic of Crimea and the city of Sevastopol, the internal waters of these territories of Ukraine; internal sea waters and territorial sea of Ukraine around the Crimean Peninsula, the territory of the exclusive (maritime) economic zone of Ukraine along the coast of the Crimean Peninsula and adjacent to the coast of the continental shelf of Ukraine, which fall under the jurisdiction of government authorities of Ukraine under the norms of international law, the Constitution and laws of Ukraine; Within the temporarily occupied territory and during the period of validity of this Law, a special legal regime shall apply to the crossing of borders of the temporarily occupied territory, making transactions, holding elections and referendums, and exercising other human and civil rights and freedoms. <span style=\"background-color:rgba(255,215,0,0.3);\">The legal regime of the temporarily occupied territory shall provide for a special procedure for ensuring the rights and freedoms of Ukrainian citizens living in the temporarily occupied territory.</span> The legal regime of the temporarily occupied territory may be established, changed or abolished exclusively by the laws of Ukraine. <span style=\"background-color:rgba(255,215,0,0.3);\">Ukraine shall take all necessary measures to guarantee human and civil rights and freedoms provided for by the Constitution and laws of Ukraine, international treaties, to all citizens of Ukraine residing within the temporarily occupied territory.</span> Ukraine undertakes to maintain and ensure economic, financial, political, social, informational, cultural and other ties with Ukrainian citizens residing within the temporarily occupied territory. <span style=\"background-color:rgba(255,215,0,0.3);\">Responsibility for violating human and civil rights and freedoms defined by the Constitution and laws of Ukraine within the temporarily occupied territory shall be assigned to the Russian Federation as an occupying state under the norms and principles of international law.</span> Compulsory automatic acquisition of citizenship of the Russian Federation by citizens of Ukraine residing within the temporarily occupied territory shall not be recognised by Ukraine and shall not be a ground for loss of Ukrainian citizenship. The Cabinet of Ministers of Ukraine shall constantly monitor the respect of human and civil rights and freedoms in the temporarily occupied territory. Based on the results of such monitoring, it shall make public and provide relevant information to international organisations in the field of protection of human and civil rights and freedoms and take the necessary measures. The Ukrainian Parliament Commissioner for Human Rights shall exercise parliamentary oversight over the respect for constitutional human and civil rights and freedoms in the temporarily occupied territory under the law. Compensation to the state of Ukraine, legal entities, NGOs, citizens of Ukraine, foreigners and stateless persons for pecuniary and non-pecuniary damage caused as a result of the temporary occupation shall be fully attributed to the Russian Federation as the occupying state. The state of Ukraine shall by all possible means ensure compensation for pecuniary and non-pecuniary damage by the Russian Federation. Responsibility for the protection of the cultural heritage within the temporarily occupied territory shall be attributed to the Russian Federation as the occupying state under the norms and principles of international law. <span style=\"background-color:rgba(255,215,0,0.3);\">Registration of documents confirming the citizenship of Ukraine, identity or special status of citizens residing within the temporarily occupied territory shall be carried out by the central executive authority that implements the state policy in the field of migration (immigration and emigration), including countering illegal (unlawful) migration, citizenship, registration of individuals, refugees and other categories of migrants defined by law, in accordance with the procedure provided for by the Cabinet of Ministers of Ukraine.</span> At the request of citizens of Ukraine residing in the temporarily occupied territory or having resettled from it, certificates confirming their place of stay shall be made and issued at the place of their stay by the executive authority that implements state policy in the area of migration (immigration and emigration), including countering illegal (unlawful) migration, citizenship, registration of individuals, refugees and other categories of migrants defined by law. Such certificates shall be issued to citizens on the day of application based on their passport of a citizen of Ukraine or another document containing information about residence registration under the Law of Ukraine “On Freedom of Movement and Free Choice of Place of Residence in Ukraine”, and a written application indicating the address at which official correspondence can be delivered to the citizen. At the same time, information (note) about the place of stay of such a person shall not be entered in his/her passport. An example and procedure for issuing a certificate confirming the place of stay, an example of a written application that should be submitted by a citizen for obtaining a certificate, shall be approved by the central executive authority in charge of shaping the state policy in the field of migration (immigration and emigration), including countering illegal (unlawful) migration, citizenship, registration of individuals, refugees and other categories of migrants defined by law. For citizens of Ukraine residing within the temporarily occupied territory, the exercise of rights to employment, pension, mandatory state social insurance in case of unemployment, due to temporary disability, industrial accident and occupational disease that caused the loss of working capacity, to social services shall be ensured following the procedure provided for by the legislation of Ukraine. Payment of pensions to citizens of Ukraine residing within the temporarily occupied territory and not receiving pensions and other social payments from the authorised bodies of the Russian Federation shall be carried out following the procedure established by the Cabinet of Ministers of Ukraine. Elderly citizens, persons with disabilities, children with disabilities and other citizens of Ukraine experiencing difficult life circumstances and residing within the temporarily occupied territory shall have the right to be provided with social services under the legislation of Ukraine. Homeless persons staying within the temporarily occupied territory shall have the right to social protection under the legislation of Ukraine. Citizens of Ukraine residing within the temporarily occupied territory, in settlements at the contact line, shall have the right to receive or continue receiving a certain educational level within the territory of other regions of Ukraine at the expense of the state budget with the provision of places in dormitories for the duration of their studies. Foreigners and stateless persons permanently residing in Ukraine, persons who have been granted refugee status in Ukraine, persons in need of additional or temporary protection, and persons who have been granted the status of a foreign Ukrainian, who are legally staying in Ukraine and live within the temporarily occupied territory, shall have the right to get or continue getting a certain qualification within the territory of other regions of Ukraine following the procedure defined by the laws of Ukraine “On Higher Education” and “On Professional Pre-higher Education\". During <span style=\"background-color:rgba(255,215,0,0.3);\"> presidential, parliamentary elections and all-Ukrainian referendums</span> , voting of Ukrainian citizens within the temporarily occupied territory shall not be organised or take place. Citizens of Ukraine residing within the temporarily occupied territory shall be provided with the possibility of free expression of their will during the presidential, parliamentary elections and all-Ukrainian referendums within the rest of the territory of Ukraine. In case of early resignation of a Member of Parliament of Ukraine elected in a single-member electoral district formed within the Autonomous Republic of Crimea or the city of Sevastopol, midterm elections of a Member of Parliament of Ukraine shall not be held in this district. Elections of members of the Supreme Council of the Autonomous Republic of Crimea, members of local councils, village, settlement, city heads, and local referendums shall not be held in the temporarily occupied territory. Bodies for keeping the State Register of Voters established in the territory of the Autonomous Republic of Crimea and the city of Sevastopol shall not keep the State Register of Voters. The procedure for access to records of voters with an electoral address within the territory under the jurisdiction of these bodies for keeping the State Register of Voters, as well as updating these records, shall be established by the Central Election Commission. Government and local authorities established under the Constitution and laws of Ukraine, their officials and officers <span style=\"background-color:rgba(255,215,0,0.3);\"> within the temporarily occupied territory shall </span> act only on the basis, within the limits of their powers and in the manner provided for by the Constitution and laws of Ukraine. Any bodies, their officials and officers within the temporarily occupied territory and their activities shall be considered illegal if these bodies or persons are established, elected or appointed in an unlawful manner. Establishment of relations and interaction of state authorities of Ukraine, their officials, local self-government bodies and their officials with illegal bodies (officials) created within the temporarily occupied territory shall be allowed solely for the purpose of ensuring the national interests of Ukraine, protecting rights and freedoms of citizens of Ukraine, implementation of international treaties ratified by the Verkhovna Rada of Ukraine, promoting restoration of the constitutional order of Ukraine within the temporarily occupied territory. Citizens of Ukraine shall have the right to free and unhindered entry to and exit from the temporarily occupied territory through entry/exit checkpoints, presenting an identity document confirming the citizenship of Ukraine. Foreigners and stateless persons shall be allowed into and out of the temporarily occupied territory through the entry/exit checkpoints only with a special permit. <span style=\"background-color:rgba(255,215,0,0.3);\">The procedure for entry and exit of foreigners and stateless persons to and from the temporarily occupied territory shall be established by the Cabinet of Ministers of Ukraine.</span> <span style=\"background-color:rgba(255,215,0,0.3);\">Property rights within the temporarily occupied territory shall be protected under the legislation of Ukraine.</span> Ukraine, the Autonomous Republic of Crimea, territorial communities, including the territorial community of the city of Sevastopol, government and local authorities and other legal entities of public law shall retain the right of ownership and other real rights to property, including real estate, including land plots located within the temporarily occupied territory. Individuals, regardless of their refugee status or other special legal status, enterprises, institutions, organisations shall retain the right of ownership and other real rights to property, including real estate, including land plots located within the temporarily occupied territory, if it is acquired under the laws of Ukraine. <span style=\"background-color:rgba(255,215,0,0.3);\">Acquisition and termination of ownership right to real estate located within the temporarily occupied territory shall be carried out following the provisions of the legislation of Ukraine outside the temporarily occupied territory.</span> <span style=\"background-color:rgba(255,215,0,0.3);\">If it is impossible for the state registrar to exercise the powers of state registration of real rights to real estate and their encumbrances within the temporarily occupied territory, the state registration body shall be determined by the Cabinet of Ministers of Ukraine.</span> Any transaction related to real estate, including land plots, made within the temporarily occupied territory in violation of the requirements of this Law and other laws of Ukraine, shall be considered invalid from the moment of performance and shall not have legal effects, except for those related to its invalidity. Land, its resources, atmospheric air, water and other natural resources located within the territory of Ukraine, natural resources of its continental shelf, exclusive (marine) economic zone, which constitute property of the Ukrainian people, military property, property of state bodies, state enterprises, institutions and organisations located within the temporarily occupied territory and belonging to the state of Ukraine, shall not become the property of other states, legal entities or individuals in a different way than provided for by the laws of Ukraine.<br><br><strong>2</strong><br><span style=\"background-color:rgba(255,215,0,0.3);\">Ukraine shall take all necessary measures to guarantee human and civil rights and freedoms provided for by the Constitution and laws of Ukraine, international treaties, to all citizens of Ukraine residing within the temporarily occupied territory.</span> <span style=\"background-color:rgba(255,215,0,0.3);\">Responsibility for violating human and civil rights and freedoms defined by the Constitution and laws of Ukraine within the temporarily occupied territory shall be assigned to the Russian Federation as an occupying state under the norms and principles of international law.</span> <span style=\"background-color:rgba(255,215,0,0.3);\">Property rights within the temporarily occupied territory shall be protected under the legislation of Ukraine.</span> <span style=\"background-color:rgba(255,215,0,0.3);\">Acquisition and termination of ownership right to real estate located within the temporarily occupied territory shall be carried out following the provisions of the legislation of Ukraine outside the temporarily occupied territory.</span> <span style=\"background-color:rgba(255,215,0,0.3);\">If it is impossible for the state registrar to exercise the powers of state registration of real rights to real estate and their encumbrances within the temporarily occupied territory, the state registration body shall be determined by the Cabinet of Ministers of Ukraine.</span> <span style=\"background-color:rgba(255,215,0,0.3);\">The legal regime of the temporarily occupied territory shall provide for a special procedure for ensuring the rights and freedoms of Ukrainian citizens living in the temporarily occupied territory.</span> Citizens of Ukraine residing within the temporarily occupied territory shall be provided with the possibility of free expression of their will during the <span style=\"background-color:rgba(255,215,0,0.3);\"> presidential, parliamentary elections and all-Ukrainian referendums</span>  within the rest of the territory of Ukraine. <span style=\"background-color:rgba(255,215,0,0.3);\">The temporarily occupied territory of Ukraine (hereinafter referred to as the temporarily occupied territory) is an integral part of the territory of Ukraine, which is subject to the Constitution and laws of Ukraine.</span> <span style=\"background-color:rgba(255,215,0,0.3);\">Registration of documents confirming the citizenship of Ukraine, identity or special status of citizens residing within the temporarily occupied territory shall be carried out by the central executive authority that implements the state policy in the field of migration (immigration and emigration), including countering illegal (unlawful) migration, citizenship, registration of individuals, refugees and other categories of migrants defined by law, in accordance with the procedure provided for by the Cabinet of Ministers of Ukraine.</span> <span style=\"background-color:rgba(255,215,0,0.3);\">The procedure for entry and exit of foreigners and stateless persons to and from the temporarily occupied territory shall be established by the Cabinet of Ministers of Ukraine.</span> Homeless persons staying <span style=\"background-color:rgba(255,215,0,0.3);\"> within the temporarily occupied territory shall </span> have the right to social protection under the legislation of Ukraine."
      ],
      "text/plain": [
       "<IPython.core.display.HTML object>"
      ]
     },
     "metadata": {},
     "output_type": "display_data"
    }
   ],
   "source": [
    "match = display_string_matching(' '.join(cleaned_paragraphs),\n",
    "                                textRankSummarize(cleaned_paragraphs), both=True,   titles=[\n",
    "    \"1\", \"2\"])\n",
    "\n",
    "display(HTML(match))\n"
   ]
  },
  {
   "cell_type": "code",
   "execution_count": null,
   "metadata": {},
   "outputs": [],
   "source": []
  }
 ],
 "metadata": {
  "kernelspec": {
   "display_name": "Python 3",
   "language": "python",
   "name": "python3"
  },
  "language_info": {
   "codemirror_mode": {
    "name": "ipython",
    "version": 3
   },
   "file_extension": ".py",
   "mimetype": "text/x-python",
   "name": "python",
   "nbconvert_exporter": "python",
   "pygments_lexer": "ipython3",
   "version": "3.11.0"
  },
  "orig_nbformat": 4,
  "vscode": {
   "interpreter": {
    "hash": "c261aea317cc0286b3b3261fbba9abdec21eaa57589985bb7a274bf54d6cc0a7"
   }
  }
 },
 "nbformat": 4,
 "nbformat_minor": 2
}

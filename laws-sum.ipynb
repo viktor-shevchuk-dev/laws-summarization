{
 "cells": [
  {
   "cell_type": "code",
   "execution_count": 397,
   "metadata": {},
   "outputs": [],
   "source": [
    "import pandas as pd\n",
    "import numpy as np\n",
    "import textwrap\n",
    "import nltk\n",
    "from nltk.tokenize import sent_tokenize, word_tokenize\n",
    "from nltk.corpus import stopwords\n",
    "from nltk.stem import WordNetLemmatizer, PorterStemmer\n",
    "from sklearn.feature_extraction.text import TfidfVectorizer\n",
    "from sklearn.metrics.pairwise import cosine_similarity\n",
    "import requests\n",
    "from bs4 import BeautifulSoup\n",
    "import rouge\n",
    "from IPython.display import display, HTML\n",
    "import seaborn as sns\n",
    "import matplotlib.pyplot as plt\n",
    "from statistics import mean\n",
    "import sumy\n",
    "from sumy.parsers.plaintext import PlaintextParser\n",
    "from sumy.nlp.tokenizers import Tokenizer\n",
    "import re\n",
    "import difflib\n",
    "\n",
    "from vizualization import utils_split_sentences, display_string_matching\n"
   ]
  },
  {
   "cell_type": "code",
   "execution_count": 398,
   "metadata": {},
   "outputs": [
    {
     "name": "stderr",
     "output_type": "stream",
     "text": [
      "[nltk_data] Downloading package punkt to\n",
      "[nltk_data]     C:\\Users\\Viktor_Shevchuk\\AppData\\Roaming\\nltk_data...\n",
      "[nltk_data]   Package punkt is already up-to-date!\n",
      "[nltk_data] Downloading package stopwords to\n",
      "[nltk_data]     C:\\Users\\Viktor_Shevchuk\\AppData\\Roaming\\nltk_data...\n",
      "[nltk_data]   Package stopwords is already up-to-date!\n"
     ]
    },
    {
     "data": {
      "text/plain": [
       "True"
      ]
     },
     "execution_count": 398,
     "metadata": {},
     "output_type": "execute_result"
    }
   ],
   "source": [
    "nltk.download('punkt')\n",
    "nltk.download('stopwords')"
   ]
  },
  {
   "cell_type": "code",
   "execution_count": 399,
   "metadata": {},
   "outputs": [],
   "source": [
    "URL1 = \"https://zakon.rada.gov.ua/laws/show/en/1207-18/conv/print\"\n",
    "URL2 = \"https://zakon.rada.gov.ua/laws/show/en/1700-18/print\"\n",
    "URL3 = \"https://zakon.rada.gov.ua/laws/show/en/254%D0%BA/96-%D0%B2%D1%80/print\"\n",
    "page = requests.get(URL1)\n",
    "\n",
    "# print(page.text)\n"
   ]
  },
  {
   "cell_type": "code",
   "execution_count": 400,
   "metadata": {},
   "outputs": [],
   "source": [
    "soup = BeautifulSoup(page.content, \"html.parser\")\n",
    "# soup"
   ]
  },
  {
   "cell_type": "code",
   "execution_count": 401,
   "metadata": {},
   "outputs": [],
   "source": [
    "paragraphs = soup.select('.rvts0 > .rvps2')\n",
    "# paragraphs"
   ]
  },
  {
   "cell_type": "code",
   "execution_count": 402,
   "metadata": {},
   "outputs": [],
   "source": [
    "legal_stop_words = [\n",
    "    \"amended\", \"restated\", \"be stated\", \"supplemented\", \"section\", \"paragraph\", \"article\", \"as follows\"\n",
    "]\n"
   ]
  },
  {
   "cell_type": "code",
   "execution_count": 403,
   "metadata": {},
   "outputs": [],
   "source": [
    "def is_sentence_with_stopWord(para):\n",
    "    for word in legal_stop_words:\n",
    "        sentence_with_stopWord = para.find(\n",
    "            text=lambda t: word in t.text.lower()\n",
    "        )\n",
    "\n",
    "        if sentence_with_stopWord:\n",
    "            return True\n"
   ]
  },
  {
   "cell_type": "code",
   "execution_count": 404,
   "metadata": {},
   "outputs": [],
   "source": [
    "def is_provisions(para):\n",
    "    pattern = r\"\\b(?=[MDCLXVIΙ])M{0,4}(CM|CD|D?C{0,3})(XC|XL|L?X{0,3})([IΙ]X|[IΙ]V|V?[IΙ]{0,3})\\b\\.?\"\n",
    "    para_with_no_roman = re.sub(pattern, '', para.text.strip()).strip()\n",
    "\n",
    "    return para_with_no_roman == \"Final and transitional provisions\"\n"
   ]
  },
  {
   "cell_type": "code",
   "execution_count": 405,
   "metadata": {},
   "outputs": [],
   "source": [
    "def is_article_ensuring(para):\n",
    "  return para.find(\"span\", class_=\"rvts37\")\n"
   ]
  },
  {
   "cell_type": "code",
   "execution_count": 406,
   "metadata": {},
   "outputs": [],
   "source": [
    "def is_article_title(para):\n",
    "    return para.find(\"span\", class_=\"rvts9\")\n"
   ]
  },
  {
   "cell_type": "code",
   "execution_count": 407,
   "metadata": {},
   "outputs": [],
   "source": [
    "def is_closing_char(letter):\n",
    "  return letter == \".\" or letter == \")\"\n"
   ]
  },
  {
   "cell_type": "code",
   "execution_count": 408,
   "metadata": {},
   "outputs": [],
   "source": [
    "def discard_ordered_list_numbers(text):\n",
    "    is_first_char_numeric = text[0].isdigit()\n",
    "    is_second_char_numeric = text[1].isdigit()\n",
    "    is_third_char_numeric = text[2].isdigit()\n",
    "\n",
    "    if is_first_char_numeric and is_closing_char(text[1]):\n",
    "        return text[2:].strip()\n",
    "    elif is_first_char_numeric and is_second_char_numeric and is_closing_char(text[2]):\n",
    "        return text[3:].strip()\n",
    "    elif is_first_char_numeric and is_second_char_numeric and is_third_char_numeric and is_closing_char(text[3]):\n",
    "        return text[4:].strip()\n",
    "    elif re.search(r\"[a-z]\", text[0]) and is_closing_char(text[1]):\n",
    "        return text[2:].strip()\n",
    "\n",
    "    return text\n"
   ]
  },
  {
   "cell_type": "code",
   "execution_count": 409,
   "metadata": {},
   "outputs": [],
   "source": [
    "def is_sentence_end(sentence):\n",
    "    last_character = sentence[-1]\n",
    "    is_etc = sentence[-4:] == \"etc.\"\n",
    "\n",
    "    if last_character == \".\" and not is_etc:\n",
    "        return True\n",
    "    else:\n",
    "        return False\n"
   ]
  },
  {
   "cell_type": "code",
   "execution_count": 410,
   "metadata": {},
   "outputs": [],
   "source": [
    "def clean(paragraphs):\n",
    "    cleaned = []\n",
    "    article_ensuring = False\n",
    "    concatenated_list = []\n",
    "    ordered_list_with_stop_word = False\n",
    "\n",
    "    for para in paragraphs:\n",
    "        if article_ensuring and not is_article_title(para):\n",
    "            continue\n",
    "        elif article_ensuring and is_article_title(para):\n",
    "            article_ensuring = False\n",
    "\n",
    "        if is_article_ensuring(para):\n",
    "            article_ensuring = True\n",
    "            continue\n",
    "\n",
    "        if is_provisions(para):\n",
    "            return cleaned\n",
    "\n",
    "        if is_article_title(para):\n",
    "            continue\n",
    "\n",
    "        text = para.text.strip()\n",
    "        last_character = text[-1]\n",
    "\n",
    "        if is_sentence_with_stopWord(para) and last_character == \":\":\n",
    "            ordered_list_with_stop_word = True\n",
    "        elif not is_sentence_with_stopWord(para) and ordered_list_with_stop_word and is_sentence_end(text):\n",
    "            ordered_list_with_stop_word = False\n",
    "        elif not is_sentence_with_stopWord(para) and not ordered_list_with_stop_word:\n",
    "            if last_character == \":\" and not len(concatenated_list):\n",
    "                concatenated_list.append(text)\n",
    "            elif len(concatenated_list) and not is_sentence_end(text):\n",
    "                concatenated_list.append(text)\n",
    "            elif is_sentence_end(text) and len(concatenated_list):\n",
    "                concatenated_list.append(text)\n",
    "                cleaned.append(\n",
    "                    discard_ordered_list_numbers(\" \".join(concatenated_list))\n",
    "                )\n",
    "                concatenated_list.clear()\n",
    "            elif not len(concatenated_list):\n",
    "                cleaned.append(discard_ordered_list_numbers(text))\n",
    "\n",
    "    return cleaned\n"
   ]
  },
  {
   "cell_type": "code",
   "execution_count": 411,
   "metadata": {},
   "outputs": [
    {
     "data": {
      "text/plain": [
       "['Under the Constitution of Ukraine, Ukraine is a sovereign and independent state.',\n",
       " 'The sovereignty of Ukraine shall apply to its entire territory, which shall be integral and inviolable within the existing border.',\n",
       " \"Presence of units of the other states' armed forces within the territory of Ukraine in violation of the procedure defined by the Constitution and laws of Ukraine, The Hague Conventions of 1907, the IV Geneva Convention of 1949, as well as in disregard of the Memorandum on Security Assurances in connection with Ukraine's accession to the Treaty on the Non-Proliferation of Nuclear Weapons of 1994, the Treaty on Friendship, Cooperation, and Partnership between Ukraine and the Russian Federation of 1997 and other international legal acts shall constitute occupation of a part of the territory of the sovereign state of Ukraine and an internationally unlawful act with all the consequences provided for by international law.\",\n",
       " 'The basis of the humanitarian, social and economic policy of Ukraine in relation to the population of the temporarily occupied territory of Ukraine shall be protected and full exercise of national, cultural, social and political rights of Ukrainian citizens, including indigenous peoples and national minorities.',\n",
       " 'The temporarily occupied territory of Ukraine (hereinafter referred to as the temporarily occupied territory) is an integral part of the territory of Ukraine, which is subject to the Constitution and laws of Ukraine.',\n",
       " 'The date of the beginning of the temporary occupation is 20 February 2014.',\n",
       " 'This Law defines the status of the territory of Ukraine, which is temporarily occupied as a result of the armed aggression of the Russian Federation, establishes a special legal regime within this territory, defines the specifics of functioning of government and local authorities, enterprises, institutions and organisations under this regime, respect and protection of human and civil rights and freedoms, as well as the rights and legitimate interests of legal entities.',\n",
       " 'For the purposes of this Law, the temporarily occupied territory is defined as: 1) land territory of the Autonomous Republic of Crimea and the city of Sevastopol, the internal waters of these territories of Ukraine; 2) internal sea waters and territorial sea of Ukraine around the Crimean Peninsula, the territory of the exclusive (maritime) economic zone of Ukraine along the coast of the Crimean Peninsula and adjacent to the coast of the continental shelf of Ukraine, which fall under the jurisdiction of government authorities of Ukraine under the norms of international law, the Constitution and laws of Ukraine; 3) subsurface resources under the territories specified in clauses 1 and 2 of this part, and airspace over these territories.',\n",
       " 'Within the temporarily occupied territory and during the period of validity of this Law, a special legal regime shall apply to the crossing of borders of the temporarily occupied territory, making transactions, holding elections and referendums, and exercising other human and civil rights and freedoms.',\n",
       " 'The legal regime of the temporarily occupied territory shall provide for a special procedure for ensuring the rights and freedoms of Ukrainian citizens living in the temporarily occupied territory.',\n",
       " 'The legal regime of the temporarily occupied territory may be established, changed or abolished exclusively by the laws of Ukraine.',\n",
       " 'Ukraine shall take all necessary measures to guarantee human and civil rights and freedoms provided for by the Constitution and laws of Ukraine, international treaties, to all citizens of Ukraine residing within the temporarily occupied territory.',\n",
       " 'Ukraine undertakes to maintain and ensure economic, financial, political, social, informational, cultural and other ties with Ukrainian citizens residing within the temporarily occupied territory.',\n",
       " 'Responsibility for violating human and civil rights and freedoms defined by the Constitution and laws of Ukraine within the temporarily occupied territory shall be assigned to the Russian Federation as an occupying state under the norms and principles of international law.',\n",
       " 'Compulsory automatic acquisition of citizenship of the Russian Federation by citizens of Ukraine residing within the temporarily occupied territory shall not be recognised by Ukraine and shall not be a ground for loss of Ukrainian citizenship.',\n",
       " 'The Cabinet of Ministers of Ukraine shall constantly monitor the respect of human and civil rights and freedoms in the temporarily occupied territory.',\n",
       " 'Based on the results of such monitoring, it shall make public and provide relevant information to international organisations in the field of protection of human and civil rights and freedoms and take the necessary measures.',\n",
       " 'The Ukrainian Parliament Commissioner for Human Rights shall exercise parliamentary oversight over the respect for constitutional human and civil rights and freedoms in the temporarily occupied territory under the law.',\n",
       " 'Compensation to the state of Ukraine, legal entities, NGOs, citizens of Ukraine, foreigners and stateless persons for pecuniary and non-pecuniary damage caused as a result of the temporary occupation shall be fully attributed to the Russian Federation as the occupying state.',\n",
       " 'The state of Ukraine shall by all possible means ensure compensation for pecuniary and non-pecuniary damage by the Russian Federation.',\n",
       " 'Responsibility for the protection of the cultural heritage within the temporarily occupied territory shall be attributed to the Russian Federation as the occupying state under the norms and principles of international law.',\n",
       " 'Registration of documents confirming the citizenship of Ukraine, identity or special status of citizens residing within the temporarily occupied territory shall be carried out by the central executive authority that implements the state policy in the field of migration (immigration and emigration), including countering illegal (unlawful) migration, citizenship, registration of individuals, refugees and other categories of migrants defined by law, in accordance with the procedure provided for by the Cabinet of Ministers of Ukraine.',\n",
       " 'At the request of citizens of Ukraine residing in the temporarily occupied territory or having resettled from it, certificates confirming their place of stay shall be made and issued at the place of their stay by the executive authority that implements state policy in the area of migration (immigration and emigration), including countering illegal (unlawful) migration, citizenship, registration of individuals, refugees and other categories of migrants defined by law.',\n",
       " 'Such certificates shall be issued to citizens on the day of application based on their passport of a citizen of Ukraine or another document containing information about residence registration under the Law of Ukraine “On Freedom of Movement and Free Choice of Place of Residence in Ukraine”, and a written application indicating the address at which official correspondence can be delivered to the citizen.',\n",
       " 'At the same time, information (note) about the place of stay of such a person shall not be entered in his/her passport.',\n",
       " 'An example and procedure for issuing a certificate confirming the place of stay, an example of a written application that should be submitted by a citizen for obtaining a certificate, shall be approved by the central executive authority in charge of shaping the state policy in the field of migration (immigration and emigration), including countering illegal (unlawful) migration, citizenship, registration of individuals, refugees and other categories of migrants defined by law.',\n",
       " 'For citizens of Ukraine residing within the temporarily occupied territory, the exercise of rights to employment, pension, mandatory state social insurance in case of unemployment, due to temporary disability, industrial accident and occupational disease that caused the loss of working capacity, to social services shall be ensured following the procedure provided for by the legislation of Ukraine.',\n",
       " 'Payment of pensions to citizens of Ukraine residing within the temporarily occupied territory and not receiving pensions and other social payments from the authorised bodies of the Russian Federation shall be carried out following the procedure established by the Cabinet of Ministers of Ukraine.',\n",
       " 'Elderly citizens, persons with disabilities, children with disabilities and other citizens of Ukraine experiencing difficult life circumstances and residing within the temporarily occupied territory shall have the right to be provided with social services under the legislation of Ukraine.',\n",
       " 'Homeless persons staying within the temporarily occupied territory shall have the right to social protection under the legislation of Ukraine.',\n",
       " 'Citizens of Ukraine residing within the temporarily occupied territory, in settlements at the contact line, shall have the right to receive or continue receiving a certain educational level within the territory of other regions of Ukraine at the expense of the state budget with the provision of places in dormitories for the duration of their studies.',\n",
       " 'Foreigners and stateless persons permanently residing in Ukraine, persons who have been granted refugee status in Ukraine, persons in need of additional or temporary protection, and persons who have been granted the status of a foreign Ukrainian, who are legally staying in Ukraine and live within the temporarily occupied territory, shall have the right to get or continue getting a certain qualification within the territory of other regions of Ukraine following the procedure defined by the laws of Ukraine “On Higher Education” and “On Professional Pre-higher Education\".',\n",
       " 'During presidential, parliamentary elections and all-Ukrainian referendums, voting of Ukrainian citizens within the temporarily occupied territory shall not be organised or take place.',\n",
       " 'Citizens of Ukraine residing within the temporarily occupied territory shall be provided with the possibility of free expression of their will during the presidential, parliamentary elections and all-Ukrainian referendums within the rest of the territory of Ukraine.',\n",
       " 'In case of early resignation of a Member of Parliament of Ukraine elected in a single-member electoral district formed within the Autonomous Republic of Crimea or the city of Sevastopol, midterm elections of a Member of Parliament of Ukraine shall not be held in this district.',\n",
       " 'Elections of members of the Supreme Council of the Autonomous Republic of Crimea, members of local councils, village, settlement, city heads, and local referendums shall not be held in the temporarily occupied territory.',\n",
       " 'Bodies for keeping the State Register of Voters established in the territory of the Autonomous Republic of Crimea and the city of Sevastopol shall not keep the State Register of Voters.',\n",
       " 'The procedure for access to records of voters with an electoral address within the territory under the jurisdiction of these bodies for keeping the State Register of Voters, as well as updating these records, shall be established by the Central Election Commission.',\n",
       " 'Government and local authorities established under the Constitution and laws of Ukraine, their officials and officers within the temporarily occupied territory shall act only on the basis, within the limits of their powers and in the manner provided for by the Constitution and laws of Ukraine.',\n",
       " 'Any bodies, their officials and officers within the temporarily occupied territory and their activities shall be considered illegal if these bodies or persons are established, elected or appointed in an unlawful manner.',\n",
       " 'Establishment of relations and interaction of state authorities of Ukraine, their officials, local self-government bodies and their officials with illegal bodies (officials) created within the temporarily occupied territory shall be allowed solely for the purpose of ensuring the national interests of Ukraine, protecting rights and freedoms of citizens of Ukraine, implementation of international treaties ratified by the Verkhovna Rada of Ukraine, promoting restoration of the constitutional order of Ukraine within the temporarily occupied territory.',\n",
       " 'Citizens of Ukraine shall have the right to free and unhindered entry to and exit from the temporarily occupied territory through entry/exit checkpoints, presenting an identity document confirming the citizenship of Ukraine.',\n",
       " 'Foreigners and stateless persons shall be allowed into and out of the temporarily occupied territory through the entry/exit checkpoints only with a special permit.',\n",
       " 'The procedure for entry and exit of foreigners and stateless persons to and from the temporarily occupied territory shall be established by the Cabinet of Ministers of Ukraine.',\n",
       " 'Property rights within the temporarily occupied territory shall be protected under the legislation of Ukraine.',\n",
       " 'Ukraine, the Autonomous Republic of Crimea, territorial communities, including the territorial community of the city of Sevastopol, government and local authorities and other legal entities of public law shall retain the right of ownership and other real rights to property, including real estate, including land plots located within the temporarily occupied territory.',\n",
       " 'Individuals, regardless of their refugee status or other special legal status, enterprises, institutions, organisations shall retain the right of ownership and other real rights to property, including real estate, including land plots located within the temporarily occupied territory, if it is acquired under the laws of Ukraine.',\n",
       " 'Acquisition and termination of ownership right to real estate located within the temporarily occupied territory shall be carried out following the provisions of the legislation of Ukraine outside the temporarily occupied territory.',\n",
       " 'If it is impossible for the state registrar to exercise the powers of state registration of real rights to real estate and their encumbrances within the temporarily occupied territory, the state registration body shall be determined by the Cabinet of Ministers of Ukraine.',\n",
       " 'Any transaction related to real estate, including land plots, made within the temporarily occupied territory in violation of the requirements of this Law and other laws of Ukraine, shall be considered invalid from the moment of performance and shall not have legal effects, except for those related to its invalidity.',\n",
       " 'Land, its resources, atmospheric air, water and other natural resources located within the territory of Ukraine, natural resources of its continental shelf, exclusive (marine) economic zone, which constitute property of the Ukrainian people, military property, property of state bodies, state enterprises, institutions and organisations located within the temporarily occupied territory and belonging to the state of Ukraine, shall not become the property of other states, legal entities or individuals in a different way than provided for by the laws of Ukraine.',\n",
       " 'Due to inability to administer justice by the courts of the Autonomous Republic of Crimea and the city of Sevastopol within the temporarily occupied territories, the territorial jurisdiction of court cases under the jurisdiction of the courts located in the territory of the Autonomous Republic of Crimea and the city of Sevastopol shall be changed, and the consideration of: civil cases under the jurisdiction of local general courts located within the territory of the Autonomous Republic of Crimea and the city of Sevastopol shall be ensured by local general courts of the city of Kyiv, determined by the Court of Appeal of the city of Kyiv; administrative cases under the jurisdiction of local general courts as administrative courts located within the territory of the Autonomous Republic of Crimea and the city of Sevastopol shall be ensured by local general courts of the city of Kyiv, determined by the Kyiv Administrative Court of Appeal; civil cases under the jurisdiction of the general courts of appeal located within the territory of the Autonomous Republic of Crimea and the city of Sevastopol shall be ensured by the Court of Appeal of the city of Kyiv; commercial cases of the District Administrative Court of the Autonomous Republic of Crimea shall be ensured by the Kyiv District Administrative Court, administrative cases of the District Administrative Court of Sevastopol – by the District Administrative Court of Kyiv; Sevastopol Administrative Court of Appeal – by the Kyiv Administrative Court of Appeal; commercial cases of the Commercial Court of the Autonomous Republic of Crimea – by the Commercial Court of the Kyiv region, and commercial cases of the Commercial Court of the city of Sevastopol – by the Commercial Court of the city of Kiev, commercial cases of the Sevastopol Commercial Court of Appeal – by the Kyiv Commercial Court of Appeal; criminal proceedings under the jurisdiction of local (district, city, district in cities, city district courts) located in the territory of the Autonomous Republic of Crimea and the city of Sevastopol shall be ensured by one of the district courts of the city of Kyiv, determined by the Court of Appeal of the city of Kyiv; criminal proceedings under the jurisdiction of the Court of Appeal of the Autonomous Republic of Crimea and the Court of Appeal of the city of Sevastopol – by the Court of Appeal of the city of Kyiv; cases of administrative offenсes under the jurisdiction of local (district, city, district in cities, city district) courts located within the territory of the Autonomous Republic of Crimea and the city of Sevastopol – local general courts at the place of detection of an administrative offenсe.',\n",
       " 'Matters that fall within the competence of an investigating judge in criminal proceedings at the stage of pre-trial investigation and instituted in the territory of the Autonomous Republic of Crimea and the city of Sevastopol shall be considered by investigating judges of the District Courts of the city of Kyiv, determined by the Court of Appeal of the city of Kyiv.',\n",
       " \"In civil cases under the jurisdiction of local general courts located in the territory of the Autonomous Republic of Crimea and the city of Sevastopol, statements of claim, applications to get a court order, applications in special proceedings may also be submitted by an individual permanently residing in the temporarily occupied territory to the local general court located within the Kherson region, at the person's choice.\",\n",
       " \"After instituting civil proceedings under the jurisdiction of local general courts located in the territory of the Autonomous Republic of Crimea and the city of Sevastopol, until the case is considered on the merits, an individual (defendant, debtor, stakeholder, third person) permanently residing in the temporarily occupied territory may file a petition to a certain local general court of the city of Kyiv having jurisdiction over the case, to transfer such a case to the local general court located within the Kherson region, at the person's choice.\",\n",
       " 'If such a petition is filed, the case may be transferred to a local general court determined by a person, located within the Kherson region, on the basis of a court ruling no later than five days after the deadline for its appeal, and if a complaint is filed – no later than five days after it is dismissed.',\n",
       " 'Re-transfer of the case shall not be allowed.',\n",
       " 'An individual (a party to the case, as well as a person who did not participate in the case, if the court made a decision on his/her rights, freedoms, interests and/or obligations), permanently residing within the temporarily occupied territory, shall also have the right to file an appeal to the Kherson Court of Appeal if the court decision is made following consideration of his/her civil case by a local general court located within the Kherson region, as a court of first instance.',\n",
       " 'Cases pending before the court located in the territory of the Autonomous Republic of Crimea and the city of Sevastopol shall be transmitted to the courts following the jurisdiction established herein, within ten business days from the day it comes into force or the day such jurisdiction is established.',\n",
       " 'If the damage is caused by foreign citizens and non-residents, jurisdiction shall be established at the place of damage, taking into account the rules of jurisdiction established by this Law.',\n",
       " \"Investigative jurisdiction of criminal offences committed within the temporarily occupied territory shall be determined by the Prosecutor General's Office.\",\n",
       " \"Pre-trial investigation materials related to criminal offences within criminal proceedings at the stage of pre-trial investigation, shall be transferred to the pre-trial investigation bodies determined by the Prosecutor General's Office.\",\n",
       " 'Non-appearance at the request of an investigator, prosecutor or following court summons of an investigating judge or a court (failure to appear at the request without a valid reason more than twice) by a suspect, accused within the temporarily occupied territory of Ukraine, and putting him on the wanted list shall be the basis for a special pre-trial investigation or special court proceedings following the procedure provided for by the Criminal Procedure Code of Ukraine, and the modalities established hereby.',\n",
       " 'The requirement to put on the interstate or international wanted list shall not apply to cases when the matter of instituting special criminal proceedings against these persons is being considered.',\n",
       " 'Courts, pursuant to the jurisdiction established by this Law and the requirements of the procedural law, shall consider cases and decide on procedural matters that arise after the court ruling.',\n",
       " 'The modalities of economic activity in the temporarily occupied territory shall be determined by law.',\n",
       " 'Military personnel of military formations and law enforcement agencies of Ukraine who arrived from the temporarily occupied territory and willing (if there are grounds) to resign from military service, shall be dismissed from military service, including during a special period, if there are grounds, and in their absence – due to personnel downsizing, if they applied for dismissal within three months after arrival from the temporarily occupied territory.',\n",
       " 'Military personnel of military formations and law enforcement agencies of Ukraine who have not arrived at certain locations within the time limits determined by military formations and law enforcement agencies of Ukraine shall be considered to have left military units and shall be placed at service of the relevant officials.',\n",
       " 'Relevant information on their search shall be provided to law enforcement agencies.',\n",
       " 'Military personnel of military formations and law enforcement agencies of Ukraine subject to documentary confirmation of their enrolment in the Armed Forces of the Russian Federation or special services or law enforcement agencies of the Russian Federation, shall be excluded from the lists of military formations and law enforcement agencies of Ukraine, and the contract shall be considered terminated from the time of their enrolment (or receipt of information about their enrolment) in the Armed Forces of the Russian Federation or special services or law enforcement agencies of the Russian Federation.',\n",
       " 'Military personnel of military formations established under the laws of Ukraine and law enforcement agencies of Ukraine who served in the territory of the Autonomous Republic of Crimea and the city of Sevastopol, and their family members shall have the right to privatise duly received residential premises for permanent residence, departmental residential premises, official residential premises and residential premises in dormitories located in the territory of the Autonomous Republic of Crimea and the city of Sevastopol, where they lived on 1 January 2014.',\n",
       " 'Judges who have worked in the courts of Ukraine in the territory of the Autonomous Republic of Crimea and the city of Sevastopol and have stated willingness to move due to its temporary occupation by the Russian Federation shall be guaranteed the right to be reassigned to the position of a judge in a court in the rest of the territory of Ukraine.',\n",
       " 'In case of violation of the provisions of this Law, state bodies of Ukraine shall apply the mechanisms provided for by the laws of Ukraine and the norms of international law in order to protect the peace, security, rights, freedoms and legitimate interests of citizens of Ukraine located within the temporarily occupied territory, as well as the legitimate interests of the state of Ukraine.',\n",
       " 'Ukraine undertakes to take all possible measures provided for by the Constitution and laws of Ukraine, norms of international law, for the speedy liberation from occupation of the territory of Ukraine, restoration of integrity and sovereignty of the state, restoration of human and civil rights and freedoms violated as a result of occupation throughout the territory of Ukraine.',\n",
       " 'If it is impossible to carry out activities within the temporarily occupied territory, the location of state bodies established under the Constitution and laws of Ukraine shall be determined by the Cabinet of Ministers of Ukraine.',\n",
       " 'Citizens of Ukraine shall be guaranteed full respect of their rights and freedoms provided for by the Constitution of Ukraine, including social, labor, electoral rights and the right to education, after they leave the temporarily occupied territory.',\n",
       " 'Guarantees of the rights, freedoms and legitimate interests of persons who have resettled from the temporarily occupied territory of Ukraine and are lawfully staying within the territory of Ukraine shall be determined by the Law of Ukraine “On Ensuring the Rights and Freedoms of Internally Displaced Persons”.',\n",
       " 'Expenditures on measures provided for by this Law shall be incurred by the state of Ukraine under the procedure established by the Cabinet of Ministers of Ukraine.',\n",
       " 'Persons guilty of violating the requirements of this Law shall bear the responsibility provided for by law.']"
      ]
     },
     "execution_count": 411,
     "metadata": {},
     "output_type": "execute_result"
    }
   ],
   "source": [
    "cleaned_paragraphs = sent_tokenize(' '.join(clean(paragraphs)))\n",
    "cleaned_paragraphs\n"
   ]
  },
  {
   "cell_type": "code",
   "execution_count": 412,
   "metadata": {},
   "outputs": [
    {
     "data": {
      "text/plain": [
       "set"
      ]
     },
     "execution_count": 412,
     "metadata": {},
     "output_type": "execute_result"
    }
   ],
   "source": [
    "stop_words = set(stopwords.words('english'))\n",
    "type(stop_words)\n"
   ]
  },
  {
   "cell_type": "code",
   "execution_count": 413,
   "metadata": {},
   "outputs": [],
   "source": [
    "stop_words.add('shall')\n",
    "stop_words.add('.')\n",
    "stop_words.add(',')\n",
    "stop_words.add('(')\n",
    "stop_words.add(')')\n",
    "stop_words.add(';')\n",
    "stop_words.add(':')\n",
    "stop_words.add('—')\n",
    "stop_words.add('-')"
   ]
  },
  {
   "cell_type": "code",
   "execution_count": 414,
   "metadata": {},
   "outputs": [],
   "source": [
    "word_tokens = nltk.word_tokenize(\" \".join(cleaned_paragraphs))\n",
    "\n"
   ]
  },
  {
   "cell_type": "code",
   "execution_count": 415,
   "metadata": {},
   "outputs": [],
   "source": [
    "# converts the words in word_tokens to lower case and then checks whether they are present in stop_words or not\n",
    "filtered_sentence = [w.lower()\n",
    "                     for w in word_tokens if not w.lower() in stop_words]\n",
    "# with lower case conversion\n",
    "\n"
   ]
  },
  {
   "cell_type": "code",
   "execution_count": 416,
   "metadata": {},
   "outputs": [],
   "source": [
    "'''\n",
    "Compute n-grams frequency with nltk tokenizer.\n",
    ":parameter\n",
    "    :param corpus: list - dtf[\"text\"]\n",
    "    :param ngrams: int or list - 1 for unigrams, 2 for bigrams, [1,2] for both\n",
    "    :param top: num - plot the top frequent words\n",
    ":return\n",
    "    dtf_count: dtf with word frequency\n",
    "'''\n",
    "\n",
    "\n",
    "def word_freq(corpus, ngrams=[1, 2, 3], top=10, figsize=(10, 7)):\n",
    "    lst_tokens = nltk.tokenize.word_tokenize(corpus)\n",
    "    ngrams = [ngrams] if type(ngrams) is int else ngrams\n",
    "\n",
    "    # calculate\n",
    "    dtf_freq = pd.DataFrame()\n",
    "    for n in ngrams:\n",
    "        dic_words_freq = nltk.FreqDist(nltk.ngrams(lst_tokens, n))\n",
    "        dtf_n = pd.DataFrame(dic_words_freq.most_common(),\n",
    "                             columns=[\"word\", \"freq\"])\n",
    "        dtf_n[\"ngrams\"] = n\n",
    "        dtf_freq = dtf_freq.append(dtf_n)\n",
    "    dtf_freq[\"word\"] = dtf_freq[\"word\"].apply(\n",
    "        lambda x: \" \".join(string for string in x))\n",
    "    dtf_freq = dtf_freq.sort_values(\n",
    "        [\"ngrams\", \"freq\"], ascending=[True, False])\n",
    "\n",
    "    # plot\n",
    "    fig, ax = plt.subplots(figsize=figsize)\n",
    "    sns.barplot(x=\"freq\", y=\"word\", hue=\"ngrams\", dodge=False, ax=ax,\n",
    "                data=dtf_freq.groupby('ngrams')[\n",
    "                    \"ngrams\", \"freq\", \"word\"].head(top)\n",
    "                )\n",
    "    ax.set(xlabel=None, ylabel=None, title=\"Most frequent words\")\n",
    "    ax.grid(axis=\"x\")\n",
    "    plt.show()\n",
    "    return dtf_freq\n"
   ]
  },
  {
   "cell_type": "code",
   "execution_count": 417,
   "metadata": {},
   "outputs": [
    {
     "name": "stderr",
     "output_type": "stream",
     "text": [
      "C:\\Users\\Viktor_Shevchuk\\AppData\\Local\\Temp\\ipykernel_53312\\2931158815.py:23: FutureWarning: The frame.append method is deprecated and will be removed from pandas in a future version. Use pandas.concat instead.\n",
      "  dtf_freq = dtf_freq.append(dtf_n)\n",
      "C:\\Users\\Viktor_Shevchuk\\AppData\\Local\\Temp\\ipykernel_53312\\2931158815.py:32: FutureWarning: Indexing with multiple keys (implicitly converted to a tuple of keys) will be deprecated, use a list instead.\n",
      "  data=dtf_freq.groupby('ngrams')[\n"
     ]
    },
    {
     "data": {
      "image/png": "[encoded data removed]",
      "text/plain": [
       "<Figure size 1000x800 with 1 Axes>"
      ]
     },
     "metadata": {},
     "output_type": "display_data"
    }
   ],
   "source": [
    "# Find most common words in text\n",
    "freq = word_freq(\n",
    "    corpus=\" \".join(filtered_sentence),\n",
    "    ngrams=[1],\n",
    "    top=45,\n",
    "    figsize=(10, 8)\n",
    ")\n"
   ]
  },
  {
   "cell_type": "code",
   "execution_count": 418,
   "metadata": {},
   "outputs": [
    {
     "name": "stdout",
     "output_type": "stream",
     "text": [
      "Maximum word amount in a sentence:  441\n",
      "Minimum word amount in a sentence:  8\n",
      "Average word amount in a sentence:  49.9873417721519\n"
     ]
    }
   ],
   "source": [
    "tokened_sent = sent_tokenize(\" \".join(cleaned_paragraphs))\n",
    "\n",
    "main_dict = {}\n",
    "\n",
    "for item in tokened_sent:\n",
    "    item1 = list(item.split(\" \"))\n",
    "    item2 = [' '.join(item1)]\n",
    "    Length = []\n",
    "    Length.append(len(item1))\n",
    "    mydict = dict(zip(item2, Length))\n",
    "    main_dict.update(mydict)\n",
    "\n",
    "print('Maximum word amount in a sentence: ', max(main_dict.values()))\n",
    "print('Minimum word amount in a sentence: ', min(main_dict.values()))\n",
    "print('Average word amount in a sentence: ', mean(main_dict.values()))\n"
   ]
  },
  {
   "cell_type": "code",
   "execution_count": 419,
   "metadata": {},
   "outputs": [],
   "source": [
    "featurizer = TfidfVectorizer(\n",
    "    stop_words=stopwords.words('english'), \n",
    "    # norm='l1'\n",
    ")\n",
    "# featurizer\n"
   ]
  },
  {
   "cell_type": "code",
   "execution_count": 420,
   "metadata": {},
   "outputs": [],
   "source": [
    "X = featurizer.fit_transform(\n",
    "    cleaned_paragraphs\n",
    ")\n",
    "# X"
   ]
  },
  {
   "cell_type": "code",
   "execution_count": 421,
   "metadata": {},
   "outputs": [],
   "source": [
    "def get_sentence_score(tfidf_row):\n",
    "    # return the average of the non-zero values of the tf-idf vector representation of a sentence\n",
    "    x = tfidf_row[tfidf_row != 0]\n",
    "\n",
    "    return x.mean()"
   ]
  },
  {
   "cell_type": "code",
   "execution_count": 422,
   "metadata": {},
   "outputs": [],
   "source": [
    "scores = np.zeros(len(cleaned_paragraphs))\n",
    "for i in range(len(cleaned_paragraphs)):\n",
    "    score = get_sentence_score(X[i, :])\n",
    "    scores[i] = score\n"
   ]
  },
  {
   "cell_type": "code",
   "execution_count": 423,
   "metadata": {},
   "outputs": [],
   "source": [
    "sort_idx = np.argsort(-scores)\n",
    "# sort_idx"
   ]
  },
  {
   "cell_type": "code",
   "execution_count": 424,
   "metadata": {},
   "outputs": [
    {
     "name": "stdout",
     "output_type": "stream",
     "text": [
      "0.47: Re-transfer of the case shall not be allowed.\n",
      "0.43: Under the Constitution of Ukraine, Ukraine is a sovereign and independent state.\n",
      "0.38: The date of the beginning of the temporary occupation is 20 February 2014.\n",
      "0.34: Relevant information on their search shall be provided to law enforcement agencies.\n",
      "0.32: At the same time, information (note) about the place of stay of such a person shall not be entered in his/her passport.\n",
      "0.32: Persons guilty of violating the requirements of this Law shall bear the responsibility provided for by law.\n",
      "0.30: The modalities of economic activity in the temporarily occupied territory shall be determined by law.\n",
      "0.30: The temporarily occupied territory of Ukraine (hereinafter referred to as the temporarily occupied territory) is an integral part of the territory of Ukraine, which is subject to the Constitution and laws of Ukraine.\n",
      "0.28: Property rights within the temporarily occupied territory shall be protected under the legislation of Ukraine.\n",
      "0.28: The sovereignty of Ukraine shall apply to its entire territory, which shall be integral and inviolable within the existing border.\n",
      "0.27: Expenditures on measures provided for by this Law shall be incurred by the state of Ukraine under the procedure established by the Cabinet of Ministers of Ukraine.\n",
      "0.27: The legal regime of the temporarily occupied territory may be established, changed or abolished exclusively by the laws of Ukraine.\n",
      "0.26: The state of Ukraine shall by all possible means ensure compensation for pecuniary and non-pecuniary damage by the Russian Federation.\n",
      "0.26: Foreigners and stateless persons shall be allowed into and out of the temporarily occupied territory through the entry/exit checkpoints only with a special permit.\n",
      "0.25: Homeless persons staying within the temporarily occupied territory shall have the right to social protection under the legislation of Ukraine.\n",
      "0.25: The procedure for entry and exit of foreigners and stateless persons to and from the temporarily occupied territory shall be established by the Cabinet of Ministers of Ukraine.\n",
      "0.25: The legal regime of the temporarily occupied territory shall provide for a special procedure for ensuring the rights and freedoms of Ukrainian citizens living in the temporarily occupied territory.\n",
      "0.25: If the damage is caused by foreign citizens and non-residents, jurisdiction shall be established at the place of damage, taking into account the rules of jurisdiction established by this Law.\n",
      "0.24: Investigative jurisdiction of criminal offences committed within the temporarily occupied territory shall be determined by the Prosecutor General's Office.\n",
      "0.24: The Cabinet of Ministers of Ukraine shall constantly monitor the respect of human and civil rights and freedoms in the temporarily occupied territory.\n"
     ]
    }
   ],
   "source": [
    "for i in sort_idx[:20]:\n",
    "    print(\"%.2f: %s\" % (scores[i], cleaned_paragraphs[i]))"
   ]
  },
  {
   "cell_type": "code",
   "execution_count": 425,
   "metadata": {},
   "outputs": [],
   "source": [
    "# title = soup.find(\"span\", class_=\"rvts23\").text \n",
    "# title\n"
   ]
  },
  {
   "cell_type": "code",
   "execution_count": 426,
   "metadata": {},
   "outputs": [],
   "source": [
    "def tf_idf_summarize(text):\n",
    "    X = featurizer.fit_transform(text)\n",
    "    scores = np.zeros(len(text))\n",
    "\n",
    "    for i in range(len(text)):\n",
    "        score = get_sentence_score(X[i, :])\n",
    "        scores[i] = score\n",
    "\n",
    "    sort_idx = np.argsort(-scores)\n",
    "  \n",
    "    summarized = \"\"\n",
    "\n",
    "    for i in sort_idx[:10]:\n",
    "        test = text[i]\n",
    "        summarized += text[i] + \" \"\n",
    "\n",
    "    return summarized.strip()\n"
   ]
  },
  {
   "cell_type": "code",
   "execution_count": 427,
   "metadata": {},
   "outputs": [
    {
     "data": {
      "text/plain": [
       "'Re-transfer of the case shall not be allowed. Under the Constitution of Ukraine, Ukraine is a sovereign and independent state. The date of the beginning of the temporary occupation is 20 February 2014. Relevant information on their search shall be provided to law enforcement agencies. At the same time, information (note) about the place of stay of such a person shall not be entered in his/her passport. Persons guilty of violating the requirements of this Law shall bear the responsibility provided for by law. The modalities of economic activity in the temporarily occupied territory shall be determined by law. The temporarily occupied territory of Ukraine (hereinafter referred to as the temporarily occupied territory) is an integral part of the territory of Ukraine, which is subject to the Constitution and laws of Ukraine. Property rights within the temporarily occupied territory shall be protected under the legislation of Ukraine. The sovereignty of Ukraine shall apply to its entire territory, which shall be integral and inviolable within the existing border.'"
      ]
     },
     "execution_count": 427,
     "metadata": {},
     "output_type": "execute_result"
    }
   ],
   "source": [
    "tf_idf_summarize(cleaned_paragraphs)\n"
   ]
  },
  {
   "attachments": {},
   "cell_type": "markdown",
   "metadata": {},
   "source": [
    "LexRank Algorithm is an unsupervised approach to summarization and is inspired by the PageRank algorithm. LexRank uses an IDF-modified cosine similarity score to improve the Pagerank score for document summarization. It summarizes the text based on graph-based centrality scoring of sentences.\n",
    "\n",
    "If one sentence is very similar to other sentences in the text corpus, then that sentence is considered of great importance. Such sentences can be recommended to the users."
   ]
  },
  {
   "cell_type": "code",
   "execution_count": 428,
   "metadata": {},
   "outputs": [],
   "source": [
    "S = cosine_similarity(X)\n",
    "# S"
   ]
  },
  {
   "cell_type": "code",
   "execution_count": 429,
   "metadata": {},
   "outputs": [
    {
     "data": {
      "text/plain": [
       "(79, 79)"
      ]
     },
     "execution_count": 429,
     "metadata": {},
     "output_type": "execute_result"
    }
   ],
   "source": [
    "S.shape"
   ]
  },
  {
   "cell_type": "code",
   "execution_count": 430,
   "metadata": {},
   "outputs": [
    {
     "data": {
      "text/plain": [
       "79"
      ]
     },
     "execution_count": 430,
     "metadata": {},
     "output_type": "execute_result"
    }
   ],
   "source": [
    "len(cleaned_paragraphs)\n"
   ]
  },
  {
   "cell_type": "code",
   "execution_count": 431,
   "metadata": {},
   "outputs": [],
   "source": [
    "# normalize similarity matrix\n",
    "S /= S.sum(axis=1, keepdims=True)\n"
   ]
  },
  {
   "cell_type": "code",
   "execution_count": 432,
   "metadata": {},
   "outputs": [
    {
     "data": {
      "text/plain": [
       "0.9999999999999998"
      ]
     },
     "execution_count": 432,
     "metadata": {},
     "output_type": "execute_result"
    }
   ],
   "source": [
    "S[0].sum()"
   ]
  },
  {
   "cell_type": "code",
   "execution_count": 433,
   "metadata": {},
   "outputs": [],
   "source": [
    "# uniform transition matrix\n",
    "U = np.ones_like(S) / len(S)\n"
   ]
  },
  {
   "cell_type": "code",
   "execution_count": 434,
   "metadata": {},
   "outputs": [
    {
     "data": {
      "text/plain": [
       "0.9999999999999997"
      ]
     },
     "execution_count": 434,
     "metadata": {},
     "output_type": "execute_result"
    }
   ],
   "source": [
    "U[0].sum()"
   ]
  },
  {
   "cell_type": "code",
   "execution_count": 435,
   "metadata": {},
   "outputs": [],
   "source": [
    "# smoothed similarity matrix\n",
    "factor = 0.15 \n",
    "S = (1 - factor) * S + factor * U"
   ]
  },
  {
   "cell_type": "code",
   "execution_count": 436,
   "metadata": {},
   "outputs": [
    {
     "data": {
      "text/plain": [
       "0.9999999999999999"
      ]
     },
     "execution_count": 436,
     "metadata": {},
     "output_type": "execute_result"
    }
   ],
   "source": [
    "S[0].sum()"
   ]
  },
  {
   "cell_type": "code",
   "execution_count": 437,
   "metadata": {},
   "outputs": [],
   "source": [
    "# find the limiting / stationary distribution\n",
    "eigenvals, eigenvecs = np.linalg.eig(S.T)\n"
   ]
  },
  {
   "cell_type": "code",
   "execution_count": 438,
   "metadata": {},
   "outputs": [],
   "source": [
    "# eigenvals"
   ]
  },
  {
   "cell_type": "code",
   "execution_count": 439,
   "metadata": {},
   "outputs": [],
   "source": [
    "# eigenvecs[:, 0]\n"
   ]
  },
  {
   "cell_type": "code",
   "execution_count": 440,
   "metadata": {},
   "outputs": [],
   "source": [
    "# eigenvecs[:, 0].dot(S)\n"
   ]
  },
  {
   "cell_type": "code",
   "execution_count": 441,
   "metadata": {},
   "outputs": [],
   "source": [
    "scores = eigenvecs[:, 0] / eigenvecs[:, 0].sum()\n",
    "sort_idx = np.argsort(-scores)\n"
   ]
  },
  {
   "cell_type": "code",
   "execution_count": 442,
   "metadata": {},
   "outputs": [
    {
     "name": "stdout",
     "output_type": "stream",
     "text": [
      "0.02: Ukraine shall take all necessary measures to guarantee human and civil rights and freedoms provided for by the Constitution and laws of Ukraine, international treaties, to all citizens of Ukraine residing within the temporarily occupied territory.\n",
      "0.02: In case of violation of the provisions of this Law, state bodies of Ukraine shall apply the mechanisms provided for by the laws of Ukraine and the norms of international law in order to protect the peace, security, rights, freedoms and legitimate interests of citizens of Ukraine located within the temporarily occupied territory, as well as the legitimate interests of the state of Ukraine.\n",
      "0.02: Responsibility for violating human and civil rights and freedoms defined by the Constitution and laws of Ukraine within the temporarily occupied territory shall be assigned to the Russian Federation as an occupying state under the norms and principles of international law.\n",
      "0.02: If it is impossible to carry out activities within the temporarily occupied territory, the location of state bodies established under the Constitution and laws of Ukraine shall be determined by the Cabinet of Ministers of Ukraine.\n",
      "0.02: Guarantees of the rights, freedoms and legitimate interests of persons who have resettled from the temporarily occupied territory of Ukraine and are lawfully staying within the territory of Ukraine shall be determined by the Law of Ukraine “On Ensuring the Rights and Freedoms of Internally Displaced Persons”.\n",
      "0.02: The temporarily occupied territory of Ukraine (hereinafter referred to as the temporarily occupied territory) is an integral part of the territory of Ukraine, which is subject to the Constitution and laws of Ukraine.\n",
      "0.02: Property rights within the temporarily occupied territory shall be protected under the legislation of Ukraine.\n",
      "0.02: The legal regime of the temporarily occupied territory shall provide for a special procedure for ensuring the rights and freedoms of Ukrainian citizens living in the temporarily occupied territory.\n",
      "0.02: Citizens of Ukraine residing within the temporarily occupied territory shall be provided with the possibility of free expression of their will during the presidential, parliamentary elections and all-Ukrainian referendums within the rest of the territory of Ukraine.\n",
      "0.02: Citizens of Ukraine shall be guaranteed full respect of their rights and freedoms provided for by the Constitution of Ukraine, including social, labor, electoral rights and the right to education, after they leave the temporarily occupied territory.\n"
     ]
    }
   ],
   "source": [
    "for i in sort_idx[:10]:\n",
    "    print(\"%.2f: %s\" % (scores[i], cleaned_paragraphs[i]))\n"
   ]
  },
  {
   "cell_type": "code",
   "execution_count": 443,
   "metadata": {},
   "outputs": [],
   "source": [
    "def textRankSummarize(text, factor=0.15):\n",
    "    X = featurizer.fit_transform(text)\n",
    "    S = cosine_similarity(X)  # compute similarity matrix\n",
    "    S /= S.sum(axis=1, keepdims=True)  # normalize similarity matrix\n",
    "    U = np.ones_like(S) / len(S)  # uniform transition matrix\n",
    "    S = (1 - factor) * S + factor * U  # smooth similarity matrix\n",
    "    # find the limiting / stationary distribution\n",
    "    eigenvals, eigenvecs = np.linalg.eig(S.T)\n",
    "    scores = eigenvecs[:, 0] / eigenvecs[:, 0].sum()  # compute scores\n",
    "    sort_idx = np.argsort(-scores)  # sort scores\n",
    "\n",
    "    summarized = \"\"\n",
    "\n",
    "    for i in sort_idx[:10]:\n",
    "        test = text[i]\n",
    "        summarized += text[i] + \" \"\n",
    "\n",
    "    return summarized.strip()\n"
   ]
  },
  {
   "cell_type": "code",
   "execution_count": 444,
   "metadata": {},
   "outputs": [
    {
     "data": {
      "text/plain": [
       "'Ukraine shall take all necessary measures to guarantee human and civil rights and freedoms provided for by the Constitution and laws of Ukraine, international treaties, to all citizens of Ukraine residing within the temporarily occupied territory. In case of violation of the provisions of this Law, state bodies of Ukraine shall apply the mechanisms provided for by the laws of Ukraine and the norms of international law in order to protect the peace, security, rights, freedoms and legitimate interests of citizens of Ukraine located within the temporarily occupied territory, as well as the legitimate interests of the state of Ukraine. Responsibility for violating human and civil rights and freedoms defined by the Constitution and laws of Ukraine within the temporarily occupied territory shall be assigned to the Russian Federation as an occupying state under the norms and principles of international law. If it is impossible to carry out activities within the temporarily occupied territory, the location of state bodies established under the Constitution and laws of Ukraine shall be determined by the Cabinet of Ministers of Ukraine. Guarantees of the rights, freedoms and legitimate interests of persons who have resettled from the temporarily occupied territory of Ukraine and are lawfully staying within the territory of Ukraine shall be determined by the Law of Ukraine “On Ensuring the Rights and Freedoms of Internally Displaced Persons”. The temporarily occupied territory of Ukraine (hereinafter referred to as the temporarily occupied territory) is an integral part of the territory of Ukraine, which is subject to the Constitution and laws of Ukraine. Property rights within the temporarily occupied territory shall be protected under the legislation of Ukraine. The legal regime of the temporarily occupied territory shall provide for a special procedure for ensuring the rights and freedoms of Ukrainian citizens living in the temporarily occupied territory. Citizens of Ukraine residing within the temporarily occupied territory shall be provided with the possibility of free expression of their will during the presidential, parliamentary elections and all-Ukrainian referendums within the rest of the territory of Ukraine. Citizens of Ukraine shall be guaranteed full respect of their rights and freedoms provided for by the Constitution of Ukraine, including social, labor, electoral rights and the right to education, after they leave the temporarily occupied territory.'"
      ]
     },
     "execution_count": 444,
     "metadata": {},
     "output_type": "execute_result"
    }
   ],
   "source": [
    "textRankSummarize(cleaned_paragraphs)\n"
   ]
  },
  {
   "attachments": {},
   "cell_type": "markdown",
   "metadata": {},
   "source": [
    "Libraries for text summarization "
   ]
  },
  {
   "attachments": {},
   "cell_type": "markdown",
   "metadata": {},
   "source": [
    "Latent Semantic Analysis (LSA) is based on term frequency techniques with singular value decomposition to summarize texts. LSA is an unsupervised NLP technique, and the aim of LSA is to create a representation of text data in terms of topics or latent features."
   ]
  },
  {
   "attachments": {},
   "cell_type": "markdown",
   "metadata": {},
   "source": [
    "LSA consists of two steps:\n",
    "\n",
    "- To generate a document term matrix (or numerical vector).\n",
    "- To perform Singular Value Decomposition on document term matrix. SVD reduces the dimensionality of the original dataset by encoding it with latent features.\n",
    "\n",
    "With LSA these latent features represent topics in the original data.\n"
   ]
  },
  {
   "attachments": {},
   "cell_type": "markdown",
   "metadata": {},
   "source": [
    "<img scr=\"https://miro.medium.com/max/720/1*NGT4fdWMy5pvDUpLRntuTQ.webp\" alt=\"Steps of LSA\" />\n",
    "<p>Steps of LSA</p>\n"
   ]
  },
  {
   "cell_type": "code",
   "execution_count": 445,
   "metadata": {},
   "outputs": [],
   "source": [
    "from sumy.summarizers.lsa import LsaSummarizer\n"
   ]
  },
  {
   "cell_type": "code",
   "execution_count": 446,
   "metadata": {},
   "outputs": [
    {
     "data": {
      "text/plain": [
       "<sumy.parsers.plaintext.PlaintextParser at 0x196f846c7d0>"
      ]
     },
     "execution_count": 446,
     "metadata": {},
     "output_type": "execute_result"
    }
   ],
   "source": [
    "parser = PlaintextParser.from_string(cleaned_paragraphs, Tokenizer(\"english\"))\n",
    "parser "
   ]
  },
  {
   "cell_type": "code",
   "execution_count": 447,
   "metadata": {},
   "outputs": [
    {
     "data": {
      "text/plain": [
       "<sumy.summarizers.lsa.LsaSummarizer at 0x196f88880d0>"
      ]
     },
     "execution_count": 447,
     "metadata": {},
     "output_type": "execute_result"
    }
   ],
   "source": [
    "summarizer = LsaSummarizer()\n",
    "summarizer\n"
   ]
  },
  {
   "cell_type": "code",
   "execution_count": 448,
   "metadata": {},
   "outputs": [
    {
     "data": {
      "text/plain": [
       "[\"', 'Elderly citizens, persons with disabilities, children with disabilities and other citizens of Ukraine experiencing difficult life circumstances and residing within the temporarily occupied territory shall have the right to be provided with social services under the legislation of Ukraine.\",\n",
       " '\\', \\'Foreigners and stateless persons permanently residing in Ukraine, persons who have been granted refugee status in Ukraine, persons in need of additional or temporary protection, and persons who have been granted the status of a foreign Ukrainian, who are legally staying in Ukraine and live within the temporarily occupied territory, shall have the right to get or continue getting a certain qualification within the territory of other regions of Ukraine following the procedure defined by the laws of Ukraine “On Higher Education” and “On Professional Pre-higher Education\".',\n",
       " \"', 'During presidential, parliamentary elections and all-Ukrainian referendums, voting of Ukrainian citizens within the temporarily occupied territory shall not be organised or take place.\",\n",
       " \"', 'Any bodies, their officials and officers within the temporarily occupied territory and their activities shall be considered illegal if these bodies or persons are established, elected or appointed in an unlawful manner.\",\n",
       " \"', 'Individuals, regardless of their refugee status or other special legal status, enterprises, institutions, organisations shall retain the right of ownership and other real rights to property, including real estate, including land plots located within the temporarily occupied territory, if it is acquired under the laws of Ukraine.\",\n",
       " \"', 'The requirement to put on the interstate or international wanted list shall not apply to cases when the matter of instituting special criminal proceedings against these persons is being considered.\",\n",
       " \"', 'The modalities of economic activity in the temporarily occupied territory shall be determined by law.\",\n",
       " \"', 'Military personnel of military formations and law enforcement agencies of Ukraine who arrived from the temporarily occupied territory and willing (if there are grounds) to resign from military service, shall be dismissed from military service, including during a special period, if there are grounds, and in their absence – due to personnel downsizing, if they applied for dismissal within three months after arrival from the temporarily occupied territory.\",\n",
       " \"', 'Military personnel of military formations and law enforcement agencies of Ukraine who have not arrived at certain locations within the time limits determined by military formations and law enforcement agencies of Ukraine shall be considered to have left military units and shall be placed at service of the relevant officials.\",\n",
       " \"', 'Relevant information on their search shall be provided to law enforcement agencies.\"]"
      ]
     },
     "execution_count": 448,
     "metadata": {},
     "output_type": "execute_result"
    }
   ],
   "source": [
    "summary = summarizer(parser.document, sentences_count=10)\n",
    "# summary\n",
    "[str(sentence) for sentence in summary]\n"
   ]
  },
  {
   "cell_type": "code",
   "execution_count": 449,
   "metadata": {},
   "outputs": [],
   "source": [
    "# Luhn\n",
    "from sumy.summarizers.luhn import LuhnSummarizer\n",
    "# text: text to summarize\n",
    "# no_sentences: number of sentences in your summary,\n",
    "# lang: language of text\n",
    "\n",
    "\n",
    "def luhn_summary(text, no_sentences, lang):\n",
    "    parser = PlaintextParser(text, Tokenizer(lang))\n",
    "    luhn_sum = LuhnSummarizer()\n",
    "    summary = luhn_sum(parser.document, no_sentences)\n",
    "    return [str(sentence) for sentence in summary]\n"
   ]
  },
  {
   "cell_type": "code",
   "execution_count": 450,
   "metadata": {},
   "outputs": [
    {
     "data": {
      "text/plain": [
       "['\\', \"Presence of units of the other states\\' armed forces within the territory of Ukraine in violation of the procedure defined by the Constitution and laws of Ukraine, The Hague Conventions of 1907, the IV Geneva Convention of 1949, as well as in disregard of the Memorandum on Security Assurances in connection with Ukraine\\'s accession to the Treaty on the Non-Proliferation of Nuclear Weapons of 1994, the Treaty on Friendship, Cooperation, and Partnership between Ukraine and the Russian Federation of 1997 and other international legal acts shall constitute occupation of a part of the territory of the sovereign state of Ukraine and an internationally unlawful act with all the consequences provided for by international law.',\n",
       " \"', 'This Law defines the status of the territory of Ukraine, which is temporarily occupied as a result of the armed aggression of the Russian Federation, establishes a special legal regime within this territory, defines the specifics of functioning of government and local authorities, enterprises, institutions and organisations under this regime, respect and protection of human and civil rights and freedoms, as well as the rights and legitimate interests of legal entities.\",\n",
       " \"', 'For the purposes of this Law, the temporarily occupied territory is defined as: 1) land territory of the Autonomous Republic of Crimea and the city of Sevastopol, the internal waters of these territories of Ukraine; 2) internal sea waters and territorial sea of Ukraine around the Crimean Peninsula, the territory of the exclusive (maritime) economic zone of Ukraine along the coast of the Crimean Peninsula and adjacent to the coast of the continental shelf of Ukraine, which fall under the jurisdiction of government authorities of Ukraine under the norms of international law, the Constitution and laws of Ukraine; 3) subsurface resources under the territories specified in clauses 1 and 2 of this part, and airspace over these territories.\",\n",
       " \"', 'Registration of documents confirming the citizenship of Ukraine, identity or special status of citizens residing within the temporarily occupied territory shall be carried out by the central executive authority that implements the state policy in the field of migration (immigration and emigration), including countering illegal (unlawful) migration, citizenship, registration of individuals, refugees and other categories of migrants defined by law, in accordance with the procedure provided for by the Cabinet of Ministers of Ukraine.\",\n",
       " \"', 'At the request of citizens of Ukraine residing in the temporarily occupied territory or having resettled from it, certificates confirming their place of stay shall be made and issued at the place of their stay by the executive authority that implements state policy in the area of migration (immigration and emigration), including countering illegal (unlawful) migration, citizenship, registration of individuals, refugees and other categories of migrants defined by law.\",\n",
       " '\\', \\'Foreigners and stateless persons permanently residing in Ukraine, persons who have been granted refugee status in Ukraine, persons in need of additional or temporary protection, and persons who have been granted the status of a foreign Ukrainian, who are legally staying in Ukraine and live within the temporarily occupied territory, shall have the right to get or continue getting a certain qualification within the territory of other regions of Ukraine following the procedure defined by the laws of Ukraine “On Higher Education” and “On Professional Pre-higher Education\".',\n",
       " \"', 'Land, its resources, atmospheric air, water and other natural resources located within the territory of Ukraine, natural resources of its continental shelf, exclusive (marine) economic zone, which constitute property of the Ukrainian people, military property, property of state bodies, state enterprises, institutions and organisations located within the temporarily occupied territory and belonging to the state of Ukraine, shall not become the property of other states, legal entities or individuals in a different way than provided for by the laws of Ukraine.\",\n",
       " \"', 'Due to inability to administer justice by the courts of the Autonomous Republic of Crimea and the city of Sevastopol within the temporarily occupied territories, the territorial jurisdiction of court cases under the jurisdiction of the courts located in the territory of the Autonomous Republic of Crimea and the city of Sevastopol shall be changed, and the consideration of: civil cases under the jurisdiction of local general courts located within the territory of the Autonomous Republic of Crimea and the city of Sevastopol shall be ensured by local general courts of the city of Kyiv, determined by the Court of Appeal of the city of Kyiv; administrative cases under the jurisdiction of local general courts as administrative courts located within the territory of the Autonomous Republic of Crimea and the city of Sevastopol shall be ensured by local general courts of the city of Kyiv, determined by the Kyiv Administrative Court of Appeal; civil cases under the jurisdiction of the general courts of appeal located within the territory of the Autonomous Republic of Crimea and the city of Sevastopol shall be ensured by the Court of Appeal of the city of Kyiv; commercial cases of the District Administrative Court of the Autonomous Republic of Crimea shall be ensured by the Kyiv District Administrative Court, administrative cases of the District Administrative Court of Sevastopol – by the District Administrative Court of Kyiv; Sevastopol Administrative Court of Appeal – by the Kyiv Administrative Court of Appeal; commercial cases of the Commercial Court of the Autonomous Republic of Crimea – by the Commercial Court of the Kyiv region, and commercial cases of the Commercial Court of the city of Sevastopol – by the Commercial Court of the city of Kiev, commercial cases of the Sevastopol Commercial Court of Appeal – by the Kyiv Commercial Court of Appeal; criminal proceedings under the jurisdiction of local (district, city, district in cities, city district courts) located in the territory of the Autonomous Republic of Crimea and the city of Sevastopol shall be ensured by one of the district courts of the city of Kyiv, determined by the Court of Appeal of the city of Kyiv; criminal proceedings under the jurisdiction of the Court of Appeal of the Autonomous Republic of Crimea and the Court of Appeal of the city of Sevastopol – by the Court of Appeal of the city of Kyiv; cases of administrative offenсes under the jurisdiction of local (district, city, district in cities, city district) courts located within the territory of the Autonomous Republic of Crimea and the city of Sevastopol – local general courts at the place of detection of an administrative offenсe.\",\n",
       " \"', 'An individual (a party to the case, as well as a person who did not participate in the case, if the court made a decision on his/her rights, freedoms, interests and/or obligations), permanently residing within the temporarily occupied territory, shall also have the right to file an appeal to the Kherson Court of Appeal if the court decision is made following consideration of his/her civil case by a local general court located within the Kherson region, as a court of first instance.\",\n",
       " \"', 'Military personnel of military formations and law enforcement agencies of Ukraine subject to documentary confirmation of their enrolment in the Armed Forces of the Russian Federation or special services or law enforcement agencies of the Russian Federation, shall be excluded from the lists of military formations and law enforcement agencies of Ukraine, and the contract shall be considered terminated from the time of their enrolment (or receipt of information about their enrolment) in the Armed Forces of the Russian Federation or special services or law enforcement agencies of the Russian Federation.\"]"
      ]
     },
     "execution_count": 450,
     "metadata": {},
     "output_type": "execute_result"
    }
   ],
   "source": [
    "luhn_summary(cleaned_paragraphs, 10, \"english\")\n"
   ]
  },
  {
   "cell_type": "code",
   "execution_count": 451,
   "metadata": {},
   "outputs": [],
   "source": [
    "# KL\n",
    "from sumy.summarizers.kl import KLSummarizer\n",
    "# text: text to summarize\n",
    "# no_sentences: number of sentences in your summary,\n",
    "# lang: language of text\n",
    "\n",
    "\n",
    "def kl_summary(text, no_sentences, lang):\n",
    "    parser = PlaintextParser.from_string(text, Tokenizer(lang))\n",
    "    kl_summarizer = KLSummarizer()\n",
    "    summary = kl_summarizer(parser.document, sentences_count=no_sentences)\n",
    "    return [str(sentence) for sentence in summary]\n"
   ]
  },
  {
   "cell_type": "code",
   "execution_count": 452,
   "metadata": {},
   "outputs": [
    {
     "data": {
      "text/plain": [
       "[\"', 'The date of the beginning of the temporary occupation is 20 February 2014.\",\n",
       " \"', 'The legal regime of the temporarily occupied territory shall provide for a special procedure for ensuring the rights and freedoms of Ukrainian citizens living in the temporarily occupied territory.\",\n",
       " \"', 'At the same time, information (note) about the place of stay of such a person shall not be entered in his/her passport.\",\n",
       " \"', 'An example and procedure for issuing a certificate confirming the place of stay, an example of a written application that should be submitted by a citizen for obtaining a certificate, shall be approved by the central executive authority in charge of shaping the state policy in the field of migration (immigration and emigration), including countering illegal (unlawful) migration, citizenship, registration of individuals, refugees and other categories of migrants defined by law.\",\n",
       " \"', 'Bodies for keeping the State Register of Voters established in the territory of the Autonomous Republic of Crimea and the city of Sevastopol shall not keep the State Register of Voters.\",\n",
       " \"', 'Matters that fall within the competence of an investigating judge in criminal proceedings at the stage of pre-trial investigation and instituted in the territory of the Autonomous Republic of Crimea and the city of Sevastopol shall be considered by investigating judges of the District Courts of the city of Kyiv, determined by the Court of Appeal of the city of Kyiv.\",\n",
       " \"', 'Re-transfer of the case shall not be allowed.\",\n",
       " \"', 'If the damage is caused by foreign citizens and non-residents, jurisdiction shall be established at the place of damage, taking into account the rules of jurisdiction established by this Law.\",\n",
       " '\\', \"Investigative jurisdiction of criminal offences committed within the temporarily occupied territory shall be determined by the Prosecutor General\\'s Office.',\n",
       " \"', 'Persons guilty of violating the requirements of this Law shall bear the responsibility provided for by law.']\"]"
      ]
     },
     "execution_count": 452,
     "metadata": {},
     "output_type": "execute_result"
    }
   ],
   "source": [
    "kl_summary(cleaned_paragraphs, 10, \"english\")\n"
   ]
  },
  {
   "attachments": {},
   "cell_type": "markdown",
   "metadata": {},
   "source": [
    "TextRank vs Seq2Seq vs BART"
   ]
  },
  {
   "attachments": {},
   "cell_type": "markdown",
   "metadata": {},
   "source": [
    "The hardest NLP tasks are the ones where the output isn’t a single label or value (like Classification and Regression), but a full new text (like Translation, Summarization and Conversation)."
   ]
  },
  {
   "attachments": {},
   "cell_type": "markdown",
   "metadata": {},
   "source": [
    "Text summarization is the problem of reducing the number of sentences and words of a document without changing its meaning. There are different techniques to extract information from raw text data and use it for a summarization model, overall they can be categorized as Extractive and Abstractive. Extractive methods select the most important sentences within a text (without necessarily understanding the meaning), therefore the result summary is just a subset of the full text. On the contrary, Abstractive models understand the semantics of the text and generate a meaningful summary. "
   ]
  },
  {
   "attachments": {},
   "cell_type": "markdown",
   "metadata": {},
   "source": [
    "I’ll keep On Ensuring Civil Rights and Freedoms, and the Legal Regime on the Temporarily Occupied Territory of Ukraine summary on dentons to compare different models."
   ]
  },
  {
   "cell_type": "code",
   "execution_count": 453,
   "metadata": {},
   "outputs": [],
   "source": [
    "human_summary = \"\"\"On 15 April 2014 the Ukrainian Parliament passed the Law of Ukraine “On Ensuring Civil Rights and Freedoms and the Legal Regime on Temporarily Occupied Territory of Ukraine” (the \"Law\").\n",
    "Specifically, the Law determines a legal regime of occupied territories as well as sets forth special procedures for the operation of governmental authorities, bodies of local self-government, enterprises and organizations, under such legal regime, provides for protection of human and civil rights and freedoms as well as rights, freedoms and lawful interests of legal entities and indicates Ukrainian courts that will consider disputes arising in Crimea during the occupation.\n",
    "It defines \"occupied territory\" as including the land territory of the Autonomous Republic of Crimea and the city of Sevastopol as well as their domestic waters; domestic waters and territorial sea of Ukraine adjacent to the coast of the Crimean peninsula; the territory of an adjacent area, exclusive economic zone and continental shelf along the coast of the Crimean peninsula subject to jurisdiction of Ukrainian bodies of state power in accordance with provisions of international law, the Constitution and laws of Ukraine; underwater space within the territorial sea; air space above these territories.\n",
    "For as long as Crimea remains occupied, the \"occupied territory\" will be subjected to a special legal regime with respect to the border crossing with the \"occupied territory\", carrying out business activity, entering into transactions, holding elections and referenda, exercise of other human and civil rights and freedoms as well as a special procedure for ensuring human and civil rights and freedoms of Ukrainian citizens residing in the temporarily occupied territories of Ukraine.\n",
    "1) Activities of state and local self-governance bodies created in the occupied territories in breach of Ukrainian law shall be prohibited, and their regulations and acts shall be illegal and will not be recognized in Ukraine - e.g. permits, authorizations, allocation of  land plots.\n",
    "2) The Law specifically deals with transfers of Crimea-based immovable property by setting forth that ownership rights to immovable property may be transferred and acquired in accordance with Ukrainian law. As a result, Crimea-based immovable property may be transferred outside Crimea and notarized by any Ukrainian notary.\n",
    "3) Disputes arising in Crimea during the occupation will be considered by respective civil, commercial and administrative courts in the city of Kyiv.\n",
    "4) If provisions of the Law are violated, Ukrainian authorities shall apply mechanisms provided for by Ukrainian law and provisions of international laws both in Ukrainian and international courts.\n",
    "Business activities in Crimea will be covered by a separate law intended to specifically address the \"doing business in Crimea\" aspect.\n",
    "Generally, the Law limits business activity in the territory of Crimea and, obviously, persons engaged in business activity in Crimea may be prosecuted by Ukraine and the international community (i.e., the countries that did not recognize the occupation of Crimea by the Russian Federation). Considering this, the Ministry of Justice of Ukraine introduced a simplified procedure for Crimea-registered businesses to change their registered addresses. Accordingly, Crimea-registered businesses may now register anywhere in Ukraine and continue with their businesses.\"\"\"\n"
   ]
  },
  {
   "attachments": {},
   "cell_type": "markdown",
   "metadata": {},
   "source": [
    "How can we evaluate the results? "
   ]
  },
  {
   "cell_type": "code",
   "execution_count": 454,
   "metadata": {},
   "outputs": [],
   "source": [
    "'''\n",
    "Calculate ROUGE score.\n",
    ":parameter    \n",
    "    :param y_test: string or list    \n",
    "    :param predicted: string or list\n",
    "'''\n",
    "def evaluate_summary(y_test, predicted):\n",
    "    rouge_score = rouge.Rouge()\n",
    "    scores = rouge_score.get_scores(y_test, predicted, avg=True)\n",
    "    score_1 = round(scores['rouge-1']['f'], 2)\n",
    "    score_2 = round(scores['rouge-2']['f'], 2)\n",
    "    score_L = round(scores['rouge-l']['f'], 2)\n",
    "    print(\"rouge1:\", score_1, \"| rouge2:\", score_2, \"| rougeL:\",\n",
    "          score_2, \"--> avg rouge:\", round(np.mean(\n",
    "              [score_1, score_2, score_L]), 2))\n"
   ]
  },
  {
   "cell_type": "code",
   "execution_count": 455,
   "metadata": {},
   "outputs": [
    {
     "name": "stdout",
     "output_type": "stream",
     "text": [
      "rouge1: 0.22 | rouge2: 0.07 | rougeL: 0.07 --> avg rouge: 0.16\n"
     ]
    }
   ],
   "source": [
    "evaluate_summary(\n",
    "    human_summary,\n",
    "    tf_idf_summarize(cleaned_paragraphs)\n",
    ")\n"
   ]
  },
  {
   "attachments": {},
   "cell_type": "markdown",
   "metadata": {},
   "source": [
    "The results show that 22% of unigrams (ROUGE-1) and 7% of bigrams (ROUGE-2) are present in both summaries, while the longest common subsequences (ROUGE-L) match by 7%. Overall, the average score is 16%. ROUGE scores don’t measure how fluent the summary is. For that experts recomend using the good old human eye. "
   ]
  },
  {
   "cell_type": "code",
   "execution_count": 456,
   "metadata": {},
   "outputs": [
    {
     "name": "stdout",
     "output_type": "stream",
     "text": [
      "rouge1: 0.33 | rouge2: 0.17 | rougeL: 0.17 --> avg rouge: 0.27\n"
     ]
    }
   ],
   "source": [
    "evaluate_summary(\n",
    "    human_summary,\n",
    "    textRankSummarize(cleaned_paragraphs)\n",
    ")\n"
   ]
  },
  {
   "attachments": {},
   "cell_type": "markdown",
   "metadata": {},
   "source": [
    "Visualization: I will display 2 texts, i.e. the summary and the original text, or the predicted summary and the real summary, and highlight the matching parts. It highlights the matching substrings of two texts. It can be used on word-level."
   ]
  },
  {
   "cell_type": "code",
   "execution_count": 457,
   "metadata": {},
   "outputs": [],
   "source": [
    "'''\n",
    "Find the matching substrings in 2 strings.\n",
    ":parameter\n",
    "    :param a: string - raw text\n",
    "    :param b: string - raw text\n",
    ":return\n",
    "    2 lists used in to display matches\n",
    "'''\n",
    "\n",
    "\n",
    "def utils_split_sentences(a, b):\n",
    "    # find clean matches\n",
    "    match = difflib.SequenceMatcher(isjunk=None, a=a, b=b, autojunk=True)\n",
    "    lst_match = [block for block in match.get_matching_blocks()\n",
    "                 if block.size > 20]\n",
    "\n",
    "    # difflib didn't find any match\n",
    "    if len(lst_match) == 0:\n",
    "        lst_a, lst_b = sent_tokenize(a), sent_tokenize(b)\n",
    "\n",
    "    # work with matches\n",
    "    else:\n",
    "        first_m, last_m = lst_match[0], lst_match[-1]\n",
    "\n",
    "        # a\n",
    "        string = a[0: first_m.a]\n",
    "        lst_a = [t for t in sent_tokenize(string)]\n",
    "        for n in range(len(lst_match)):\n",
    "            m = lst_match[n]\n",
    "            string = a[m.a: m.a+m.size]\n",
    "            lst_a.append(string)\n",
    "            if n+1 < len(lst_match):\n",
    "                next_m = lst_match[n+1]\n",
    "                string = a[m.a+m.size: next_m.a]\n",
    "                lst_a = lst_a + [t for t in sent_tokenize(string)]\n",
    "            else:\n",
    "                break\n",
    "        string = a[last_m.a+last_m.size:]\n",
    "        lst_a = lst_a + [t for t in sent_tokenize(string)]\n",
    "\n",
    "        # b\n",
    "        string = b[0: first_m.b]\n",
    "        lst_b = [t for t in sent_tokenize(string)]\n",
    "        for n in range(len(lst_match)):\n",
    "            m = lst_match[n]\n",
    "            string = b[m.b: m.b+m.size]\n",
    "            lst_b.append(string)\n",
    "            if n+1 < len(lst_match):\n",
    "                next_m = lst_match[n+1]\n",
    "                string = b[m.b+m.size: next_m.b]\n",
    "                lst_b = lst_b + [t for t in sent_tokenize(string)]\n",
    "            else:\n",
    "                break\n",
    "        string = b[last_m.b+last_m.size:]\n",
    "        lst_b = lst_b + [t for t in sent_tokenize(string)]\n",
    "\n",
    "    return lst_a, lst_b\n",
    "\n",
    "'''\n",
    "Highlights the matched strings in text.\n",
    ":parameter\n",
    "    :param a: string - raw text\n",
    "    :param b: string - raw text\n",
    "    :param both: bool - search a in b and, if True, viceversa\n",
    "    :param sentences: bool - if False matches single words\n",
    ":return\n",
    "    text html, it can be visualized on notebook with display(HTML(text))\n",
    "'''\n",
    "\n",
    "\n",
    "def display_string_matching(a, b, both=True, sentences=True, titles=[]):\n",
    "    if sentences is True:\n",
    "        lst_a, lst_b = utils_split_sentences(a, b)\n",
    "    else:\n",
    "        lst_a, lst_b = a.split(), b.split()\n",
    "\n",
    "    # highlight a\n",
    "    first_text = []\n",
    "    for i in lst_a:\n",
    "        if re.sub(r'[^\\w\\s]', '', i.lower()) in [re.sub(r'[^\\w\\s]', '', z.lower()) for z in lst_b]:\n",
    "            first_text.append(\n",
    "                '<span style=\"background-color:rgba(255,215,0,0.3);\">' + i + '</span>')\n",
    "        else:\n",
    "            first_text.append(i)\n",
    "    first_text = ' '.join(first_text)\n",
    "\n",
    "    # highlight b\n",
    "    second_text = []\n",
    "    if both is True:\n",
    "        for i in lst_b:\n",
    "            if re.sub(r'[^\\w\\s]', '', i.lower()) in [re.sub(r'[^\\w\\s]', '', z.lower()) for z in lst_a]:\n",
    "                second_text.append(\n",
    "                    '<span style=\"background-color:rgba(255,215,0,0.3);\">' + i + '</span>')\n",
    "            else:\n",
    "                second_text.append(i)\n",
    "    else:\n",
    "        second_text.append(b)\n",
    "    second_text = ' '.join(second_text)\n",
    "\n",
    "    # concatenate\n",
    "    if len(titles) > 0:\n",
    "        first_text = \"<strong>\"+titles[0]+\"</strong><br>\"+first_text\n",
    "    if len(titles) > 1:\n",
    "        second_text = \"<strong>\"+titles[1]+\"</strong><br>\"+second_text\n",
    "    else:\n",
    "        second_text = \"---\"*65+\"<br><br>\"+second_text\n",
    "    final_text = first_text + '<br><br>' + second_text\n",
    "    return final_text\n"
   ]
  },
  {
   "cell_type": "code",
   "execution_count": 458,
   "metadata": {},
   "outputs": [],
   "source": [
    "match = display_string_matching(\n",
    "    human_summary,\n",
    "    tf_idf_summarize(cleaned_paragraphs),\n",
    "    both=True,\n",
    "    sentences=False,\n",
    "    titles=[\"Real Summary\", \"tfIDF Predicted Summary\"]\n",
    ")\n"
   ]
  },
  {
   "cell_type": "code",
   "execution_count": 459,
   "metadata": {},
   "outputs": [],
   "source": [
    "# display(HTML(match))\n"
   ]
  },
  {
   "cell_type": "code",
   "execution_count": 460,
   "metadata": {},
   "outputs": [],
   "source": [
    "match = display_string_matching(\n",
    "    human_summary,\n",
    "    textRankSummarize(cleaned_paragraphs),\n",
    "    both=True,\n",
    "    sentences=False,\n",
    "    titles=[\"Real Summary\", \"Text Rank Predicted Summary\"]\n",
    ")\n"
   ]
  },
  {
   "cell_type": "code",
   "execution_count": 461,
   "metadata": {},
   "outputs": [],
   "source": [
    "# display(HTML(match))\n"
   ]
  },
  {
   "cell_type": "code",
   "execution_count": 462,
   "metadata": {},
   "outputs": [],
   "source": [
    "match = display_string_matching(\n",
    "    ' '.join(cleaned_paragraphs),\n",
    "    tf_idf_summarize(cleaned_paragraphs),\n",
    "    both=True,\n",
    "    titles=[\"Full Text\", \"tfIDF Predicted Summary\"]\n",
    ")\n",
    "\n",
    "# display(HTML(match))\n"
   ]
  },
  {
   "cell_type": "code",
   "execution_count": 463,
   "metadata": {},
   "outputs": [],
   "source": [
    "match = display_string_matching(\n",
    "    ' '.join(cleaned_paragraphs),\n",
    "    textRankSummarize(cleaned_paragraphs),\n",
    "    both=True,\n",
    "    titles=[\"Full Text\", \"Text Rank Predicted Summary\"]\n",
    ")\n",
    "\n",
    "# display(HTML(match))\n"
   ]
  },
  {
   "attachments": {},
   "cell_type": "markdown",
   "metadata": {},
   "source": [
    "The prediction has most of the information mentioned in the original summary. As expected from an Extractive algorithms, the predicted summary is fully contained in the text: the model considers those the most important sentences."
   ]
  },
  {
   "attachments": {},
   "cell_type": "markdown",
   "metadata": {},
   "source": [
    "For our purposes in this chapter, we can\n",
    "also use the tokenizers from NLTK to build a simple text summarizer that is based on\n",
    "Luhn's method that he wrote about in The automatic creation of literature abstracts. This\n",
    "basic, extractive program will first tokenize each sentence in the text sample, then\n",
    "choose which words occur most frequently while excluding unimportant words,\n",
    "called stopwords, and finally it will find the sentence or sentences that include the\n",
    "important words.\n"
   ]
  },
  {
   "attachments": {},
   "cell_type": "markdown",
   "metadata": {},
   "source": [
    "Our program will include one other subtle effect. We will construct a score for each\n",
    "sentence based on the aggregated scores of the words inside it. For example, suppose\n",
    "the word cat appears in a text 10 times, and the word hat appears three times. The\n",
    "sentence The cat wears a hat will score a 13, or the score for cat plus the score for hat.\n",
    "The sentence His hat is different than her hat will only score 3, since the score for hat is\n",
    "counted only once. This scoring system has the advantage of privileging sentences\n",
    "that have a variety of important words in them, while minimizing the effect of\n",
    "sentences that have fewer important words, even if those words are repeated\n",
    "multiple times. The rationale for this scoring system is that sentences with a variety\n",
    "of important words are more likely to be topic sentences or main ideas, and topic\n",
    "sentences are more relevant for building a summary.\n"
   ]
  },
  {
   "attachments": {},
   "cell_type": "markdown",
   "metadata": {},
   "source": [
    "==\n"
   ]
  },
  {
   "cell_type": "code",
   "execution_count": 464,
   "metadata": {},
   "outputs": [],
   "source": [
    "from nltk.probability import FreqDist\n",
    "from nltk.corpus import stopwords\n",
    "from collections import OrderedDict\n",
    "import pprint\n"
   ]
  },
  {
   "cell_type": "code",
   "execution_count": 465,
   "metadata": {},
   "outputs": [],
   "source": [
    "text = \" \".join(cleaned_paragraphs)\n",
    "summary_sentences = []\n",
    "candidate_sentences = {}\n",
    "candidate_sentence_counts = {}\n"
   ]
  },
  {
   "cell_type": "code",
   "execution_count": 466,
   "metadata": {},
   "outputs": [],
   "source": [
    "words = word_tokenize(text)\n",
    "# words\n"
   ]
  },
  {
   "cell_type": "code",
   "execution_count": 467,
   "metadata": {},
   "outputs": [
    {
     "data": {
      "text/plain": [
       "['under',\n",
       " 'constitution',\n",
       " 'ukraine',\n",
       " 'ukraine',\n",
       " 'sovereign',\n",
       " 'independent',\n",
       " 'state',\n",
       " 'the',\n",
       " 'sovereignty',\n",
       " 'ukraine',\n",
       " 'apply',\n",
       " 'entire',\n",
       " 'territory',\n",
       " 'integral',\n",
       " 'inviolable',\n",
       " 'existing',\n",
       " 'border',\n",
       " 'presence',\n",
       " 'units',\n",
       " 'states',\n",
       " 'armed',\n",
       " 'forces',\n",
       " 'territory',\n",
       " 'ukraine',\n",
       " 'violation',\n",
       " 'procedure',\n",
       " 'defined',\n",
       " 'constitution',\n",
       " 'laws',\n",
       " 'ukraine',\n",
       " 'the',\n",
       " 'hague',\n",
       " 'conventions',\n",
       " 'iv',\n",
       " 'geneva',\n",
       " 'convention',\n",
       " 'disregard',\n",
       " 'memorandum',\n",
       " 'security',\n",
       " 'assurances',\n",
       " 'connection',\n",
       " 'ukraine',\n",
       " 'accession',\n",
       " 'treaty',\n",
       " 'nuclear',\n",
       " 'weapons',\n",
       " 'treaty',\n",
       " 'friendship',\n",
       " 'cooperation',\n",
       " 'partnership',\n",
       " 'ukraine',\n",
       " 'russian',\n",
       " 'federation',\n",
       " 'international',\n",
       " 'legal',\n",
       " 'acts',\n",
       " 'constitute',\n",
       " 'occupation',\n",
       " 'part',\n",
       " 'territory',\n",
       " 'sovereign',\n",
       " 'state',\n",
       " 'ukraine',\n",
       " 'internationally',\n",
       " 'unlawful',\n",
       " 'act',\n",
       " 'consequences',\n",
       " 'provided',\n",
       " 'international',\n",
       " 'law',\n",
       " 'the',\n",
       " 'basis',\n",
       " 'humanitarian',\n",
       " 'social',\n",
       " 'economic',\n",
       " 'policy',\n",
       " 'ukraine',\n",
       " 'relation',\n",
       " 'population',\n",
       " 'temporarily',\n",
       " 'occupied',\n",
       " 'territory',\n",
       " 'ukraine',\n",
       " 'protected',\n",
       " 'full',\n",
       " 'exercise',\n",
       " 'national',\n",
       " 'cultural',\n",
       " 'social',\n",
       " 'political',\n",
       " 'rights',\n",
       " 'ukrainian',\n",
       " 'citizens',\n",
       " 'including',\n",
       " 'indigenous',\n",
       " 'peoples',\n",
       " 'national',\n",
       " 'minorities',\n",
       " 'the',\n",
       " 'temporarily',\n",
       " 'occupied',\n",
       " 'territory',\n",
       " 'ukraine',\n",
       " 'hereinafter',\n",
       " 'referred',\n",
       " 'temporarily',\n",
       " 'occupied',\n",
       " 'territory',\n",
       " 'integral',\n",
       " 'part',\n",
       " 'territory',\n",
       " 'ukraine',\n",
       " 'subject',\n",
       " 'constitution',\n",
       " 'laws',\n",
       " 'ukraine',\n",
       " 'the',\n",
       " 'date',\n",
       " 'beginning',\n",
       " 'temporary',\n",
       " 'occupation',\n",
       " 'february',\n",
       " 'this',\n",
       " 'law',\n",
       " 'defines',\n",
       " 'status',\n",
       " 'territory',\n",
       " 'ukraine',\n",
       " 'temporarily',\n",
       " 'occupied',\n",
       " 'result',\n",
       " 'armed',\n",
       " 'aggression',\n",
       " 'russian',\n",
       " 'federation',\n",
       " 'establishes',\n",
       " 'special',\n",
       " 'legal',\n",
       " 'regime',\n",
       " 'territory',\n",
       " 'defines',\n",
       " 'specifics',\n",
       " 'functioning',\n",
       " 'government',\n",
       " 'local',\n",
       " 'authorities',\n",
       " 'enterprises',\n",
       " 'institutions',\n",
       " 'organisations',\n",
       " 'regime',\n",
       " 'respect',\n",
       " 'protection',\n",
       " 'human',\n",
       " 'civil',\n",
       " 'rights',\n",
       " 'freedoms',\n",
       " 'rights',\n",
       " 'legitimate',\n",
       " 'interests',\n",
       " 'legal',\n",
       " 'entities',\n",
       " 'for',\n",
       " 'purposes',\n",
       " 'law',\n",
       " 'temporarily',\n",
       " 'occupied',\n",
       " 'territory',\n",
       " 'defined',\n",
       " 'land',\n",
       " 'territory',\n",
       " 'autonomous',\n",
       " 'republic',\n",
       " 'crimea',\n",
       " 'city',\n",
       " 'sevastopol',\n",
       " 'internal',\n",
       " 'waters',\n",
       " 'territories',\n",
       " 'ukraine',\n",
       " 'internal',\n",
       " 'waters',\n",
       " 'territorial',\n",
       " 'ukraine',\n",
       " 'crimean',\n",
       " 'peninsula',\n",
       " 'territory',\n",
       " 'exclusive',\n",
       " 'maritime',\n",
       " 'economic',\n",
       " 'zone',\n",
       " 'ukraine',\n",
       " 'coast',\n",
       " 'crimean',\n",
       " 'peninsula',\n",
       " 'adjacent',\n",
       " 'coast',\n",
       " 'continental',\n",
       " 'shelf',\n",
       " 'ukraine',\n",
       " 'fall',\n",
       " 'jurisdiction',\n",
       " 'government',\n",
       " 'authorities',\n",
       " 'ukraine',\n",
       " 'norms',\n",
       " 'international',\n",
       " 'law',\n",
       " 'constitution',\n",
       " 'laws',\n",
       " 'ukraine',\n",
       " 'subsurface',\n",
       " 'resources',\n",
       " 'territories',\n",
       " 'specified',\n",
       " 'clauses',\n",
       " 'part',\n",
       " 'airspace',\n",
       " 'territories',\n",
       " 'within',\n",
       " 'temporarily',\n",
       " 'occupied',\n",
       " 'territory',\n",
       " 'period',\n",
       " 'validity',\n",
       " 'law',\n",
       " 'special',\n",
       " 'legal',\n",
       " 'regime',\n",
       " 'apply',\n",
       " 'crossing',\n",
       " 'borders',\n",
       " 'temporarily',\n",
       " 'occupied',\n",
       " 'territory',\n",
       " 'making',\n",
       " 'transactions',\n",
       " 'holding',\n",
       " 'elections',\n",
       " 'referendums',\n",
       " 'exercising',\n",
       " 'human',\n",
       " 'civil',\n",
       " 'rights',\n",
       " 'freedoms',\n",
       " 'the',\n",
       " 'legal',\n",
       " 'regime',\n",
       " 'temporarily',\n",
       " 'occupied',\n",
       " 'territory',\n",
       " 'provide',\n",
       " 'special',\n",
       " 'procedure',\n",
       " 'ensuring',\n",
       " 'rights',\n",
       " 'freedoms',\n",
       " 'ukrainian',\n",
       " 'citizens',\n",
       " 'living',\n",
       " 'temporarily',\n",
       " 'occupied',\n",
       " 'territory',\n",
       " 'the',\n",
       " 'legal',\n",
       " 'regime',\n",
       " 'temporarily',\n",
       " 'occupied',\n",
       " 'territory',\n",
       " 'established',\n",
       " 'changed',\n",
       " 'abolished',\n",
       " 'exclusively',\n",
       " 'laws',\n",
       " 'ukraine',\n",
       " 'ukraine',\n",
       " 'measures',\n",
       " 'guarantee',\n",
       " 'human',\n",
       " 'civil',\n",
       " 'rights',\n",
       " 'freedoms',\n",
       " 'provided',\n",
       " 'constitution',\n",
       " 'laws',\n",
       " 'ukraine',\n",
       " 'international',\n",
       " 'treaties',\n",
       " 'citizens',\n",
       " 'ukraine',\n",
       " 'residing',\n",
       " 'temporarily',\n",
       " 'occupied',\n",
       " 'territory',\n",
       " 'ukraine',\n",
       " 'undertakes',\n",
       " 'maintain',\n",
       " 'ensure',\n",
       " 'economic',\n",
       " 'financial',\n",
       " 'political',\n",
       " 'social',\n",
       " 'informational',\n",
       " 'cultural',\n",
       " 'ties',\n",
       " 'ukrainian',\n",
       " 'citizens',\n",
       " 'residing',\n",
       " 'temporarily',\n",
       " 'occupied',\n",
       " 'territory',\n",
       " 'responsibility',\n",
       " 'violating',\n",
       " 'human',\n",
       " 'civil',\n",
       " 'rights',\n",
       " 'freedoms',\n",
       " 'defined',\n",
       " 'constitution',\n",
       " 'laws',\n",
       " 'ukraine',\n",
       " 'temporarily',\n",
       " 'occupied',\n",
       " 'territory',\n",
       " 'assigned',\n",
       " 'russian',\n",
       " 'federation',\n",
       " 'occupying',\n",
       " 'state',\n",
       " 'norms',\n",
       " 'principles',\n",
       " 'international',\n",
       " 'law',\n",
       " 'compulsory',\n",
       " 'automatic',\n",
       " 'acquisition',\n",
       " 'citizenship',\n",
       " 'russian',\n",
       " 'federation',\n",
       " 'citizens',\n",
       " 'ukraine',\n",
       " 'residing',\n",
       " 'temporarily',\n",
       " 'occupied',\n",
       " 'territory',\n",
       " 'recognised',\n",
       " 'ukraine',\n",
       " 'ground',\n",
       " 'loss',\n",
       " 'ukrainian',\n",
       " 'citizenship',\n",
       " 'the',\n",
       " 'cabinet',\n",
       " 'ministers',\n",
       " 'ukraine',\n",
       " 'constantly',\n",
       " 'monitor',\n",
       " 'respect',\n",
       " 'human',\n",
       " 'civil',\n",
       " 'rights',\n",
       " 'freedoms',\n",
       " 'temporarily',\n",
       " 'occupied',\n",
       " 'territory',\n",
       " 'based',\n",
       " 'results',\n",
       " 'monitoring',\n",
       " 'make',\n",
       " 'public',\n",
       " 'provide',\n",
       " 'relevant',\n",
       " 'information',\n",
       " 'international',\n",
       " 'organisations',\n",
       " 'field',\n",
       " 'protection',\n",
       " 'human',\n",
       " 'civil',\n",
       " 'rights',\n",
       " 'freedoms',\n",
       " 'measures',\n",
       " 'the',\n",
       " 'ukrainian',\n",
       " 'parliament',\n",
       " 'commissioner',\n",
       " 'human',\n",
       " 'rights',\n",
       " 'exercise',\n",
       " 'parliamentary',\n",
       " 'oversight',\n",
       " 'respect',\n",
       " 'constitutional',\n",
       " 'human',\n",
       " 'civil',\n",
       " 'rights',\n",
       " 'freedoms',\n",
       " 'temporarily',\n",
       " 'occupied',\n",
       " 'territory',\n",
       " 'law',\n",
       " 'compensation',\n",
       " 'state',\n",
       " 'ukraine',\n",
       " 'legal',\n",
       " 'entities',\n",
       " 'ngos',\n",
       " 'citizens',\n",
       " 'ukraine',\n",
       " 'foreigners',\n",
       " 'stateless',\n",
       " 'persons',\n",
       " 'pecuniary',\n",
       " 'damage',\n",
       " 'caused',\n",
       " 'result',\n",
       " 'temporary',\n",
       " 'occupation',\n",
       " 'fully',\n",
       " 'attributed',\n",
       " 'russian',\n",
       " 'federation',\n",
       " 'occupying',\n",
       " 'state',\n",
       " 'the',\n",
       " 'state',\n",
       " 'ukraine',\n",
       " 'possible',\n",
       " 'means',\n",
       " 'ensure',\n",
       " 'compensation',\n",
       " 'pecuniary',\n",
       " 'damage',\n",
       " 'russian',\n",
       " 'federation',\n",
       " 'responsibility',\n",
       " 'protection',\n",
       " 'cultural',\n",
       " 'heritage',\n",
       " 'temporarily',\n",
       " 'occupied',\n",
       " 'territory',\n",
       " 'attributed',\n",
       " 'russian',\n",
       " 'federation',\n",
       " 'occupying',\n",
       " 'state',\n",
       " 'norms',\n",
       " 'principles',\n",
       " 'international',\n",
       " 'law',\n",
       " 'registration',\n",
       " 'documents',\n",
       " 'confirming',\n",
       " 'citizenship',\n",
       " 'ukraine',\n",
       " 'identity',\n",
       " 'special',\n",
       " 'status',\n",
       " 'citizens',\n",
       " 'residing',\n",
       " 'temporarily',\n",
       " 'occupied',\n",
       " 'territory',\n",
       " 'carried',\n",
       " 'central',\n",
       " 'executive',\n",
       " 'authority',\n",
       " 'implements',\n",
       " 'state',\n",
       " 'policy',\n",
       " 'field',\n",
       " 'migration',\n",
       " 'immigration',\n",
       " 'emigration',\n",
       " 'including',\n",
       " 'countering',\n",
       " 'illegal',\n",
       " 'unlawful',\n",
       " 'migration',\n",
       " 'citizenship',\n",
       " 'registration',\n",
       " 'individuals',\n",
       " 'refugees',\n",
       " 'categories',\n",
       " 'migrants',\n",
       " 'defined',\n",
       " 'law',\n",
       " 'accordance',\n",
       " 'procedure',\n",
       " 'provided',\n",
       " 'cabinet',\n",
       " 'ministers',\n",
       " 'ukraine',\n",
       " 'at',\n",
       " 'request',\n",
       " 'citizens',\n",
       " 'ukraine',\n",
       " 'residing',\n",
       " 'temporarily',\n",
       " 'occupied',\n",
       " 'territory',\n",
       " 'resettled',\n",
       " 'certificates',\n",
       " 'confirming',\n",
       " 'place',\n",
       " 'stay',\n",
       " 'made',\n",
       " 'issued',\n",
       " 'place',\n",
       " 'stay',\n",
       " 'executive',\n",
       " 'authority',\n",
       " 'implements',\n",
       " 'state',\n",
       " 'policy',\n",
       " 'area',\n",
       " 'migration',\n",
       " 'immigration',\n",
       " 'emigration',\n",
       " 'including',\n",
       " 'countering',\n",
       " 'illegal',\n",
       " 'unlawful',\n",
       " 'migration',\n",
       " 'citizenship',\n",
       " 'registration',\n",
       " 'individuals',\n",
       " 'refugees',\n",
       " 'categories',\n",
       " 'migrants',\n",
       " 'defined',\n",
       " 'law',\n",
       " 'such',\n",
       " 'certificates',\n",
       " 'issued',\n",
       " 'citizens',\n",
       " 'day',\n",
       " 'application',\n",
       " 'based',\n",
       " 'passport',\n",
       " 'citizen',\n",
       " 'ukraine',\n",
       " 'document',\n",
       " 'containing',\n",
       " 'information',\n",
       " 'residence',\n",
       " 'registration',\n",
       " 'law',\n",
       " 'ukraine',\n",
       " 'on',\n",
       " 'freedom',\n",
       " 'movement',\n",
       " 'free',\n",
       " 'choice',\n",
       " 'place',\n",
       " 'residence',\n",
       " 'ukraine',\n",
       " 'written',\n",
       " 'application',\n",
       " 'indicating',\n",
       " 'address',\n",
       " 'official',\n",
       " 'correspondence',\n",
       " 'delivered',\n",
       " 'citizen',\n",
       " 'at',\n",
       " 'time',\n",
       " 'information',\n",
       " 'note',\n",
       " 'place',\n",
       " 'stay',\n",
       " 'person',\n",
       " 'entered',\n",
       " 'passport',\n",
       " 'an',\n",
       " 'procedure',\n",
       " 'issuing',\n",
       " 'certificate',\n",
       " 'confirming',\n",
       " 'place',\n",
       " 'stay',\n",
       " 'written',\n",
       " 'application',\n",
       " 'submitted',\n",
       " 'citizen',\n",
       " 'obtaining',\n",
       " 'certificate',\n",
       " 'approved',\n",
       " 'central',\n",
       " 'executive',\n",
       " 'authority',\n",
       " 'charge',\n",
       " 'shaping',\n",
       " 'state',\n",
       " 'policy',\n",
       " 'field',\n",
       " 'migration',\n",
       " 'immigration',\n",
       " 'emigration',\n",
       " 'including',\n",
       " 'countering',\n",
       " 'illegal',\n",
       " 'unlawful',\n",
       " 'migration',\n",
       " 'citizenship',\n",
       " 'registration',\n",
       " 'individuals',\n",
       " 'refugees',\n",
       " 'categories',\n",
       " 'migrants',\n",
       " 'defined',\n",
       " 'law',\n",
       " 'for',\n",
       " 'citizens',\n",
       " 'ukraine',\n",
       " 'residing',\n",
       " 'temporarily',\n",
       " 'occupied',\n",
       " 'territory',\n",
       " 'exercise',\n",
       " 'rights',\n",
       " 'employment',\n",
       " 'pension',\n",
       " 'mandatory',\n",
       " 'state',\n",
       " 'social',\n",
       " 'insurance',\n",
       " 'case',\n",
       " 'unemployment',\n",
       " 'due',\n",
       " 'temporary',\n",
       " 'disability',\n",
       " 'industrial',\n",
       " 'accident',\n",
       " 'occupational',\n",
       " 'disease',\n",
       " 'caused',\n",
       " 'loss',\n",
       " 'working',\n",
       " 'capacity',\n",
       " 'social',\n",
       " 'services',\n",
       " 'ensured',\n",
       " 'procedure',\n",
       " 'provided',\n",
       " 'legislation',\n",
       " 'ukraine',\n",
       " 'payment',\n",
       " 'pensions',\n",
       " 'citizens',\n",
       " 'ukraine',\n",
       " 'residing',\n",
       " 'temporarily',\n",
       " 'occupied',\n",
       " 'territory',\n",
       " 'receiving',\n",
       " 'pensions',\n",
       " 'social',\n",
       " 'payments',\n",
       " 'authorised',\n",
       " 'bodies',\n",
       " 'russian',\n",
       " 'federation',\n",
       " 'carried',\n",
       " 'procedure',\n",
       " 'established',\n",
       " 'cabinet',\n",
       " 'ministers',\n",
       " 'ukraine',\n",
       " 'elderly',\n",
       " 'citizens',\n",
       " 'persons',\n",
       " 'disabilities',\n",
       " 'children',\n",
       " 'disabilities',\n",
       " 'citizens',\n",
       " 'ukraine',\n",
       " 'experiencing',\n",
       " 'difficult',\n",
       " 'life',\n",
       " 'circumstances',\n",
       " 'residing',\n",
       " 'temporarily',\n",
       " 'occupied',\n",
       " 'territory',\n",
       " 'provided',\n",
       " 'social',\n",
       " 'services',\n",
       " 'legislation',\n",
       " 'ukraine',\n",
       " 'homeless',\n",
       " 'persons',\n",
       " 'staying',\n",
       " 'temporarily',\n",
       " 'occupied',\n",
       " 'territory',\n",
       " 'social',\n",
       " 'protection',\n",
       " 'legislation',\n",
       " 'ukraine',\n",
       " 'citizens',\n",
       " 'ukraine',\n",
       " 'residing',\n",
       " 'temporarily',\n",
       " 'occupied',\n",
       " 'territory',\n",
       " 'settlements',\n",
       " 'contact',\n",
       " 'line',\n",
       " 'receive',\n",
       " 'continue',\n",
       " 'receiving',\n",
       " 'educational',\n",
       " 'level',\n",
       " 'territory',\n",
       " 'regions',\n",
       " 'ukraine',\n",
       " 'expense',\n",
       " 'state',\n",
       " 'budget',\n",
       " 'provision',\n",
       " 'places',\n",
       " 'dormitories',\n",
       " 'duration',\n",
       " 'studies',\n",
       " 'foreigners',\n",
       " 'stateless',\n",
       " 'persons',\n",
       " 'permanently',\n",
       " 'residing',\n",
       " 'ukraine',\n",
       " 'persons',\n",
       " 'granted',\n",
       " 'refugee',\n",
       " 'status',\n",
       " 'ukraine',\n",
       " 'persons',\n",
       " 'additional',\n",
       " 'temporary',\n",
       " 'protection',\n",
       " 'persons',\n",
       " 'granted',\n",
       " 'status',\n",
       " 'foreign',\n",
       " 'ukrainian',\n",
       " 'legally',\n",
       " 'staying',\n",
       " 'ukraine',\n",
       " 'live',\n",
       " 'temporarily',\n",
       " 'occupied',\n",
       " 'territory',\n",
       " 'continue',\n",
       " 'qualification',\n",
       " 'territory',\n",
       " 'regions',\n",
       " 'ukraine',\n",
       " 'procedure',\n",
       " 'defined',\n",
       " 'laws',\n",
       " 'ukraine',\n",
       " 'on',\n",
       " 'higher',\n",
       " 'education',\n",
       " 'on',\n",
       " 'professional',\n",
       " 'education',\n",
       " 'during',\n",
       " 'presidential',\n",
       " 'parliamentary',\n",
       " 'elections',\n",
       " 'referendums',\n",
       " 'voting',\n",
       " 'ukrainian',\n",
       " 'citizens',\n",
       " 'temporarily',\n",
       " 'occupied',\n",
       " 'territory',\n",
       " 'organised',\n",
       " 'place',\n",
       " 'citizens',\n",
       " 'ukraine',\n",
       " 'residing',\n",
       " 'temporarily',\n",
       " 'occupied',\n",
       " 'territory',\n",
       " 'provided',\n",
       " 'possibility',\n",
       " 'free',\n",
       " 'expression',\n",
       " 'presidential',\n",
       " 'parliamentary',\n",
       " 'elections',\n",
       " 'referendums',\n",
       " 'rest',\n",
       " 'territory',\n",
       " 'ukraine',\n",
       " 'in',\n",
       " 'case',\n",
       " 'early',\n",
       " 'resignation',\n",
       " 'member',\n",
       " 'parliament',\n",
       " 'ukraine',\n",
       " 'elected',\n",
       " 'electoral',\n",
       " 'district',\n",
       " 'formed',\n",
       " 'autonomous',\n",
       " 'republic',\n",
       " 'crimea',\n",
       " 'city',\n",
       " 'sevastopol',\n",
       " 'midterm',\n",
       " 'elections',\n",
       " 'member',\n",
       " 'parliament',\n",
       " 'ukraine',\n",
       " 'held',\n",
       " 'district',\n",
       " 'elections',\n",
       " 'members',\n",
       " 'supreme',\n",
       " 'council',\n",
       " 'autonomous',\n",
       " 'republic',\n",
       " 'crimea',\n",
       " 'members',\n",
       " 'local',\n",
       " 'councils',\n",
       " 'village',\n",
       " 'settlement',\n",
       " 'city',\n",
       " 'heads',\n",
       " 'local',\n",
       " 'referendums',\n",
       " 'held',\n",
       " 'temporarily',\n",
       " 'occupied',\n",
       " 'territory',\n",
       " 'bodies',\n",
       " 'keeping',\n",
       " 'state',\n",
       " 'register',\n",
       " 'voters',\n",
       " 'established',\n",
       " 'territory',\n",
       " 'autonomous',\n",
       " 'republic',\n",
       " 'crimea',\n",
       " 'city',\n",
       " 'sevastopol',\n",
       " 'state',\n",
       " 'register',\n",
       " 'voters',\n",
       " 'the',\n",
       " 'procedure',\n",
       " 'access',\n",
       " 'records',\n",
       " 'voters',\n",
       " 'electoral',\n",
       " 'address',\n",
       " 'territory',\n",
       " 'jurisdiction',\n",
       " 'bodies',\n",
       " 'keeping',\n",
       " 'state',\n",
       " 'register',\n",
       " 'voters',\n",
       " 'updating',\n",
       " 'records',\n",
       " 'established',\n",
       " 'central',\n",
       " 'election',\n",
       " 'commission',\n",
       " 'government',\n",
       " 'local',\n",
       " 'authorities',\n",
       " 'established',\n",
       " 'constitution',\n",
       " 'laws',\n",
       " 'ukraine',\n",
       " 'officials',\n",
       " 'officers',\n",
       " 'temporarily',\n",
       " 'occupied',\n",
       " 'territory',\n",
       " 'act',\n",
       " 'basis',\n",
       " 'limits',\n",
       " 'powers',\n",
       " 'manner',\n",
       " 'provided',\n",
       " 'constitution',\n",
       " 'laws',\n",
       " 'ukraine',\n",
       " 'any',\n",
       " 'bodies',\n",
       " 'officials',\n",
       " 'officers',\n",
       " 'temporarily',\n",
       " 'occupied',\n",
       " 'territory',\n",
       " 'activities',\n",
       " 'considered',\n",
       " 'illegal',\n",
       " 'bodies',\n",
       " 'persons',\n",
       " 'established',\n",
       " 'elected',\n",
       " 'appointed',\n",
       " 'unlawful',\n",
       " 'manner',\n",
       " 'establishment',\n",
       " 'relations',\n",
       " 'interaction',\n",
       " 'state',\n",
       " 'authorities',\n",
       " 'ukraine',\n",
       " 'officials',\n",
       " 'local',\n",
       " 'bodies',\n",
       " 'officials',\n",
       " 'illegal',\n",
       " 'bodies',\n",
       " 'officials',\n",
       " 'created',\n",
       " 'temporarily',\n",
       " 'occupied',\n",
       " 'territory',\n",
       " 'allowed',\n",
       " 'solely',\n",
       " 'purpose',\n",
       " 'ensuring',\n",
       " 'national',\n",
       " 'interests',\n",
       " 'ukraine',\n",
       " 'protecting',\n",
       " 'rights',\n",
       " 'freedoms',\n",
       " 'citizens',\n",
       " 'ukraine',\n",
       " 'implementation',\n",
       " 'international',\n",
       " 'treaties',\n",
       " 'ratified',\n",
       " 'verkhovna',\n",
       " 'rada',\n",
       " 'ukraine',\n",
       " 'promoting',\n",
       " 'restoration',\n",
       " 'constitutional',\n",
       " 'order',\n",
       " 'ukraine',\n",
       " 'temporarily',\n",
       " 'occupied',\n",
       " 'territory',\n",
       " 'citizens',\n",
       " 'ukraine',\n",
       " 'free',\n",
       " 'unhindered',\n",
       " 'entry',\n",
       " 'exit',\n",
       " 'temporarily',\n",
       " 'occupied',\n",
       " 'territory',\n",
       " 'checkpoints',\n",
       " 'presenting',\n",
       " 'identity',\n",
       " 'document',\n",
       " 'confirming',\n",
       " 'citizenship',\n",
       " 'ukraine',\n",
       " 'foreigners',\n",
       " 'stateless',\n",
       " 'persons',\n",
       " 'allowed',\n",
       " 'temporarily',\n",
       " 'occupied',\n",
       " 'territory',\n",
       " 'checkpoints',\n",
       " 'special',\n",
       " 'permit',\n",
       " 'the',\n",
       " 'procedure',\n",
       " 'entry',\n",
       " 'exit',\n",
       " 'foreigners',\n",
       " 'stateless',\n",
       " 'persons',\n",
       " 'temporarily',\n",
       " 'occupied',\n",
       " 'territory',\n",
       " 'established',\n",
       " 'cabinet',\n",
       " 'ministers',\n",
       " 'ukraine',\n",
       " 'property',\n",
       " 'rights',\n",
       " 'temporarily',\n",
       " ...]"
      ]
     },
     "execution_count": 467,
     "metadata": {},
     "output_type": "execute_result"
    }
   ],
   "source": [
    "lowercase_words = [word.lower() for word in words\n",
    "                   if word not in stopwords.words() and word.isalpha()]\n",
    "lowercase_words\n"
   ]
  },
  {
   "cell_type": "code",
   "execution_count": 468,
   "metadata": {},
   "outputs": [
    {
     "data": {
      "text/plain": [
       "[('ukraine', 103),\n",
       " ('territory', 85),\n",
       " ('temporarily', 56),\n",
       " ('occupied', 56),\n",
       " ('court', 38),\n",
       " ('city', 36),\n",
       " ('law', 34),\n",
       " ('state', 27),\n",
       " ('rights', 24),\n",
       " ('sevastopol', 23),\n",
       " ('autonomous', 22),\n",
       " ('republic', 22),\n",
       " ('crimea', 22),\n",
       " ('citizens', 21),\n",
       " ('local', 20),\n",
       " ('located', 20),\n",
       " ('jurisdiction', 19),\n",
       " ('courts', 18),\n",
       " ('laws', 16),\n",
       " ('established', 16),\n",
       " ('kyiv', 16),\n",
       " ('appeal', 16),\n",
       " ('provided', 15),\n",
       " ('freedoms', 15),\n",
       " ('general', 15)]"
      ]
     },
     "execution_count": 468,
     "metadata": {},
     "output_type": "execute_result"
    }
   ],
   "source": [
    "word_frequencies = FreqDist(lowercase_words)\n",
    "most_frequent_words = FreqDist(lowercase_words).most_common(25)\n",
    "most_frequent_words\n"
   ]
  },
  {
   "cell_type": "code",
   "execution_count": 469,
   "metadata": {},
   "outputs": [],
   "source": [
    "sentences = sent_tokenize(text)\n",
    "for sentence in sentences:\n",
    "    candidate_sentences[sentence] = sentence.lower()\n"
   ]
  },
  {
   "cell_type": "code",
   "execution_count": 470,
   "metadata": {},
   "outputs": [],
   "source": [
    "for long, short in candidate_sentences.items():\n",
    "    count = 0\n",
    "    for freq_word, frequency_score in most_frequent_words:\n",
    "        if freq_word in short:\n",
    "            count += frequency_score\n",
    "            candidate_sentence_counts[long] = count\n"
   ]
  },
  {
   "cell_type": "code",
   "execution_count": 471,
   "metadata": {},
   "outputs": [
    {
     "name": "stdout",
     "output_type": "stream",
     "text": [
      "OrderedDict([('Ukraine, the Autonomous Republic of Crimea, territorial communities, including the territorial community of the city of Sevastopol, government and local authorities and other legal entities of public law shall retain the right of ownership and other real rights to property, including real estate, including land plots located within the temporarily occupied territory.', 550), ('For the purposes of this Law, the temporarily occupied territory is defined as: 1) land territory of the Autonomous Republic of Crimea and the city of Sevastopol, the internal waters of these territories of Ukraine; 2) internal sea waters and territorial sea of Ukraine around the Crimean Peninsula, the territory of the exclusive (maritime) economic zone of Ukraine along the coast of the Crimean Peninsula and adjacent to the coast of the continental shelf of Ukraine, which fall under the jurisdiction of government authorities of Ukraine under the norms of international law, the Constitution and laws of Ukraine; 3) subsurface resources under the territories specified in clauses 1 and 2 of this part, and airspace over these territories.', 494), ('Due to inability to administer justice by the courts of the Autonomous Republic of Crimea and the city of Sevastopol within the temporarily occupied territories, the territorial jurisdiction of court cases under the jurisdiction of the courts located in the territory of the Autonomous Republic of Crimea and the city of Sevastopol shall be changed, and the consideration of: civil cases under the jurisdiction of local general courts located within the territory of the Autonomous Republic of Crimea and the city of Sevastopol shall be ensured by local general courts of the city of Kyiv, determined by the Court of Appeal of the city of Kyiv; administrative cases under the jurisdiction of local general courts as administrative courts located within the territory of the Autonomous Republic of Crimea and the city of Sevastopol shall be ensured by local general courts of the city of Kyiv, determined by the Kyiv Administrative Court of Appeal; civil cases under the jurisdiction of the general courts of appeal located within the territory of the Autonomous Republic of Crimea and the city of Sevastopol shall be ensured by the Court of Appeal of the city of Kyiv; commercial cases of the District Administrative Court of the Autonomous Republic of Crimea shall be ensured by the Kyiv District Administrative Court, administrative cases of the District Administrative Court of Sevastopol – by the District Administrative Court of Kyiv; Sevastopol Administrative Court of Appeal – by the Kyiv Administrative Court of Appeal; commercial cases of the Commercial Court of the Autonomous Republic of Crimea – by the Commercial Court of the Kyiv region, and commercial cases of the Commercial Court of the city of Sevastopol – by the Commercial Court of the city of Kiev, commercial cases of the Sevastopol Commercial Court of Appeal – by the Kyiv Commercial Court of Appeal; criminal proceedings under the jurisdiction of local (district, city, district in cities, city district courts) located in the territory of the Autonomous Republic of Crimea and the city of Sevastopol shall be ensured by one of the district courts of the city of Kyiv, determined by the Court of Appeal of the city of Kyiv; criminal proceedings under the jurisdiction of the Court of Appeal of the Autonomous Republic of Crimea and the Court of Appeal of the city of Sevastopol – by the Court of Appeal of the city of Kyiv; cases of administrative offenсes under the jurisdiction of local (district, city, district in cities, city district) courts located within the territory of the Autonomous Republic of Crimea and the city of Sevastopol – local general courts at the place of detection of an administrative offenсe.', 484), (\"In civil cases under the jurisdiction of local general courts located in the territory of the Autonomous Republic of Crimea and the city of Sevastopol, statements of claim, applications to get a court order, applications in special proceedings may also be submitted by an individual permanently residing in the temporarily occupied territory to the local general court located within the Kherson region, at the person's choice.\", 479)])\n"
     ]
    }
   ],
   "source": [
    "sorted_sentences = OrderedDict(sorted(\n",
    "    candidate_sentence_counts.items(),\n",
    "    key=lambda x: x[1],\n",
    "    reverse=True)[:4])\n",
    "print(sorted_sentences)"
   ]
  },
  {
   "cell_type": "code",
   "execution_count": 472,
   "metadata": {},
   "outputs": [],
   "source": [
    "from sumy.parsers.plaintext import PlaintextParser\n",
    "from sumy.nlp.tokenizers import Tokenizer\n",
    "from sumy.summarizers.luhn import LuhnSummarizer\n",
    "from sumy.summarizers.text_rank import TextRankSummarizer\n",
    "from sumy.summarizers.lex_rank import LexRankSummarizer\n",
    "from sumy.summarizers.lsa import LsaSummarizer\n",
    "from sumy.summarizers.kl import KLSummarizer\n",
    "from sumy.summarizers.reduction import ReductionSummarizer\n",
    "from sumy.summarizers.edmundson import EdmundsonSummarizer\n",
    "from sumy.summarizers.random import RandomSummarizer\n",
    "from sumy.summarizers.sum_basic import SumBasicSummarizer\n",
    "from sumy.nlp.stemmers import Stemmer\n",
    "from sumy.utils import get_stop_words\n"
   ]
  },
  {
   "cell_type": "code",
   "execution_count": 473,
   "metadata": {},
   "outputs": [],
   "source": [
    "LANGUAGE = \"english\"\n",
    "SENTENCES_COUNT = 7\n",
    "parser = PlaintextParser.from_string(text, Tokenizer(LANGUAGE))\n",
    "stemmer = Stemmer(LANGUAGE)\n"
   ]
  },
  {
   "cell_type": "code",
   "execution_count": 474,
   "metadata": {},
   "outputs": [],
   "source": [
    "def make_summarization(method):\n",
    "    summarized = []\n",
    "    summarizer = method(stemmer)\n",
    "    summarizer.stop_words = get_stop_words(LANGUAGE)\n",
    "    for sentence in summarizer(parser.document, SENTENCES_COUNT):\n",
    "        summarized.append(sentence)\n",
    "\n",
    "    return ' '.join(str(v) for v in summarized)\n"
   ]
  },
  {
   "cell_type": "code",
   "execution_count": 475,
   "metadata": {},
   "outputs": [
    {
     "name": "stdout",
     "output_type": "stream",
     "text": [
      "rouge1: 0.23 | rouge2: 0.09 | rougeL: 0.09 --> avg rouge: 0.18\n"
     ]
    }
   ],
   "source": [
    "evaluate_summary(\n",
    "    human_summary,\n",
    "    make_summarization(RandomSummarizer)\n",
    ")\n"
   ]
  },
  {
   "cell_type": "code",
   "execution_count": 476,
   "metadata": {},
   "outputs": [],
   "source": [
    "def make_sum_basic_summarization():\n",
    "    summarized = []\n",
    "    summarizer = SumBasicSummarizer()\n",
    "    summarizer.stop_words = get_stop_words(LANGUAGE)\n",
    "    for sentence in summarizer(parser.document, SENTENCES_COUNT):\n",
    "        summarized.append(sentence)\n",
    "\n",
    "    return ' '.join(str(v) for v in summarized)\n"
   ]
  },
  {
   "cell_type": "code",
   "execution_count": 477,
   "metadata": {},
   "outputs": [
    {
     "name": "stdout",
     "output_type": "stream",
     "text": [
      "rouge1: 0.24 | rouge2: 0.11 | rougeL: 0.11 --> avg rouge: 0.19\n"
     ]
    }
   ],
   "source": [
    "evaluate_summary(\n",
    "    human_summary,\n",
    "    make_sum_basic_summarization()\n",
    ")\n"
   ]
  },
  {
   "cell_type": "code",
   "execution_count": 478,
   "metadata": {},
   "outputs": [
    {
     "name": "stdout",
     "output_type": "stream",
     "text": [
      "rouge1: 0.34 | rouge2: 0.15 | rougeL: 0.15 --> avg rouge: 0.26\n"
     ]
    }
   ],
   "source": [
    "evaluate_summary(\n",
    "    human_summary,\n",
    "    make_summarization(LuhnSummarizer)\n",
    ")\n"
   ]
  },
  {
   "cell_type": "code",
   "execution_count": 479,
   "metadata": {},
   "outputs": [
    {
     "name": "stdout",
     "output_type": "stream",
     "text": [
      "rouge1: 0.35 | rouge2: 0.16 | rougeL: 0.16 --> avg rouge: 0.27\n"
     ]
    }
   ],
   "source": [
    "evaluate_summary(\n",
    "    human_summary,\n",
    "    make_summarization(ReductionSummarizer)\n",
    ")\n"
   ]
  },
  {
   "cell_type": "code",
   "execution_count": 480,
   "metadata": {},
   "outputs": [
    {
     "name": "stdout",
     "output_type": "stream",
     "text": [
      "rouge1: 0.28 | rouge2: 0.15 | rougeL: 0.15 --> avg rouge: 0.23\n"
     ]
    }
   ],
   "source": [
    "evaluate_summary(\n",
    "    human_summary,\n",
    "    make_summarization(KLSummarizer)\n",
    ")\n"
   ]
  },
  {
   "cell_type": "code",
   "execution_count": 481,
   "metadata": {},
   "outputs": [
    {
     "name": "stdout",
     "output_type": "stream",
     "text": [
      "rouge1: 0.33 | rouge2: 0.18 | rougeL: 0.18 --> avg rouge: 0.27\n"
     ]
    }
   ],
   "source": [
    "evaluate_summary(\n",
    "    human_summary,\n",
    "    make_summarization(LexRankSummarizer)\n",
    ")\n"
   ]
  },
  {
   "cell_type": "code",
   "execution_count": 482,
   "metadata": {},
   "outputs": [
    {
     "name": "stdout",
     "output_type": "stream",
     "text": [
      "rouge1: 0.35 | rouge2: 0.16 | rougeL: 0.16 --> avg rouge: 0.27\n"
     ]
    }
   ],
   "source": [
    "evaluate_summary(\n",
    "    human_summary,\n",
    "    make_summarization(TextRankSummarizer)\n",
    ")\n"
   ]
  },
  {
   "cell_type": "code",
   "execution_count": 483,
   "metadata": {},
   "outputs": [
    {
     "name": "stdout",
     "output_type": "stream",
     "text": [
      "rouge1: 0.29 | rouge2: 0.11 | rougeL: 0.11 --> avg rouge: 0.22\n"
     ]
    }
   ],
   "source": [
    "evaluate_summary(\n",
    "    human_summary,\n",
    "    make_summarization(LsaSummarizer)\n",
    ")\n"
   ]
  },
  {
   "cell_type": "code",
   "execution_count": 484,
   "metadata": {},
   "outputs": [],
   "source": [
    "def make_edmundson_summarization():\n",
    "    summarized = []\n",
    "    summarizer = EdmundsonSummarizer(stemmer)\n",
    "    summarizer.bonus_words = ('foo')\n",
    "    summarizer.stigma_words = ('foo')\n",
    "    summarizer.null_words = ('foo')\n",
    "    for sentence in summarizer(parser.document, SENTENCES_COUNT):\n",
    "        summarized.append(sentence)\n",
    "\n",
    "    return ' '.join(str(v) for v in summarized)\n"
   ]
  },
  {
   "cell_type": "code",
   "execution_count": 485,
   "metadata": {},
   "outputs": [
    {
     "name": "stdout",
     "output_type": "stream",
     "text": [
      "rouge1: 0.23 | rouge2: 0.09 | rougeL: 0.09 --> avg rouge: 0.17\n"
     ]
    }
   ],
   "source": [
    "evaluate_summary(\n",
    "    human_summary,\n",
    "    make_edmundson_summarization()\n",
    ")"
   ]
  },
  {
   "cell_type": "code",
   "execution_count": 486,
   "metadata": {},
   "outputs": [],
   "source": [
    "tl_dr_this_summary = \"\"\"Official translation Last modification: 31.05.21 07:36:24 LAW OF UKRAINE On Ensuring Civil Rights and Freedoms, and the Legal Regime on the Temporarily Occupied Territory of Ukraine (The Official Bulletin of the Verkhovna Rada of Ukraine (BVR), 2014, No.\n",
    "1706-VII of 20 October 2014, BVR, 2015, No.\n",
    "The legal regime of the temporarily occupied territory shall provide for a special procedure for ensuring the rights and freedoms of Ukrainian citizens living in the temporarily occupied territory.\n",
    "{Article 12 has been supplemented with part four as amended by Law No.\n",
    "The procedure provided for in this Article for summoning to court and notification of a court decision may be applied to other parties to the litigation with the address of place of residence (stay), location or place of work within the temporarily occupied territory, if the exercise of their procedural rights and obligations depends on it.\n",
    "Acquisition of the right of private ownership to residential premises specified in part 1 of this Article, located within the temporarily occupied territory, by military personnel of military formations and law enforcement agencies of Ukraine and members of their families shall not deprive them of the right to privatise housing located in another territory of Ukraine, under the Law of Ukraine “On Privatisation of State Housing Stock”.\"\"\""
   ]
  },
  {
   "cell_type": "code",
   "execution_count": 487,
   "metadata": {},
   "outputs": [
    {
     "name": "stdout",
     "output_type": "stream",
     "text": [
      "rouge1: 0.26 | rouge2: 0.12 | rougeL: 0.12 --> avg rouge: 0.21\n"
     ]
    }
   ],
   "source": [
    "evaluate_summary(\n",
    "    human_summary,\n",
    "    tl_dr_this_summary\n",
    ")\n"
   ]
  },
  {
   "cell_type": "code",
   "execution_count": 488,
   "metadata": {},
   "outputs": [],
   "source": [
    "smmry_summary = \"\"\"Presence of units of the other states' armed forces within the territory of Ukraine in violation of the procedure defined by the Constitution and laws of Ukraine, The Hague Conventions of 1907, the IV Geneva Convention of 1949, as well as in disregard of the Memorandum on Security Assurances in connection with Ukraine's accession to the Treaty on the Non-Proliferation of Nuclear Weapons of 1994, the Treaty on Friendship, Cooperation, and Partnership between Ukraine and the Russian Federation of 1997 and other international legal acts shall constitute occupation of a part of the territory of the sovereign state of Ukraine and an internationally unlawful act with all the consequences provided for by international law.\n",
    "\n",
    "2) internal sea waters and territorial sea of Ukraine around the Crimean Peninsula, the territory of the exclusive economic zone of Ukraine along the coast of the Crimean Peninsula and adjacent to the coast of the continental shelf of Ukraine, which fall under the jurisdiction of government authorities of Ukraine under the norms of international law, the Constitution and laws of Ukraine;.\n",
    "\n",
    "Citizens of Ukraine residing within the temporarily occupied territory, in settlements at the contact line, shall have the right to receive or continue receiving a certain educational level within the territory of other regions of Ukraine at the expense of the state budget with the provision of places in dormitories for the duration of their studies.\n",
    "\n",
    "Foreigners and stateless persons permanently residing in Ukraine, persons who have been granted refugee status in Ukraine, persons in need of additional or temporary protection, and persons who have been granted the status of a foreign Ukrainian, who are legally staying in Ukraine and live within the temporarily occupied territory, shall have the right to get or continue getting a certain qualification within the territory of other regions of Ukraine following the procedure defined by the laws of Ukraine \"On Higher Education\" and \"On Professional Pre-higher Education\".\n",
    "\n",
    "Establishment of relations and interaction of state authorities of Ukraine, their officials, local self-government bodies and their officials with illegal bodies created within the temporarily occupied territory shall be allowed solely for the purpose of ensuring the national interests of Ukraine, protecting rights and freedoms of citizens of Ukraine, implementation of international treaties ratified by the Verkhovna Rada of Ukraine, promoting restoration of the constitutional order of Ukraine within the temporarily occupied territory.\n",
    "\n",
    "Provision of paragraph 1 of this part shall apply to military personnel of military formations and law enforcement agencies of Ukraine who continue to perform military service in other regions of Ukraine or were dismissed from military service in 2014 under part 1, Article 14 of this Law.\n",
    "\n",
    "Ukraine undertakes to take all possible measures provided for by the Constitution and laws of Ukraine, norms of international law, for the speedy liberation from occupation of the territory of Ukraine, restoration of integrity and sovereignty of the state, restoration of human and civil rights and freedoms violated as a result of occupation throughout the territory of Ukraine.\"\"\""
   ]
  },
  {
   "cell_type": "code",
   "execution_count": 489,
   "metadata": {},
   "outputs": [
    {
     "name": "stdout",
     "output_type": "stream",
     "text": [
      "rouge1: 0.3 | rouge2: 0.14 | rougeL: 0.14 --> avg rouge: 0.23\n"
     ]
    }
   ],
   "source": [
    "evaluate_summary(\n",
    "    human_summary,\n",
    "    smmry_summary\n",
    ")\n"
   ]
  },
  {
   "cell_type": "code",
   "execution_count": 490,
   "metadata": {},
   "outputs": [],
   "source": [
    "textsummarization_summary = \"\"\"1237-VII of 6 May 2014, BVR, 2014, No.\n",
    "\n",
    "1838-VIII of 7 February 2017, BVR, 2017, No.\n",
    "\n",
    "2147-VIII of 3 October 2017, BVR, 2017, No.\n",
    "\n",
    "2268-VIII of 18 January 2018, BVR, 2018, No.\n",
    "\n",
    "2581-VIII of 2 October 2018, BVR, 2018, No.\n",
    "\n",
    "2745-VIII of 6 June 2019, BVR, 2019, No.\n",
    "\n",
    "2019-VIII of 13 April 2017, BVR, 2017, Nos.\"\"\"\n"
   ]
  },
  {
   "cell_type": "code",
   "execution_count": 491,
   "metadata": {},
   "outputs": [
    {
     "name": "stdout",
     "output_type": "stream",
     "text": [
      "rouge1: 0.01 | rouge2: 0.0 | rougeL: 0.0 --> avg rouge: 0.01\n"
     ]
    }
   ],
   "source": [
    "evaluate_summary(\n",
    "    human_summary,\n",
    "    textsummarization_summary\n",
    ")\n"
   ]
  }
 ],
 "metadata": {
  "kernelspec": {
   "display_name": "Python 3",
   "language": "python",
   "name": "python3"
  },
  "language_info": {
   "codemirror_mode": {
    "name": "ipython",
    "version": 3
   },
   "file_extension": ".py",
   "mimetype": "text/x-python",
   "name": "python",
   "nbconvert_exporter": "python",
   "pygments_lexer": "ipython3",
   "version": "3.11.0"
  },
  "orig_nbformat": 4,
  "vscode": {
   "interpreter": {
    "hash": "c261aea317cc0286b3b3261fbba9abdec21eaa57589985bb7a274bf54d6cc0a7"
   }
  }
 },
 "nbformat": 4,
 "nbformat_minor": 2
}

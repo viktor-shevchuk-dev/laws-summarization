{
 "cells": [
  {
   "cell_type": "code",
   "execution_count": 264,
   "metadata": {},
   "outputs": [],
   "source": [
    "import pandas as pd\n",
    "import numpy as np\n",
    "import textwrap\n",
    "import nltk\n",
    "from nltk.tokenize import sent_tokenize, word_tokenize\n",
    "from nltk.corpus import stopwords\n",
    "from nltk.stem import WordNetLemmatizer, PorterStemmer\n",
    "from sklearn.feature_extraction.text import TfidfVectorizer\n",
    "from sklearn.metrics.pairwise import cosine_similarity\n",
    "import requests\n",
    "from bs4 import BeautifulSoup\n",
    "import rouge\n",
    "from IPython.display import display, HTML\n",
    "import seaborn as sns\n",
    "import matplotlib.pyplot as plt\n",
    "from statistics import mean\n",
    "import sumy\n",
    "from sumy.parsers.plaintext import PlaintextParser\n",
    "from sumy.nlp.tokenizers import Tokenizer\n",
    "import re\n",
    "\n",
    "from vizualization import utils_split_sentences, display_string_matching\n"
   ]
  },
  {
   "cell_type": "code",
   "execution_count": 265,
   "metadata": {},
   "outputs": [
    {
     "name": "stderr",
     "output_type": "stream",
     "text": [
      "[nltk_data] Downloading package punkt to\n",
      "[nltk_data]     C:\\Users\\Viktor_Shevchuk\\AppData\\Roaming\\nltk_data...\n",
      "[nltk_data]   Package punkt is already up-to-date!\n",
      "[nltk_data] Downloading package stopwords to\n",
      "[nltk_data]     C:\\Users\\Viktor_Shevchuk\\AppData\\Roaming\\nltk_data...\n",
      "[nltk_data]   Package stopwords is already up-to-date!\n"
     ]
    },
    {
     "data": {
      "text/plain": [
       "True"
      ]
     },
     "execution_count": 265,
     "metadata": {},
     "output_type": "execute_result"
    }
   ],
   "source": [
    "nltk.download('punkt')\n",
    "nltk.download('stopwords')"
   ]
  },
  {
   "cell_type": "code",
   "execution_count": 266,
   "metadata": {},
   "outputs": [],
   "source": [
    "URL1 = \"https://zakon.rada.gov.ua/laws/show/en/1207-18/conv/print\"\n",
    "URL2 = \"https://zakon.rada.gov.ua/laws/show/en/1700-18/print\"\n",
    "page = requests.get(URL1)\n",
    "\n",
    "# print(page.text) \n"
   ]
  },
  {
   "cell_type": "code",
   "execution_count": 267,
   "metadata": {},
   "outputs": [],
   "source": [
    "soup = BeautifulSoup(page.content, \"html.parser\")\n",
    "# soup"
   ]
  },
  {
   "cell_type": "code",
   "execution_count": 268,
   "metadata": {},
   "outputs": [],
   "source": [
    "paragraphs = soup.select('.rvts0 > .rvps2')\n",
    "# paragraphs"
   ]
  },
  {
   "cell_type": "code",
   "execution_count": 269,
   "metadata": {},
   "outputs": [],
   "source": [
    "legalStopWords = [\n",
    "    \"amended\", \"restated\", \"be stated\", \"supplemented\", \"section\", \"paragraph\", \"article\", \"as follows\", \"clauses\" \n",
    "]\n"
   ]
  },
  {
   "cell_type": "code",
   "execution_count": 270,
   "metadata": {},
   "outputs": [],
   "source": [
    "def isSentenceWithStopWord(para):\n",
    "    for word in legalStopWords:\n",
    "        sentenceWithStopWord = para.find(\n",
    "            text=lambda t: word in t.text.lower()\n",
    "        )\n",
    "\n",
    "        if sentenceWithStopWord:\n",
    "            return True\n"
   ]
  },
  {
   "cell_type": "code",
   "execution_count": 271,
   "metadata": {},
   "outputs": [],
   "source": [
    "def isProvisions(para):\n",
    "   return para.find(\n",
    "        text=lambda t: \"final and transitional provisions\" in t.text.lower()\n",
    "    )"
   ]
  },
  {
   "cell_type": "code",
   "execution_count": 272,
   "metadata": {},
   "outputs": [],
   "source": [
    "def isArticleEnsuring(para):\n",
    "  return para.find(\"span\", class_=\"rvts37\")\n"
   ]
  },
  {
   "cell_type": "code",
   "execution_count": 273,
   "metadata": {},
   "outputs": [],
   "source": [
    "def isArticleTitle(para):\n",
    "    return para.find(\"span\", class_=\"rvts9\")\n"
   ]
  },
  {
   "cell_type": "code",
   "execution_count": 274,
   "metadata": {},
   "outputs": [],
   "source": [
    "def isClosingChar(letter):\n",
    "  return letter == \".\" or letter == \")\"\n"
   ]
  },
  {
   "cell_type": "code",
   "execution_count": 275,
   "metadata": {},
   "outputs": [],
   "source": [
    "def discardOrderedListNumbers(text):\n",
    "    isFirstCharNumeric = text[0].isdigit()\n",
    "    isSecondCharNumeric = text[1].isdigit()\n",
    "    isThirdCharNumeric = text[2].isdigit()\n",
    "\n",
    "    if isFirstCharNumeric and isClosingChar(text[1]):\n",
    "        return text[2:].strip()\n",
    "    elif isFirstCharNumeric and isSecondCharNumeric and isClosingChar(text[2]):\n",
    "        return text[3:].strip()\n",
    "    elif isFirstCharNumeric and isSecondCharNumeric and isThirdCharNumeric and isClosingChar(text[3]):\n",
    "        return text[4:].strip()\n",
    "    elif re.search(r\"[a-z]\", text[0]) and isClosingChar(text[1]):\n",
    "        return text[2:].strip()\n",
    "\n",
    "    return text\n"
   ]
  },
  {
   "cell_type": "code",
   "execution_count": 276,
   "metadata": {},
   "outputs": [],
   "source": [
    "def clean(paragraphs):\n",
    "    cleaned = []\n",
    "    articleEnsuring = False\n",
    "\n",
    "    for para in paragraphs:\n",
    "        if articleEnsuring and not isArticleTitle(para):\n",
    "            continue\n",
    "        elif articleEnsuring and isArticleTitle(para):\n",
    "            articleEnsuring = False\n",
    "\n",
    "        if isArticleEnsuring(para):\n",
    "            articleEnsuring = True\n",
    "            continue\n",
    "\n",
    "        if isProvisions(para):\n",
    "            return cleaned\n",
    "\n",
    "        if not isSentenceWithStopWord(para) and not isArticleTitle(para):\n",
    "            cleaned.append(discardOrderedListNumbers(para.text.strip()))\n",
    "\n",
    "    return cleaned\n"
   ]
  },
  {
   "cell_type": "code",
   "execution_count": 277,
   "metadata": {},
   "outputs": [
    {
     "data": {
      "text/plain": [
       "['Under the Constitution of Ukraine, Ukraine is a sovereign and independent state.',\n",
       " 'The sovereignty of Ukraine shall apply to its entire territory, which shall be integral and inviolable within the existing border.',\n",
       " \"Presence of units of the other states' armed forces within the territory of Ukraine in violation of the procedure defined by the Constitution and laws of Ukraine, The Hague Conventions of 1907, the IV Geneva Convention of 1949, as well as in disregard of the Memorandum on Security Assurances in connection with Ukraine's accession to the Treaty on the Non-Proliferation of Nuclear Weapons of 1994, the Treaty on Friendship, Cooperation, and Partnership between Ukraine and the Russian Federation of 1997 and other international legal acts shall constitute occupation of a part of the territory of the sovereign state of Ukraine and an internationally unlawful act with all the consequences provided for by international law.\",\n",
       " 'The basis of the humanitarian, social and economic policy of Ukraine in relation to the population of the temporarily occupied territory of Ukraine shall be protected and full exercise of national, cultural, social and political rights of Ukrainian citizens, including indigenous peoples and national minorities.',\n",
       " 'The temporarily occupied territory of Ukraine (hereinafter referred to as the temporarily occupied territory) is an integral part of the territory of Ukraine, which is subject to the Constitution and laws of Ukraine.',\n",
       " 'The date of the beginning of the temporary occupation is 20 February 2014.',\n",
       " 'This Law defines the status of the territory of Ukraine, which is temporarily occupied as a result of the armed aggression of the Russian Federation, establishes a special legal regime within this territory, defines the specifics of functioning of government and local authorities, enterprises, institutions and organisations under this regime, respect and protection of human and civil rights and freedoms, as well as the rights and legitimate interests of legal entities.',\n",
       " 'For the purposes of this Law, the temporarily occupied territory is defined as: land territory of the Autonomous Republic of Crimea and the city of Sevastopol, the internal waters of these territories of Ukraine; internal sea waters and territorial sea of Ukraine around the Crimean Peninsula, the territory of the exclusive (maritime) economic zone of Ukraine along the coast of the Crimean Peninsula and adjacent to the coast of the continental shelf of Ukraine, which fall under the jurisdiction of government authorities of Ukraine under the norms of international law, the Constitution and laws of Ukraine; Within the temporarily occupied territory and during the period of validity of this Law, a special legal regime shall apply to the crossing of borders of the temporarily occupied territory, making transactions, holding elections and referendums, and exercising other human and civil rights and freedoms.',\n",
       " 'The legal regime of the temporarily occupied territory shall provide for a special procedure for ensuring the rights and freedoms of Ukrainian citizens living in the temporarily occupied territory.',\n",
       " 'The legal regime of the temporarily occupied territory may be established, changed or abolished exclusively by the laws of Ukraine.',\n",
       " 'Ukraine shall take all necessary measures to guarantee human and civil rights and freedoms provided for by the Constitution and laws of Ukraine, international treaties, to all citizens of Ukraine residing within the temporarily occupied territory.',\n",
       " 'Ukraine undertakes to maintain and ensure economic, financial, political, social, informational, cultural and other ties with Ukrainian citizens residing within the temporarily occupied territory.',\n",
       " 'Responsibility for violating human and civil rights and freedoms defined by the Constitution and laws of Ukraine within the temporarily occupied territory shall be assigned to the Russian Federation as an occupying state under the norms and principles of international law.',\n",
       " 'Compulsory automatic acquisition of citizenship of the Russian Federation by citizens of Ukraine residing within the temporarily occupied territory shall not be recognised by Ukraine and shall not be a ground for loss of Ukrainian citizenship.',\n",
       " 'The Cabinet of Ministers of Ukraine shall constantly monitor the respect of human and civil rights and freedoms in the temporarily occupied territory.',\n",
       " 'Based on the results of such monitoring, it shall make public and provide relevant information to international organisations in the field of protection of human and civil rights and freedoms and take the necessary measures.',\n",
       " 'The Ukrainian Parliament Commissioner for Human Rights shall exercise parliamentary oversight over the respect for constitutional human and civil rights and freedoms in the temporarily occupied territory under the law.',\n",
       " 'Compensation to the state of Ukraine, legal entities, NGOs, citizens of Ukraine, foreigners and stateless persons for pecuniary and non-pecuniary damage caused as a result of the temporary occupation shall be fully attributed to the Russian Federation as the occupying state.',\n",
       " 'The state of Ukraine shall by all possible means ensure compensation for pecuniary and non-pecuniary damage by the Russian Federation.',\n",
       " 'Responsibility for the protection of the cultural heritage within the temporarily occupied territory shall be attributed to the Russian Federation as the occupying state under the norms and principles of international law.',\n",
       " 'Registration of documents confirming the citizenship of Ukraine, identity or special status of citizens residing within the temporarily occupied territory shall be carried out by the central executive authority that implements the state policy in the field of migration (immigration and emigration), including countering illegal (unlawful) migration, citizenship, registration of individuals, refugees and other categories of migrants defined by law, in accordance with the procedure provided for by the Cabinet of Ministers of Ukraine.',\n",
       " 'At the request of citizens of Ukraine residing in the temporarily occupied territory or having resettled from it, certificates confirming their place of stay shall be made and issued at the place of their stay by the executive authority that implements state policy in the area of migration (immigration and emigration), including countering illegal (unlawful) migration, citizenship, registration of individuals, refugees and other categories of migrants defined by law.',\n",
       " 'Such certificates shall be issued to citizens on the day of application based on their passport of a citizen of Ukraine or another document containing information about residence registration under the Law of Ukraine “On Freedom of Movement and Free Choice of Place of Residence in Ukraine”, and a written application indicating the address at which official correspondence can be delivered to the citizen.',\n",
       " 'At the same time, information (note) about the place of stay of such a person shall not be entered in his/her passport.',\n",
       " 'An example and procedure for issuing a certificate confirming the place of stay, an example of a written application that should be submitted by a citizen for obtaining a certificate, shall be approved by the central executive authority in charge of shaping the state policy in the field of migration (immigration and emigration), including countering illegal (unlawful) migration, citizenship, registration of individuals, refugees and other categories of migrants defined by law.',\n",
       " 'For citizens of Ukraine residing within the temporarily occupied territory, the exercise of rights to employment, pension, mandatory state social insurance in case of unemployment, due to temporary disability, industrial accident and occupational disease that caused the loss of working capacity, to social services shall be ensured following the procedure provided for by the legislation of Ukraine.',\n",
       " 'Payment of pensions to citizens of Ukraine residing within the temporarily occupied territory and not receiving pensions and other social payments from the authorised bodies of the Russian Federation shall be carried out following the procedure established by the Cabinet of Ministers of Ukraine.',\n",
       " 'Elderly citizens, persons with disabilities, children with disabilities and other citizens of Ukraine experiencing difficult life circumstances and residing within the temporarily occupied territory shall have the right to be provided with social services under the legislation of Ukraine.',\n",
       " 'Homeless persons staying within the temporarily occupied territory shall have the right to social protection under the legislation of Ukraine.',\n",
       " 'Citizens of Ukraine residing within the temporarily occupied territory, in settlements at the contact line, shall have the right to receive or continue receiving a certain educational level within the territory of other regions of Ukraine at the expense of the state budget with the provision of places in dormitories for the duration of their studies.',\n",
       " 'Foreigners and stateless persons permanently residing in Ukraine, persons who have been granted refugee status in Ukraine, persons in need of additional or temporary protection, and persons who have been granted the status of a foreign Ukrainian, who are legally staying in Ukraine and live within the temporarily occupied territory, shall have the right to get or continue getting a certain qualification within the territory of other regions of Ukraine following the procedure defined by the laws of Ukraine “On Higher Education” and “On Professional Pre-higher Education\".',\n",
       " 'During presidential, parliamentary elections and all-Ukrainian referendums, voting of Ukrainian citizens within the temporarily occupied territory shall not be organised or take place.',\n",
       " 'Citizens of Ukraine residing within the temporarily occupied territory shall be provided with the possibility of free expression of their will during the presidential, parliamentary elections and all-Ukrainian referendums within the rest of the territory of Ukraine.',\n",
       " 'In case of early resignation of a Member of Parliament of Ukraine elected in a single-member electoral district formed within the Autonomous Republic of Crimea or the city of Sevastopol, midterm elections of a Member of Parliament of Ukraine shall not be held in this district.',\n",
       " 'Elections of members of the Supreme Council of the Autonomous Republic of Crimea, members of local councils, village, settlement, city heads, and local referendums shall not be held in the temporarily occupied territory.',\n",
       " 'Bodies for keeping the State Register of Voters established in the territory of the Autonomous Republic of Crimea and the city of Sevastopol shall not keep the State Register of Voters.',\n",
       " 'The procedure for access to records of voters with an electoral address within the territory under the jurisdiction of these bodies for keeping the State Register of Voters, as well as updating these records, shall be established by the Central Election Commission.',\n",
       " 'Government and local authorities established under the Constitution and laws of Ukraine, their officials and officers within the temporarily occupied territory shall act only on the basis, within the limits of their powers and in the manner provided for by the Constitution and laws of Ukraine.',\n",
       " 'Any bodies, their officials and officers within the temporarily occupied territory and their activities shall be considered illegal if these bodies or persons are established, elected or appointed in an unlawful manner.',\n",
       " 'Establishment of relations and interaction of state authorities of Ukraine, their officials, local self-government bodies and their officials with illegal bodies (officials) created within the temporarily occupied territory shall be allowed solely for the purpose of ensuring the national interests of Ukraine, protecting rights and freedoms of citizens of Ukraine, implementation of international treaties ratified by the Verkhovna Rada of Ukraine, promoting restoration of the constitutional order of Ukraine within the temporarily occupied territory.',\n",
       " 'Citizens of Ukraine shall have the right to free and unhindered entry to and exit from the temporarily occupied territory through entry/exit checkpoints, presenting an identity document confirming the citizenship of Ukraine.',\n",
       " 'Foreigners and stateless persons shall be allowed into and out of the temporarily occupied territory through the entry/exit checkpoints only with a special permit.',\n",
       " 'The procedure for entry and exit of foreigners and stateless persons to and from the temporarily occupied territory shall be established by the Cabinet of Ministers of Ukraine.',\n",
       " 'Property rights within the temporarily occupied territory shall be protected under the legislation of Ukraine.',\n",
       " 'Ukraine, the Autonomous Republic of Crimea, territorial communities, including the territorial community of the city of Sevastopol, government and local authorities and other legal entities of public law shall retain the right of ownership and other real rights to property, including real estate, including land plots located within the temporarily occupied territory.',\n",
       " 'Individuals, regardless of their refugee status or other special legal status, enterprises, institutions, organisations shall retain the right of ownership and other real rights to property, including real estate, including land plots located within the temporarily occupied territory, if it is acquired under the laws of Ukraine.',\n",
       " 'Acquisition and termination of ownership right to real estate located within the temporarily occupied territory shall be carried out following the provisions of the legislation of Ukraine outside the temporarily occupied territory.',\n",
       " 'If it is impossible for the state registrar to exercise the powers of state registration of real rights to real estate and their encumbrances within the temporarily occupied territory, the state registration body shall be determined by the Cabinet of Ministers of Ukraine.',\n",
       " 'Any transaction related to real estate, including land plots, made within the temporarily occupied territory in violation of the requirements of this Law and other laws of Ukraine, shall be considered invalid from the moment of performance and shall not have legal effects, except for those related to its invalidity.',\n",
       " 'Land, its resources, atmospheric air, water and other natural resources located within the territory of Ukraine, natural resources of its continental shelf, exclusive (marine) economic zone, which constitute property of the Ukrainian people, military property, property of state bodies, state enterprises, institutions and organisations located within the temporarily occupied territory and belonging to the state of Ukraine, shall not become the property of other states, legal entities or individuals in a different way than provided for by the laws of Ukraine.',\n",
       " 'Due to inability to administer justice by the courts of the Autonomous Republic of Crimea and the city of Sevastopol within the temporarily occupied territories, the territorial jurisdiction of court cases under the jurisdiction of the courts located in the territory of the Autonomous Republic of Crimea and the city of Sevastopol shall be changed, and the consideration of: civil cases under the jurisdiction of local general courts located within the territory of the Autonomous Republic of Crimea and the city of Sevastopol shall be ensured by local general courts of the city of Kyiv, determined by the Court of Appeal of the city of Kyiv; administrative cases under the jurisdiction of local general courts as administrative courts located within the territory of the Autonomous Republic of Crimea and the city of Sevastopol shall be ensured by local general courts of the city of Kyiv, determined by the Kyiv Administrative Court of Appeal; civil cases under the jurisdiction of the general courts of appeal located within the territory of the Autonomous Republic of Crimea and the city of Sevastopol shall be ensured by the Court of Appeal of the city of Kyiv; commercial cases of the District Administrative Court of the Autonomous Republic of Crimea shall be ensured by the Kyiv District Administrative Court, administrative cases of the District Administrative Court of Sevastopol – by the District Administrative Court of Kyiv; Sevastopol Administrative Court of Appeal – by the Kyiv Administrative Court of Appeal; commercial cases of the Commercial Court of the Autonomous Republic of Crimea – by the Commercial Court of the Kyiv region, and commercial cases of the Commercial Court of the city of Sevastopol – by the Commercial Court of the city of Kiev, commercial cases of the Sevastopol Commercial Court of Appeal – by the Kyiv Commercial Court of Appeal; criminal proceedings under the jurisdiction of local (district, city, district in cities, city district courts) located in the territory of the Autonomous Republic of Crimea and the city of Sevastopol shall be ensured by one of the district courts of the city of Kyiv, determined by the Court of Appeal of the city of Kyiv; criminal proceedings under the jurisdiction of the Court of Appeal of the Autonomous Republic of Crimea and the Court of Appeal of the city of Sevastopol – by the Court of Appeal of the city of Kyiv; cases of administrative offenсes under the jurisdiction of local (district, city, district in cities, city district) courts located within the territory of the Autonomous Republic of Crimea and the city of Sevastopol – local general courts at the place of detection of an administrative offenсe.',\n",
       " 'Matters that fall within the competence of an investigating judge in criminal proceedings at the stage of pre-trial investigation and instituted in the territory of the Autonomous Republic of Crimea and the city of Sevastopol shall be considered by investigating judges of the District Courts of the city of Kyiv, determined by the Court of Appeal of the city of Kyiv.',\n",
       " \"In civil cases under the jurisdiction of local general courts located in the territory of the Autonomous Republic of Crimea and the city of Sevastopol, statements of claim, applications to get a court order, applications in special proceedings may also be submitted by an individual permanently residing in the temporarily occupied territory to the local general court located within the Kherson region, at the person's choice.\",\n",
       " \"After instituting civil proceedings under the jurisdiction of local general courts located in the territory of the Autonomous Republic of Crimea and the city of Sevastopol, until the case is considered on the merits, an individual (defendant, debtor, stakeholder, third person) permanently residing in the temporarily occupied territory may file a petition to a certain local general court of the city of Kyiv having jurisdiction over the case, to transfer such a case to the local general court located within the Kherson region, at the person's choice.\",\n",
       " 'If such a petition is filed, the case may be transferred to a local general court determined by a person, located within the Kherson region, on the basis of a court ruling no later than five days after the deadline for its appeal, and if a complaint is filed – no later than five days after it is dismissed.',\n",
       " 'Re-transfer of the case shall not be allowed.',\n",
       " 'An individual (a party to the case, as well as a person who did not participate in the case, if the court made a decision on his/her rights, freedoms, interests and/or obligations), permanently residing within the temporarily occupied territory, shall also have the right to file an appeal to the Kherson Court of Appeal if the court decision is made following consideration of his/her civil case by a local general court located within the Kherson region, as a court of first instance.',\n",
       " 'Cases pending before the court located in the territory of the Autonomous Republic of Crimea and the city of Sevastopol shall be transmitted to the courts following the jurisdiction established herein, within ten business days from the day it comes into force or the day such jurisdiction is established.',\n",
       " 'If the damage is caused by foreign citizens and non-residents, jurisdiction shall be established at the place of damage, taking into account the rules of jurisdiction established by this Law.',\n",
       " \"Investigative jurisdiction of criminal offences committed within the temporarily occupied territory shall be determined by the Prosecutor General's Office.\",\n",
       " \"Pre-trial investigation materials related to criminal offences within criminal proceedings at the stage of pre-trial investigation, shall be transferred to the pre-trial investigation bodies determined by the Prosecutor General's Office.\",\n",
       " 'Non-appearance at the request of an investigator, prosecutor or following court summons of an investigating judge or a court (failure to appear at the request without a valid reason more than twice) by a suspect, accused within the temporarily occupied territory of Ukraine, and putting him on the wanted list shall be the basis for a special pre-trial investigation or special court proceedings following the procedure provided for by the Criminal Procedure Code of Ukraine, and the modalities established hereby.',\n",
       " 'The requirement to put on the interstate or international wanted list shall not apply to cases when the matter of instituting special criminal proceedings against these persons is being considered.',\n",
       " 'Courts, pursuant to the jurisdiction established by this Law and the requirements of the procedural law, shall consider cases and decide on procedural matters that arise after the court ruling.',\n",
       " 'The modalities of economic activity in the temporarily occupied territory shall be determined by law.',\n",
       " 'Military personnel of military formations and law enforcement agencies of Ukraine who arrived from the temporarily occupied territory and willing (if there are grounds) to resign from military service, shall be dismissed from military service, including during a special period, if there are grounds, and in their absence – due to personnel downsizing, if they applied for dismissal within three months after arrival from the temporarily occupied territory.',\n",
       " 'Military personnel of military formations and law enforcement agencies of Ukraine who have not arrived at certain locations within the time limits determined by military formations and law enforcement agencies of Ukraine shall be considered to have left military units and shall be placed at service of the relevant officials.',\n",
       " 'Relevant information on their search shall be provided to law enforcement agencies.',\n",
       " 'Military personnel of military formations and law enforcement agencies of Ukraine subject to documentary confirmation of their enrolment in the Armed Forces of the Russian Federation or special services or law enforcement agencies of the Russian Federation, shall be excluded from the lists of military formations and law enforcement agencies of Ukraine, and the contract shall be considered terminated from the time of their enrolment (or receipt of information about their enrolment) in the Armed Forces of the Russian Federation or special services or law enforcement agencies of the Russian Federation.',\n",
       " 'Military personnel of military formations established under the laws of Ukraine and law enforcement agencies of Ukraine who served in the territory of the Autonomous Republic of Crimea and the city of Sevastopol, and their family members shall have the right to privatise duly received residential premises for permanent residence, departmental residential premises, official residential premises and residential premises in dormitories located in the territory of the Autonomous Republic of Crimea and the city of Sevastopol, where they lived on 1 January 2014.',\n",
       " 'Judges who have worked in the courts of Ukraine in the territory of the Autonomous Republic of Crimea and the city of Sevastopol and have stated willingness to move due to its temporary occupation by the Russian Federation shall be guaranteed the right to be reassigned to the position of a judge in a court in the rest of the territory of Ukraine.',\n",
       " 'In case of violation of the provisions of this Law, state bodies of Ukraine shall apply the mechanisms provided for by the laws of Ukraine and the norms of international law in order to protect the peace, security, rights, freedoms and legitimate interests of citizens of Ukraine located within the temporarily occupied territory, as well as the legitimate interests of the state of Ukraine.',\n",
       " 'Ukraine undertakes to take all possible measures provided for by the Constitution and laws of Ukraine, norms of international law, for the speedy liberation from occupation of the territory of Ukraine, restoration of integrity and sovereignty of the state, restoration of human and civil rights and freedoms violated as a result of occupation throughout the territory of Ukraine.',\n",
       " 'If it is impossible to carry out activities within the temporarily occupied territory, the location of state bodies established under the Constitution and laws of Ukraine shall be determined by the Cabinet of Ministers of Ukraine.',\n",
       " 'Citizens of Ukraine shall be guaranteed full respect of their rights and freedoms provided for by the Constitution of Ukraine, including social, labor, electoral rights and the right to education, after they leave the temporarily occupied territory.',\n",
       " 'Guarantees of the rights, freedoms and legitimate interests of persons who have resettled from the temporarily occupied territory of Ukraine and are lawfully staying within the territory of Ukraine shall be determined by the Law of Ukraine “On Ensuring the Rights and Freedoms of Internally Displaced Persons”.',\n",
       " 'Expenditures on measures provided for by this Law shall be incurred by the state of Ukraine under the procedure established by the Cabinet of Ministers of Ukraine.',\n",
       " 'Persons guilty of violating the requirements of this Law shall bear the responsibility provided for by law.']"
      ]
     },
     "execution_count": 277,
     "metadata": {},
     "output_type": "execute_result"
    }
   ],
   "source": [
    "cleaned_paragraphs = sent_tokenize(\n",
    "    ' '.join(clean(paragraphs)), language='english'\n",
    ")\n",
    "\n",
    "cleaned_paragraphs\n"
   ]
  },
  {
   "cell_type": "code",
   "execution_count": 278,
   "metadata": {},
   "outputs": [
    {
     "data": {
      "text/plain": [
       "set"
      ]
     },
     "execution_count": 278,
     "metadata": {},
     "output_type": "execute_result"
    }
   ],
   "source": [
    "stop_words = set(stopwords.words('english'))\n",
    "type(stop_words)\n"
   ]
  },
  {
   "cell_type": "code",
   "execution_count": 279,
   "metadata": {},
   "outputs": [],
   "source": [
    "stop_words.add('shall')\n",
    "stop_words.add('.')\n",
    "stop_words.add(',')\n",
    "stop_words.add('(')\n",
    "stop_words.add(')')\n",
    "stop_words.add(';')\n",
    "stop_words.add(':')\n"
   ]
  },
  {
   "cell_type": "code",
   "execution_count": 280,
   "metadata": {},
   "outputs": [],
   "source": [
    "word_tokens = nltk.word_tokenize(\" \".join(cleaned_paragraphs))\n",
    "\n"
   ]
  },
  {
   "cell_type": "code",
   "execution_count": 281,
   "metadata": {},
   "outputs": [],
   "source": [
    "# converts the words in word_tokens to lower case and then checks whether they are present in stop_words or not\n",
    "filtered_sentence = [w.lower()\n",
    "                     for w in word_tokens if not w.lower() in stop_words]\n",
    "# with lower case conversion\n",
    "\n"
   ]
  },
  {
   "cell_type": "code",
   "execution_count": 282,
   "metadata": {},
   "outputs": [],
   "source": [
    "'''\n",
    "Compute n-grams frequency with nltk tokenizer.\n",
    ":parameter\n",
    "    :param corpus: list - dtf[\"text\"]\n",
    "    :param ngrams: int or list - 1 for unigrams, 2 for bigrams, [1,2] for both\n",
    "    :param top: num - plot the top frequent words\n",
    ":return\n",
    "    dtf_count: dtf with word frequency\n",
    "'''\n",
    "\n",
    "\n",
    "def word_freq(corpus, ngrams=[1, 2, 3], top=10, figsize=(10, 7)):\n",
    "    lst_tokens = nltk.tokenize.word_tokenize(corpus)\n",
    "    ngrams = [ngrams] if type(ngrams) is int else ngrams\n",
    "\n",
    "    # calculate\n",
    "    dtf_freq = pd.DataFrame()\n",
    "    for n in ngrams:\n",
    "        dic_words_freq = nltk.FreqDist(nltk.ngrams(lst_tokens, n))\n",
    "        dtf_n = pd.DataFrame(dic_words_freq.most_common(),\n",
    "                             columns=[\"word\", \"freq\"])\n",
    "        dtf_n[\"ngrams\"] = n\n",
    "        dtf_freq = dtf_freq.append(dtf_n)\n",
    "    dtf_freq[\"word\"] = dtf_freq[\"word\"].apply(\n",
    "        lambda x: \" \".join(string for string in x))\n",
    "    dtf_freq = dtf_freq.sort_values(\n",
    "        [\"ngrams\", \"freq\"], ascending=[True, False])\n",
    "\n",
    "    # plot\n",
    "    fig, ax = plt.subplots(figsize=figsize)\n",
    "    sns.barplot(x=\"freq\", y=\"word\", hue=\"ngrams\", dodge=False, ax=ax,\n",
    "                data=dtf_freq.groupby('ngrams')[\n",
    "                    \"ngrams\", \"freq\", \"word\"].head(top)\n",
    "                )\n",
    "    ax.set(xlabel=None, ylabel=None, title=\"Most frequent words\")\n",
    "    ax.grid(axis=\"x\")\n",
    "    plt.show()\n",
    "    return dtf_freq\n"
   ]
  },
  {
   "cell_type": "code",
   "execution_count": 283,
   "metadata": {},
   "outputs": [
    {
     "name": "stderr",
     "output_type": "stream",
     "text": [
      "C:\\Users\\Viktor_Shevchuk\\AppData\\Local\\Temp\\ipykernel_57364\\2931158815.py:23: FutureWarning: The frame.append method is deprecated and will be removed from pandas in a future version. Use pandas.concat instead.\n",
      "  dtf_freq = dtf_freq.append(dtf_n)\n",
      "C:\\Users\\Viktor_Shevchuk\\AppData\\Local\\Temp\\ipykernel_57364\\2931158815.py:32: FutureWarning: Indexing with multiple keys (implicitly converted to a tuple of keys) will be deprecated, use a list instead.\n",
      "  data=dtf_freq.groupby('ngrams')[\n"
     ]
    },
    {
     "data": {
      "image/png": "[encoded data removed]",
      "text/plain": [
       "<Figure size 1000x800 with 1 Axes>"
      ]
     },
     "metadata": {},
     "output_type": "display_data"
    }
   ],
   "source": [
    "# Find most common words in text\n",
    "freq = word_freq(\n",
    "    corpus=\" \".join(filtered_sentence),\n",
    "    ngrams=[1],\n",
    "    top=40,\n",
    "    figsize=(10, 8)\n",
    ")\n"
   ]
  },
  {
   "cell_type": "code",
   "execution_count": 284,
   "metadata": {},
   "outputs": [
    {
     "name": "stdout",
     "output_type": "stream",
     "text": [
      "Maximum word amount in a sentence:  441\n",
      "Minimum word amount in a sentence:  8\n",
      "Average word amount in a sentence:  50.34615384615385\n"
     ]
    }
   ],
   "source": [
    "tokened_sent = sent_tokenize(\" \".join(cleaned_paragraphs))\n",
    "\n",
    "main_dict = {}\n",
    "\n",
    "for item in tokened_sent:\n",
    "    item1 = list(item.split(\" \"))\n",
    "    item2 = [' '.join(item1)]\n",
    "    Length = []\n",
    "    Length.append(len(item1))\n",
    "    mydict = dict(zip(item2, Length))\n",
    "    main_dict.update(mydict)\n",
    "\n",
    "print('Maximum word amount in a sentence: ', max(main_dict.values()))\n",
    "print('Minimum word amount in a sentence: ', min(main_dict.values()))\n",
    "print('Average word amount in a sentence: ', mean(main_dict.values()))\n"
   ]
  },
  {
   "cell_type": "code",
   "execution_count": 285,
   "metadata": {},
   "outputs": [],
   "source": [
    "featurizer = TfidfVectorizer(\n",
    "    stop_words=stopwords.words('english'), \n",
    "    # norm='l1'\n",
    ")\n",
    "# featurizer\n"
   ]
  },
  {
   "cell_type": "code",
   "execution_count": 286,
   "metadata": {},
   "outputs": [],
   "source": [
    "X = featurizer.fit_transform(\n",
    "    cleaned_paragraphs\n",
    ")\n",
    "# X"
   ]
  },
  {
   "cell_type": "code",
   "execution_count": 287,
   "metadata": {},
   "outputs": [],
   "source": [
    "def get_sentence_score(tfidf_row):\n",
    "    # return the average of the non-zero values of the tf-idf vector representation of a sentence\n",
    "    x = tfidf_row[tfidf_row != 0]\n",
    "\n",
    "    return x.mean()"
   ]
  },
  {
   "cell_type": "code",
   "execution_count": 288,
   "metadata": {},
   "outputs": [],
   "source": [
    "scores = np.zeros(len(cleaned_paragraphs))\n",
    "for i in range(len(cleaned_paragraphs)):\n",
    "    score = get_sentence_score(X[i, :])\n",
    "    scores[i] = score\n"
   ]
  },
  {
   "cell_type": "code",
   "execution_count": 289,
   "metadata": {},
   "outputs": [],
   "source": [
    "sort_idx = np.argsort(-scores)\n",
    "# sort_idx"
   ]
  },
  {
   "cell_type": "code",
   "execution_count": 290,
   "metadata": {},
   "outputs": [
    {
     "name": "stdout",
     "output_type": "stream",
     "text": [
      "0.47: Re-transfer of the case shall not be allowed.\n",
      "0.43: Under the Constitution of Ukraine, Ukraine is a sovereign and independent state.\n",
      "0.38: The date of the beginning of the temporary occupation is 20 February 2014.\n",
      "0.34: Relevant information on their search shall be provided to law enforcement agencies.\n",
      "0.32: At the same time, information (note) about the place of stay of such a person shall not be entered in his/her passport.\n",
      "0.32: Persons guilty of violating the requirements of this Law shall bear the responsibility provided for by law.\n",
      "0.30: The modalities of economic activity in the temporarily occupied territory shall be determined by law.\n",
      "0.30: The temporarily occupied territory of Ukraine (hereinafter referred to as the temporarily occupied territory) is an integral part of the territory of Ukraine, which is subject to the Constitution and laws of Ukraine.\n",
      "0.28: Property rights within the temporarily occupied territory shall be protected under the legislation of Ukraine.\n",
      "0.28: The sovereignty of Ukraine shall apply to its entire territory, which shall be integral and inviolable within the existing border.\n"
     ]
    }
   ],
   "source": [
    "for i in sort_idx[:10]:\n",
    "    print(\"%.2f: %s\" % (scores[i], cleaned_paragraphs[i]))"
   ]
  },
  {
   "cell_type": "code",
   "execution_count": 291,
   "metadata": {},
   "outputs": [
    {
     "data": {
      "text/plain": [
       "'On Ensuring Civil Rights and Freedoms, and the Legal Regime on the Temporarily Occupied Territory of Ukraine'"
      ]
     },
     "execution_count": 291,
     "metadata": {},
     "output_type": "execute_result"
    }
   ],
   "source": [
    "title = soup.find(\"span\", class_=\"rvts23\").text \n",
    "title\n"
   ]
  },
  {
   "cell_type": "code",
   "execution_count": 292,
   "metadata": {},
   "outputs": [],
   "source": [
    "def tfIDFSummarize(text):\n",
    "    X = featurizer.fit_transform(text)\n",
    "    scores = np.zeros(len(text))\n",
    "\n",
    "    for i in range(len(text)):\n",
    "        score = get_sentence_score(X[i, :])\n",
    "        scores[i] = score\n",
    "\n",
    "    sort_idx = np.argsort(-scores)\n",
    "  \n",
    "    summarized = \"\"\n",
    "\n",
    "    for i in sort_idx[:10]:\n",
    "        test = text[i]\n",
    "        summarized += text[i] + \" \"\n",
    "\n",
    "    return summarized.strip()\n"
   ]
  },
  {
   "cell_type": "code",
   "execution_count": 293,
   "metadata": {},
   "outputs": [
    {
     "data": {
      "text/plain": [
       "'Re-transfer of the case shall not be allowed. Under the Constitution of Ukraine, Ukraine is a sovereign and independent state. The date of the beginning of the temporary occupation is 20 February 2014. Relevant information on their search shall be provided to law enforcement agencies. At the same time, information (note) about the place of stay of such a person shall not be entered in his/her passport. Persons guilty of violating the requirements of this Law shall bear the responsibility provided for by law. The modalities of economic activity in the temporarily occupied territory shall be determined by law. The temporarily occupied territory of Ukraine (hereinafter referred to as the temporarily occupied territory) is an integral part of the territory of Ukraine, which is subject to the Constitution and laws of Ukraine. Property rights within the temporarily occupied territory shall be protected under the legislation of Ukraine. The sovereignty of Ukraine shall apply to its entire territory, which shall be integral and inviolable within the existing border.'"
      ]
     },
     "execution_count": 293,
     "metadata": {},
     "output_type": "execute_result"
    }
   ],
   "source": [
    "tfIDFSummarize(cleaned_paragraphs)\n"
   ]
  },
  {
   "attachments": {},
   "cell_type": "markdown",
   "metadata": {},
   "source": [
    "LexRank Algorithm is an unsupervised approach to summarization and is inspired by the PageRank algorithm. LexRank uses an IDF-modified cosine similarity score to improve the Pagerank score for document summarization. It summarizes the text based on graph-based centrality scoring of sentences.\n",
    "\n",
    "If one sentence is very similar to other sentences in the text corpus, then that sentence is considered of great importance. Such sentences can be recommended to the users."
   ]
  },
  {
   "cell_type": "code",
   "execution_count": 294,
   "metadata": {},
   "outputs": [],
   "source": [
    "S = cosine_similarity(X)\n",
    "# S"
   ]
  },
  {
   "cell_type": "code",
   "execution_count": 295,
   "metadata": {},
   "outputs": [
    {
     "data": {
      "text/plain": [
       "(78, 78)"
      ]
     },
     "execution_count": 295,
     "metadata": {},
     "output_type": "execute_result"
    }
   ],
   "source": [
    "S.shape"
   ]
  },
  {
   "cell_type": "code",
   "execution_count": 296,
   "metadata": {},
   "outputs": [
    {
     "data": {
      "text/plain": [
       "78"
      ]
     },
     "execution_count": 296,
     "metadata": {},
     "output_type": "execute_result"
    }
   ],
   "source": [
    "len(cleaned_paragraphs)\n"
   ]
  },
  {
   "cell_type": "code",
   "execution_count": 297,
   "metadata": {},
   "outputs": [],
   "source": [
    "# normalize similarity matrix\n",
    "S /= S.sum(axis=1, keepdims=True)\n"
   ]
  },
  {
   "cell_type": "code",
   "execution_count": 298,
   "metadata": {},
   "outputs": [
    {
     "data": {
      "text/plain": [
       "0.9999999999999999"
      ]
     },
     "execution_count": 298,
     "metadata": {},
     "output_type": "execute_result"
    }
   ],
   "source": [
    "S[0].sum()"
   ]
  },
  {
   "cell_type": "code",
   "execution_count": 299,
   "metadata": {},
   "outputs": [],
   "source": [
    "# uniform transition matrix\n",
    "U = np.ones_like(S) / len(S)\n"
   ]
  },
  {
   "cell_type": "code",
   "execution_count": 300,
   "metadata": {},
   "outputs": [
    {
     "data": {
      "text/plain": [
       "0.9999999999999996"
      ]
     },
     "execution_count": 300,
     "metadata": {},
     "output_type": "execute_result"
    }
   ],
   "source": [
    "U[0].sum()"
   ]
  },
  {
   "cell_type": "code",
   "execution_count": 301,
   "metadata": {},
   "outputs": [],
   "source": [
    "# smoothed similarity matrix\n",
    "factor = 0.15 \n",
    "S = (1 - factor) * S + factor * U"
   ]
  },
  {
   "cell_type": "code",
   "execution_count": 302,
   "metadata": {},
   "outputs": [
    {
     "data": {
      "text/plain": [
       "0.9999999999999997"
      ]
     },
     "execution_count": 302,
     "metadata": {},
     "output_type": "execute_result"
    }
   ],
   "source": [
    "S[0].sum()"
   ]
  },
  {
   "cell_type": "code",
   "execution_count": 303,
   "metadata": {},
   "outputs": [],
   "source": [
    "# find the limiting / stationary distribution\n",
    "eigenvals, eigenvecs = np.linalg.eig(S.T)\n"
   ]
  },
  {
   "cell_type": "code",
   "execution_count": 304,
   "metadata": {},
   "outputs": [
    {
     "data": {
      "text/plain": [
       "array([1.        , 0.57096215, 0.482181  , 0.40338987, 0.36245362,\n",
       "       0.34309105, 0.33124148, 0.32150353, 0.29937951, 0.28323814,\n",
       "       0.27273049, 0.26984954, 0.25829957, 0.24513491, 0.2340806 ,\n",
       "       0.22895872, 0.2251505 , 0.21043461, 0.20162603, 0.19213305,\n",
       "       0.18609489, 0.18229309, 0.17677884, 0.17205491, 0.16674806,\n",
       "       0.16072248, 0.15556234, 0.02657129, 0.15787016, 0.15402636,\n",
       "       0.14963891, 0.0297785 , 0.03076921, 0.14517824, 0.13981344,\n",
       "       0.1371983 , 0.03629587, 0.13045646, 0.1328084 , 0.12678317,\n",
       "       0.12277042, 0.03962049, 0.04043359, 0.04212795, 0.11962235,\n",
       "       0.04678052, 0.1155613 , 0.11363725, 0.04861277, 0.10803714,\n",
       "       0.05021827, 0.10702008, 0.05087543, 0.0528662 , 0.10384827,\n",
       "       0.10335395, 0.10009132, 0.09580748, 0.09073631, 0.09283672,\n",
       "       0.05829744, 0.08765471, 0.08600608, 0.08328895, 0.06202772,\n",
       "       0.06005818, 0.0987841 , 0.06292639, 0.05939792, 0.07961623,\n",
       "       0.07870516, 0.065689  , 0.0695311 , 0.07686002, 0.07278466,\n",
       "       0.07209989, 0.06629062, 0.06994383])"
      ]
     },
     "execution_count": 304,
     "metadata": {},
     "output_type": "execute_result"
    }
   ],
   "source": [
    "eigenvals"
   ]
  },
  {
   "cell_type": "code",
   "execution_count": 305,
   "metadata": {},
   "outputs": [
    {
     "data": {
      "text/plain": [
       "array([0.09798891, 0.08311021, 0.1126732 , 0.10512086, 0.1412555 ,\n",
       "       0.05586681, 0.12408279, 0.14909163, 0.14076819, 0.10340315,\n",
       "       0.16887935, 0.1011735 , 0.15538694, 0.12421994, 0.12734501,\n",
       "       0.08198278, 0.11254355, 0.11595152, 0.0825056 , 0.11805816,\n",
       "       0.13252062, 0.11123564, 0.0832884 , 0.06237141, 0.08003133,\n",
       "       0.11797849, 0.12961233, 0.11497828, 0.13200868, 0.10417595,\n",
       "       0.12785987, 0.10178179, 0.13961774, 0.08223921, 0.08459816,\n",
       "       0.096545  , 0.08191448, 0.13754674, 0.10496958, 0.13765053,\n",
       "       0.10328712, 0.10106222, 0.13795963, 0.14162163, 0.12957263,\n",
       "       0.11749498, 0.12853689, 0.12136265, 0.1043849 , 0.11141806,\n",
       "       0.11190817, 0.10093836, 0.12309887, 0.12776457, 0.07378612,\n",
       "       0.06391599, 0.11070335, 0.10079633, 0.08250008, 0.09866223,\n",
       "       0.06960368, 0.11074409, 0.07178706, 0.07856162, 0.10429558,\n",
       "       0.09705767, 0.10179147, 0.08210656, 0.10016309, 0.09630253,\n",
       "       0.11803207, 0.15841944, 0.13143195, 0.149329  , 0.13925665,\n",
       "       0.14690311, 0.12855829, 0.08334542])"
      ]
     },
     "execution_count": 305,
     "metadata": {},
     "output_type": "execute_result"
    }
   ],
   "source": [
    "eigenvecs[:, 0]\n"
   ]
  },
  {
   "cell_type": "code",
   "execution_count": 306,
   "metadata": {},
   "outputs": [
    {
     "data": {
      "text/plain": [
       "array([0.09798891, 0.08311021, 0.1126732 , 0.10512086, 0.1412555 ,\n",
       "       0.05586681, 0.12408279, 0.14909163, 0.14076819, 0.10340315,\n",
       "       0.16887935, 0.1011735 , 0.15538694, 0.12421994, 0.12734501,\n",
       "       0.08198278, 0.11254355, 0.11595152, 0.0825056 , 0.11805816,\n",
       "       0.13252062, 0.11123564, 0.0832884 , 0.06237141, 0.08003133,\n",
       "       0.11797849, 0.12961233, 0.11497828, 0.13200868, 0.10417595,\n",
       "       0.12785987, 0.10178179, 0.13961774, 0.08223921, 0.08459816,\n",
       "       0.096545  , 0.08191448, 0.13754674, 0.10496958, 0.13765053,\n",
       "       0.10328712, 0.10106222, 0.13795963, 0.14162163, 0.12957263,\n",
       "       0.11749498, 0.12853689, 0.12136265, 0.1043849 , 0.11141806,\n",
       "       0.11190817, 0.10093836, 0.12309887, 0.12776457, 0.07378612,\n",
       "       0.06391599, 0.11070335, 0.10079633, 0.08250008, 0.09866223,\n",
       "       0.06960368, 0.11074409, 0.07178706, 0.07856162, 0.10429558,\n",
       "       0.09705767, 0.10179147, 0.08210656, 0.10016309, 0.09630253,\n",
       "       0.11803207, 0.15841944, 0.13143195, 0.149329  , 0.13925665,\n",
       "       0.14690311, 0.12855829, 0.08334542])"
      ]
     },
     "execution_count": 306,
     "metadata": {},
     "output_type": "execute_result"
    }
   ],
   "source": [
    "eigenvecs[:, 0].dot(S)\n"
   ]
  },
  {
   "cell_type": "code",
   "execution_count": 307,
   "metadata": {},
   "outputs": [],
   "source": [
    "scores = eigenvecs[:, 0] / eigenvecs[:, 0].sum()\n",
    "sort_idx = np.argsort(-scores)\n"
   ]
  },
  {
   "cell_type": "code",
   "execution_count": 308,
   "metadata": {},
   "outputs": [
    {
     "name": "stdout",
     "output_type": "stream",
     "text": [
      "0.02: Ukraine shall take all necessary measures to guarantee human and civil rights and freedoms provided for by the Constitution and laws of Ukraine, international treaties, to all citizens of Ukraine residing within the temporarily occupied territory.\n",
      "0.02: In case of violation of the provisions of this Law, state bodies of Ukraine shall apply the mechanisms provided for by the laws of Ukraine and the norms of international law in order to protect the peace, security, rights, freedoms and legitimate interests of citizens of Ukraine located within the temporarily occupied territory, as well as the legitimate interests of the state of Ukraine.\n",
      "0.02: Responsibility for violating human and civil rights and freedoms defined by the Constitution and laws of Ukraine within the temporarily occupied territory shall be assigned to the Russian Federation as an occupying state under the norms and principles of international law.\n",
      "0.02: If it is impossible to carry out activities within the temporarily occupied territory, the location of state bodies established under the Constitution and laws of Ukraine shall be determined by the Cabinet of Ministers of Ukraine.\n",
      "0.02: For the purposes of this Law, the temporarily occupied territory is defined as: land territory of the Autonomous Republic of Crimea and the city of Sevastopol, the internal waters of these territories of Ukraine; internal sea waters and territorial sea of Ukraine around the Crimean Peninsula, the territory of the exclusive (maritime) economic zone of Ukraine along the coast of the Crimean Peninsula and adjacent to the coast of the continental shelf of Ukraine, which fall under the jurisdiction of government authorities of Ukraine under the norms of international law, the Constitution and laws of Ukraine; Within the temporarily occupied territory and during the period of validity of this Law, a special legal regime shall apply to the crossing of borders of the temporarily occupied territory, making transactions, holding elections and referendums, and exercising other human and civil rights and freedoms.\n",
      "0.02: Guarantees of the rights, freedoms and legitimate interests of persons who have resettled from the temporarily occupied territory of Ukraine and are lawfully staying within the territory of Ukraine shall be determined by the Law of Ukraine “On Ensuring the Rights and Freedoms of Internally Displaced Persons”.\n",
      "0.02: Property rights within the temporarily occupied territory shall be protected under the legislation of Ukraine.\n",
      "0.02: The temporarily occupied territory of Ukraine (hereinafter referred to as the temporarily occupied territory) is an integral part of the territory of Ukraine, which is subject to the Constitution and laws of Ukraine.\n",
      "0.02: The legal regime of the temporarily occupied territory shall provide for a special procedure for ensuring the rights and freedoms of Ukrainian citizens living in the temporarily occupied territory.\n",
      "0.02: Citizens of Ukraine residing within the temporarily occupied territory shall be provided with the possibility of free expression of their will during the presidential, parliamentary elections and all-Ukrainian referendums within the rest of the territory of Ukraine.\n"
     ]
    }
   ],
   "source": [
    "for i in sort_idx[:10]:\n",
    "    print(\"%.2f: %s\" % (scores[i], cleaned_paragraphs[i]))\n"
   ]
  },
  {
   "cell_type": "code",
   "execution_count": 309,
   "metadata": {},
   "outputs": [],
   "source": [
    "def textRankSummarize(text, factor=0.15):\n",
    "    X = featurizer.fit_transform(text)\n",
    "    S = cosine_similarity(X)  # compute similarity matrix\n",
    "    S /= S.sum(axis=1, keepdims=True)  # normalize similarity matrix\n",
    "    U = np.ones_like(S) / len(S)  # uniform transition matrix\n",
    "    S = (1 - factor) * S + factor * U  # smooth similarity matrix\n",
    "    # find the limiting / stationary distribution\n",
    "    eigenvals, eigenvecs = np.linalg.eig(S.T)\n",
    "    scores = eigenvecs[:, 0] / eigenvecs[:, 0].sum()  # compute scores\n",
    "    sort_idx = np.argsort(-scores)  # sort scores\n",
    "\n",
    "    summarized = \"\"\n",
    "\n",
    "    for i in sort_idx[:10]:\n",
    "        test = text[i]\n",
    "        summarized += text[i] + \" \"\n",
    "\n",
    "    return summarized.strip()\n"
   ]
  },
  {
   "cell_type": "code",
   "execution_count": 310,
   "metadata": {},
   "outputs": [
    {
     "data": {
      "text/plain": [
       "'Ukraine shall take all necessary measures to guarantee human and civil rights and freedoms provided for by the Constitution and laws of Ukraine, international treaties, to all citizens of Ukraine residing within the temporarily occupied territory. In case of violation of the provisions of this Law, state bodies of Ukraine shall apply the mechanisms provided for by the laws of Ukraine and the norms of international law in order to protect the peace, security, rights, freedoms and legitimate interests of citizens of Ukraine located within the temporarily occupied territory, as well as the legitimate interests of the state of Ukraine. Responsibility for violating human and civil rights and freedoms defined by the Constitution and laws of Ukraine within the temporarily occupied territory shall be assigned to the Russian Federation as an occupying state under the norms and principles of international law. If it is impossible to carry out activities within the temporarily occupied territory, the location of state bodies established under the Constitution and laws of Ukraine shall be determined by the Cabinet of Ministers of Ukraine. For the purposes of this Law, the temporarily occupied territory is defined as: land territory of the Autonomous Republic of Crimea and the city of Sevastopol, the internal waters of these territories of Ukraine; internal sea waters and territorial sea of Ukraine around the Crimean Peninsula, the territory of the exclusive (maritime) economic zone of Ukraine along the coast of the Crimean Peninsula and adjacent to the coast of the continental shelf of Ukraine, which fall under the jurisdiction of government authorities of Ukraine under the norms of international law, the Constitution and laws of Ukraine; Within the temporarily occupied territory and during the period of validity of this Law, a special legal regime shall apply to the crossing of borders of the temporarily occupied territory, making transactions, holding elections and referendums, and exercising other human and civil rights and freedoms. Guarantees of the rights, freedoms and legitimate interests of persons who have resettled from the temporarily occupied territory of Ukraine and are lawfully staying within the territory of Ukraine shall be determined by the Law of Ukraine “On Ensuring the Rights and Freedoms of Internally Displaced Persons”. Property rights within the temporarily occupied territory shall be protected under the legislation of Ukraine. The temporarily occupied territory of Ukraine (hereinafter referred to as the temporarily occupied territory) is an integral part of the territory of Ukraine, which is subject to the Constitution and laws of Ukraine. The legal regime of the temporarily occupied territory shall provide for a special procedure for ensuring the rights and freedoms of Ukrainian citizens living in the temporarily occupied territory. Citizens of Ukraine residing within the temporarily occupied territory shall be provided with the possibility of free expression of their will during the presidential, parliamentary elections and all-Ukrainian referendums within the rest of the territory of Ukraine.'"
      ]
     },
     "execution_count": 310,
     "metadata": {},
     "output_type": "execute_result"
    }
   ],
   "source": [
    "textRankSummarize(cleaned_paragraphs)\n"
   ]
  },
  {
   "attachments": {},
   "cell_type": "markdown",
   "metadata": {},
   "source": [
    "Libraries for text summarization "
   ]
  },
  {
   "attachments": {},
   "cell_type": "markdown",
   "metadata": {},
   "source": [
    "Latent Semantic Analysis (LSA) is based on term frequency techniques with singular value decomposition to summarize texts. LSA is an unsupervised NLP technique, and the aim of LSA is to create a representation of text data in terms of topics or latent features."
   ]
  },
  {
   "attachments": {},
   "cell_type": "markdown",
   "metadata": {},
   "source": [
    "LSA consists of two steps:\n",
    "\n",
    "- To generate a document term matrix (or numerical vector).\n",
    "- To perform Singular Value Decomposition on document term matrix. SVD reduces the dimensionality of the original dataset by encoding it with latent features.\n",
    "\n",
    "With LSA these latent features represent topics in the original data.\n"
   ]
  },
  {
   "attachments": {},
   "cell_type": "markdown",
   "metadata": {},
   "source": [
    "<img scr=\"https://miro.medium.com/max/720/1*NGT4fdWMy5pvDUpLRntuTQ.webp\" alt=\"Steps of LSA\" />\n",
    "<p>Steps of LSA</p>\n"
   ]
  },
  {
   "cell_type": "code",
   "execution_count": 311,
   "metadata": {},
   "outputs": [],
   "source": [
    "from sumy.summarizers.lsa import LsaSummarizer\n"
   ]
  },
  {
   "cell_type": "code",
   "execution_count": 312,
   "metadata": {},
   "outputs": [
    {
     "data": {
      "text/plain": [
       "<sumy.parsers.plaintext.PlaintextParser at 0x28f30f4af10>"
      ]
     },
     "execution_count": 312,
     "metadata": {},
     "output_type": "execute_result"
    }
   ],
   "source": [
    "parser = PlaintextParser.from_string(cleaned_paragraphs, Tokenizer(\"english\"))\n",
    "parser "
   ]
  },
  {
   "cell_type": "code",
   "execution_count": 313,
   "metadata": {},
   "outputs": [
    {
     "data": {
      "text/plain": [
       "<sumy.summarizers.lsa.LsaSummarizer at 0x28f3122f4d0>"
      ]
     },
     "execution_count": 313,
     "metadata": {},
     "output_type": "execute_result"
    }
   ],
   "source": [
    "summarizer = LsaSummarizer()\n",
    "summarizer\n"
   ]
  },
  {
   "cell_type": "code",
   "execution_count": 314,
   "metadata": {},
   "outputs": [
    {
     "data": {
      "text/plain": [
       "[\"', 'Elderly citizens, persons with disabilities, children with disabilities and other citizens of Ukraine experiencing difficult life circumstances and residing within the temporarily occupied territory shall have the right to be provided with social services under the legislation of Ukraine.\",\n",
       " '\\', \\'Foreigners and stateless persons permanently residing in Ukraine, persons who have been granted refugee status in Ukraine, persons in need of additional or temporary protection, and persons who have been granted the status of a foreign Ukrainian, who are legally staying in Ukraine and live within the temporarily occupied territory, shall have the right to get or continue getting a certain qualification within the territory of other regions of Ukraine following the procedure defined by the laws of Ukraine “On Higher Education” and “On Professional Pre-higher Education\".',\n",
       " \"', 'During presidential, parliamentary elections and all-Ukrainian referendums, voting of Ukrainian citizens within the temporarily occupied territory shall not be organised or take place.\",\n",
       " \"', 'Any bodies, their officials and officers within the temporarily occupied territory and their activities shall be considered illegal if these bodies or persons are established, elected or appointed in an unlawful manner.\",\n",
       " \"', 'Individuals, regardless of their refugee status or other special legal status, enterprises, institutions, organisations shall retain the right of ownership and other real rights to property, including real estate, including land plots located within the temporarily occupied territory, if it is acquired under the laws of Ukraine.\",\n",
       " \"', 'The requirement to put on the interstate or international wanted list shall not apply to cases when the matter of instituting special criminal proceedings against these persons is being considered.\",\n",
       " \"', 'The modalities of economic activity in the temporarily occupied territory shall be determined by law.\",\n",
       " \"', 'Military personnel of military formations and law enforcement agencies of Ukraine who arrived from the temporarily occupied territory and willing (if there are grounds) to resign from military service, shall be dismissed from military service, including during a special period, if there are grounds, and in their absence – due to personnel downsizing, if they applied for dismissal within three months after arrival from the temporarily occupied territory.\",\n",
       " \"', 'Military personnel of military formations and law enforcement agencies of Ukraine who have not arrived at certain locations within the time limits determined by military formations and law enforcement agencies of Ukraine shall be considered to have left military units and shall be placed at service of the relevant officials.\",\n",
       " \"', 'Relevant information on their search shall be provided to law enforcement agencies.\"]"
      ]
     },
     "execution_count": 314,
     "metadata": {},
     "output_type": "execute_result"
    }
   ],
   "source": [
    "summary = summarizer(parser.document, sentences_count=10)\n",
    "# summary\n",
    "[str(sentence) for sentence in summary]\n"
   ]
  },
  {
   "cell_type": "code",
   "execution_count": 315,
   "metadata": {},
   "outputs": [],
   "source": [
    "# Luhn\n",
    "from sumy.summarizers.luhn import LuhnSummarizer\n",
    "# text: text to summarize\n",
    "# no_sentences: number of sentences in your summary,\n",
    "# lang: language of text\n",
    "\n",
    "\n",
    "def luhn_summary(text, no_sentences, lang):\n",
    "    parser = PlaintextParser(text, Tokenizer(lang))\n",
    "    luhn_sum = LuhnSummarizer()\n",
    "    summary = luhn_sum(parser.document, no_sentences)\n",
    "    return [str(sentence) for sentence in summary]\n"
   ]
  },
  {
   "cell_type": "code",
   "execution_count": 316,
   "metadata": {},
   "outputs": [
    {
     "data": {
      "text/plain": [
       "['\\', \"Presence of units of the other states\\' armed forces within the territory of Ukraine in violation of the procedure defined by the Constitution and laws of Ukraine, The Hague Conventions of 1907, the IV Geneva Convention of 1949, as well as in disregard of the Memorandum on Security Assurances in connection with Ukraine\\'s accession to the Treaty on the Non-Proliferation of Nuclear Weapons of 1994, the Treaty on Friendship, Cooperation, and Partnership between Ukraine and the Russian Federation of 1997 and other international legal acts shall constitute occupation of a part of the territory of the sovereign state of Ukraine and an internationally unlawful act with all the consequences provided for by international law.',\n",
       " \"', 'This Law defines the status of the territory of Ukraine, which is temporarily occupied as a result of the armed aggression of the Russian Federation, establishes a special legal regime within this territory, defines the specifics of functioning of government and local authorities, enterprises, institutions and organisations under this regime, respect and protection of human and civil rights and freedoms, as well as the rights and legitimate interests of legal entities.\",\n",
       " \"', 'For the purposes of this Law, the temporarily occupied territory is defined as: land territory of the Autonomous Republic of Crimea and the city of Sevastopol, the internal waters of these territories of Ukraine; internal sea waters and territorial sea of Ukraine around the Crimean Peninsula, the territory of the exclusive (maritime) economic zone of Ukraine along the coast of the Crimean Peninsula and adjacent to the coast of the continental shelf of Ukraine, which fall under the jurisdiction of government authorities of Ukraine under the norms of international law, the Constitution and laws of Ukraine; Within the temporarily occupied territory and during the period of validity of this Law, a special legal regime shall apply to the crossing of borders of the temporarily occupied territory, making transactions, holding elections and referendums, and exercising other human and civil rights and freedoms.\",\n",
       " \"', 'Registration of documents confirming the citizenship of Ukraine, identity or special status of citizens residing within the temporarily occupied territory shall be carried out by the central executive authority that implements the state policy in the field of migration (immigration and emigration), including countering illegal (unlawful) migration, citizenship, registration of individuals, refugees and other categories of migrants defined by law, in accordance with the procedure provided for by the Cabinet of Ministers of Ukraine.\",\n",
       " \"', 'At the request of citizens of Ukraine residing in the temporarily occupied territory or having resettled from it, certificates confirming their place of stay shall be made and issued at the place of their stay by the executive authority that implements state policy in the area of migration (immigration and emigration), including countering illegal (unlawful) migration, citizenship, registration of individuals, refugees and other categories of migrants defined by law.\",\n",
       " '\\', \\'Foreigners and stateless persons permanently residing in Ukraine, persons who have been granted refugee status in Ukraine, persons in need of additional or temporary protection, and persons who have been granted the status of a foreign Ukrainian, who are legally staying in Ukraine and live within the temporarily occupied territory, shall have the right to get or continue getting a certain qualification within the territory of other regions of Ukraine following the procedure defined by the laws of Ukraine “On Higher Education” and “On Professional Pre-higher Education\".',\n",
       " \"', 'Land, its resources, atmospheric air, water and other natural resources located within the territory of Ukraine, natural resources of its continental shelf, exclusive (marine) economic zone, which constitute property of the Ukrainian people, military property, property of state bodies, state enterprises, institutions and organisations located within the temporarily occupied territory and belonging to the state of Ukraine, shall not become the property of other states, legal entities or individuals in a different way than provided for by the laws of Ukraine.\",\n",
       " \"', 'Due to inability to administer justice by the courts of the Autonomous Republic of Crimea and the city of Sevastopol within the temporarily occupied territories, the territorial jurisdiction of court cases under the jurisdiction of the courts located in the territory of the Autonomous Republic of Crimea and the city of Sevastopol shall be changed, and the consideration of: civil cases under the jurisdiction of local general courts located within the territory of the Autonomous Republic of Crimea and the city of Sevastopol shall be ensured by local general courts of the city of Kyiv, determined by the Court of Appeal of the city of Kyiv; administrative cases under the jurisdiction of local general courts as administrative courts located within the territory of the Autonomous Republic of Crimea and the city of Sevastopol shall be ensured by local general courts of the city of Kyiv, determined by the Kyiv Administrative Court of Appeal; civil cases under the jurisdiction of the general courts of appeal located within the territory of the Autonomous Republic of Crimea and the city of Sevastopol shall be ensured by the Court of Appeal of the city of Kyiv; commercial cases of the District Administrative Court of the Autonomous Republic of Crimea shall be ensured by the Kyiv District Administrative Court, administrative cases of the District Administrative Court of Sevastopol – by the District Administrative Court of Kyiv; Sevastopol Administrative Court of Appeal – by the Kyiv Administrative Court of Appeal; commercial cases of the Commercial Court of the Autonomous Republic of Crimea – by the Commercial Court of the Kyiv region, and commercial cases of the Commercial Court of the city of Sevastopol – by the Commercial Court of the city of Kiev, commercial cases of the Sevastopol Commercial Court of Appeal – by the Kyiv Commercial Court of Appeal; criminal proceedings under the jurisdiction of local (district, city, district in cities, city district courts) located in the territory of the Autonomous Republic of Crimea and the city of Sevastopol shall be ensured by one of the district courts of the city of Kyiv, determined by the Court of Appeal of the city of Kyiv; criminal proceedings under the jurisdiction of the Court of Appeal of the Autonomous Republic of Crimea and the Court of Appeal of the city of Sevastopol – by the Court of Appeal of the city of Kyiv; cases of administrative offenсes under the jurisdiction of local (district, city, district in cities, city district) courts located within the territory of the Autonomous Republic of Crimea and the city of Sevastopol – local general courts at the place of detection of an administrative offenсe.\",\n",
       " \"', 'An individual (a party to the case, as well as a person who did not participate in the case, if the court made a decision on his/her rights, freedoms, interests and/or obligations), permanently residing within the temporarily occupied territory, shall also have the right to file an appeal to the Kherson Court of Appeal if the court decision is made following consideration of his/her civil case by a local general court located within the Kherson region, as a court of first instance.\",\n",
       " \"', 'Military personnel of military formations and law enforcement agencies of Ukraine subject to documentary confirmation of their enrolment in the Armed Forces of the Russian Federation or special services or law enforcement agencies of the Russian Federation, shall be excluded from the lists of military formations and law enforcement agencies of Ukraine, and the contract shall be considered terminated from the time of their enrolment (or receipt of information about their enrolment) in the Armed Forces of the Russian Federation or special services or law enforcement agencies of the Russian Federation.\"]"
      ]
     },
     "execution_count": 316,
     "metadata": {},
     "output_type": "execute_result"
    }
   ],
   "source": [
    "luhn_summary(cleaned_paragraphs, 10, \"english\")\n"
   ]
  },
  {
   "cell_type": "code",
   "execution_count": 317,
   "metadata": {},
   "outputs": [],
   "source": [
    "# KL\n",
    "from sumy.summarizers.kl import KLSummarizer\n",
    "# text: text to summarize\n",
    "# no_sentences: number of sentences in your summary,\n",
    "# lang: language of text\n",
    "\n",
    "\n",
    "def kl_summary(text, no_sentences, lang):\n",
    "    parser = PlaintextParser.from_string(text, Tokenizer(lang))\n",
    "    kl_summarizer = KLSummarizer()\n",
    "    summary = kl_summarizer(parser.document, sentences_count=no_sentences)\n",
    "    return [str(sentence) for sentence in summary]\n"
   ]
  },
  {
   "cell_type": "code",
   "execution_count": 318,
   "metadata": {},
   "outputs": [
    {
     "data": {
      "text/plain": [
       "[\"', 'The date of the beginning of the temporary occupation is 20 February 2014.\",\n",
       " \"', 'The legal regime of the temporarily occupied territory shall provide for a special procedure for ensuring the rights and freedoms of Ukrainian citizens living in the temporarily occupied territory.\",\n",
       " \"', 'At the same time, information (note) about the place of stay of such a person shall not be entered in his/her passport.\",\n",
       " \"', 'An example and procedure for issuing a certificate confirming the place of stay, an example of a written application that should be submitted by a citizen for obtaining a certificate, shall be approved by the central executive authority in charge of shaping the state policy in the field of migration (immigration and emigration), including countering illegal (unlawful) migration, citizenship, registration of individuals, refugees and other categories of migrants defined by law.\",\n",
       " \"', 'Bodies for keeping the State Register of Voters established in the territory of the Autonomous Republic of Crimea and the city of Sevastopol shall not keep the State Register of Voters.\",\n",
       " \"', 'Matters that fall within the competence of an investigating judge in criminal proceedings at the stage of pre-trial investigation and instituted in the territory of the Autonomous Republic of Crimea and the city of Sevastopol shall be considered by investigating judges of the District Courts of the city of Kyiv, determined by the Court of Appeal of the city of Kyiv.\",\n",
       " \"', 'Re-transfer of the case shall not be allowed.\",\n",
       " \"', 'If the damage is caused by foreign citizens and non-residents, jurisdiction shall be established at the place of damage, taking into account the rules of jurisdiction established by this Law.\",\n",
       " '\\', \"Investigative jurisdiction of criminal offences committed within the temporarily occupied territory shall be determined by the Prosecutor General\\'s Office.',\n",
       " \"', 'Persons guilty of violating the requirements of this Law shall bear the responsibility provided for by law.']\"]"
      ]
     },
     "execution_count": 318,
     "metadata": {},
     "output_type": "execute_result"
    }
   ],
   "source": [
    "kl_summary(cleaned_paragraphs, 10, \"english\")\n"
   ]
  },
  {
   "attachments": {},
   "cell_type": "markdown",
   "metadata": {},
   "source": [
    "TextRank vs Seq2Seq vs BART"
   ]
  },
  {
   "attachments": {},
   "cell_type": "markdown",
   "metadata": {},
   "source": [
    "The hardest NLP tasks are the ones where the output isn’t a single label or value (like Classification and Regression), but a full new text (like Translation, Summarization and Conversation)."
   ]
  },
  {
   "attachments": {},
   "cell_type": "markdown",
   "metadata": {},
   "source": [
    "Text summarization is the problem of reducing the number of sentences and words of a document without changing its meaning. There are different techniques to extract information from raw text data and use it for a summarization model, overall they can be categorized as Extractive and Abstractive. Extractive methods select the most important sentences within a text (without necessarily understanding the meaning), therefore the result summary is just a subset of the full text. On the contrary, Abstractive models understand the semantics of the text and generate a meaningful summary. "
   ]
  },
  {
   "attachments": {},
   "cell_type": "markdown",
   "metadata": {},
   "source": [
    "I’ll keep On Ensuring Civil Rights and Freedoms, and the Legal Regime on the Temporarily Occupied Territory of Ukraine summary on dentons to compare different models."
   ]
  },
  {
   "cell_type": "code",
   "execution_count": 319,
   "metadata": {},
   "outputs": [],
   "source": [
    "humanSummary=\"\"\"\n",
    "On 15 April 2014 the Ukrainian Parliament passed the Law of Ukraine “On Ensuring Civil Rights and Freedoms and the Legal Regime on Temporarily Occupied Territory of Ukraine” (the \"Law\").\n",
    "Specifically, the Law determines a legal regime of occupied territories as well as sets forth special procedures for the operation of governmental authorities, bodies of local self-government, enterprises and organizations, under such legal regime, provides for protection of human and civil rights and freedoms as well as rights, freedoms and lawful interests of legal entities and indicates Ukrainian courts that will consider disputes arising in Crimea during the occupation.\n",
    "It defines \"occupied territory\" as including the land territory of the Autonomous Republic of Crimea and the city of Sevastopol as well as their domestic waters; domestic waters and territorial sea of Ukraine adjacent to the coast of the Crimean peninsula; the territory of an adjacent area, exclusive economic zone and continental shelf along the coast of the Crimean peninsula subject to jurisdiction of Ukrainian bodies of state power in accordance with provisions of international law, the Constitution and laws of Ukraine; underwater space within the territorial sea; air space above these territories.\n",
    "For as long as Crimea remains occupied, the \"occupied territory\" will be subjected to a special legal regime with respect to the border crossing with the \"occupied territory\", carrying out business activity, entering into transactions, holding elections and referenda, exercise of other human and civil rights and freedoms as well as a special procedure for ensuring human and civil rights and freedoms of Ukrainian citizens residing in the temporarily occupied territories of Ukraine.\n",
    "1) Activities of state and local self-governance bodies created in the occupied territories in breach of Ukrainian law shall be prohibited, and their regulations and acts shall be illegal and will not be recognized in Ukraine - e.g. permits, authorizations, allocation of  land plots.\n",
    "2) The Law specifically deals with transfers of Crimea-based immovable property by setting forth that ownership rights to immovable property may be transferred and acquired in accordance with Ukrainian law. As a result, Crimea-based immovable property may be transferred outside Crimea and notarized by any Ukrainian notary.\n",
    "3) Disputes arising in Crimea during the occupation will be considered by respective civil, commercial and administrative courts in the city of Kyiv.\n",
    "4) If provisions of the Law are violated, Ukrainian authorities shall apply mechanisms provided for by Ukrainian law and provisions of international laws both in Ukrainian and international courts.\n",
    "Business activities in Crimea will be covered by a separate law intended to specifically address the \"doing business in Crimea\" aspect.\n",
    "Generally, the Law limits business activity in the territory of Crimea and, obviously, persons engaged in business activity in Crimea may be prosecuted by Ukraine and the international community (i.e., the countries that did not recognize the occupation of Crimea by the Russian Federation). Considering this, the Ministry of Justice of Ukraine introduced a simplified procedure for Crimea-registered businesses to change their registered addresses. Accordingly, Crimea-registered businesses may now register anywhere in Ukraine and continue with their businesses.\n",
    "\"\"\""
   ]
  },
  {
   "attachments": {},
   "cell_type": "markdown",
   "metadata": {},
   "source": [
    "How can we evaluate the results? "
   ]
  },
  {
   "cell_type": "code",
   "execution_count": 320,
   "metadata": {},
   "outputs": [],
   "source": [
    "'''\n",
    "Calculate ROUGE score.\n",
    ":parameter    \n",
    "    :param y_test: string or list    \n",
    "    :param predicted: string or list\n",
    "'''\n",
    "def evaluate_summary(y_test, predicted):\n",
    "    rouge_score = rouge.Rouge()\n",
    "    scores = rouge_score.get_scores(y_test, predicted, avg=True)\n",
    "    score_1 = round(scores['rouge-1']['f'], 2)\n",
    "    score_2 = round(scores['rouge-2']['f'], 2)\n",
    "    score_L = round(scores['rouge-l']['f'], 2)\n",
    "    print(\"rouge1:\", score_1, \"| rouge2:\", score_2, \"| rougeL:\",\n",
    "          score_2, \"--> avg rouge:\", round(np.mean(\n",
    "              [score_1, score_2, score_L]), 2))\n"
   ]
  },
  {
   "cell_type": "code",
   "execution_count": 321,
   "metadata": {},
   "outputs": [
    {
     "name": "stdout",
     "output_type": "stream",
     "text": [
      "rouge1: 0.22 | rouge2: 0.07 | rougeL: 0.07 --> avg rouge: 0.16\n"
     ]
    }
   ],
   "source": [
    "evaluate_summary(\n",
    "    humanSummary,\n",
    "    tfIDFSummarize(cleaned_paragraphs)\n",
    ")\n"
   ]
  },
  {
   "attachments": {},
   "cell_type": "markdown",
   "metadata": {},
   "source": [
    "The results show that 22% of unigrams (ROUGE-1) and 7% of bigrams (ROUGE-2) are present in both summaries, while the longest common subsequences (ROUGE-L) match by 7%. Overall, the average score is 16%. ROUGE scores don’t measure how fluent the summary is. For that experts recomend using the good old human eye. "
   ]
  },
  {
   "cell_type": "code",
   "execution_count": 322,
   "metadata": {},
   "outputs": [
    {
     "name": "stdout",
     "output_type": "stream",
     "text": [
      "rouge1: 0.42 | rouge2: 0.23 | rougeL: 0.23 --> avg rouge: 0.35\n"
     ]
    }
   ],
   "source": [
    "evaluate_summary(\n",
    "    humanSummary,\n",
    "    textRankSummarize(cleaned_paragraphs)\n",
    ")\n"
   ]
  },
  {
   "attachments": {},
   "cell_type": "markdown",
   "metadata": {},
   "source": [
    "Visualization: I will display 2 texts, i.e. the summary and the original text, or the predicted summary and the real summary, and highlight the matching parts. It highlights the matching substrings of two texts. It can be used on word-level."
   ]
  },
  {
   "cell_type": "code",
   "execution_count": 323,
   "metadata": {},
   "outputs": [],
   "source": [
    "match = display_string_matching(\n",
    "    humanSummary,\n",
    "    tfIDFSummarize(cleaned_paragraphs),\n",
    "    both=True,\n",
    "    sentences=False,\n",
    "    titles=[\"Real Summary\", \"tfIDF Predicted Summary\"]\n",
    ")\n"
   ]
  },
  {
   "cell_type": "code",
   "execution_count": 324,
   "metadata": {},
   "outputs": [
    {
     "data": {
      "text/html": [
       "<strong>Real Summary</strong><br><span style=\"background-color:rgba(255,215,0,0.3);\">On</span> 15 April <span style=\"background-color:rgba(255,215,0,0.3);\">2014</span> <span style=\"background-color:rgba(255,215,0,0.3);\">the</span> Ukrainian Parliament passed <span style=\"background-color:rgba(255,215,0,0.3);\">the</span> <span style=\"background-color:rgba(255,215,0,0.3);\">Law</span> <span style=\"background-color:rgba(255,215,0,0.3);\">of</span> <span style=\"background-color:rgba(255,215,0,0.3);\">Ukraine</span> <span style=\"background-color:rgba(255,215,0,0.3);\">“On</span> Ensuring Civil <span style=\"background-color:rgba(255,215,0,0.3);\">Rights</span> <span style=\"background-color:rgba(255,215,0,0.3);\">and</span> Freedoms <span style=\"background-color:rgba(255,215,0,0.3);\">and</span> <span style=\"background-color:rgba(255,215,0,0.3);\">the</span> Legal Regime <span style=\"background-color:rgba(255,215,0,0.3);\">on</span> <span style=\"background-color:rgba(255,215,0,0.3);\">Temporarily</span> <span style=\"background-color:rgba(255,215,0,0.3);\">Occupied</span> <span style=\"background-color:rgba(255,215,0,0.3);\">Territory</span> <span style=\"background-color:rgba(255,215,0,0.3);\">of</span> <span style=\"background-color:rgba(255,215,0,0.3);\">Ukraine”</span> <span style=\"background-color:rgba(255,215,0,0.3);\">(the</span> <span style=\"background-color:rgba(255,215,0,0.3);\">\"Law\").</span> Specifically, <span style=\"background-color:rgba(255,215,0,0.3);\">the</span> <span style=\"background-color:rgba(255,215,0,0.3);\">Law</span> determines <span style=\"background-color:rgba(255,215,0,0.3);\">a</span> legal regime <span style=\"background-color:rgba(255,215,0,0.3);\">of</span> <span style=\"background-color:rgba(255,215,0,0.3);\">occupied</span> territories <span style=\"background-color:rgba(255,215,0,0.3);\">as</span> well <span style=\"background-color:rgba(255,215,0,0.3);\">as</span> sets forth special procedures <span style=\"background-color:rgba(255,215,0,0.3);\">for</span> <span style=\"background-color:rgba(255,215,0,0.3);\">the</span> operation <span style=\"background-color:rgba(255,215,0,0.3);\">of</span> governmental authorities, bodies <span style=\"background-color:rgba(255,215,0,0.3);\">of</span> local self-government, enterprises <span style=\"background-color:rgba(255,215,0,0.3);\">and</span> organizations, <span style=\"background-color:rgba(255,215,0,0.3);\">under</span> <span style=\"background-color:rgba(255,215,0,0.3);\">such</span> legal regime, provides <span style=\"background-color:rgba(255,215,0,0.3);\">for</span> protection <span style=\"background-color:rgba(255,215,0,0.3);\">of</span> human <span style=\"background-color:rgba(255,215,0,0.3);\">and</span> civil <span style=\"background-color:rgba(255,215,0,0.3);\">rights</span> <span style=\"background-color:rgba(255,215,0,0.3);\">and</span> freedoms <span style=\"background-color:rgba(255,215,0,0.3);\">as</span> well <span style=\"background-color:rgba(255,215,0,0.3);\">as</span> <span style=\"background-color:rgba(255,215,0,0.3);\">rights,</span> freedoms <span style=\"background-color:rgba(255,215,0,0.3);\">and</span> lawful interests <span style=\"background-color:rgba(255,215,0,0.3);\">of</span> legal entities <span style=\"background-color:rgba(255,215,0,0.3);\">and</span> indicates Ukrainian courts that will consider disputes arising <span style=\"background-color:rgba(255,215,0,0.3);\">in</span> Crimea during <span style=\"background-color:rgba(255,215,0,0.3);\">the</span> <span style=\"background-color:rgba(255,215,0,0.3);\">occupation.</span> It defines <span style=\"background-color:rgba(255,215,0,0.3);\">\"occupied</span> <span style=\"background-color:rgba(255,215,0,0.3);\">territory\"</span> <span style=\"background-color:rgba(255,215,0,0.3);\">as</span> including <span style=\"background-color:rgba(255,215,0,0.3);\">the</span> land <span style=\"background-color:rgba(255,215,0,0.3);\">territory</span> <span style=\"background-color:rgba(255,215,0,0.3);\">of</span> <span style=\"background-color:rgba(255,215,0,0.3);\">the</span> Autonomous Republic <span style=\"background-color:rgba(255,215,0,0.3);\">of</span> Crimea <span style=\"background-color:rgba(255,215,0,0.3);\">and</span> <span style=\"background-color:rgba(255,215,0,0.3);\">the</span> city <span style=\"background-color:rgba(255,215,0,0.3);\">of</span> Sevastopol <span style=\"background-color:rgba(255,215,0,0.3);\">as</span> well <span style=\"background-color:rgba(255,215,0,0.3);\">as</span> <span style=\"background-color:rgba(255,215,0,0.3);\">their</span> domestic waters; domestic waters <span style=\"background-color:rgba(255,215,0,0.3);\">and</span> territorial sea <span style=\"background-color:rgba(255,215,0,0.3);\">of</span> <span style=\"background-color:rgba(255,215,0,0.3);\">Ukraine</span> adjacent <span style=\"background-color:rgba(255,215,0,0.3);\">to</span> <span style=\"background-color:rgba(255,215,0,0.3);\">the</span> coast <span style=\"background-color:rgba(255,215,0,0.3);\">of</span> <span style=\"background-color:rgba(255,215,0,0.3);\">the</span> Crimean peninsula; <span style=\"background-color:rgba(255,215,0,0.3);\">the</span> <span style=\"background-color:rgba(255,215,0,0.3);\">territory</span> <span style=\"background-color:rgba(255,215,0,0.3);\">of</span> <span style=\"background-color:rgba(255,215,0,0.3);\">an</span> adjacent area, exclusive <span style=\"background-color:rgba(255,215,0,0.3);\">economic</span> zone <span style=\"background-color:rgba(255,215,0,0.3);\">and</span> continental shelf along <span style=\"background-color:rgba(255,215,0,0.3);\">the</span> coast <span style=\"background-color:rgba(255,215,0,0.3);\">of</span> <span style=\"background-color:rgba(255,215,0,0.3);\">the</span> Crimean peninsula <span style=\"background-color:rgba(255,215,0,0.3);\">subject</span> <span style=\"background-color:rgba(255,215,0,0.3);\">to</span> jurisdiction <span style=\"background-color:rgba(255,215,0,0.3);\">of</span> Ukrainian bodies <span style=\"background-color:rgba(255,215,0,0.3);\">of</span> <span style=\"background-color:rgba(255,215,0,0.3);\">state</span> power <span style=\"background-color:rgba(255,215,0,0.3);\">in</span> accordance with provisions <span style=\"background-color:rgba(255,215,0,0.3);\">of</span> international <span style=\"background-color:rgba(255,215,0,0.3);\">law,</span> <span style=\"background-color:rgba(255,215,0,0.3);\">the</span> <span style=\"background-color:rgba(255,215,0,0.3);\">Constitution</span> <span style=\"background-color:rgba(255,215,0,0.3);\">and</span> <span style=\"background-color:rgba(255,215,0,0.3);\">laws</span> <span style=\"background-color:rgba(255,215,0,0.3);\">of</span> <span style=\"background-color:rgba(255,215,0,0.3);\">Ukraine;</span> underwater space <span style=\"background-color:rgba(255,215,0,0.3);\">within</span> <span style=\"background-color:rgba(255,215,0,0.3);\">the</span> territorial sea; air space above these territories. <span style=\"background-color:rgba(255,215,0,0.3);\">For</span> <span style=\"background-color:rgba(255,215,0,0.3);\">as</span> long <span style=\"background-color:rgba(255,215,0,0.3);\">as</span> Crimea remains <span style=\"background-color:rgba(255,215,0,0.3);\">occupied,</span> <span style=\"background-color:rgba(255,215,0,0.3);\">the</span> <span style=\"background-color:rgba(255,215,0,0.3);\">\"occupied</span> <span style=\"background-color:rgba(255,215,0,0.3);\">territory\"</span> will <span style=\"background-color:rgba(255,215,0,0.3);\">be</span> subjected <span style=\"background-color:rgba(255,215,0,0.3);\">to</span> <span style=\"background-color:rgba(255,215,0,0.3);\">a</span> special legal regime with respect <span style=\"background-color:rgba(255,215,0,0.3);\">to</span> <span style=\"background-color:rgba(255,215,0,0.3);\">the</span> <span style=\"background-color:rgba(255,215,0,0.3);\">border</span> crossing with <span style=\"background-color:rgba(255,215,0,0.3);\">the</span> <span style=\"background-color:rgba(255,215,0,0.3);\">\"occupied</span> <span style=\"background-color:rgba(255,215,0,0.3);\">territory\",</span> carrying out business <span style=\"background-color:rgba(255,215,0,0.3);\">activity,</span> entering into transactions, holding elections <span style=\"background-color:rgba(255,215,0,0.3);\">and</span> referenda, exercise <span style=\"background-color:rgba(255,215,0,0.3);\">of</span> other human <span style=\"background-color:rgba(255,215,0,0.3);\">and</span> civil <span style=\"background-color:rgba(255,215,0,0.3);\">rights</span> <span style=\"background-color:rgba(255,215,0,0.3);\">and</span> freedoms <span style=\"background-color:rgba(255,215,0,0.3);\">as</span> well <span style=\"background-color:rgba(255,215,0,0.3);\">as</span> <span style=\"background-color:rgba(255,215,0,0.3);\">a</span> special procedure <span style=\"background-color:rgba(255,215,0,0.3);\">for</span> ensuring human <span style=\"background-color:rgba(255,215,0,0.3);\">and</span> civil <span style=\"background-color:rgba(255,215,0,0.3);\">rights</span> <span style=\"background-color:rgba(255,215,0,0.3);\">and</span> freedoms <span style=\"background-color:rgba(255,215,0,0.3);\">of</span> Ukrainian citizens residing <span style=\"background-color:rgba(255,215,0,0.3);\">in</span> <span style=\"background-color:rgba(255,215,0,0.3);\">the</span> <span style=\"background-color:rgba(255,215,0,0.3);\">temporarily</span> <span style=\"background-color:rgba(255,215,0,0.3);\">occupied</span> territories <span style=\"background-color:rgba(255,215,0,0.3);\">of</span> <span style=\"background-color:rgba(255,215,0,0.3);\">Ukraine.</span> 1) Activities <span style=\"background-color:rgba(255,215,0,0.3);\">of</span> <span style=\"background-color:rgba(255,215,0,0.3);\">state</span> <span style=\"background-color:rgba(255,215,0,0.3);\">and</span> local self-governance bodies created <span style=\"background-color:rgba(255,215,0,0.3);\">in</span> <span style=\"background-color:rgba(255,215,0,0.3);\">the</span> <span style=\"background-color:rgba(255,215,0,0.3);\">occupied</span> territories <span style=\"background-color:rgba(255,215,0,0.3);\">in</span> breach <span style=\"background-color:rgba(255,215,0,0.3);\">of</span> Ukrainian <span style=\"background-color:rgba(255,215,0,0.3);\">law</span> <span style=\"background-color:rgba(255,215,0,0.3);\">shall</span> <span style=\"background-color:rgba(255,215,0,0.3);\">be</span> prohibited, <span style=\"background-color:rgba(255,215,0,0.3);\">and</span> <span style=\"background-color:rgba(255,215,0,0.3);\">their</span> regulations <span style=\"background-color:rgba(255,215,0,0.3);\">and</span> acts <span style=\"background-color:rgba(255,215,0,0.3);\">shall</span> <span style=\"background-color:rgba(255,215,0,0.3);\">be</span> illegal <span style=\"background-color:rgba(255,215,0,0.3);\">and</span> will <span style=\"background-color:rgba(255,215,0,0.3);\">not</span> <span style=\"background-color:rgba(255,215,0,0.3);\">be</span> recognized <span style=\"background-color:rgba(255,215,0,0.3);\">in</span> <span style=\"background-color:rgba(255,215,0,0.3);\">Ukraine</span> - e.g. permits, authorizations, allocation <span style=\"background-color:rgba(255,215,0,0.3);\">of</span> land plots. 2) <span style=\"background-color:rgba(255,215,0,0.3);\">The</span> <span style=\"background-color:rgba(255,215,0,0.3);\">Law</span> specifically deals with transfers <span style=\"background-color:rgba(255,215,0,0.3);\">of</span> Crimea-based immovable <span style=\"background-color:rgba(255,215,0,0.3);\">property</span> <span style=\"background-color:rgba(255,215,0,0.3);\">by</span> setting forth that ownership <span style=\"background-color:rgba(255,215,0,0.3);\">rights</span> <span style=\"background-color:rgba(255,215,0,0.3);\">to</span> immovable <span style=\"background-color:rgba(255,215,0,0.3);\">property</span> may <span style=\"background-color:rgba(255,215,0,0.3);\">be</span> transferred <span style=\"background-color:rgba(255,215,0,0.3);\">and</span> acquired <span style=\"background-color:rgba(255,215,0,0.3);\">in</span> accordance with Ukrainian <span style=\"background-color:rgba(255,215,0,0.3);\">law.</span> <span style=\"background-color:rgba(255,215,0,0.3);\">As</span> <span style=\"background-color:rgba(255,215,0,0.3);\">a</span> result, Crimea-based immovable <span style=\"background-color:rgba(255,215,0,0.3);\">property</span> may <span style=\"background-color:rgba(255,215,0,0.3);\">be</span> transferred outside Crimea <span style=\"background-color:rgba(255,215,0,0.3);\">and</span> notarized <span style=\"background-color:rgba(255,215,0,0.3);\">by</span> any Ukrainian notary. 3) Disputes arising <span style=\"background-color:rgba(255,215,0,0.3);\">in</span> Crimea during <span style=\"background-color:rgba(255,215,0,0.3);\">the</span> <span style=\"background-color:rgba(255,215,0,0.3);\">occupation</span> will <span style=\"background-color:rgba(255,215,0,0.3);\">be</span> considered <span style=\"background-color:rgba(255,215,0,0.3);\">by</span> respective civil, commercial <span style=\"background-color:rgba(255,215,0,0.3);\">and</span> administrative courts <span style=\"background-color:rgba(255,215,0,0.3);\">in</span> <span style=\"background-color:rgba(255,215,0,0.3);\">the</span> city <span style=\"background-color:rgba(255,215,0,0.3);\">of</span> Kyiv. 4) If provisions <span style=\"background-color:rgba(255,215,0,0.3);\">of</span> <span style=\"background-color:rgba(255,215,0,0.3);\">the</span> <span style=\"background-color:rgba(255,215,0,0.3);\">Law</span> are violated, Ukrainian authorities <span style=\"background-color:rgba(255,215,0,0.3);\">shall</span> <span style=\"background-color:rgba(255,215,0,0.3);\">apply</span> mechanisms <span style=\"background-color:rgba(255,215,0,0.3);\">provided</span> <span style=\"background-color:rgba(255,215,0,0.3);\">for</span> <span style=\"background-color:rgba(255,215,0,0.3);\">by</span> Ukrainian <span style=\"background-color:rgba(255,215,0,0.3);\">law</span> <span style=\"background-color:rgba(255,215,0,0.3);\">and</span> provisions <span style=\"background-color:rgba(255,215,0,0.3);\">of</span> international <span style=\"background-color:rgba(255,215,0,0.3);\">laws</span> both <span style=\"background-color:rgba(255,215,0,0.3);\">in</span> Ukrainian <span style=\"background-color:rgba(255,215,0,0.3);\">and</span> international courts. Business activities <span style=\"background-color:rgba(255,215,0,0.3);\">in</span> Crimea will <span style=\"background-color:rgba(255,215,0,0.3);\">be</span> covered <span style=\"background-color:rgba(255,215,0,0.3);\">by</span> <span style=\"background-color:rgba(255,215,0,0.3);\">a</span> separate <span style=\"background-color:rgba(255,215,0,0.3);\">law</span> intended <span style=\"background-color:rgba(255,215,0,0.3);\">to</span> specifically address <span style=\"background-color:rgba(255,215,0,0.3);\">the</span> \"doing business <span style=\"background-color:rgba(255,215,0,0.3);\">in</span> Crimea\" aspect. Generally, <span style=\"background-color:rgba(255,215,0,0.3);\">the</span> <span style=\"background-color:rgba(255,215,0,0.3);\">Law</span> limits business <span style=\"background-color:rgba(255,215,0,0.3);\">activity</span> <span style=\"background-color:rgba(255,215,0,0.3);\">in</span> <span style=\"background-color:rgba(255,215,0,0.3);\">the</span> <span style=\"background-color:rgba(255,215,0,0.3);\">territory</span> <span style=\"background-color:rgba(255,215,0,0.3);\">of</span> Crimea <span style=\"background-color:rgba(255,215,0,0.3);\">and,</span> obviously, <span style=\"background-color:rgba(255,215,0,0.3);\">persons</span> engaged <span style=\"background-color:rgba(255,215,0,0.3);\">in</span> business <span style=\"background-color:rgba(255,215,0,0.3);\">activity</span> <span style=\"background-color:rgba(255,215,0,0.3);\">in</span> Crimea may <span style=\"background-color:rgba(255,215,0,0.3);\">be</span> prosecuted <span style=\"background-color:rgba(255,215,0,0.3);\">by</span> <span style=\"background-color:rgba(255,215,0,0.3);\">Ukraine</span> <span style=\"background-color:rgba(255,215,0,0.3);\">and</span> <span style=\"background-color:rgba(255,215,0,0.3);\">the</span> international community (i.e., <span style=\"background-color:rgba(255,215,0,0.3);\">the</span> countries that did <span style=\"background-color:rgba(255,215,0,0.3);\">not</span> recognize <span style=\"background-color:rgba(255,215,0,0.3);\">the</span> <span style=\"background-color:rgba(255,215,0,0.3);\">occupation</span> <span style=\"background-color:rgba(255,215,0,0.3);\">of</span> Crimea <span style=\"background-color:rgba(255,215,0,0.3);\">by</span> <span style=\"background-color:rgba(255,215,0,0.3);\">the</span> Russian Federation). Considering <span style=\"background-color:rgba(255,215,0,0.3);\">this,</span> <span style=\"background-color:rgba(255,215,0,0.3);\">the</span> Ministry <span style=\"background-color:rgba(255,215,0,0.3);\">of</span> Justice <span style=\"background-color:rgba(255,215,0,0.3);\">of</span> <span style=\"background-color:rgba(255,215,0,0.3);\">Ukraine</span> introduced <span style=\"background-color:rgba(255,215,0,0.3);\">a</span> simplified procedure <span style=\"background-color:rgba(255,215,0,0.3);\">for</span> Crimea-registered businesses <span style=\"background-color:rgba(255,215,0,0.3);\">to</span> change <span style=\"background-color:rgba(255,215,0,0.3);\">their</span> registered addresses. Accordingly, Crimea-registered businesses may now register anywhere <span style=\"background-color:rgba(255,215,0,0.3);\">in</span> <span style=\"background-color:rgba(255,215,0,0.3);\">Ukraine</span> <span style=\"background-color:rgba(255,215,0,0.3);\">and</span> continue with <span style=\"background-color:rgba(255,215,0,0.3);\">their</span> businesses.<br><br><strong>tfIDF Predicted Summary</strong><br>Re-transfer <span style=\"background-color:rgba(255,215,0,0.3);\">of</span> <span style=\"background-color:rgba(255,215,0,0.3);\">the</span> case <span style=\"background-color:rgba(255,215,0,0.3);\">shall</span> <span style=\"background-color:rgba(255,215,0,0.3);\">not</span> <span style=\"background-color:rgba(255,215,0,0.3);\">be</span> allowed. <span style=\"background-color:rgba(255,215,0,0.3);\">Under</span> <span style=\"background-color:rgba(255,215,0,0.3);\">the</span> <span style=\"background-color:rgba(255,215,0,0.3);\">Constitution</span> <span style=\"background-color:rgba(255,215,0,0.3);\">of</span> <span style=\"background-color:rgba(255,215,0,0.3);\">Ukraine,</span> <span style=\"background-color:rgba(255,215,0,0.3);\">Ukraine</span> is <span style=\"background-color:rgba(255,215,0,0.3);\">a</span> sovereign <span style=\"background-color:rgba(255,215,0,0.3);\">and</span> independent <span style=\"background-color:rgba(255,215,0,0.3);\">state.</span> <span style=\"background-color:rgba(255,215,0,0.3);\">The</span> date <span style=\"background-color:rgba(255,215,0,0.3);\">of</span> <span style=\"background-color:rgba(255,215,0,0.3);\">the</span> beginning <span style=\"background-color:rgba(255,215,0,0.3);\">of</span> <span style=\"background-color:rgba(255,215,0,0.3);\">the</span> temporary <span style=\"background-color:rgba(255,215,0,0.3);\">occupation</span> is 20 February <span style=\"background-color:rgba(255,215,0,0.3);\">2014.</span> Relevant information <span style=\"background-color:rgba(255,215,0,0.3);\">on</span> <span style=\"background-color:rgba(255,215,0,0.3);\">their</span> search <span style=\"background-color:rgba(255,215,0,0.3);\">shall</span> <span style=\"background-color:rgba(255,215,0,0.3);\">be</span> <span style=\"background-color:rgba(255,215,0,0.3);\">provided</span> <span style=\"background-color:rgba(255,215,0,0.3);\">to</span> <span style=\"background-color:rgba(255,215,0,0.3);\">law</span> enforcement agencies. At <span style=\"background-color:rgba(255,215,0,0.3);\">the</span> same time, information (note) about <span style=\"background-color:rgba(255,215,0,0.3);\">the</span> place <span style=\"background-color:rgba(255,215,0,0.3);\">of</span> stay <span style=\"background-color:rgba(255,215,0,0.3);\">of</span> <span style=\"background-color:rgba(255,215,0,0.3);\">such</span> <span style=\"background-color:rgba(255,215,0,0.3);\">a</span> person <span style=\"background-color:rgba(255,215,0,0.3);\">shall</span> <span style=\"background-color:rgba(255,215,0,0.3);\">not</span> <span style=\"background-color:rgba(255,215,0,0.3);\">be</span> entered <span style=\"background-color:rgba(255,215,0,0.3);\">in</span> his/her passport. <span style=\"background-color:rgba(255,215,0,0.3);\">Persons</span> guilty <span style=\"background-color:rgba(255,215,0,0.3);\">of</span> violating <span style=\"background-color:rgba(255,215,0,0.3);\">the</span> requirements <span style=\"background-color:rgba(255,215,0,0.3);\">of</span> <span style=\"background-color:rgba(255,215,0,0.3);\">this</span> <span style=\"background-color:rgba(255,215,0,0.3);\">Law</span> <span style=\"background-color:rgba(255,215,0,0.3);\">shall</span> bear <span style=\"background-color:rgba(255,215,0,0.3);\">the</span> responsibility <span style=\"background-color:rgba(255,215,0,0.3);\">provided</span> <span style=\"background-color:rgba(255,215,0,0.3);\">for</span> <span style=\"background-color:rgba(255,215,0,0.3);\">by</span> <span style=\"background-color:rgba(255,215,0,0.3);\">law.</span> <span style=\"background-color:rgba(255,215,0,0.3);\">The</span> modalities <span style=\"background-color:rgba(255,215,0,0.3);\">of</span> <span style=\"background-color:rgba(255,215,0,0.3);\">economic</span> <span style=\"background-color:rgba(255,215,0,0.3);\">activity</span> <span style=\"background-color:rgba(255,215,0,0.3);\">in</span> <span style=\"background-color:rgba(255,215,0,0.3);\">the</span> <span style=\"background-color:rgba(255,215,0,0.3);\">temporarily</span> <span style=\"background-color:rgba(255,215,0,0.3);\">occupied</span> <span style=\"background-color:rgba(255,215,0,0.3);\">territory</span> <span style=\"background-color:rgba(255,215,0,0.3);\">shall</span> <span style=\"background-color:rgba(255,215,0,0.3);\">be</span> determined <span style=\"background-color:rgba(255,215,0,0.3);\">by</span> <span style=\"background-color:rgba(255,215,0,0.3);\">law.</span> <span style=\"background-color:rgba(255,215,0,0.3);\">The</span> <span style=\"background-color:rgba(255,215,0,0.3);\">temporarily</span> <span style=\"background-color:rgba(255,215,0,0.3);\">occupied</span> <span style=\"background-color:rgba(255,215,0,0.3);\">territory</span> <span style=\"background-color:rgba(255,215,0,0.3);\">of</span> <span style=\"background-color:rgba(255,215,0,0.3);\">Ukraine</span> (hereinafter referred <span style=\"background-color:rgba(255,215,0,0.3);\">to</span> <span style=\"background-color:rgba(255,215,0,0.3);\">as</span> <span style=\"background-color:rgba(255,215,0,0.3);\">the</span> <span style=\"background-color:rgba(255,215,0,0.3);\">temporarily</span> <span style=\"background-color:rgba(255,215,0,0.3);\">occupied</span> <span style=\"background-color:rgba(255,215,0,0.3);\">territory)</span> is <span style=\"background-color:rgba(255,215,0,0.3);\">an</span> integral part <span style=\"background-color:rgba(255,215,0,0.3);\">of</span> <span style=\"background-color:rgba(255,215,0,0.3);\">the</span> <span style=\"background-color:rgba(255,215,0,0.3);\">territory</span> <span style=\"background-color:rgba(255,215,0,0.3);\">of</span> <span style=\"background-color:rgba(255,215,0,0.3);\">Ukraine,</span> which is <span style=\"background-color:rgba(255,215,0,0.3);\">subject</span> <span style=\"background-color:rgba(255,215,0,0.3);\">to</span> <span style=\"background-color:rgba(255,215,0,0.3);\">the</span> <span style=\"background-color:rgba(255,215,0,0.3);\">Constitution</span> <span style=\"background-color:rgba(255,215,0,0.3);\">and</span> <span style=\"background-color:rgba(255,215,0,0.3);\">laws</span> <span style=\"background-color:rgba(255,215,0,0.3);\">of</span> <span style=\"background-color:rgba(255,215,0,0.3);\">Ukraine.</span> <span style=\"background-color:rgba(255,215,0,0.3);\">Property</span> <span style=\"background-color:rgba(255,215,0,0.3);\">rights</span> <span style=\"background-color:rgba(255,215,0,0.3);\">within</span> <span style=\"background-color:rgba(255,215,0,0.3);\">the</span> <span style=\"background-color:rgba(255,215,0,0.3);\">temporarily</span> <span style=\"background-color:rgba(255,215,0,0.3);\">occupied</span> <span style=\"background-color:rgba(255,215,0,0.3);\">territory</span> <span style=\"background-color:rgba(255,215,0,0.3);\">shall</span> <span style=\"background-color:rgba(255,215,0,0.3);\">be</span> protected <span style=\"background-color:rgba(255,215,0,0.3);\">under</span> <span style=\"background-color:rgba(255,215,0,0.3);\">the</span> legislation <span style=\"background-color:rgba(255,215,0,0.3);\">of</span> <span style=\"background-color:rgba(255,215,0,0.3);\">Ukraine.</span> <span style=\"background-color:rgba(255,215,0,0.3);\">The</span> sovereignty <span style=\"background-color:rgba(255,215,0,0.3);\">of</span> <span style=\"background-color:rgba(255,215,0,0.3);\">Ukraine</span> <span style=\"background-color:rgba(255,215,0,0.3);\">shall</span> <span style=\"background-color:rgba(255,215,0,0.3);\">apply</span> <span style=\"background-color:rgba(255,215,0,0.3);\">to</span> its entire <span style=\"background-color:rgba(255,215,0,0.3);\">territory,</span> which <span style=\"background-color:rgba(255,215,0,0.3);\">shall</span> <span style=\"background-color:rgba(255,215,0,0.3);\">be</span> integral <span style=\"background-color:rgba(255,215,0,0.3);\">and</span> inviolable <span style=\"background-color:rgba(255,215,0,0.3);\">within</span> <span style=\"background-color:rgba(255,215,0,0.3);\">the</span> existing <span style=\"background-color:rgba(255,215,0,0.3);\">border.</span>"
      ],
      "text/plain": [
       "<IPython.core.display.HTML object>"
      ]
     },
     "metadata": {},
     "output_type": "display_data"
    }
   ],
   "source": [
    "display(HTML(match))\n"
   ]
  },
  {
   "cell_type": "code",
   "execution_count": 325,
   "metadata": {},
   "outputs": [],
   "source": [
    "match = display_string_matching(\n",
    "    humanSummary,\n",
    "    textRankSummarize(cleaned_paragraphs),\n",
    "    both=True,\n",
    "    sentences=False,\n",
    "    titles=[\"Real Summary\", \"Text Rank Predicted Summary\"]\n",
    ")\n"
   ]
  },
  {
   "cell_type": "code",
   "execution_count": 326,
   "metadata": {},
   "outputs": [
    {
     "data": {
      "text/html": [
       "<strong>Real Summary</strong><br><span style=\"background-color:rgba(255,215,0,0.3);\">On</span> 15 April 2014 <span style=\"background-color:rgba(255,215,0,0.3);\">the</span> <span style=\"background-color:rgba(255,215,0,0.3);\">Ukrainian</span> Parliament passed <span style=\"background-color:rgba(255,215,0,0.3);\">the</span> <span style=\"background-color:rgba(255,215,0,0.3);\">Law</span> <span style=\"background-color:rgba(255,215,0,0.3);\">of</span> <span style=\"background-color:rgba(255,215,0,0.3);\">Ukraine</span> <span style=\"background-color:rgba(255,215,0,0.3);\">“On</span> <span style=\"background-color:rgba(255,215,0,0.3);\">Ensuring</span> <span style=\"background-color:rgba(255,215,0,0.3);\">Civil</span> <span style=\"background-color:rgba(255,215,0,0.3);\">Rights</span> <span style=\"background-color:rgba(255,215,0,0.3);\">and</span> <span style=\"background-color:rgba(255,215,0,0.3);\">Freedoms</span> <span style=\"background-color:rgba(255,215,0,0.3);\">and</span> <span style=\"background-color:rgba(255,215,0,0.3);\">the</span> <span style=\"background-color:rgba(255,215,0,0.3);\">Legal</span> <span style=\"background-color:rgba(255,215,0,0.3);\">Regime</span> <span style=\"background-color:rgba(255,215,0,0.3);\">on</span> <span style=\"background-color:rgba(255,215,0,0.3);\">Temporarily</span> <span style=\"background-color:rgba(255,215,0,0.3);\">Occupied</span> <span style=\"background-color:rgba(255,215,0,0.3);\">Territory</span> <span style=\"background-color:rgba(255,215,0,0.3);\">of</span> <span style=\"background-color:rgba(255,215,0,0.3);\">Ukraine”</span> <span style=\"background-color:rgba(255,215,0,0.3);\">(the</span> <span style=\"background-color:rgba(255,215,0,0.3);\">\"Law\").</span> Specifically, <span style=\"background-color:rgba(255,215,0,0.3);\">the</span> <span style=\"background-color:rgba(255,215,0,0.3);\">Law</span> determines <span style=\"background-color:rgba(255,215,0,0.3);\">a</span> <span style=\"background-color:rgba(255,215,0,0.3);\">legal</span> <span style=\"background-color:rgba(255,215,0,0.3);\">regime</span> <span style=\"background-color:rgba(255,215,0,0.3);\">of</span> <span style=\"background-color:rgba(255,215,0,0.3);\">occupied</span> <span style=\"background-color:rgba(255,215,0,0.3);\">territories</span> <span style=\"background-color:rgba(255,215,0,0.3);\">as</span> <span style=\"background-color:rgba(255,215,0,0.3);\">well</span> <span style=\"background-color:rgba(255,215,0,0.3);\">as</span> sets forth <span style=\"background-color:rgba(255,215,0,0.3);\">special</span> procedures <span style=\"background-color:rgba(255,215,0,0.3);\">for</span> <span style=\"background-color:rgba(255,215,0,0.3);\">the</span> operation <span style=\"background-color:rgba(255,215,0,0.3);\">of</span> governmental <span style=\"background-color:rgba(255,215,0,0.3);\">authorities,</span> <span style=\"background-color:rgba(255,215,0,0.3);\">bodies</span> <span style=\"background-color:rgba(255,215,0,0.3);\">of</span> local self-government, enterprises <span style=\"background-color:rgba(255,215,0,0.3);\">and</span> organizations, <span style=\"background-color:rgba(255,215,0,0.3);\">under</span> such <span style=\"background-color:rgba(255,215,0,0.3);\">legal</span> <span style=\"background-color:rgba(255,215,0,0.3);\">regime,</span> provides <span style=\"background-color:rgba(255,215,0,0.3);\">for</span> protection <span style=\"background-color:rgba(255,215,0,0.3);\">of</span> <span style=\"background-color:rgba(255,215,0,0.3);\">human</span> <span style=\"background-color:rgba(255,215,0,0.3);\">and</span> <span style=\"background-color:rgba(255,215,0,0.3);\">civil</span> <span style=\"background-color:rgba(255,215,0,0.3);\">rights</span> <span style=\"background-color:rgba(255,215,0,0.3);\">and</span> <span style=\"background-color:rgba(255,215,0,0.3);\">freedoms</span> <span style=\"background-color:rgba(255,215,0,0.3);\">as</span> <span style=\"background-color:rgba(255,215,0,0.3);\">well</span> <span style=\"background-color:rgba(255,215,0,0.3);\">as</span> <span style=\"background-color:rgba(255,215,0,0.3);\">rights,</span> <span style=\"background-color:rgba(255,215,0,0.3);\">freedoms</span> <span style=\"background-color:rgba(255,215,0,0.3);\">and</span> lawful <span style=\"background-color:rgba(255,215,0,0.3);\">interests</span> <span style=\"background-color:rgba(255,215,0,0.3);\">of</span> <span style=\"background-color:rgba(255,215,0,0.3);\">legal</span> entities <span style=\"background-color:rgba(255,215,0,0.3);\">and</span> indicates <span style=\"background-color:rgba(255,215,0,0.3);\">Ukrainian</span> courts that <span style=\"background-color:rgba(255,215,0,0.3);\">will</span> consider disputes arising <span style=\"background-color:rgba(255,215,0,0.3);\">in</span> <span style=\"background-color:rgba(255,215,0,0.3);\">Crimea</span> <span style=\"background-color:rgba(255,215,0,0.3);\">during</span> <span style=\"background-color:rgba(255,215,0,0.3);\">the</span> occupation. <span style=\"background-color:rgba(255,215,0,0.3);\">It</span> defines <span style=\"background-color:rgba(255,215,0,0.3);\">\"occupied</span> <span style=\"background-color:rgba(255,215,0,0.3);\">territory\"</span> <span style=\"background-color:rgba(255,215,0,0.3);\">as</span> including <span style=\"background-color:rgba(255,215,0,0.3);\">the</span> <span style=\"background-color:rgba(255,215,0,0.3);\">land</span> <span style=\"background-color:rgba(255,215,0,0.3);\">territory</span> <span style=\"background-color:rgba(255,215,0,0.3);\">of</span> <span style=\"background-color:rgba(255,215,0,0.3);\">the</span> <span style=\"background-color:rgba(255,215,0,0.3);\">Autonomous</span> <span style=\"background-color:rgba(255,215,0,0.3);\">Republic</span> <span style=\"background-color:rgba(255,215,0,0.3);\">of</span> <span style=\"background-color:rgba(255,215,0,0.3);\">Crimea</span> <span style=\"background-color:rgba(255,215,0,0.3);\">and</span> <span style=\"background-color:rgba(255,215,0,0.3);\">the</span> <span style=\"background-color:rgba(255,215,0,0.3);\">city</span> <span style=\"background-color:rgba(255,215,0,0.3);\">of</span> <span style=\"background-color:rgba(255,215,0,0.3);\">Sevastopol</span> <span style=\"background-color:rgba(255,215,0,0.3);\">as</span> <span style=\"background-color:rgba(255,215,0,0.3);\">well</span> <span style=\"background-color:rgba(255,215,0,0.3);\">as</span> <span style=\"background-color:rgba(255,215,0,0.3);\">their</span> domestic <span style=\"background-color:rgba(255,215,0,0.3);\">waters;</span> domestic <span style=\"background-color:rgba(255,215,0,0.3);\">waters</span> <span style=\"background-color:rgba(255,215,0,0.3);\">and</span> <span style=\"background-color:rgba(255,215,0,0.3);\">territorial</span> <span style=\"background-color:rgba(255,215,0,0.3);\">sea</span> <span style=\"background-color:rgba(255,215,0,0.3);\">of</span> <span style=\"background-color:rgba(255,215,0,0.3);\">Ukraine</span> <span style=\"background-color:rgba(255,215,0,0.3);\">adjacent</span> <span style=\"background-color:rgba(255,215,0,0.3);\">to</span> <span style=\"background-color:rgba(255,215,0,0.3);\">the</span> <span style=\"background-color:rgba(255,215,0,0.3);\">coast</span> <span style=\"background-color:rgba(255,215,0,0.3);\">of</span> <span style=\"background-color:rgba(255,215,0,0.3);\">the</span> <span style=\"background-color:rgba(255,215,0,0.3);\">Crimean</span> <span style=\"background-color:rgba(255,215,0,0.3);\">peninsula;</span> <span style=\"background-color:rgba(255,215,0,0.3);\">the</span> <span style=\"background-color:rgba(255,215,0,0.3);\">territory</span> <span style=\"background-color:rgba(255,215,0,0.3);\">of</span> <span style=\"background-color:rgba(255,215,0,0.3);\">an</span> <span style=\"background-color:rgba(255,215,0,0.3);\">adjacent</span> area, <span style=\"background-color:rgba(255,215,0,0.3);\">exclusive</span> <span style=\"background-color:rgba(255,215,0,0.3);\">economic</span> <span style=\"background-color:rgba(255,215,0,0.3);\">zone</span> <span style=\"background-color:rgba(255,215,0,0.3);\">and</span> <span style=\"background-color:rgba(255,215,0,0.3);\">continental</span> <span style=\"background-color:rgba(255,215,0,0.3);\">shelf</span> <span style=\"background-color:rgba(255,215,0,0.3);\">along</span> <span style=\"background-color:rgba(255,215,0,0.3);\">the</span> <span style=\"background-color:rgba(255,215,0,0.3);\">coast</span> <span style=\"background-color:rgba(255,215,0,0.3);\">of</span> <span style=\"background-color:rgba(255,215,0,0.3);\">the</span> <span style=\"background-color:rgba(255,215,0,0.3);\">Crimean</span> <span style=\"background-color:rgba(255,215,0,0.3);\">peninsula</span> <span style=\"background-color:rgba(255,215,0,0.3);\">subject</span> <span style=\"background-color:rgba(255,215,0,0.3);\">to</span> <span style=\"background-color:rgba(255,215,0,0.3);\">jurisdiction</span> <span style=\"background-color:rgba(255,215,0,0.3);\">of</span> <span style=\"background-color:rgba(255,215,0,0.3);\">Ukrainian</span> <span style=\"background-color:rgba(255,215,0,0.3);\">bodies</span> <span style=\"background-color:rgba(255,215,0,0.3);\">of</span> <span style=\"background-color:rgba(255,215,0,0.3);\">state</span> power <span style=\"background-color:rgba(255,215,0,0.3);\">in</span> accordance <span style=\"background-color:rgba(255,215,0,0.3);\">with</span> <span style=\"background-color:rgba(255,215,0,0.3);\">provisions</span> <span style=\"background-color:rgba(255,215,0,0.3);\">of</span> <span style=\"background-color:rgba(255,215,0,0.3);\">international</span> <span style=\"background-color:rgba(255,215,0,0.3);\">law,</span> <span style=\"background-color:rgba(255,215,0,0.3);\">the</span> <span style=\"background-color:rgba(255,215,0,0.3);\">Constitution</span> <span style=\"background-color:rgba(255,215,0,0.3);\">and</span> <span style=\"background-color:rgba(255,215,0,0.3);\">laws</span> <span style=\"background-color:rgba(255,215,0,0.3);\">of</span> <span style=\"background-color:rgba(255,215,0,0.3);\">Ukraine;</span> underwater space <span style=\"background-color:rgba(255,215,0,0.3);\">within</span> <span style=\"background-color:rgba(255,215,0,0.3);\">the</span> <span style=\"background-color:rgba(255,215,0,0.3);\">territorial</span> <span style=\"background-color:rgba(255,215,0,0.3);\">sea;</span> air space above <span style=\"background-color:rgba(255,215,0,0.3);\">these</span> <span style=\"background-color:rgba(255,215,0,0.3);\">territories.</span> <span style=\"background-color:rgba(255,215,0,0.3);\">For</span> <span style=\"background-color:rgba(255,215,0,0.3);\">as</span> long <span style=\"background-color:rgba(255,215,0,0.3);\">as</span> <span style=\"background-color:rgba(255,215,0,0.3);\">Crimea</span> remains <span style=\"background-color:rgba(255,215,0,0.3);\">occupied,</span> <span style=\"background-color:rgba(255,215,0,0.3);\">the</span> <span style=\"background-color:rgba(255,215,0,0.3);\">\"occupied</span> <span style=\"background-color:rgba(255,215,0,0.3);\">territory\"</span> <span style=\"background-color:rgba(255,215,0,0.3);\">will</span> <span style=\"background-color:rgba(255,215,0,0.3);\">be</span> subjected <span style=\"background-color:rgba(255,215,0,0.3);\">to</span> <span style=\"background-color:rgba(255,215,0,0.3);\">a</span> <span style=\"background-color:rgba(255,215,0,0.3);\">special</span> <span style=\"background-color:rgba(255,215,0,0.3);\">legal</span> <span style=\"background-color:rgba(255,215,0,0.3);\">regime</span> <span style=\"background-color:rgba(255,215,0,0.3);\">with</span> respect <span style=\"background-color:rgba(255,215,0,0.3);\">to</span> <span style=\"background-color:rgba(255,215,0,0.3);\">the</span> border <span style=\"background-color:rgba(255,215,0,0.3);\">crossing</span> <span style=\"background-color:rgba(255,215,0,0.3);\">with</span> <span style=\"background-color:rgba(255,215,0,0.3);\">the</span> <span style=\"background-color:rgba(255,215,0,0.3);\">\"occupied</span> <span style=\"background-color:rgba(255,215,0,0.3);\">territory\",</span> carrying <span style=\"background-color:rgba(255,215,0,0.3);\">out</span> business activity, entering into <span style=\"background-color:rgba(255,215,0,0.3);\">transactions,</span> <span style=\"background-color:rgba(255,215,0,0.3);\">holding</span> <span style=\"background-color:rgba(255,215,0,0.3);\">elections</span> <span style=\"background-color:rgba(255,215,0,0.3);\">and</span> referenda, exercise <span style=\"background-color:rgba(255,215,0,0.3);\">of</span> <span style=\"background-color:rgba(255,215,0,0.3);\">other</span> <span style=\"background-color:rgba(255,215,0,0.3);\">human</span> <span style=\"background-color:rgba(255,215,0,0.3);\">and</span> <span style=\"background-color:rgba(255,215,0,0.3);\">civil</span> <span style=\"background-color:rgba(255,215,0,0.3);\">rights</span> <span style=\"background-color:rgba(255,215,0,0.3);\">and</span> <span style=\"background-color:rgba(255,215,0,0.3);\">freedoms</span> <span style=\"background-color:rgba(255,215,0,0.3);\">as</span> <span style=\"background-color:rgba(255,215,0,0.3);\">well</span> <span style=\"background-color:rgba(255,215,0,0.3);\">as</span> <span style=\"background-color:rgba(255,215,0,0.3);\">a</span> <span style=\"background-color:rgba(255,215,0,0.3);\">special</span> <span style=\"background-color:rgba(255,215,0,0.3);\">procedure</span> <span style=\"background-color:rgba(255,215,0,0.3);\">for</span> <span style=\"background-color:rgba(255,215,0,0.3);\">ensuring</span> <span style=\"background-color:rgba(255,215,0,0.3);\">human</span> <span style=\"background-color:rgba(255,215,0,0.3);\">and</span> <span style=\"background-color:rgba(255,215,0,0.3);\">civil</span> <span style=\"background-color:rgba(255,215,0,0.3);\">rights</span> <span style=\"background-color:rgba(255,215,0,0.3);\">and</span> <span style=\"background-color:rgba(255,215,0,0.3);\">freedoms</span> <span style=\"background-color:rgba(255,215,0,0.3);\">of</span> <span style=\"background-color:rgba(255,215,0,0.3);\">Ukrainian</span> <span style=\"background-color:rgba(255,215,0,0.3);\">citizens</span> <span style=\"background-color:rgba(255,215,0,0.3);\">residing</span> <span style=\"background-color:rgba(255,215,0,0.3);\">in</span> <span style=\"background-color:rgba(255,215,0,0.3);\">the</span> <span style=\"background-color:rgba(255,215,0,0.3);\">temporarily</span> <span style=\"background-color:rgba(255,215,0,0.3);\">occupied</span> <span style=\"background-color:rgba(255,215,0,0.3);\">territories</span> <span style=\"background-color:rgba(255,215,0,0.3);\">of</span> <span style=\"background-color:rgba(255,215,0,0.3);\">Ukraine.</span> 1) <span style=\"background-color:rgba(255,215,0,0.3);\">Activities</span> <span style=\"background-color:rgba(255,215,0,0.3);\">of</span> <span style=\"background-color:rgba(255,215,0,0.3);\">state</span> <span style=\"background-color:rgba(255,215,0,0.3);\">and</span> local self-governance <span style=\"background-color:rgba(255,215,0,0.3);\">bodies</span> created <span style=\"background-color:rgba(255,215,0,0.3);\">in</span> <span style=\"background-color:rgba(255,215,0,0.3);\">the</span> <span style=\"background-color:rgba(255,215,0,0.3);\">occupied</span> <span style=\"background-color:rgba(255,215,0,0.3);\">territories</span> <span style=\"background-color:rgba(255,215,0,0.3);\">in</span> breach <span style=\"background-color:rgba(255,215,0,0.3);\">of</span> <span style=\"background-color:rgba(255,215,0,0.3);\">Ukrainian</span> <span style=\"background-color:rgba(255,215,0,0.3);\">law</span> <span style=\"background-color:rgba(255,215,0,0.3);\">shall</span> <span style=\"background-color:rgba(255,215,0,0.3);\">be</span> prohibited, <span style=\"background-color:rgba(255,215,0,0.3);\">and</span> <span style=\"background-color:rgba(255,215,0,0.3);\">their</span> regulations <span style=\"background-color:rgba(255,215,0,0.3);\">and</span> acts <span style=\"background-color:rgba(255,215,0,0.3);\">shall</span> <span style=\"background-color:rgba(255,215,0,0.3);\">be</span> illegal <span style=\"background-color:rgba(255,215,0,0.3);\">and</span> <span style=\"background-color:rgba(255,215,0,0.3);\">will</span> not <span style=\"background-color:rgba(255,215,0,0.3);\">be</span> recognized <span style=\"background-color:rgba(255,215,0,0.3);\">in</span> <span style=\"background-color:rgba(255,215,0,0.3);\">Ukraine</span> - e.g. permits, authorizations, allocation <span style=\"background-color:rgba(255,215,0,0.3);\">of</span> <span style=\"background-color:rgba(255,215,0,0.3);\">land</span> plots. 2) <span style=\"background-color:rgba(255,215,0,0.3);\">The</span> <span style=\"background-color:rgba(255,215,0,0.3);\">Law</span> specifically deals <span style=\"background-color:rgba(255,215,0,0.3);\">with</span> transfers <span style=\"background-color:rgba(255,215,0,0.3);\">of</span> Crimea-based immovable <span style=\"background-color:rgba(255,215,0,0.3);\">property</span> <span style=\"background-color:rgba(255,215,0,0.3);\">by</span> setting forth that ownership <span style=\"background-color:rgba(255,215,0,0.3);\">rights</span> <span style=\"background-color:rgba(255,215,0,0.3);\">to</span> immovable <span style=\"background-color:rgba(255,215,0,0.3);\">property</span> may <span style=\"background-color:rgba(255,215,0,0.3);\">be</span> transferred <span style=\"background-color:rgba(255,215,0,0.3);\">and</span> acquired <span style=\"background-color:rgba(255,215,0,0.3);\">in</span> accordance <span style=\"background-color:rgba(255,215,0,0.3);\">with</span> <span style=\"background-color:rgba(255,215,0,0.3);\">Ukrainian</span> <span style=\"background-color:rgba(255,215,0,0.3);\">law.</span> <span style=\"background-color:rgba(255,215,0,0.3);\">As</span> <span style=\"background-color:rgba(255,215,0,0.3);\">a</span> result, Crimea-based immovable <span style=\"background-color:rgba(255,215,0,0.3);\">property</span> may <span style=\"background-color:rgba(255,215,0,0.3);\">be</span> transferred outside <span style=\"background-color:rgba(255,215,0,0.3);\">Crimea</span> <span style=\"background-color:rgba(255,215,0,0.3);\">and</span> notarized <span style=\"background-color:rgba(255,215,0,0.3);\">by</span> any <span style=\"background-color:rgba(255,215,0,0.3);\">Ukrainian</span> notary. 3) Disputes arising <span style=\"background-color:rgba(255,215,0,0.3);\">in</span> <span style=\"background-color:rgba(255,215,0,0.3);\">Crimea</span> <span style=\"background-color:rgba(255,215,0,0.3);\">during</span> <span style=\"background-color:rgba(255,215,0,0.3);\">the</span> occupation <span style=\"background-color:rgba(255,215,0,0.3);\">will</span> <span style=\"background-color:rgba(255,215,0,0.3);\">be</span> considered <span style=\"background-color:rgba(255,215,0,0.3);\">by</span> respective <span style=\"background-color:rgba(255,215,0,0.3);\">civil,</span> commercial <span style=\"background-color:rgba(255,215,0,0.3);\">and</span> administrative courts <span style=\"background-color:rgba(255,215,0,0.3);\">in</span> <span style=\"background-color:rgba(255,215,0,0.3);\">the</span> <span style=\"background-color:rgba(255,215,0,0.3);\">city</span> <span style=\"background-color:rgba(255,215,0,0.3);\">of</span> Kyiv. 4) <span style=\"background-color:rgba(255,215,0,0.3);\">If</span> <span style=\"background-color:rgba(255,215,0,0.3);\">provisions</span> <span style=\"background-color:rgba(255,215,0,0.3);\">of</span> <span style=\"background-color:rgba(255,215,0,0.3);\">the</span> <span style=\"background-color:rgba(255,215,0,0.3);\">Law</span> <span style=\"background-color:rgba(255,215,0,0.3);\">are</span> violated, <span style=\"background-color:rgba(255,215,0,0.3);\">Ukrainian</span> <span style=\"background-color:rgba(255,215,0,0.3);\">authorities</span> <span style=\"background-color:rgba(255,215,0,0.3);\">shall</span> <span style=\"background-color:rgba(255,215,0,0.3);\">apply</span> <span style=\"background-color:rgba(255,215,0,0.3);\">mechanisms</span> <span style=\"background-color:rgba(255,215,0,0.3);\">provided</span> <span style=\"background-color:rgba(255,215,0,0.3);\">for</span> <span style=\"background-color:rgba(255,215,0,0.3);\">by</span> <span style=\"background-color:rgba(255,215,0,0.3);\">Ukrainian</span> <span style=\"background-color:rgba(255,215,0,0.3);\">law</span> <span style=\"background-color:rgba(255,215,0,0.3);\">and</span> <span style=\"background-color:rgba(255,215,0,0.3);\">provisions</span> <span style=\"background-color:rgba(255,215,0,0.3);\">of</span> <span style=\"background-color:rgba(255,215,0,0.3);\">international</span> <span style=\"background-color:rgba(255,215,0,0.3);\">laws</span> both <span style=\"background-color:rgba(255,215,0,0.3);\">in</span> <span style=\"background-color:rgba(255,215,0,0.3);\">Ukrainian</span> <span style=\"background-color:rgba(255,215,0,0.3);\">and</span> <span style=\"background-color:rgba(255,215,0,0.3);\">international</span> courts. Business <span style=\"background-color:rgba(255,215,0,0.3);\">activities</span> <span style=\"background-color:rgba(255,215,0,0.3);\">in</span> <span style=\"background-color:rgba(255,215,0,0.3);\">Crimea</span> <span style=\"background-color:rgba(255,215,0,0.3);\">will</span> <span style=\"background-color:rgba(255,215,0,0.3);\">be</span> covered <span style=\"background-color:rgba(255,215,0,0.3);\">by</span> <span style=\"background-color:rgba(255,215,0,0.3);\">a</span> separate <span style=\"background-color:rgba(255,215,0,0.3);\">law</span> intended <span style=\"background-color:rgba(255,215,0,0.3);\">to</span> specifically address <span style=\"background-color:rgba(255,215,0,0.3);\">the</span> \"doing business <span style=\"background-color:rgba(255,215,0,0.3);\">in</span> <span style=\"background-color:rgba(255,215,0,0.3);\">Crimea\"</span> aspect. Generally, <span style=\"background-color:rgba(255,215,0,0.3);\">the</span> <span style=\"background-color:rgba(255,215,0,0.3);\">Law</span> limits business activity <span style=\"background-color:rgba(255,215,0,0.3);\">in</span> <span style=\"background-color:rgba(255,215,0,0.3);\">the</span> <span style=\"background-color:rgba(255,215,0,0.3);\">territory</span> <span style=\"background-color:rgba(255,215,0,0.3);\">of</span> <span style=\"background-color:rgba(255,215,0,0.3);\">Crimea</span> <span style=\"background-color:rgba(255,215,0,0.3);\">and,</span> obviously, <span style=\"background-color:rgba(255,215,0,0.3);\">persons</span> engaged <span style=\"background-color:rgba(255,215,0,0.3);\">in</span> business activity <span style=\"background-color:rgba(255,215,0,0.3);\">in</span> <span style=\"background-color:rgba(255,215,0,0.3);\">Crimea</span> may <span style=\"background-color:rgba(255,215,0,0.3);\">be</span> prosecuted <span style=\"background-color:rgba(255,215,0,0.3);\">by</span> <span style=\"background-color:rgba(255,215,0,0.3);\">Ukraine</span> <span style=\"background-color:rgba(255,215,0,0.3);\">and</span> <span style=\"background-color:rgba(255,215,0,0.3);\">the</span> <span style=\"background-color:rgba(255,215,0,0.3);\">international</span> community (i.e., <span style=\"background-color:rgba(255,215,0,0.3);\">the</span> countries that did not recognize <span style=\"background-color:rgba(255,215,0,0.3);\">the</span> occupation <span style=\"background-color:rgba(255,215,0,0.3);\">of</span> <span style=\"background-color:rgba(255,215,0,0.3);\">Crimea</span> <span style=\"background-color:rgba(255,215,0,0.3);\">by</span> <span style=\"background-color:rgba(255,215,0,0.3);\">the</span> <span style=\"background-color:rgba(255,215,0,0.3);\">Russian</span> <span style=\"background-color:rgba(255,215,0,0.3);\">Federation).</span> Considering <span style=\"background-color:rgba(255,215,0,0.3);\">this,</span> <span style=\"background-color:rgba(255,215,0,0.3);\">the</span> Ministry <span style=\"background-color:rgba(255,215,0,0.3);\">of</span> Justice <span style=\"background-color:rgba(255,215,0,0.3);\">of</span> <span style=\"background-color:rgba(255,215,0,0.3);\">Ukraine</span> introduced <span style=\"background-color:rgba(255,215,0,0.3);\">a</span> simplified <span style=\"background-color:rgba(255,215,0,0.3);\">procedure</span> <span style=\"background-color:rgba(255,215,0,0.3);\">for</span> Crimea-registered businesses <span style=\"background-color:rgba(255,215,0,0.3);\">to</span> change <span style=\"background-color:rgba(255,215,0,0.3);\">their</span> registered addresses. Accordingly, Crimea-registered businesses may now register anywhere <span style=\"background-color:rgba(255,215,0,0.3);\">in</span> <span style=\"background-color:rgba(255,215,0,0.3);\">Ukraine</span> <span style=\"background-color:rgba(255,215,0,0.3);\">and</span> continue <span style=\"background-color:rgba(255,215,0,0.3);\">with</span> <span style=\"background-color:rgba(255,215,0,0.3);\">their</span> businesses.<br><br><strong>Text Rank Predicted Summary</strong><br><span style=\"background-color:rgba(255,215,0,0.3);\">Ukraine</span> <span style=\"background-color:rgba(255,215,0,0.3);\">shall</span> take all necessary measures <span style=\"background-color:rgba(255,215,0,0.3);\">to</span> guarantee <span style=\"background-color:rgba(255,215,0,0.3);\">human</span> <span style=\"background-color:rgba(255,215,0,0.3);\">and</span> <span style=\"background-color:rgba(255,215,0,0.3);\">civil</span> <span style=\"background-color:rgba(255,215,0,0.3);\">rights</span> <span style=\"background-color:rgba(255,215,0,0.3);\">and</span> <span style=\"background-color:rgba(255,215,0,0.3);\">freedoms</span> <span style=\"background-color:rgba(255,215,0,0.3);\">provided</span> <span style=\"background-color:rgba(255,215,0,0.3);\">for</span> <span style=\"background-color:rgba(255,215,0,0.3);\">by</span> <span style=\"background-color:rgba(255,215,0,0.3);\">the</span> <span style=\"background-color:rgba(255,215,0,0.3);\">Constitution</span> <span style=\"background-color:rgba(255,215,0,0.3);\">and</span> <span style=\"background-color:rgba(255,215,0,0.3);\">laws</span> <span style=\"background-color:rgba(255,215,0,0.3);\">of</span> <span style=\"background-color:rgba(255,215,0,0.3);\">Ukraine,</span> <span style=\"background-color:rgba(255,215,0,0.3);\">international</span> treaties, <span style=\"background-color:rgba(255,215,0,0.3);\">to</span> all <span style=\"background-color:rgba(255,215,0,0.3);\">citizens</span> <span style=\"background-color:rgba(255,215,0,0.3);\">of</span> <span style=\"background-color:rgba(255,215,0,0.3);\">Ukraine</span> <span style=\"background-color:rgba(255,215,0,0.3);\">residing</span> <span style=\"background-color:rgba(255,215,0,0.3);\">within</span> <span style=\"background-color:rgba(255,215,0,0.3);\">the</span> <span style=\"background-color:rgba(255,215,0,0.3);\">temporarily</span> <span style=\"background-color:rgba(255,215,0,0.3);\">occupied</span> <span style=\"background-color:rgba(255,215,0,0.3);\">territory.</span> <span style=\"background-color:rgba(255,215,0,0.3);\">In</span> case <span style=\"background-color:rgba(255,215,0,0.3);\">of</span> violation <span style=\"background-color:rgba(255,215,0,0.3);\">of</span> <span style=\"background-color:rgba(255,215,0,0.3);\">the</span> <span style=\"background-color:rgba(255,215,0,0.3);\">provisions</span> <span style=\"background-color:rgba(255,215,0,0.3);\">of</span> <span style=\"background-color:rgba(255,215,0,0.3);\">this</span> <span style=\"background-color:rgba(255,215,0,0.3);\">Law,</span> <span style=\"background-color:rgba(255,215,0,0.3);\">state</span> <span style=\"background-color:rgba(255,215,0,0.3);\">bodies</span> <span style=\"background-color:rgba(255,215,0,0.3);\">of</span> <span style=\"background-color:rgba(255,215,0,0.3);\">Ukraine</span> <span style=\"background-color:rgba(255,215,0,0.3);\">shall</span> <span style=\"background-color:rgba(255,215,0,0.3);\">apply</span> <span style=\"background-color:rgba(255,215,0,0.3);\">the</span> <span style=\"background-color:rgba(255,215,0,0.3);\">mechanisms</span> <span style=\"background-color:rgba(255,215,0,0.3);\">provided</span> <span style=\"background-color:rgba(255,215,0,0.3);\">for</span> <span style=\"background-color:rgba(255,215,0,0.3);\">by</span> <span style=\"background-color:rgba(255,215,0,0.3);\">the</span> <span style=\"background-color:rgba(255,215,0,0.3);\">laws</span> <span style=\"background-color:rgba(255,215,0,0.3);\">of</span> <span style=\"background-color:rgba(255,215,0,0.3);\">Ukraine</span> <span style=\"background-color:rgba(255,215,0,0.3);\">and</span> <span style=\"background-color:rgba(255,215,0,0.3);\">the</span> norms <span style=\"background-color:rgba(255,215,0,0.3);\">of</span> <span style=\"background-color:rgba(255,215,0,0.3);\">international</span> <span style=\"background-color:rgba(255,215,0,0.3);\">law</span> <span style=\"background-color:rgba(255,215,0,0.3);\">in</span> order <span style=\"background-color:rgba(255,215,0,0.3);\">to</span> protect <span style=\"background-color:rgba(255,215,0,0.3);\">the</span> peace, security, <span style=\"background-color:rgba(255,215,0,0.3);\">rights,</span> <span style=\"background-color:rgba(255,215,0,0.3);\">freedoms</span> <span style=\"background-color:rgba(255,215,0,0.3);\">and</span> legitimate <span style=\"background-color:rgba(255,215,0,0.3);\">interests</span> <span style=\"background-color:rgba(255,215,0,0.3);\">of</span> <span style=\"background-color:rgba(255,215,0,0.3);\">citizens</span> <span style=\"background-color:rgba(255,215,0,0.3);\">of</span> <span style=\"background-color:rgba(255,215,0,0.3);\">Ukraine</span> located <span style=\"background-color:rgba(255,215,0,0.3);\">within</span> <span style=\"background-color:rgba(255,215,0,0.3);\">the</span> <span style=\"background-color:rgba(255,215,0,0.3);\">temporarily</span> <span style=\"background-color:rgba(255,215,0,0.3);\">occupied</span> <span style=\"background-color:rgba(255,215,0,0.3);\">territory,</span> <span style=\"background-color:rgba(255,215,0,0.3);\">as</span> <span style=\"background-color:rgba(255,215,0,0.3);\">well</span> <span style=\"background-color:rgba(255,215,0,0.3);\">as</span> <span style=\"background-color:rgba(255,215,0,0.3);\">the</span> legitimate <span style=\"background-color:rgba(255,215,0,0.3);\">interests</span> <span style=\"background-color:rgba(255,215,0,0.3);\">of</span> <span style=\"background-color:rgba(255,215,0,0.3);\">the</span> <span style=\"background-color:rgba(255,215,0,0.3);\">state</span> <span style=\"background-color:rgba(255,215,0,0.3);\">of</span> <span style=\"background-color:rgba(255,215,0,0.3);\">Ukraine.</span> Responsibility <span style=\"background-color:rgba(255,215,0,0.3);\">for</span> violating <span style=\"background-color:rgba(255,215,0,0.3);\">human</span> <span style=\"background-color:rgba(255,215,0,0.3);\">and</span> <span style=\"background-color:rgba(255,215,0,0.3);\">civil</span> <span style=\"background-color:rgba(255,215,0,0.3);\">rights</span> <span style=\"background-color:rgba(255,215,0,0.3);\">and</span> <span style=\"background-color:rgba(255,215,0,0.3);\">freedoms</span> defined <span style=\"background-color:rgba(255,215,0,0.3);\">by</span> <span style=\"background-color:rgba(255,215,0,0.3);\">the</span> <span style=\"background-color:rgba(255,215,0,0.3);\">Constitution</span> <span style=\"background-color:rgba(255,215,0,0.3);\">and</span> <span style=\"background-color:rgba(255,215,0,0.3);\">laws</span> <span style=\"background-color:rgba(255,215,0,0.3);\">of</span> <span style=\"background-color:rgba(255,215,0,0.3);\">Ukraine</span> <span style=\"background-color:rgba(255,215,0,0.3);\">within</span> <span style=\"background-color:rgba(255,215,0,0.3);\">the</span> <span style=\"background-color:rgba(255,215,0,0.3);\">temporarily</span> <span style=\"background-color:rgba(255,215,0,0.3);\">occupied</span> <span style=\"background-color:rgba(255,215,0,0.3);\">territory</span> <span style=\"background-color:rgba(255,215,0,0.3);\">shall</span> <span style=\"background-color:rgba(255,215,0,0.3);\">be</span> assigned <span style=\"background-color:rgba(255,215,0,0.3);\">to</span> <span style=\"background-color:rgba(255,215,0,0.3);\">the</span> <span style=\"background-color:rgba(255,215,0,0.3);\">Russian</span> <span style=\"background-color:rgba(255,215,0,0.3);\">Federation</span> <span style=\"background-color:rgba(255,215,0,0.3);\">as</span> <span style=\"background-color:rgba(255,215,0,0.3);\">an</span> occupying <span style=\"background-color:rgba(255,215,0,0.3);\">state</span> <span style=\"background-color:rgba(255,215,0,0.3);\">under</span> <span style=\"background-color:rgba(255,215,0,0.3);\">the</span> norms <span style=\"background-color:rgba(255,215,0,0.3);\">and</span> principles <span style=\"background-color:rgba(255,215,0,0.3);\">of</span> <span style=\"background-color:rgba(255,215,0,0.3);\">international</span> <span style=\"background-color:rgba(255,215,0,0.3);\">law.</span> <span style=\"background-color:rgba(255,215,0,0.3);\">If</span> <span style=\"background-color:rgba(255,215,0,0.3);\">it</span> is impossible <span style=\"background-color:rgba(255,215,0,0.3);\">to</span> carry <span style=\"background-color:rgba(255,215,0,0.3);\">out</span> <span style=\"background-color:rgba(255,215,0,0.3);\">activities</span> <span style=\"background-color:rgba(255,215,0,0.3);\">within</span> <span style=\"background-color:rgba(255,215,0,0.3);\">the</span> <span style=\"background-color:rgba(255,215,0,0.3);\">temporarily</span> <span style=\"background-color:rgba(255,215,0,0.3);\">occupied</span> <span style=\"background-color:rgba(255,215,0,0.3);\">territory,</span> <span style=\"background-color:rgba(255,215,0,0.3);\">the</span> location <span style=\"background-color:rgba(255,215,0,0.3);\">of</span> <span style=\"background-color:rgba(255,215,0,0.3);\">state</span> <span style=\"background-color:rgba(255,215,0,0.3);\">bodies</span> established <span style=\"background-color:rgba(255,215,0,0.3);\">under</span> <span style=\"background-color:rgba(255,215,0,0.3);\">the</span> <span style=\"background-color:rgba(255,215,0,0.3);\">Constitution</span> <span style=\"background-color:rgba(255,215,0,0.3);\">and</span> <span style=\"background-color:rgba(255,215,0,0.3);\">laws</span> <span style=\"background-color:rgba(255,215,0,0.3);\">of</span> <span style=\"background-color:rgba(255,215,0,0.3);\">Ukraine</span> <span style=\"background-color:rgba(255,215,0,0.3);\">shall</span> <span style=\"background-color:rgba(255,215,0,0.3);\">be</span> determined <span style=\"background-color:rgba(255,215,0,0.3);\">by</span> <span style=\"background-color:rgba(255,215,0,0.3);\">the</span> Cabinet <span style=\"background-color:rgba(255,215,0,0.3);\">of</span> Ministers <span style=\"background-color:rgba(255,215,0,0.3);\">of</span> <span style=\"background-color:rgba(255,215,0,0.3);\">Ukraine.</span> <span style=\"background-color:rgba(255,215,0,0.3);\">For</span> <span style=\"background-color:rgba(255,215,0,0.3);\">the</span> purposes <span style=\"background-color:rgba(255,215,0,0.3);\">of</span> <span style=\"background-color:rgba(255,215,0,0.3);\">this</span> <span style=\"background-color:rgba(255,215,0,0.3);\">Law,</span> <span style=\"background-color:rgba(255,215,0,0.3);\">the</span> <span style=\"background-color:rgba(255,215,0,0.3);\">temporarily</span> <span style=\"background-color:rgba(255,215,0,0.3);\">occupied</span> <span style=\"background-color:rgba(255,215,0,0.3);\">territory</span> is defined <span style=\"background-color:rgba(255,215,0,0.3);\">as:</span> <span style=\"background-color:rgba(255,215,0,0.3);\">land</span> <span style=\"background-color:rgba(255,215,0,0.3);\">territory</span> <span style=\"background-color:rgba(255,215,0,0.3);\">of</span> <span style=\"background-color:rgba(255,215,0,0.3);\">the</span> <span style=\"background-color:rgba(255,215,0,0.3);\">Autonomous</span> <span style=\"background-color:rgba(255,215,0,0.3);\">Republic</span> <span style=\"background-color:rgba(255,215,0,0.3);\">of</span> <span style=\"background-color:rgba(255,215,0,0.3);\">Crimea</span> <span style=\"background-color:rgba(255,215,0,0.3);\">and</span> <span style=\"background-color:rgba(255,215,0,0.3);\">the</span> <span style=\"background-color:rgba(255,215,0,0.3);\">city</span> <span style=\"background-color:rgba(255,215,0,0.3);\">of</span> <span style=\"background-color:rgba(255,215,0,0.3);\">Sevastopol,</span> <span style=\"background-color:rgba(255,215,0,0.3);\">the</span> internal <span style=\"background-color:rgba(255,215,0,0.3);\">waters</span> <span style=\"background-color:rgba(255,215,0,0.3);\">of</span> <span style=\"background-color:rgba(255,215,0,0.3);\">these</span> <span style=\"background-color:rgba(255,215,0,0.3);\">territories</span> <span style=\"background-color:rgba(255,215,0,0.3);\">of</span> <span style=\"background-color:rgba(255,215,0,0.3);\">Ukraine;</span> internal <span style=\"background-color:rgba(255,215,0,0.3);\">sea</span> <span style=\"background-color:rgba(255,215,0,0.3);\">waters</span> <span style=\"background-color:rgba(255,215,0,0.3);\">and</span> <span style=\"background-color:rgba(255,215,0,0.3);\">territorial</span> <span style=\"background-color:rgba(255,215,0,0.3);\">sea</span> <span style=\"background-color:rgba(255,215,0,0.3);\">of</span> <span style=\"background-color:rgba(255,215,0,0.3);\">Ukraine</span> around <span style=\"background-color:rgba(255,215,0,0.3);\">the</span> <span style=\"background-color:rgba(255,215,0,0.3);\">Crimean</span> <span style=\"background-color:rgba(255,215,0,0.3);\">Peninsula,</span> <span style=\"background-color:rgba(255,215,0,0.3);\">the</span> <span style=\"background-color:rgba(255,215,0,0.3);\">territory</span> <span style=\"background-color:rgba(255,215,0,0.3);\">of</span> <span style=\"background-color:rgba(255,215,0,0.3);\">the</span> <span style=\"background-color:rgba(255,215,0,0.3);\">exclusive</span> (maritime) <span style=\"background-color:rgba(255,215,0,0.3);\">economic</span> <span style=\"background-color:rgba(255,215,0,0.3);\">zone</span> <span style=\"background-color:rgba(255,215,0,0.3);\">of</span> <span style=\"background-color:rgba(255,215,0,0.3);\">Ukraine</span> <span style=\"background-color:rgba(255,215,0,0.3);\">along</span> <span style=\"background-color:rgba(255,215,0,0.3);\">the</span> <span style=\"background-color:rgba(255,215,0,0.3);\">coast</span> <span style=\"background-color:rgba(255,215,0,0.3);\">of</span> <span style=\"background-color:rgba(255,215,0,0.3);\">the</span> <span style=\"background-color:rgba(255,215,0,0.3);\">Crimean</span> <span style=\"background-color:rgba(255,215,0,0.3);\">Peninsula</span> <span style=\"background-color:rgba(255,215,0,0.3);\">and</span> <span style=\"background-color:rgba(255,215,0,0.3);\">adjacent</span> <span style=\"background-color:rgba(255,215,0,0.3);\">to</span> <span style=\"background-color:rgba(255,215,0,0.3);\">the</span> <span style=\"background-color:rgba(255,215,0,0.3);\">coast</span> <span style=\"background-color:rgba(255,215,0,0.3);\">of</span> <span style=\"background-color:rgba(255,215,0,0.3);\">the</span> <span style=\"background-color:rgba(255,215,0,0.3);\">continental</span> <span style=\"background-color:rgba(255,215,0,0.3);\">shelf</span> <span style=\"background-color:rgba(255,215,0,0.3);\">of</span> <span style=\"background-color:rgba(255,215,0,0.3);\">Ukraine,</span> which fall <span style=\"background-color:rgba(255,215,0,0.3);\">under</span> <span style=\"background-color:rgba(255,215,0,0.3);\">the</span> <span style=\"background-color:rgba(255,215,0,0.3);\">jurisdiction</span> <span style=\"background-color:rgba(255,215,0,0.3);\">of</span> government <span style=\"background-color:rgba(255,215,0,0.3);\">authorities</span> <span style=\"background-color:rgba(255,215,0,0.3);\">of</span> <span style=\"background-color:rgba(255,215,0,0.3);\">Ukraine</span> <span style=\"background-color:rgba(255,215,0,0.3);\">under</span> <span style=\"background-color:rgba(255,215,0,0.3);\">the</span> norms <span style=\"background-color:rgba(255,215,0,0.3);\">of</span> <span style=\"background-color:rgba(255,215,0,0.3);\">international</span> <span style=\"background-color:rgba(255,215,0,0.3);\">law,</span> <span style=\"background-color:rgba(255,215,0,0.3);\">the</span> <span style=\"background-color:rgba(255,215,0,0.3);\">Constitution</span> <span style=\"background-color:rgba(255,215,0,0.3);\">and</span> <span style=\"background-color:rgba(255,215,0,0.3);\">laws</span> <span style=\"background-color:rgba(255,215,0,0.3);\">of</span> <span style=\"background-color:rgba(255,215,0,0.3);\">Ukraine;</span> <span style=\"background-color:rgba(255,215,0,0.3);\">Within</span> <span style=\"background-color:rgba(255,215,0,0.3);\">the</span> <span style=\"background-color:rgba(255,215,0,0.3);\">temporarily</span> <span style=\"background-color:rgba(255,215,0,0.3);\">occupied</span> <span style=\"background-color:rgba(255,215,0,0.3);\">territory</span> <span style=\"background-color:rgba(255,215,0,0.3);\">and</span> <span style=\"background-color:rgba(255,215,0,0.3);\">during</span> <span style=\"background-color:rgba(255,215,0,0.3);\">the</span> period <span style=\"background-color:rgba(255,215,0,0.3);\">of</span> validity <span style=\"background-color:rgba(255,215,0,0.3);\">of</span> <span style=\"background-color:rgba(255,215,0,0.3);\">this</span> <span style=\"background-color:rgba(255,215,0,0.3);\">Law,</span> <span style=\"background-color:rgba(255,215,0,0.3);\">a</span> <span style=\"background-color:rgba(255,215,0,0.3);\">special</span> <span style=\"background-color:rgba(255,215,0,0.3);\">legal</span> <span style=\"background-color:rgba(255,215,0,0.3);\">regime</span> <span style=\"background-color:rgba(255,215,0,0.3);\">shall</span> <span style=\"background-color:rgba(255,215,0,0.3);\">apply</span> <span style=\"background-color:rgba(255,215,0,0.3);\">to</span> <span style=\"background-color:rgba(255,215,0,0.3);\">the</span> <span style=\"background-color:rgba(255,215,0,0.3);\">crossing</span> <span style=\"background-color:rgba(255,215,0,0.3);\">of</span> borders <span style=\"background-color:rgba(255,215,0,0.3);\">of</span> <span style=\"background-color:rgba(255,215,0,0.3);\">the</span> <span style=\"background-color:rgba(255,215,0,0.3);\">temporarily</span> <span style=\"background-color:rgba(255,215,0,0.3);\">occupied</span> <span style=\"background-color:rgba(255,215,0,0.3);\">territory,</span> making <span style=\"background-color:rgba(255,215,0,0.3);\">transactions,</span> <span style=\"background-color:rgba(255,215,0,0.3);\">holding</span> <span style=\"background-color:rgba(255,215,0,0.3);\">elections</span> <span style=\"background-color:rgba(255,215,0,0.3);\">and</span> referendums, <span style=\"background-color:rgba(255,215,0,0.3);\">and</span> exercising <span style=\"background-color:rgba(255,215,0,0.3);\">other</span> <span style=\"background-color:rgba(255,215,0,0.3);\">human</span> <span style=\"background-color:rgba(255,215,0,0.3);\">and</span> <span style=\"background-color:rgba(255,215,0,0.3);\">civil</span> <span style=\"background-color:rgba(255,215,0,0.3);\">rights</span> <span style=\"background-color:rgba(255,215,0,0.3);\">and</span> <span style=\"background-color:rgba(255,215,0,0.3);\">freedoms.</span> Guarantees <span style=\"background-color:rgba(255,215,0,0.3);\">of</span> <span style=\"background-color:rgba(255,215,0,0.3);\">the</span> <span style=\"background-color:rgba(255,215,0,0.3);\">rights,</span> <span style=\"background-color:rgba(255,215,0,0.3);\">freedoms</span> <span style=\"background-color:rgba(255,215,0,0.3);\">and</span> legitimate <span style=\"background-color:rgba(255,215,0,0.3);\">interests</span> <span style=\"background-color:rgba(255,215,0,0.3);\">of</span> <span style=\"background-color:rgba(255,215,0,0.3);\">persons</span> who have resettled from <span style=\"background-color:rgba(255,215,0,0.3);\">the</span> <span style=\"background-color:rgba(255,215,0,0.3);\">temporarily</span> <span style=\"background-color:rgba(255,215,0,0.3);\">occupied</span> <span style=\"background-color:rgba(255,215,0,0.3);\">territory</span> <span style=\"background-color:rgba(255,215,0,0.3);\">of</span> <span style=\"background-color:rgba(255,215,0,0.3);\">Ukraine</span> <span style=\"background-color:rgba(255,215,0,0.3);\">and</span> <span style=\"background-color:rgba(255,215,0,0.3);\">are</span> lawfully staying <span style=\"background-color:rgba(255,215,0,0.3);\">within</span> <span style=\"background-color:rgba(255,215,0,0.3);\">the</span> <span style=\"background-color:rgba(255,215,0,0.3);\">territory</span> <span style=\"background-color:rgba(255,215,0,0.3);\">of</span> <span style=\"background-color:rgba(255,215,0,0.3);\">Ukraine</span> <span style=\"background-color:rgba(255,215,0,0.3);\">shall</span> <span style=\"background-color:rgba(255,215,0,0.3);\">be</span> determined <span style=\"background-color:rgba(255,215,0,0.3);\">by</span> <span style=\"background-color:rgba(255,215,0,0.3);\">the</span> <span style=\"background-color:rgba(255,215,0,0.3);\">Law</span> <span style=\"background-color:rgba(255,215,0,0.3);\">of</span> <span style=\"background-color:rgba(255,215,0,0.3);\">Ukraine</span> <span style=\"background-color:rgba(255,215,0,0.3);\">“On</span> <span style=\"background-color:rgba(255,215,0,0.3);\">Ensuring</span> <span style=\"background-color:rgba(255,215,0,0.3);\">the</span> <span style=\"background-color:rgba(255,215,0,0.3);\">Rights</span> <span style=\"background-color:rgba(255,215,0,0.3);\">and</span> <span style=\"background-color:rgba(255,215,0,0.3);\">Freedoms</span> <span style=\"background-color:rgba(255,215,0,0.3);\">of</span> Internally Displaced <span style=\"background-color:rgba(255,215,0,0.3);\">Persons”.</span> <span style=\"background-color:rgba(255,215,0,0.3);\">Property</span> <span style=\"background-color:rgba(255,215,0,0.3);\">rights</span> <span style=\"background-color:rgba(255,215,0,0.3);\">within</span> <span style=\"background-color:rgba(255,215,0,0.3);\">the</span> <span style=\"background-color:rgba(255,215,0,0.3);\">temporarily</span> <span style=\"background-color:rgba(255,215,0,0.3);\">occupied</span> <span style=\"background-color:rgba(255,215,0,0.3);\">territory</span> <span style=\"background-color:rgba(255,215,0,0.3);\">shall</span> <span style=\"background-color:rgba(255,215,0,0.3);\">be</span> protected <span style=\"background-color:rgba(255,215,0,0.3);\">under</span> <span style=\"background-color:rgba(255,215,0,0.3);\">the</span> legislation <span style=\"background-color:rgba(255,215,0,0.3);\">of</span> <span style=\"background-color:rgba(255,215,0,0.3);\">Ukraine.</span> <span style=\"background-color:rgba(255,215,0,0.3);\">The</span> <span style=\"background-color:rgba(255,215,0,0.3);\">temporarily</span> <span style=\"background-color:rgba(255,215,0,0.3);\">occupied</span> <span style=\"background-color:rgba(255,215,0,0.3);\">territory</span> <span style=\"background-color:rgba(255,215,0,0.3);\">of</span> <span style=\"background-color:rgba(255,215,0,0.3);\">Ukraine</span> (hereinafter referred <span style=\"background-color:rgba(255,215,0,0.3);\">to</span> <span style=\"background-color:rgba(255,215,0,0.3);\">as</span> <span style=\"background-color:rgba(255,215,0,0.3);\">the</span> <span style=\"background-color:rgba(255,215,0,0.3);\">temporarily</span> <span style=\"background-color:rgba(255,215,0,0.3);\">occupied</span> <span style=\"background-color:rgba(255,215,0,0.3);\">territory)</span> is <span style=\"background-color:rgba(255,215,0,0.3);\">an</span> integral part <span style=\"background-color:rgba(255,215,0,0.3);\">of</span> <span style=\"background-color:rgba(255,215,0,0.3);\">the</span> <span style=\"background-color:rgba(255,215,0,0.3);\">territory</span> <span style=\"background-color:rgba(255,215,0,0.3);\">of</span> <span style=\"background-color:rgba(255,215,0,0.3);\">Ukraine,</span> which is <span style=\"background-color:rgba(255,215,0,0.3);\">subject</span> <span style=\"background-color:rgba(255,215,0,0.3);\">to</span> <span style=\"background-color:rgba(255,215,0,0.3);\">the</span> <span style=\"background-color:rgba(255,215,0,0.3);\">Constitution</span> <span style=\"background-color:rgba(255,215,0,0.3);\">and</span> <span style=\"background-color:rgba(255,215,0,0.3);\">laws</span> <span style=\"background-color:rgba(255,215,0,0.3);\">of</span> <span style=\"background-color:rgba(255,215,0,0.3);\">Ukraine.</span> <span style=\"background-color:rgba(255,215,0,0.3);\">The</span> <span style=\"background-color:rgba(255,215,0,0.3);\">legal</span> <span style=\"background-color:rgba(255,215,0,0.3);\">regime</span> <span style=\"background-color:rgba(255,215,0,0.3);\">of</span> <span style=\"background-color:rgba(255,215,0,0.3);\">the</span> <span style=\"background-color:rgba(255,215,0,0.3);\">temporarily</span> <span style=\"background-color:rgba(255,215,0,0.3);\">occupied</span> <span style=\"background-color:rgba(255,215,0,0.3);\">territory</span> <span style=\"background-color:rgba(255,215,0,0.3);\">shall</span> provide <span style=\"background-color:rgba(255,215,0,0.3);\">for</span> <span style=\"background-color:rgba(255,215,0,0.3);\">a</span> <span style=\"background-color:rgba(255,215,0,0.3);\">special</span> <span style=\"background-color:rgba(255,215,0,0.3);\">procedure</span> <span style=\"background-color:rgba(255,215,0,0.3);\">for</span> <span style=\"background-color:rgba(255,215,0,0.3);\">ensuring</span> <span style=\"background-color:rgba(255,215,0,0.3);\">the</span> <span style=\"background-color:rgba(255,215,0,0.3);\">rights</span> <span style=\"background-color:rgba(255,215,0,0.3);\">and</span> <span style=\"background-color:rgba(255,215,0,0.3);\">freedoms</span> <span style=\"background-color:rgba(255,215,0,0.3);\">of</span> <span style=\"background-color:rgba(255,215,0,0.3);\">Ukrainian</span> <span style=\"background-color:rgba(255,215,0,0.3);\">citizens</span> living <span style=\"background-color:rgba(255,215,0,0.3);\">in</span> <span style=\"background-color:rgba(255,215,0,0.3);\">the</span> <span style=\"background-color:rgba(255,215,0,0.3);\">temporarily</span> <span style=\"background-color:rgba(255,215,0,0.3);\">occupied</span> <span style=\"background-color:rgba(255,215,0,0.3);\">territory.</span> <span style=\"background-color:rgba(255,215,0,0.3);\">Citizens</span> <span style=\"background-color:rgba(255,215,0,0.3);\">of</span> <span style=\"background-color:rgba(255,215,0,0.3);\">Ukraine</span> <span style=\"background-color:rgba(255,215,0,0.3);\">residing</span> <span style=\"background-color:rgba(255,215,0,0.3);\">within</span> <span style=\"background-color:rgba(255,215,0,0.3);\">the</span> <span style=\"background-color:rgba(255,215,0,0.3);\">temporarily</span> <span style=\"background-color:rgba(255,215,0,0.3);\">occupied</span> <span style=\"background-color:rgba(255,215,0,0.3);\">territory</span> <span style=\"background-color:rgba(255,215,0,0.3);\">shall</span> <span style=\"background-color:rgba(255,215,0,0.3);\">be</span> <span style=\"background-color:rgba(255,215,0,0.3);\">provided</span> <span style=\"background-color:rgba(255,215,0,0.3);\">with</span> <span style=\"background-color:rgba(255,215,0,0.3);\">the</span> possibility <span style=\"background-color:rgba(255,215,0,0.3);\">of</span> free expression <span style=\"background-color:rgba(255,215,0,0.3);\">of</span> <span style=\"background-color:rgba(255,215,0,0.3);\">their</span> <span style=\"background-color:rgba(255,215,0,0.3);\">will</span> <span style=\"background-color:rgba(255,215,0,0.3);\">during</span> <span style=\"background-color:rgba(255,215,0,0.3);\">the</span> presidential, parliamentary <span style=\"background-color:rgba(255,215,0,0.3);\">elections</span> <span style=\"background-color:rgba(255,215,0,0.3);\">and</span> all-Ukrainian referendums <span style=\"background-color:rgba(255,215,0,0.3);\">within</span> <span style=\"background-color:rgba(255,215,0,0.3);\">the</span> rest <span style=\"background-color:rgba(255,215,0,0.3);\">of</span> <span style=\"background-color:rgba(255,215,0,0.3);\">the</span> <span style=\"background-color:rgba(255,215,0,0.3);\">territory</span> <span style=\"background-color:rgba(255,215,0,0.3);\">of</span> <span style=\"background-color:rgba(255,215,0,0.3);\">Ukraine.</span>"
      ],
      "text/plain": [
       "<IPython.core.display.HTML object>"
      ]
     },
     "metadata": {},
     "output_type": "display_data"
    }
   ],
   "source": [
    "display(HTML(match))\n"
   ]
  },
  {
   "cell_type": "code",
   "execution_count": 327,
   "metadata": {},
   "outputs": [
    {
     "data": {
      "text/html": [
       "<strong>Full Text</strong><br><span style=\"background-color:rgba(255,215,0,0.3);\">Under the Constitution of Ukraine, Ukraine is a sovereign and independent stat</span> e. The sovereignty of Ukraine shall apply to its entire territory, which shall be integral and inviolable within the existing border. Presence of units of the other states' armed forces within the territory of Ukraine in violation of the procedure defined by the Constitution and laws of Ukraine, The Hague Conventions of 1907, the IV Geneva Convention of 1949, as well as in disregard of the Memorandum on Security Assurances in connection with Ukraine's accession to the Treaty on the Non-Proliferation of Nuclear Weapons of 1994, the Treaty on Friendship, Cooperation, and Partnership between Ukraine and the Russian Federation of 1997 and other international legal acts shall constitute occupation of a part of the territory of the sovereign state of Ukraine and an internationally unlawful act with all the consequences provided for by international law. The basis of the humanitarian, social and economic policy of Ukraine in relation to the population of the temporarily occupied territory of Ukraine shall be protected and full exercise of national, cultural, social and political rights of Ukrainian citizens, including indigenous peoples and national minorities. The temporarily occupied territory of Ukraine (hereinafter referred to as the temporarily occupied territory) is an integral part of the territory of Ukraine, which is subject to the Constitution and laws of Ukrain <span style=\"background-color:rgba(255,215,0,0.3);\">e. The date of the beginning of the temporary occupation is 20 February 2014. </span> This Law defines the status of the <span style=\"background-color:rgba(255,215,0,0.3);\"> territory of Ukraine</span> , which is temporarily occupied as a result of the armed aggression of the Russian Federation, establishes a special legal regime within this territory, defines the specifics of functioning of government and local authorities, enterprises, institutions and organisations under this regime, respect and protection of human and civil rights and freedoms, as well as the rights and legitimate interests of legal entities. For the purposes of this Law, the temporarily occupied territory is defined as: land territory of the Autonomous Republic of Crimea and the city of Sevastopol, the internal waters of these territories of Ukraine; internal sea waters and territorial sea of Ukraine around the Crimean Peninsula, the territory of the exclusive (maritime) economic zone of Ukraine along the coast of the Crimean Peninsula and adjacent to the coast of the continental shelf of Ukraine, which fall under the jurisdiction of government authorities of Ukraine under the norms of international law, the Constitution and laws of Ukraine; Within the temporarily occupied territory and during the period of validity of this Law, a special legal regime shall apply to the crossing of borders of the temporarily occupied territory, making transactions, holding elections and referendums, and exercising other human and civil rights and freedoms. The legal regime of the temporarily occupied territory shall provide for a special procedure for ensuring the rights and freedoms of Ukrainian citizens living in the temporarily occupied territory. The legal regime of the temporarily occupied territory may be established, changed or abolished exclusively by the laws of Ukraine. Ukraine shall take all necessary measures to guarantee human and civil rights and freedoms provided for by the Constitution and laws of Ukraine, international treaties, to all citizens of Ukraine residing within the temporarily occupied territory. Ukraine undertakes to maintain and ensure economic, financial, political, social, informational, cultural and other ties with Ukrainian citizens residing within the temporarily occupied territory. Responsibility for violating human and civil rights and freedoms defined by the Constitution and laws of Ukraine within the temporarily occupied territory shall be assigned to the Russian Federation as an occupying state under the norms and principles of international law. Compulsory automatic acquisition of citizenship of the Russian Federation by citizens of Ukraine residing within the temporarily occupied territory shall not be recognised by Ukraine and shall not be a ground for loss of Ukrainian citizenship. The Cabinet of Ministers of Ukraine shall constantly monitor the respect of human and civil rights and freedoms in the temporarily occupied territory. Based on the results of such monitoring, it shall make public and provide relevant information to international organisations in the field of protection of human and civil rights and freedoms and take the necessary measures. The Ukrainian Parliament Commissioner for Human Rights shall exercise parliamentary oversight over the respect for constitutional human and civil rights and freedoms in the temporarily occupied territory under the law. Compensation to the state of Ukraine, legal entities, NGOs, citizens of Ukraine, foreigners and stateless persons for pecuniary and non-pecuniary damage caused as a result of the temporary occupation shall be fully attributed to the Russian Federation as the occupying state. The state of Ukraine shall by all possible means ensure compensation for pecuniary and non-pecuniary damage by the Russian Federation. Responsibility for the protection of the cultural heritage within the temporarily occupied territory shall be attributed to the Russian Federation as the occupying state under the norms and principles of international law. Registration of documents confirming the citizenship of Ukraine, identity or special status of citizens residing within the temporarily occupied territory shall be carried out by the central executive authority that implements the state policy in the field of migration (immigration and emigration), including countering illegal (unlawful) migration, citizenship, registration of individuals, refugees and other categories of migrants defined by law, in accordance with the procedure provided for by the Cabinet of Ministers of Ukraine. At the request of citizens of Ukraine residing in the temporarily occupied territory or having resettled from it, certificates confirming their place of stay shall be made and issued at the place of their stay by the executive authority that implements state policy in the area of migration (immigration and emigration), including countering illegal (unlawful) migration, citizenship, registration of individuals, refugees and other categories of migrants defined by law. Such certificates shall be issued to citizens on the day of application based on their passport of a citizen of Ukraine or another document containing information about residence registration under the Law of Ukraine “On Freedom of Movement and Free Choice of Place of Residence in Ukraine”, and a written application indicating the address at which official correspondence can be delivered to the citizen. <span style=\"background-color:rgba(255,215,0,0.3);\">At the same time, information (note) about the place of stay of such a person shall not be entered in his/her passport.</span> An example and procedure for issuing a certificate confirming the place of stay, an example of a written application that should be submitted by a citizen for obtaining a certificate, shall be approved by the central executive authority in charge of shaping the state policy in the field of migration (immigration and emigration), including countering illegal (unlawful) migration, citizenship, registration of individuals, refugees and other categories of migrants defined by law. For citizens of Ukraine residing within the temporarily occupied territory, the exercise of rights to employment, pension, mandatory state social insurance in case of unemployment, due to temporary disability, industrial accident and occupational disease that caused the loss of working capacity, to social services shall be ensured following the procedure provided for by the legislation of Ukraine. Payment of pensions to citizens of Ukraine residing within the temporarily occupied territory and not receiving pensions and other social payments from the authorised bodies of the Russian Federation shall be carried out following the procedure established by the Cabinet of Ministers of Ukraine. Elderly citizens, persons with disabilities, children with disabilities and other citizens of Ukraine experiencing difficult life circumstances and residing within the temporarily occupied territory shall have the right to be provided with social services under the legislation of Ukraine. Homeless persons staying within the temporarily occupied territory shall have the right to social protection under the legislation of Ukraine. Citizens of Ukraine residing within the temporarily occupied territory, in settlements at the contact line, shall have the right to receive or continue receiving a certain educational level within the territory of other regions of Ukraine at the expense of the state budget with the provision of places in dormitories for the duration of their studies. Foreigners and stateless persons permanently residing in Ukraine, persons who have been granted refugee status in Ukraine, persons in need of additional or temporary protection, and persons who have been granted the status of a foreign Ukrainian, who are legally staying in Ukraine and live within the temporarily occupied territory, shall have the right to get or continue getting a certain qualification within the territory of other regions of Ukraine following the procedure defined by the laws of Ukraine “On Higher Education” and “On Professional Pre-higher Education\". During presidential, parliamentary elections and all-Ukrainian referendums, voting of Ukrainian citizens within the temporarily occupied territory shall not be organised or take place. Citizens of Ukraine residing within the temporarily occupied territory shall be provided with the possibility of free expression of their will during the presidential, parliamentary elections and all-Ukrainian referendums within the rest of the territory of Ukraine. In case of early resignation of a Member of Parliament of Ukraine elected in a single-member electoral district formed within the Autonomous Republic of Crimea or the city of Sevastopol, midterm elections of a Member of Parliament of Ukraine shall not be held in this district. Elections of members of the Supreme Council of the Autonomous Republic of Crimea, members of local councils, village, settlement, city heads, and local referendums shall not be held in the temporarily occupied territory. Bodies for keeping the State Register of Voters established in the territory of the Autonomous Republic of Crimea and the city of Sevastopol shall not keep the State Register of Voters. The procedure for access to records of voters with an electoral address within the territory under the jurisdiction of these bodies for keeping the State Register of Voters, as well as updating these records, shall be established by the Central Election Commission. Government and local authorities established under the Constitution and laws of Ukraine, their officials and officers within the temporarily occupied territory shall act only on the basis, within the limits of their powers and in the manner provided for by the Constitution and laws of Ukraine. Any bodies, their officials and officers within the temporarily occupied territory and their activities shall be considered illegal if these bodies or persons are established, elected or appointed in an unlawful manner. Establishment of relations and interaction of state authorities of Ukraine, their officials, local self-government bodies and their officials with illegal bodies (officials) created within the temporarily occupied territory shall be allowed solely for the purpose of ensuring the national interests of Ukraine, protecting rights and freedoms of citizens of Ukraine, implementation of international treaties ratified by the Verkhovna Rada of Ukraine, promoting restoration of the constitutional order of Ukraine within the temporarily occupied territory. Citizens of Ukraine shall have the right to free and unhindered entry to and exit from the temporarily occupied territory through entry/exit checkpoints, presenting an identity document confirming the citizenship of Ukraine. Foreigners and stateless persons shall be allowed into and out of the temporarily occupied territory through the entry/exit checkpoints only with a special permit. The procedure for entry and exit of foreigners and stateless persons to and from the temporarily occupied territory shall be established by the Cabinet of Ministers of Ukraine. <span style=\"background-color:rgba(255,215,0,0.3);\">Property rights within the temporarily occupied territory shall be protected under the legislation of Ukraine.</span> Ukraine, the Autonomous Republic of Crimea, territorial communities, including the territorial community of the city of Sevastopol, government and local authorities and other legal entities of public law shall retain the right of ownership and other real rights to property, including real estate, including land plots located within the temporarily occupied territory. Individuals, regardless of their refugee status or other special legal status, enterprises, institutions, organisations shall retain the right of ownership and other real rights to property, including real estate, including land plots located within the temporarily occupied territory, if it is acquired under the laws of Ukraine. Acquisition and termination of ownership right to real estate located within the temporarily occupied territory shall be carried out following the provisions of the legislation of Ukraine outside the temporarily occupied territory. If it is impossible for the state registrar to exercise the powers of state registration of real rights to real estate and their encumbrances within the temporarily occupied territory, the state registration body shall be determined by the Cabinet of Ministers of Ukraine. Any transaction related to real estate, including land plots, made within the temporarily occupied territory in violation of the requirements of this Law and other laws of Ukraine, shall be considered invalid from the moment of performance and shall not have legal effects, except for those related to its invalidity. Land, its resources, atmospheric air, water and other natural resources located within the territory of Ukraine, natural resources of its continental shelf, exclusive (marine) economic zone, which constitute property of the Ukrainian people, military property, property of state bodies, state enterprises, institutions and organisations located within the temporarily occupied territory and belonging to the state of Ukraine, shall not become the property of other states, legal entities or individuals in a different way than provided for by the laws of Ukraine. Due to inability to administer justice by the courts of the Autonomous Republic of Crimea and the city of Sevastopol within the temporarily occupied territories, the territorial jurisdiction of court cases under the jurisdiction of the courts located in the territory of the Autonomous Republic of Crimea and the city of Sevastopol shall be changed, and the consideration of: civil cases under the jurisdiction of local general courts located within the territory of the Autonomous Republic of Crimea and the city of Sevastopol shall be ensured by local general courts of the city of Kyiv, determined by the Court of Appeal of the city of Kyiv; administrative cases under the jurisdiction of local general courts as administrative courts located within the territory of the Autonomous Republic of Crimea and the city of Sevastopol shall be ensured by local general courts of the city of Kyiv, determined by the Kyiv Administrative Court of Appeal; civil cases under the jurisdiction of the general courts of appeal located within the territory of the Autonomous Republic of Crimea and the city of Sevastopol shall be ensured by the Court of Appeal of the city of Kyiv; commercial cases of the District Administrative Court of the Autonomous Republic of Crimea shall be ensured by the Kyiv District Administrative Court, administrative cases of the District Administrative Court of Sevastopol – by the District Administrative Court of Kyiv; Sevastopol Administrative Court of Appeal – by the Kyiv Administrative Court of Appeal; commercial cases of the Commercial Court of the Autonomous Republic of Crimea – by the Commercial Court of the Kyiv region, and commercial cases of the Commercial Court of the city of Sevastopol – by the Commercial Court of the city of Kiev, commercial cases of the Sevastopol Commercial Court of Appeal – by the Kyiv Commercial Court of Appeal; criminal proceedings under the jurisdiction of local (district, city, district in cities, city district courts) located in the territory of the Autonomous Republic of Crimea and the city of Sevastopol shall be ensured by one of the district courts of the city of Kyiv, determined by the Court of Appeal of the city of Kyiv; criminal proceedings under the jurisdiction of the Court of Appeal of the Autonomous Republic of Crimea and the Court of Appeal of the city of Sevastopol – by the Court of Appeal of the city of Kyiv; cases of administrative offenсes under the jurisdiction of local (district, city, district in cities, city district) courts located within the territory of the Autonomous Republic of Crimea and the city of Sevastopol – local general courts at the place of detection of an administrative offenсe. Matters that fall within the competence of an investigating judge in criminal proceedings at the stage of pre-trial investigation and instituted in the territory of the Autonomous Republic of Crimea and the city of Sevastopol shall be considered by investigating judges of the District Courts of the city of Kyiv, determined by the Court of Appeal of the city of Kyiv. In civil cases under the jurisdiction of local general courts located in the territory of the Autonomous Republic of Crimea and the city of Sevastopol, statements of claim, applications to get a court order, applications in special proceedings may also be submitted by an individual permanently residing in the temporarily occupied territory to the local general court located within the Kherson region, at the person's choice. After instituting civil proceedings under the jurisdiction of local general courts located in the territory of the Autonomous Republic of Crimea and the city of Sevastopol, until the case is considered on the merits, an individual (defendant, debtor, stakeholder, third person) permanently residing in the temporarily occupied territory may file a petition to a certain local general court of the city of Kyiv having jurisdiction over the case, to transfer such a case to the local general court located within the Kherson region, at the person's choice. If such a petition is filed, the case may be transferred to a local general court determined by a person, located within the Kherson region, on the basis of a court ruling no later than five days after the deadline for its appeal, and if a complaint is filed – no later than five days after it is dismissed. <span style=\"background-color:rgba(255,215,0,0.3);\">Re-transfer of the case shall not be allowed.</span> An individual (a party to the case, as well as a person who did not participate in the case, if the court made a decision on his/her rights, freedoms, interests and/or obligations), permanently residing within the temporarily occupied territory, shall also have the right to file an appeal to the Kherson Court of Appeal if the court decision is made following consideration of his/her civil case by a local general court located within the Kherson region, as a court of first instance. Cases pending before the court located in the territory of the Autonomous Republic of Crimea and the city of Sevastopol shall be transmitted to the courts following the jurisdiction established herein, within ten business days from the day it comes into force or the day such jurisdiction is established. If the damage is caused by foreign citizens and non-residents, jurisdiction shall be established at the place of damage, taking into account the rules of jurisdiction established by this Law. Investigative jurisdiction of criminal offences committed within the temporarily occupied territory shall be determined by the Prosecutor General's Office. Pre-trial investigation materials related to criminal offences within criminal proceedings at the stage of pre-trial investigation, shall be transferred to the pre-trial investigation bodies determined by the Prosecutor General's Office. Non-appearance at the request of an investigator, prosecutor or following court summons of an investigating judge or a court (failure to appear at the request without a valid reason more than twice) by a suspect, accused within the temporarily occupied territory of Ukraine, and putting him on the wanted list shall be the basis for a special pre-trial investigation or special court proceedings following the procedure provided for by the Criminal Procedure Code of Ukraine, and the modalities established hereby. The requirement to put on the interstate or international wanted list shall not apply to cases when the matter of instituting special criminal proceedings against these persons is being considered. Courts, pursuant to the jurisdiction established by this Law and the requirements of the procedural law, shall consider cases and decide on procedural matters that arise after the court ruling. <span style=\"background-color:rgba(255,215,0,0.3);\">The modalities of economic activity in the temporarily occupied territory shall be determined by law.</span> Military personnel of military formations and law enforcement agencies of Ukraine who arrived from the temporarily occupied territory and willing (if there are grounds) to resign from military service, shall be dismissed from military service, including during a special period, if there are grounds, and in their absence – due to personnel downsizing, if they applied for dismissal within three months after arrival from the temporarily occupied territory. Military personnel of military formations and law enforcement agencies of Ukraine who have not arrived at certain locations within the time limits determined by military formations and law enforcement agencies of Ukraine shall be considered to have left military units and shall be placed at service of the relevant officials. <span style=\"background-color:rgba(255,215,0,0.3);\">Relevant information on their search shall be provided to law enforcement agencies.</span> Military personnel of military formations and law enforcement agencies of Ukraine subject to documentary confirmation of their enrolment in the Armed Forces of the Russian Federation or special services or law enforcement agencies of the Russian Federation, shall be excluded from the lists of military formations and law enforcement agencies of Ukraine, and the contract shall be considered terminated from the time of their enrolment (or receipt of information about their enrolment) in the Armed Forces of the Russian Federation or special services or law enforcement agencies of the Russian Federation. Military personnel of military formations established under the laws of Ukraine and law enforcement agencies of Ukraine who served in the territory of the Autonomous Republic of Crimea and the city of Sevastopol, and their family members shall have the right to privatise duly received residential premises for permanent residence, departmental residential premises, official residential premises and residential premises in dormitories located in the territory of the Autonomous Republic of Crimea and the city of Sevastopol, where they lived on 1 January 2014. Judges who have worked in the courts of Ukraine in the territory of the Autonomous Republic of Crimea and the city of Sevastopol and have stated willingness to move due to its temporary occupation by the Russian Federation shall be guaranteed the right to be reassigned to the position of a judge in a court in the rest of the territory of Ukraine. In case of violation of the provisions of this Law, state bodies of Ukraine shall apply the mechanisms provided for by the laws of Ukraine and the norms of international law in order to protect the peace, security, rights, freedoms and legitimate interests of citizens of Ukraine located within the temporarily occupied territory, as well as the legitimate interests of the state of Ukraine. Ukraine undertakes to take all possible measures provided for by the Constitution and laws of Ukraine, norms of international law, for the speedy liberation from occupation of the territory of Ukraine, restoration of integrity and sovereignty of the state, restoration of human and civil rights and freedoms violated as a result of occupation throughout the territory of Ukraine. If it is impossible to carry out activities within the temporarily occupied territory, the location of state bodies established under the Constitution and laws of Ukraine shall be determined by the Cabinet of Ministers of Ukraine. Citizens of Ukraine shall be guaranteed full respect of their rights and freedoms provided for by the Constitution of Ukraine, including social, labor, electoral rights and the right to education, after they leave the temporarily occupied territory. Guarantees of the rights, freedoms and legitimate interests of persons who have resettled from the temporarily occupied territory of Ukraine and are lawfully staying within the territory of Ukraine shall be determined by the Law of Ukraine “On Ensuring the Rights and Freedoms of Internally Displaced Persons”. Expenditures on measures provided for by this Law shall be incurred by the state of Ukraine under the procedure established by the Cabinet of Ministers of Ukraine. <span style=\"background-color:rgba(255,215,0,0.3);\">Persons guilty of violating the requirements of this Law shall bear the responsibility provided for by law.</span><br><br><strong>tfIDF Predicted Summary</strong><br><span style=\"background-color:rgba(255,215,0,0.3);\">Re-transfer of the case shall not be allowed.</span> <span style=\"background-color:rgba(255,215,0,0.3);\">Under the Constitution of Ukraine, Ukraine is a sovereign and independent stat</span> <span style=\"background-color:rgba(255,215,0,0.3);\">e. The date of the beginning of the temporary occupation is 20 February 2014. </span> <span style=\"background-color:rgba(255,215,0,0.3);\">Relevant information on their search shall be provided to law enforcement agencies.</span> <span style=\"background-color:rgba(255,215,0,0.3);\">At the same time, information (note) about the place of stay of such a person shall not be entered in his/her passport.</span> <span style=\"background-color:rgba(255,215,0,0.3);\">Persons guilty of violating the requirements of this Law shall bear the responsibility provided for by law.</span> <span style=\"background-color:rgba(255,215,0,0.3);\">The modalities of economic activity in the temporarily occupied territory shall be determined by law.</span> The temporarily occupied <span style=\"background-color:rgba(255,215,0,0.3);\"> territory of Ukraine</span>  (hereinafter referred to as the temporarily occupied territory) is an integral part of the territory of Ukraine, which is subject to the Constitution and laws of Ukraine. <span style=\"background-color:rgba(255,215,0,0.3);\">Property rights within the temporarily occupied territory shall be protected under the legislation of Ukraine.</span> The sovereignty of Ukraine shall apply to its entire territory, which shall be integral and inviolable within the existing border."
      ],
      "text/plain": [
       "<IPython.core.display.HTML object>"
      ]
     },
     "metadata": {},
     "output_type": "display_data"
    }
   ],
   "source": [
    "match = display_string_matching(\n",
    "    ' '.join(cleaned_paragraphs),\n",
    "    tfIDFSummarize(cleaned_paragraphs), \n",
    "    both=True,\n",
    "    titles=[\"Full Text\", \"tfIDF Predicted Summary\"]\n",
    ")\n",
    "\n",
    "display(HTML(match))\n"
   ]
  },
  {
   "cell_type": "code",
   "execution_count": 328,
   "metadata": {},
   "outputs": [
    {
     "data": {
      "text/html": [
       "<strong>Full Text</strong><br>Under the Constitution of Ukraine, Ukraine is a sovereign and independent state. The sovereignty of Ukraine shall apply to its entire territory, which shall be integral and inviolable within the existing border. Presence of units of the other states' armed forces within the territory of Ukraine in violation of the procedure defined by the Constitution and laws of Ukraine, The Hague Conventions of 1907, the IV Geneva Convention of 1949, as well as in disregard of the Memorandum on Security Assurances in connection with Ukraine's accession to the Treaty on the Non-Proliferation of Nuclear Weapons of 1994, the Treaty on Friendship, Cooperation, and Partnership between Ukraine and the Russian Federation of 1997 and other international legal acts shall constitute occupation of a part of the territory of the sovereign state of Ukraine and an internationally unlawful act with all the consequences provided for by international law. The basis of the humanitarian, social and economic policy of Ukraine in relation to the population of the temporarily occupied territory of Ukraine shall be protected and full exercise of national, cultural, social and political rights of Ukrainian citizens, including indigenous peoples and national minorities. <span style=\"background-color:rgba(255,215,0,0.3);\">The temporarily occupied territory of Ukraine (hereinafter referred to as the temporarily occupied territory) is an integral part of the territory of Ukraine</span> <span style=\"background-color:rgba(255,215,0,0.3);\">, which is subject to the Constitution and laws of Ukraine. The </span> date of the beginning of the temporary occupation is 20 February 2014. This Law defines the status of the territory of Ukraine, which is temporarily occupied as a result of the armed aggression of the Russian Federation, establishes a special legal regime within this territory, defines the specifics of functioning of government and local authorities, enterprises, institutions and organisations under this regime, respect and protection of human and civil rights and freedoms, as well as the rights and legitimate interests of legal entities. <span style=\"background-color:rgba(255,215,0,0.3);\">For the purposes of this Law, the temporarily occupied territory is defined as: land territory of the Autonomous Republic of Crimea and the city of Sevastopol, the internal waters of these territories of Ukraine; internal sea waters and territorial sea of Ukraine around the Crimean Peninsula, the territory of the exclusive (maritime) economic zone of Ukraine along the coast of the Crimean Peninsula and adjacent to the coast of the continental shelf of Ukraine, which fall under the jurisdiction of government authorities of Ukraine under the norms of international law, the Constitution and laws of Ukraine; Within the temporarily occupied territory and during the period of validity of this Law, a special legal regime shall apply to the crossing of borders of the temporarily occupied territory, making transactions, holding elections and referendums, and exercising other human and civil rights and freedoms.</span> The legal regime of the temporarily occupied territory shall provide for a special procedure for ensuring the rights and freedoms of Ukrainian citizens living in the temporarily occupied territory. The legal regime of the temporarily occupied territory may be established, changed or abolished exclusively by the laws of Ukraine. <span style=\"background-color:rgba(255,215,0,0.3);\">Ukraine shall take all necessary measures to guarantee human and civil rights and freedoms provided for by the Constitution and laws of Ukraine, international treaties, to all citizens of Ukraine residing within the temporarily occupied territory.</span> Ukraine undertakes to maintain and ensure economic, financial, political, social, informational, cultural and other ties with Ukrainian citizens residing within the temporarily occupied territory. <span style=\"background-color:rgba(255,215,0,0.3);\">Responsibility for violating human and civil rights and freedoms defined by the Constitution and laws of Ukraine within the temporarily occupied territory shall be assigned to the Russian Federation as an occupying state under the norms and principles of international law.</span> Compulsory automatic acquisition of citizenship of the Russian Federation by citizens of Ukraine residing within the temporarily occupied territory shall not be recognised by Ukraine and shall not be a ground for loss of Ukrainian citizenship. The Cabinet of Ministers of Ukraine shall constantly monitor the respect of human and civil rights and freedoms in the temporarily occupied territory. Based on the results of such monitoring, it shall make public and provide relevant information to international organisations in the field of protection of human and civil rights and freedoms and take the necessary measures. The Ukrainian Parliament Commissioner for Human Rights shall exercise parliamentary oversight over the respect for constitutional human and civil rights and freedoms in the temporarily occupied territory under the law. Compensation to the state of Ukraine, legal entities, NGOs, citizens of Ukraine, foreigners and stateless persons for pecuniary and non-pecuniary damage caused as a result of the temporary occupation shall be fully attributed to the Russian Federation as the occupying state. The state of Ukraine shall by all possible means ensure compensation for pecuniary and non-pecuniary damage by the Russian Federation. Responsibility for the protection of the cultural heritage within the temporarily occupied territory shall be attributed to the Russian Federation as the occupying state under the norms and principles of international law. Registration of documents confirming the citizenship of Ukraine, identity or special status of citizens residing within the temporarily occupied territory shall be carried out by the central executive authority that implements the state policy in the field of migration (immigration and emigration), including countering illegal (unlawful) migration, citizenship, registration of individuals, refugees and other categories of migrants defined by law, in accordance with the procedure provided for by the Cabinet of Ministers of Ukraine. At the request of citizens of Ukraine residing in the temporarily occupied territory or having resettled from it, certificates confirming their place of stay shall be made and issued at the place of their stay by the executive authority that implements state policy in the area of migration (immigration and emigration), including countering illegal (unlawful) migration, citizenship, registration of individuals, refugees and other categories of migrants defined by law. Such certificates shall be issued to citizens on the day of application based on their passport of a citizen of Ukraine or another document containing information about residence registration under the Law of Ukraine “On Freedom of Movement and Free Choice of Place of Residence in Ukraine”, and a written application indicating the address at which official correspondence can be delivered to the citizen. At the same time, information (note) about the place of stay of such a person shall not be entered in his/her passport. An example and procedure for issuing a certificate confirming the place of stay, an example of a written application that should be submitted by a citizen for obtaining a certificate, shall be approved by the central executive authority in charge of shaping the state policy in the field of migration (immigration and emigration), including countering illegal (unlawful) migration, citizenship, registration of individuals, refugees and other categories of migrants defined by law. For citizens of Ukraine residing within the temporarily occupied territory, the exercise of rights to employment, pension, mandatory state social insurance in case of unemployment, due to temporary disability, industrial accident and occupational disease that caused the loss of working capacity, to social services shall be ensured following the procedure provided for by the legislation of Ukraine. Payment of pensions to citizens of Ukraine residing within the temporarily occupied territory and not receiving pensions and other social payments from the authorised bodies of the Russian Federation shall be carried out following the procedure established by the Cabinet of Ministers of Ukraine. Elderly citizens, persons with disabilities, children with disabilities and other citizens of Ukraine experiencing difficult life circumstances and residing within the temporarily occupied territory shall have the right to be provided with social services under the legislation of Ukraine. Homeless persons staying within the temporarily occupied territory shall have the right to social protection under the legislation of Ukraine. Citizens of Ukraine residing within the temporarily occupied territory, in settlements at the contact line, shall have the right to receive or continue receiving a certain educational level within the territory of other regions of Ukraine at the expense of the state budget with the provision of places in dormitories for the duration of their studies. Foreigners and stateless persons permanently residing in Ukraine, persons who have been granted refugee status in Ukraine, persons in need of additional or temporary protection, and persons who have been granted the status of a foreign Ukrainian, who are legally staying in Ukraine and live within the temporarily occupied territory, shall have the right to get or continue getting a certain qualification within the territory of other regions of Ukraine following the procedure defined by the laws of Ukraine “On Higher Education” and “On Professional Pre-higher Education\". During <span style=\"background-color:rgba(255,215,0,0.3);\"> presidential, parliamentary elections and all-Ukrainian referendums</span> , voting of Ukrainian citizens within the temporarily occupied territory shall not be organised or take place. Citizens of Ukraine residing within the temporarily occupied territory shall be provided with the possibility of free expression of their will during the presidential, parliamentary elections and all-Ukrainian referendums within the rest of the territory of Ukraine. In case of early resignation of a Member of Parliament of Ukraine elected in a single-member electoral district formed within the Autonomous Republic of Crimea or the city of Sevastopol, midterm elections of a Member of Parliament of Ukraine shall not be held in this district. Elections of members of the Supreme Council of the Autonomous Republic of Crimea, members of local councils, village, settlement, city heads, and local referendums shall not be held in the temporarily occupied territory. Bodies for keeping the State Register of Voters established in the territory of the Autonomous Republic of Crimea and the city of Sevastopol shall not keep the State Register of Voters. The procedure for access to records of voters with an electoral address within the territory under the jurisdiction of these bodies for keeping the State Register of Voters, as well as updating these records, shall be established by the Central Election Commission. Government and local authorities established under the Constitution and laws of Ukraine, their officials and officers within the temporarily occupied territory shall act only on the basis, within the limits of their powers and in the manner provided for by the Constitution and laws of Ukraine. Any bodies, their officials and officers within the temporarily occupied territory and their activities shall be considered illegal if these bodies or persons are established, elected or appointed in an unlawful manner. Establishment of relations and interaction of state authorities of Ukraine, their officials, local self-government bodies and their officials with illegal bodies (officials) created within the temporarily occupied territory shall be allowed solely for the purpose of ensuring the national interests of Ukraine, protecting rights and freedoms of citizens of Ukraine, implementation of international treaties ratified by the Verkhovna Rada of Ukraine, promoting restoration of the constitutional order of Ukraine within the temporarily occupied territory. Citizens of Ukraine shall have the right to free and unhindered entry to and exit from the temporarily occupied territory through entry/exit checkpoints, presenting an identity document confirming the citizenship of Ukraine. Foreigners and stateless persons shall be allowed into and out of the temporarily occupied territory through the entry/exit checkpoints only with a special permit. The procedure for entry and exit of foreigners and stateless persons to and from the temporarily occupied territory shall be established by the Cabinet of Ministers of Ukraine. <span style=\"background-color:rgba(255,215,0,0.3);\">Property rights within the temporarily occupied territory shall be protected under the legislation of Ukraine.</span> Ukraine, the Autonomous Republic of Crimea, territorial communities, including the territorial community of the city of Sevastopol, government and local authorities and other legal entities of public law shall retain the right of ownership and other real rights to property, including real estate, including land plots located within the temporarily occupied territory. Individuals, regardless of their refugee status or other special legal status, enterprises, institutions, organisations shall retain the right of ownership and other real rights to property, including real estate, including land plots located within the temporarily occupied territory, if it is acquired under the laws of Ukraine. Acquisition and termination of ownership right to real estate located within the temporarily occupied territory shall be carried out following the provisions of the legislation of Ukraine outside the temporarily occupied territory. If it is impossible for the state registrar to exercise the powers of state registration of real rights to real estate and their encumbrances within the temporarily occupied territory, the state registration body shall be determined by the Cabinet of Ministers of Ukraine. Any transaction related to real estate, including land plots, made within the temporarily occupied territory in violation of the requirements of this Law and other laws of Ukraine, shall be considered invalid from the moment of performance and shall not have legal effects, except for those related to its invalidity. Land, its resources, atmospheric air, water and other natural resources located within the territory of Ukraine, natural resources of its continental shelf, exclusive (marine) economic zone, which constitute property of the Ukrainian people, military property, property of state bodies, state enterprises, institutions and organisations located within the temporarily occupied territory and belonging to the state of Ukraine, shall not become the property of other states, legal entities or individuals in a different way than provided for by the laws of Ukraine. Due to inability to administer justice by the courts of the Autonomous Republic of Crimea and the city of Sevastopol within the temporarily occupied territories, the territorial jurisdiction of court cases under the jurisdiction of the courts located in the territory of the Autonomous Republic of Crimea and the city of Sevastopol shall be changed, and the consideration of: civil cases under the jurisdiction of local general courts located within the territory of the Autonomous Republic of Crimea and the city of Sevastopol shall be ensured by local general courts of the city of Kyiv, determined by the Court of Appeal of the city of Kyiv; administrative cases under the jurisdiction of local general courts as administrative courts located within the territory of the Autonomous Republic of Crimea and the city of Sevastopol shall be ensured by local general courts of the city of Kyiv, determined by the Kyiv Administrative Court of Appeal; civil cases under the jurisdiction of the general courts of appeal located within the territory of the Autonomous Republic of Crimea and the city of Sevastopol shall be ensured by the Court of Appeal of the city of Kyiv; commercial cases of the District Administrative Court of the Autonomous Republic of Crimea shall be ensured by the Kyiv District Administrative Court, administrative cases of the District Administrative Court of Sevastopol – by the District Administrative Court of Kyiv; Sevastopol Administrative Court of Appeal – by the Kyiv Administrative Court of Appeal; commercial cases of the Commercial Court of the Autonomous Republic of Crimea – by the Commercial Court of the Kyiv region, and commercial cases of the Commercial Court of the city of Sevastopol – by the Commercial Court of the city of Kiev, commercial cases of the Sevastopol Commercial Court of Appeal – by the Kyiv Commercial Court of Appeal; criminal proceedings under the jurisdiction of local (district, city, district in cities, city district courts) located in the territory of the Autonomous Republic of Crimea and the city of Sevastopol shall be ensured by one of the district courts of the city of Kyiv, determined by the Court of Appeal of the city of Kyiv; criminal proceedings under the jurisdiction of the Court of Appeal of the Autonomous Republic of Crimea and the Court of Appeal of the city of Sevastopol – by the Court of Appeal of the city of Kyiv; cases of administrative offenсes under the jurisdiction of local (district, city, district in cities, city district) courts located within the territory of the Autonomous Republic of Crimea and the city of Sevastopol – local general courts at the place of detection of an administrative offenсe. Matters that fall within the competence of an investigating judge in criminal proceedings at the stage of pre-trial investigation and instituted in the territory of the Autonomous Republic of Crimea and the city of Sevastopol shall be considered by investigating judges of the District Courts of the city of Kyiv, determined by the Court of Appeal of the city of Kyiv. In civil cases under the jurisdiction of local general courts located in the territory of the Autonomous Republic of Crimea and the city of Sevastopol, statements of claim, applications to get a court order, applications in special proceedings may also be submitted by an individual permanently residing in the temporarily occupied territory to the local general court located within the Kherson region, at the person's choice. After instituting civil proceedings under the jurisdiction of local general courts located in the territory of the Autonomous Republic of Crimea and the city of Sevastopol, until the case is considered on the merits, an individual (defendant, debtor, stakeholder, third person) permanently residing in the temporarily occupied territory may file a petition to a certain local general court of the city of Kyiv having jurisdiction over the case, to transfer such a case to the local general court located within the Kherson region, at the person's choice. If such a petition is filed, the case may be transferred to a local general court determined by a person, located within the Kherson region, on the basis of a court ruling no later than five days after the deadline for its appeal, and if a complaint is filed – no later than five days after it is dismissed. Re-transfer of the case shall not be allowed. An individual (a party to the case, as well as a person who did not participate in the case, if the court made a decision on his/her rights, freedoms, interests and/or obligations), permanently residing within the temporarily occupied territory, shall also have the right to file an appeal to the Kherson Court of Appeal if the court decision is made following consideration of his/her civil case by a local general court located within the Kherson region, as a court of first instance. Cases pending before the court located in the territory of the Autonomous Republic of Crimea and the city of Sevastopol shall be transmitted to the courts following the jurisdiction established herein, within ten business days from the day it comes into force or the day such jurisdiction is established. If the damage is caused by foreign citizens and non-residents, jurisdiction shall be established at the place of damage, taking into account the rules of jurisdiction established by this Law. Investigative jurisdiction of criminal offences committed within the temporarily occupied territory shall be determined by the Prosecutor General's Office. Pre-trial investigation materials related to criminal offences within criminal proceedings at the stage of pre-trial investigation, shall be transferred to the pre-trial investigation bodies determined by the Prosecutor General's Office. Non-appearance at the request of an investigator, prosecutor or following court summons of an investigating judge or a court (failure to appear at the request without a valid reason more than twice) by a suspect, accused within the temporarily occupied territory of Ukraine, and putting him on the wanted list shall be the basis for a special pre-trial investigation or special court proceedings following the procedure provided for by the Criminal Procedure Code of Ukraine, and the modalities established hereby. The requirement to put on the interstate or international wanted list shall not apply to cases when the matter of instituting special criminal proceedings against these persons is being considered. Courts, pursuant to the jurisdiction established by this Law and the requirements of the procedural law, shall consider cases and decide on procedural matters that arise after the court ruling. The modalities of economic activity in the temporarily occupied territory shall be determined by law. Military personnel of military formations and law enforcement agencies of Ukraine who arrived from the temporarily occupied territory and willing (if there are grounds) to resign from military service, shall be dismissed from military service, including during a special period, if there are grounds, and in their absence – due to personnel downsizing, if they applied for dismissal within three months after arrival from the temporarily occupied territory. Military personnel of military formations and law enforcement agencies of Ukraine who have not arrived at certain locations within the time limits determined by military formations and law enforcement agencies of Ukraine shall be considered to have left military units and shall be placed at service of the relevant officials. Relevant information on their search shall be provided to law enforcement agencies. Military personnel of military formations and law enforcement agencies of Ukraine subject to documentary confirmation of their enrolment in the Armed Forces of the Russian Federation or special services or law enforcement agencies of the Russian Federation, shall be excluded from the lists of military formations and law enforcement agencies of Ukraine, and the contract shall be considered terminated from the time of their enrolment (or receipt of information about their enrolment) in the Armed Forces of the Russian Federation or special services or law enforcement agencies of the Russian Federation. Military personnel of military formations established under the laws of Ukraine and law enforcement agencies of Ukraine who served in the territory of the Autonomous Republic of Crimea and the city of Sevastopol, and their family members shall have the right to privatise duly received residential premises for permanent residence, departmental residential premises, official residential premises and residential premises in dormitories located in the territory of the Autonomous Republic of Crimea and the city of Sevastopol, where they lived on 1 January 2014. Judges who have worked in the courts of Ukraine in the territory of the Autonomous Republic of Crimea and the city of Sevastopol and have stated willingness to move due to its temporary occupation by the Russian Federation shall be guaranteed the right to be reassigned to the position of a judge in a court in the rest of the territory of Ukraine. <span style=\"background-color:rgba(255,215,0,0.3);\">In case of violation of the provisions of this Law, state bodies of Ukraine shall apply the mechanisms provided for by the laws of Ukraine and the norms of international law in order to protect the peace, security, rights, freedoms and legitimate interests of citizens of Ukraine located within the temporarily occupied territory, as well as the legitimate interests of the state of Ukraine.</span> Ukraine undertakes to take all possible measures provided for by the Constitution and laws of Ukraine, norms of international law, for the speedy liberation from occupation of the territory of Ukraine, restoration of integrity and sovereignty of the state, restoration of human and civil rights and freedoms violated as a result of occupation throughout the territory of Ukraine. <span style=\"background-color:rgba(255,215,0,0.3);\">If it is impossible to carry out activities within the temporarily occupied territory, the location of state bodies established under the Constitution and laws of Ukraine shall be determined by the Cabinet of Ministers of Ukraine.</span> Citizens of Ukraine shall be guaranteed full respect of their rights and freedoms provided for by the Constitution of Ukraine, including social, labor, electoral rights and the right to education, after they leave the temporarily occupied territory. <span style=\"background-color:rgba(255,215,0,0.3);\">Guarantees of the rights, freedoms and legitimate interests of persons who have resettled from the temporarily occupied territory of Ukraine and are lawfully staying within the territory of Ukraine shall be determined by the Law of Ukraine “On Ensuring the Rights and Freedoms of Internally Displaced Persons”.</span> Expenditures on measures provided for by this Law shall be incurred by the state of Ukraine under the procedure established by the Cabinet of Ministers of Ukraine. Persons guilty of violating the requirements of this Law shall bear the responsibility provided for by law.<br><br><strong>Text Rank Predicted Summary</strong><br><span style=\"background-color:rgba(255,215,0,0.3);\">Ukraine shall take all necessary measures to guarantee human and civil rights and freedoms provided for by the Constitution and laws of Ukraine, international treaties, to all citizens of Ukraine residing within the temporarily occupied territory.</span> <span style=\"background-color:rgba(255,215,0,0.3);\">In case of violation of the provisions of this Law, state bodies of Ukraine shall apply the mechanisms provided for by the laws of Ukraine and the norms of international law in order to protect the peace, security, rights, freedoms and legitimate interests of citizens of Ukraine located within the temporarily occupied territory, as well as the legitimate interests of the state of Ukraine.</span> <span style=\"background-color:rgba(255,215,0,0.3);\">Responsibility for violating human and civil rights and freedoms defined by the Constitution and laws of Ukraine within the temporarily occupied territory shall be assigned to the Russian Federation as an occupying state under the norms and principles of international law.</span> <span style=\"background-color:rgba(255,215,0,0.3);\">If it is impossible to carry out activities within the temporarily occupied territory, the location of state bodies established under the Constitution and laws of Ukraine shall be determined by the Cabinet of Ministers of Ukraine.</span> <span style=\"background-color:rgba(255,215,0,0.3);\">For the purposes of this Law, the temporarily occupied territory is defined as: land territory of the Autonomous Republic of Crimea and the city of Sevastopol, the internal waters of these territories of Ukraine; internal sea waters and territorial sea of Ukraine around the Crimean Peninsula, the territory of the exclusive (maritime) economic zone of Ukraine along the coast of the Crimean Peninsula and adjacent to the coast of the continental shelf of Ukraine, which fall under the jurisdiction of government authorities of Ukraine under the norms of international law, the Constitution and laws of Ukraine; Within the temporarily occupied territory and during the period of validity of this Law, a special legal regime shall apply to the crossing of borders of the temporarily occupied territory, making transactions, holding elections and referendums, and exercising other human and civil rights and freedoms.</span> <span style=\"background-color:rgba(255,215,0,0.3);\">Guarantees of the rights, freedoms and legitimate interests of persons who have resettled from the temporarily occupied territory of Ukraine and are lawfully staying within the territory of Ukraine shall be determined by the Law of Ukraine “On Ensuring the Rights and Freedoms of Internally Displaced Persons”.</span> <span style=\"background-color:rgba(255,215,0,0.3);\">Property rights within the temporarily occupied territory shall be protected under the legislation of Ukraine.</span> <span style=\"background-color:rgba(255,215,0,0.3);\">The temporarily occupied territory of Ukraine (hereinafter referred to as the temporarily occupied territory) is an integral part of the territory of Ukraine</span> <span style=\"background-color:rgba(255,215,0,0.3);\">, which is subject to the Constitution and laws of Ukraine. The </span> legal regime of the temporarily occupied territory shall provide for a special procedure for ensuring the rights and freedoms of Ukrainian citizens living in the temporarily occupied territory. Citizens of Ukraine residing within the temporarily occupied territory shall be provided with the possibility of free expression of their will during the <span style=\"background-color:rgba(255,215,0,0.3);\"> presidential, parliamentary elections and all-Ukrainian referendums</span>  within the rest of the territory of Ukraine."
      ],
      "text/plain": [
       "<IPython.core.display.HTML object>"
      ]
     },
     "metadata": {},
     "output_type": "display_data"
    }
   ],
   "source": [
    "match = display_string_matching(\n",
    "    ' '.join(cleaned_paragraphs),\n",
    "    textRankSummarize(cleaned_paragraphs),\n",
    "    both=True,\n",
    "    titles=[\"Full Text\", \"Text Rank Predicted Summary\"]\n",
    ")\n",
    "\n",
    "display(HTML(match))\n"
   ]
  },
  {
   "attachments": {},
   "cell_type": "markdown",
   "metadata": {},
   "source": [
    "The prediction has most of the information mentioned in the original summary. As expected from an Extractive algorithms, the predicted summary is fully contained in the text: the model considers those the most important sentences."
   ]
  },
  {
   "cell_type": "code",
   "execution_count": null,
   "metadata": {},
   "outputs": [],
   "source": []
  }
 ],
 "metadata": {
  "kernelspec": {
   "display_name": "Python 3",
   "language": "python",
   "name": "python3"
  },
  "language_info": {
   "codemirror_mode": {
    "name": "ipython",
    "version": 3
   },
   "file_extension": ".py",
   "mimetype": "text/x-python",
   "name": "python",
   "nbconvert_exporter": "python",
   "pygments_lexer": "ipython3",
   "version": "3.11.0"
  },
  "orig_nbformat": 4,
  "vscode": {
   "interpreter": {
    "hash": "c261aea317cc0286b3b3261fbba9abdec21eaa57589985bb7a274bf54d6cc0a7"
   }
  }
 },
 "nbformat": 4,
 "nbformat_minor": 2
}
